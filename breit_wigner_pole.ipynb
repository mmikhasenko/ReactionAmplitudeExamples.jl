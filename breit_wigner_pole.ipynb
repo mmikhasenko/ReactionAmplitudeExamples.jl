{
 "cells": [
  {
   "cell_type": "markdown",
   "metadata": {},
   "source": [
    "# How the resonance pole move to the real axis "
   ]
  },
  {
   "cell_type": "code",
   "execution_count": 6,
   "metadata": {},
   "outputs": [
    {
     "data": {
      "text/plain": [
       "f (generic function with 3 methods)"
      ]
     },
     "execution_count": 6,
     "metadata": {},
     "output_type": "execute_result"
    }
   ],
   "source": [
    "ρ(s) = sqrt(s-1)\n",
    "f(s, msq=5, gsq=1) = 1/((msq-s)/gsq-1im*ρ(s))"
   ]
  },
  {
   "cell_type": "code",
   "execution_count": 8,
   "metadata": {},
   "outputs": [
    {
     "name": "stderr",
     "output_type": "stream",
     "text": [
      "┌ Info: Recompiling stale cache file C:\\Users\\mikha\\.julia\\compiled\\v1.1\\Interact\\XmYW4.ji for Interact [c601a237-2ae4-5e1e-952c-7a85b0c7eef1]\n",
      "└ @ Base loading.jl:1184\n"
     ]
    },
    {
     "data": {
      "text/html": [
       "<script>\n",
       "// Immediately-invoked-function-expression to avoid global variables.\n",
       "(function() {\n",
       "    var warning_div = document.getElementById(\"webio-warning-13446869105686477244\");\n",
       "    var hide = function () {\n",
       "        var script = document.getElementById(\"webio-setup-3762341146772379017\");\n",
       "        var parent = script && script.parentElement;\n",
       "        var grandparent = parent && parent.parentElement;\n",
       "        if (grandparent) {\n",
       "            grandparent.style.display = \"none\";\n",
       "        }\n",
       "        warning_div.style.display = \"none\";\n",
       "    };\n",
       "    if (typeof Jupyter !== \"undefined\") {\n",
       "        console.log(\"WebIO detected Jupyter notebook environment.\");\n",
       "        // Jupyter notebook.\n",
       "        var extensions = (\n",
       "            Jupyter\n",
       "            && Jupyter.notebook.config.data\n",
       "            && Jupyter.notebook.config.data.load_extensions\n",
       "        );\n",
       "        if (extensions && extensions[\"webio/main\"]) {\n",
       "            // Extension already loaded.\n",
       "            console.log(\"Jupyter WebIO nbextension detected; not loading ad-hoc.\");\n",
       "            hide();\n",
       "            return;\n",
       "        }\n",
       "        console.warn(\"Loading WebIO Jupyter extension on an ad-hoc basis. Consider enabling the WebIO nbextension for a stabler experience (this should happen automatically when building WebIO).\");\n",
       "        require([\"/assetserver/98b1e52e5b86ef045acc1363db7c4ee248b5de71-dist/main.js\"], function (webIOModule) {\n",
       "            webIOModule.load_ipython_extension();\n",
       "        });\n",
       "        warning_div.innerHTML = \"<strong>Loading WebIO Jupyter extension on an ad-hoc basis. Consider enabling the WebIO nbextension for a stabler experience (this should happen automatically when building WebIO).</strong>\";\n",
       "    } else if (window.location.pathname.includes(\"/lab\")) {\n",
       "        // Guessing JupyterLa\n",
       "        console.log(\"Jupyter Lab detected; make sure the @webio/jupyter-lab-provider labextension is installed.\");\n",
       "        hide();\n",
       "        return;\n",
       "    }\n",
       "})();\n",
       "\n",
       "</script>\n",
       "<div\n",
       "    id=\"webio-warning-13446869105686477244\"\n",
       "    class=\"output_text output_stderr\"\n",
       "    style=\"padding: 1em; font-weight: bold;\"\n",
       ">\n",
       "    Unable to load WebIO. Please make sure WebIO works for your Jupyter client.\n",
       "    <!-- TODO: link to installation docs. -->\n",
       "</div>\n"
      ],
      "text/plain": [
       "HTML{String}(\"<script>\\n// Immediately-invoked-function-expression to avoid global variables.\\n(function() {\\n    var warning_div = document.getElementById(\\\"webio-warning-13446869105686477244\\\");\\n    var hide = function () {\\n        var script = document.getElementById(\\\"webio-setup-3762341146772379017\\\");\\n        var parent = script && script.parentElement;\\n        var grandparent = parent && parent.parentElement;\\n        if (grandparent) {\\n            grandparent.style.display = \\\"none\\\";\\n        }\\n        warning_div.style.display = \\\"none\\\";\\n    };\\n    if (typeof Jupyter !== \\\"undefined\\\") {\\n        console.log(\\\"WebIO detected Jupyter notebook environment.\\\");\\n        // Jupyter notebook.\\n        var extensions = (\\n            Jupyter\\n            && Jupyter.notebook.config.data\\n            && Jupyter.notebook.config.data.load_extensions\\n        );\\n        if (extensions && extensions[\\\"webio/main\\\"]) {\\n            // Extension already loaded.\\n            console.log(\\\"Jupyter WebIO nbextension detected; not loading ad-hoc.\\\");\\n            hide();\\n            return;\\n        }\\n        console.warn(\\\"Loading WebIO Jupyter extension on an ad-hoc basis. Consider enabling the WebIO nbextension for a stabler experience (this should happen automatically when building WebIO).\\\");\\n        require([\\\"/assetserver/98b1e52e5b86ef045acc1363db7c4ee248b5de71-dist/main.js\\\"], function (webIOModule) {\\n            webIOModule.load_ipython_extension();\\n        });\\n        warning_div.innerHTML = \\\"<strong>Loading WebIO Jupyter extension on an ad-hoc basis. Consider enabling the WebIO nbextension for a stabler experience (this should happen automatically when building WebIO).</strong>\\\";\\n    } else if (window.location.pathname.includes(\\\"/lab\\\")) {\\n        // Guessing JupyterLa\\n        console.log(\\\"Jupyter Lab detected; make sure the @webio/jupyter-lab-provider labextension is installed.\\\");\\n        hide();\\n        return;\\n    }\\n})();\\n\\n</script>\\n<div\\n    id=\\\"webio-warning-13446869105686477244\\\"\\n    class=\\\"output_text output_stderr\\\"\\n    style=\\\"padding: 1em; font-weight: bold;\\\"\\n>\\n    Unable to load WebIO. Please make sure WebIO works for your Jupyter client.\\n    <!-- TODO: link to installation docs. -->\\n</div>\\n\")"
      ]
     },
     "metadata": {},
     "output_type": "display_data"
    }
   ],
   "source": [
    "using Plots\n",
    "using Interact"
   ]
  },
  {
   "cell_type": "code",
   "execution_count": 10,
   "metadata": {},
   "outputs": [
    {
     "data": {
      "application/vnd.webio.node+json": {
       "children": [
        {
         "children": [
          {
           "children": [
            {
             "children": [
              {
               "children": [
                {
                 "children": [
                  "msq"
                 ],
                 "instanceArgs": {
                  "namespace": "html",
                  "tag": "label"
                 },
                 "nodeType": "DOM",
                 "props": {
                  "className": "interact ",
                  "style": {
                   "padding": "5px 10px 0px 10px"
                  }
                 },
                 "type": "node"
                }
               ],
               "instanceArgs": {
                "namespace": "html",
                "tag": "div"
               },
               "nodeType": "DOM",
               "props": {
                "className": "interact-flex-row-left"
               },
               "type": "node"
              },
              {
               "children": [
                {
                 "children": [],
                 "instanceArgs": {
                  "namespace": "html",
                  "tag": "input"
                 },
                 "nodeType": "DOM",
                 "props": {
                  "attributes": {
                   "data-bind": "numericValue: index, valueUpdate: 'input', event: {change: function (){this.changes(this.changes()+1)}}",
                   "orient": "horizontal",
                   "type": "range"
                  },
                  "className": "slider slider is-fullwidth",
                  "max": 6,
                  "min": 1,
                  "step": 1,
                  "style": {}
                 },
                 "type": "node"
                }
               ],
               "instanceArgs": {
                "namespace": "html",
                "tag": "div"
               },
               "nodeType": "DOM",
               "props": {
                "className": "interact-flex-row-center"
               },
               "type": "node"
              },
              {
               "children": [
                {
                 "children": [],
                 "instanceArgs": {
                  "namespace": "html",
                  "tag": "p"
                 },
                 "nodeType": "DOM",
                 "props": {
                  "attributes": {
                   "data-bind": "text: formatted_val"
                  }
                 },
                 "type": "node"
                }
               ],
               "instanceArgs": {
                "namespace": "html",
                "tag": "div"
               },
               "nodeType": "DOM",
               "props": {
                "className": "interact-flex-row-right"
               },
               "type": "node"
              }
             ],
             "instanceArgs": {
              "namespace": "html",
              "tag": "div"
             },
             "nodeType": "DOM",
             "props": {
              "className": "interact-flex-row interact-widget"
             },
             "type": "node"
            }
           ],
           "instanceArgs": {
            "handlers": {
             "changes": [
              "(function (val){return (val!=this.model[\"changes\"]()) ? (this.valueFromJulia[\"changes\"]=true, this.model[\"changes\"](val)) : undefined})"
             ],
             "index": [
              "(function (val){return (val!=this.model[\"index\"]()) ? (this.valueFromJulia[\"index\"]=true, this.model[\"index\"](val)) : undefined})"
             ]
            },
            "id": "scope-0906644d-66e6-4636-9e32-0dd6001dcfff",
            "imports": {
             "data": [
              {
               "name": "knockout",
               "type": "js",
               "url": "/assetserver/400851c8b8cf7fc10948b385af7e3ef99cb76dbc-knockout.js"
              },
              {
               "name": "knockout_punches",
               "type": "js",
               "url": "/assetserver/318f1c0cec30819eed901ca48cd0d6e3c354c074-knockout_punches.js"
              },
              {
               "name": null,
               "type": "js",
               "url": "/assetserver/d13c5edb54a12e669bfbc85930e20ef091aaf304-all.js"
              },
              {
               "name": null,
               "type": "css",
               "url": "/assetserver/0fe71aa5b2bfaee5384c38af6eda97e785db17a3-style.css"
              },
              {
               "name": null,
               "type": "css",
               "url": "/assetserver/1b90debdb28a966540748729e11344b804f7e6f9-bulma_confined.min.css"
              }
             ],
             "type": "async_block"
            },
            "mount_callbacks": [
             "function () {\n    var handler = (function (ko, koPunches) {\n    ko.punches.enableAll();\n    ko.bindingHandlers.numericValue = {\n        init: function(element, valueAccessor, allBindings, data, context) {\n            var stringified = ko.observable(ko.unwrap(valueAccessor()));\n            stringified.subscribe(function(value) {\n                var val = parseFloat(value);\n                if (!isNaN(val)) {\n                    valueAccessor()(val);\n                }\n            });\n            valueAccessor().subscribe(function(value) {\n                var str = JSON.stringify(value);\n                if ((str == \"0\") && ([\"-0\", \"-0.\"].indexOf(stringified()) >= 0))\n                     return;\n                 if ([\"null\", \"\"].indexOf(str) >= 0)\n                     return;\n                stringified(str);\n            });\n            ko.applyBindingsToNode(\n                element,\n                {\n                    value: stringified,\n                    valueUpdate: allBindings.get('valueUpdate'),\n                },\n                context,\n            );\n        }\n    };\n    var json_data = {\"formatted_vals\":[\"1\",\"2\",\"3\",\"4\",\"5\",\"6\"],\"changes\":WebIO.getval({\"name\":\"changes\",\"scope\":\"scope-0906644d-66e6-4636-9e32-0dd6001dcfff\",\"id\":\"ob_10\",\"type\":\"observable\"}),\"index\":WebIO.getval({\"name\":\"index\",\"scope\":\"scope-0906644d-66e6-4636-9e32-0dd6001dcfff\",\"id\":\"ob_09\",\"type\":\"observable\"})};\n    var self = this;\n    function AppViewModel() {\n        for (var key in json_data) {\n            var el = json_data[key];\n            this[key] = Array.isArray(el) ? ko.observableArray(el) : ko.observable(el);\n        }\n        \n        [this[\"formatted_val\"]=ko.computed(    function(){\n        return this.formatted_vals()[parseInt(this.index())-(1)];\n    }\n,this)]\n        [this[\"changes\"].subscribe((function (val){!(this.valueFromJulia[\"changes\"]) ? (WebIO.setval({\"name\":\"changes\",\"scope\":\"scope-0906644d-66e6-4636-9e32-0dd6001dcfff\",\"id\":\"ob_10\",\"type\":\"observable\"},val)) : undefined; return this.valueFromJulia[\"changes\"]=false}),self),this[\"index\"].subscribe((function (val){!(this.valueFromJulia[\"index\"]) ? (WebIO.setval({\"name\":\"index\",\"scope\":\"scope-0906644d-66e6-4636-9e32-0dd6001dcfff\",\"id\":\"ob_09\",\"type\":\"observable\"},val)) : undefined; return this.valueFromJulia[\"index\"]=false}),self)]\n        \n    }\n    self.model = new AppViewModel();\n    self.valueFromJulia = {};\n    for (var key in json_data) {\n        self.valueFromJulia[key] = false;\n    }\n    ko.applyBindings(self.model, self.dom);\n}\n);\n    (WebIO.importBlock({\"data\":[{\"name\":\"knockout\",\"type\":\"js\",\"url\":\"/assetserver/400851c8b8cf7fc10948b385af7e3ef99cb76dbc-knockout.js\"},{\"name\":\"knockout_punches\",\"type\":\"js\",\"url\":\"/assetserver/318f1c0cec30819eed901ca48cd0d6e3c354c074-knockout_punches.js\"}],\"type\":\"async_block\"})).then((imports) => handler.apply(this, imports));\n}\n"
            ],
            "observables": {
             "changes": {
              "id": "ob_10",
              "sync": false,
              "value": 0
             },
             "index": {
              "id": "ob_09",
              "sync": true,
              "value": 3
             }
            },
            "systemjs_options": null
           },
           "nodeType": "Scope",
           "props": {},
           "type": "node"
          }
         ],
         "instanceArgs": {
          "namespace": "html",
          "tag": "div"
         },
         "nodeType": "DOM",
         "props": {
          "className": "field interact-widget"
         },
         "type": "node"
        },
        {
         "children": [
          {
           "children": [
            {
             "children": [
              {
               "children": [
                {
                 "children": [
                  "gsq"
                 ],
                 "instanceArgs": {
                  "namespace": "html",
                  "tag": "label"
                 },
                 "nodeType": "DOM",
                 "props": {
                  "className": "interact ",
                  "style": {
                   "padding": "5px 10px 0px 10px"
                  }
                 },
                 "type": "node"
                }
               ],
               "instanceArgs": {
                "namespace": "html",
                "tag": "div"
               },
               "nodeType": "DOM",
               "props": {
                "className": "interact-flex-row-left"
               },
               "type": "node"
              },
              {
               "children": [
                {
                 "children": [],
                 "instanceArgs": {
                  "namespace": "html",
                  "tag": "input"
                 },
                 "nodeType": "DOM",
                 "props": {
                  "attributes": {
                   "data-bind": "numericValue: index, valueUpdate: 'input', event: {change: function (){this.changes(this.changes()+1)}}",
                   "orient": "horizontal",
                   "type": "range"
                  },
                  "className": "slider slider is-fullwidth",
                  "max": 41,
                  "min": 1,
                  "step": 1,
                  "style": {}
                 },
                 "type": "node"
                }
               ],
               "instanceArgs": {
                "namespace": "html",
                "tag": "div"
               },
               "nodeType": "DOM",
               "props": {
                "className": "interact-flex-row-center"
               },
               "type": "node"
              },
              {
               "children": [
                {
                 "children": [],
                 "instanceArgs": {
                  "namespace": "html",
                  "tag": "p"
                 },
                 "nodeType": "DOM",
                 "props": {
                  "attributes": {
                   "data-bind": "text: formatted_val"
                  }
                 },
                 "type": "node"
                }
               ],
               "instanceArgs": {
                "namespace": "html",
                "tag": "div"
               },
               "nodeType": "DOM",
               "props": {
                "className": "interact-flex-row-right"
               },
               "type": "node"
              }
             ],
             "instanceArgs": {
              "namespace": "html",
              "tag": "div"
             },
             "nodeType": "DOM",
             "props": {
              "className": "interact-flex-row interact-widget"
             },
             "type": "node"
            }
           ],
           "instanceArgs": {
            "handlers": {
             "changes": [
              "(function (val){return (val!=this.model[\"changes\"]()) ? (this.valueFromJulia[\"changes\"]=true, this.model[\"changes\"](val)) : undefined})"
             ],
             "index": [
              "(function (val){return (val!=this.model[\"index\"]()) ? (this.valueFromJulia[\"index\"]=true, this.model[\"index\"](val)) : undefined})"
             ]
            },
            "id": "scope-5ce70242-b71c-4312-a5df-596a5372bfdb",
            "imports": {
             "data": [
              {
               "name": "knockout",
               "type": "js",
               "url": "/assetserver/400851c8b8cf7fc10948b385af7e3ef99cb76dbc-knockout.js"
              },
              {
               "name": "knockout_punches",
               "type": "js",
               "url": "/assetserver/318f1c0cec30819eed901ca48cd0d6e3c354c074-knockout_punches.js"
              },
              {
               "name": null,
               "type": "js",
               "url": "/assetserver/d13c5edb54a12e669bfbc85930e20ef091aaf304-all.js"
              },
              {
               "name": null,
               "type": "css",
               "url": "/assetserver/0fe71aa5b2bfaee5384c38af6eda97e785db17a3-style.css"
              },
              {
               "name": null,
               "type": "css",
               "url": "/assetserver/1b90debdb28a966540748729e11344b804f7e6f9-bulma_confined.min.css"
              }
             ],
             "type": "async_block"
            },
            "mount_callbacks": [
             "function () {\n    var handler = (function (ko, koPunches) {\n    ko.punches.enableAll();\n    ko.bindingHandlers.numericValue = {\n        init: function(element, valueAccessor, allBindings, data, context) {\n            var stringified = ko.observable(ko.unwrap(valueAccessor()));\n            stringified.subscribe(function(value) {\n                var val = parseFloat(value);\n                if (!isNaN(val)) {\n                    valueAccessor()(val);\n                }\n            });\n            valueAccessor().subscribe(function(value) {\n                var str = JSON.stringify(value);\n                if ((str == \"0\") && ([\"-0\", \"-0.\"].indexOf(stringified()) >= 0))\n                     return;\n                 if ([\"null\", \"\"].indexOf(str) >= 0)\n                     return;\n                stringified(str);\n            });\n            ko.applyBindingsToNode(\n                element,\n                {\n                    value: stringified,\n                    valueUpdate: allBindings.get('valueUpdate'),\n                },\n                context,\n            );\n        }\n    };\n    var json_data = {\"formatted_vals\":[\"-1.0\",\"-0.9\",\"-0.8\",\"-0.7\",\"-0.6\",\"-0.5\",\"-0.4\",\"-0.3\",\"-0.2\",\"-0.1\",\"0.0\",\"0.1\",\"0.2\",\"0.3\",\"0.4\",\"0.5\",\"0.6\",\"0.7\",\"0.8\",\"0.9\",\"1.0\",\"1.1\",\"1.2\",\"1.3\",\"1.4\",\"1.5\",\"1.6\",\"1.7\",\"1.8\",\"1.9\",\"2.0\",\"2.1\",\"2.2\",\"2.3\",\"2.4\",\"2.5\",\"2.6\",\"2.7\",\"2.8\",\"2.9\",\"3.0\"],\"changes\":WebIO.getval({\"name\":\"changes\",\"scope\":\"scope-5ce70242-b71c-4312-a5df-596a5372bfdb\",\"id\":\"ob_13\",\"type\":\"observable\"}),\"index\":WebIO.getval({\"name\":\"index\",\"scope\":\"scope-5ce70242-b71c-4312-a5df-596a5372bfdb\",\"id\":\"ob_12\",\"type\":\"observable\"})};\n    var self = this;\n    function AppViewModel() {\n        for (var key in json_data) {\n            var el = json_data[key];\n            this[key] = Array.isArray(el) ? ko.observableArray(el) : ko.observable(el);\n        }\n        \n        [this[\"formatted_val\"]=ko.computed(    function(){\n        return this.formatted_vals()[parseInt(this.index())-(1)];\n    }\n,this)]\n        [this[\"changes\"].subscribe((function (val){!(this.valueFromJulia[\"changes\"]) ? (WebIO.setval({\"name\":\"changes\",\"scope\":\"scope-5ce70242-b71c-4312-a5df-596a5372bfdb\",\"id\":\"ob_13\",\"type\":\"observable\"},val)) : undefined; return this.valueFromJulia[\"changes\"]=false}),self),this[\"index\"].subscribe((function (val){!(this.valueFromJulia[\"index\"]) ? (WebIO.setval({\"name\":\"index\",\"scope\":\"scope-5ce70242-b71c-4312-a5df-596a5372bfdb\",\"id\":\"ob_12\",\"type\":\"observable\"},val)) : undefined; return this.valueFromJulia[\"index\"]=false}),self)]\n        \n    }\n    self.model = new AppViewModel();\n    self.valueFromJulia = {};\n    for (var key in json_data) {\n        self.valueFromJulia[key] = false;\n    }\n    ko.applyBindings(self.model, self.dom);\n}\n);\n    (WebIO.importBlock({\"data\":[{\"name\":\"knockout\",\"type\":\"js\",\"url\":\"/assetserver/400851c8b8cf7fc10948b385af7e3ef99cb76dbc-knockout.js\"},{\"name\":\"knockout_punches\",\"type\":\"js\",\"url\":\"/assetserver/318f1c0cec30819eed901ca48cd0d6e3c354c074-knockout_punches.js\"}],\"type\":\"async_block\"})).then((imports) => handler.apply(this, imports));\n}\n"
            ],
            "observables": {
             "changes": {
              "id": "ob_13",
              "sync": false,
              "value": 0
             },
             "index": {
              "id": "ob_12",
              "sync": true,
              "value": 21
             }
            },
            "systemjs_options": null
           },
           "nodeType": "Scope",
           "props": {},
           "type": "node"
          }
         ],
         "instanceArgs": {
          "namespace": "html",
          "tag": "div"
         },
         "nodeType": "DOM",
         "props": {
          "className": "field interact-widget"
         },
         "type": "node"
        },
        {
         "children": [
          {
           "children": [],
           "instanceArgs": {
            "id": "ob_19",
            "name": "obs-node"
           },
           "nodeType": "ObservableNode",
           "props": {},
           "type": "node"
          }
         ],
         "instanceArgs": {
          "handlers": {},
          "id": "scope-dac05b24-8efd-4807-9738-c105cecfc59c",
          "imports": {
           "data": [],
           "type": "async_block"
          },
          "mount_callbacks": [],
          "observables": {
           "obs-node": {
            "id": "ob_19",
            "sync": false,
            "value": {
             "children": [
              {
               "children": [],
               "instanceArgs": {
                "namespace": "html",
                "tag": "div"
               },
               "nodeType": "DOM",
               "props": {
                "setInnerHtml": "<?xml version=\"1.0\" encoding=\"utf-8\"?>\n<svg xmlns=\"http://www.w3.org/2000/svg\" xmlns:xlink=\"http://www.w3.org/1999/xlink\" width=\"600\" height=\"400\" viewBox=\"0 0 2400 1600\">\n<defs>\n  <clipPath id=\"clip6300\">\n    <rect x=\"0\" y=\"0\" width=\"2400\" height=\"1600\"/>\n  </clipPath>\n</defs>\n<polygon clip-path=\"url(#clip6300)\" points=\"\n0,1600 2400,1600 2400,0 0,0 \n  \" fill=\"#ffffff\" fill-rule=\"evenodd\" fill-opacity=\"1\"/>\n<defs>\n  <clipPath id=\"clip6301\">\n    <rect x=\"480\" y=\"0\" width=\"1681\" height=\"1600\"/>\n  </clipPath>\n</defs>\n<polygon clip-path=\"url(#clip6300)\" points=\"\n153.898,1487.47 2352.76,1487.47 2352.76,47.2441 153.898,47.2441 \n  \" fill=\"#ffffff\" fill-rule=\"evenodd\" fill-opacity=\"1\"/>\n<defs>\n  <clipPath id=\"clip6302\">\n    <rect x=\"153\" y=\"47\" width=\"2200\" height=\"1441\"/>\n  </clipPath>\n</defs>\n<polyline clip-path=\"url(#clip6302)\" style=\"stroke:#000000; stroke-width:2; stroke-opacity:0.1; fill:none\" points=\"\n  446.618,1487.47 446.618,47.2441 \n  \"/>\n<polyline clip-path=\"url(#clip6302)\" style=\"stroke:#000000; stroke-width:2; stroke-opacity:0.1; fill:none\" points=\"\n  907.595,1487.47 907.595,47.2441 \n  \"/>\n<polyline clip-path=\"url(#clip6302)\" style=\"stroke:#000000; stroke-width:2; stroke-opacity:0.1; fill:none\" points=\"\n  1368.57,1487.47 1368.57,47.2441 \n  \"/>\n<polyline clip-path=\"url(#clip6302)\" style=\"stroke:#000000; stroke-width:2; stroke-opacity:0.1; fill:none\" points=\"\n  1829.55,1487.47 1829.55,47.2441 \n  \"/>\n<polyline clip-path=\"url(#clip6302)\" style=\"stroke:#000000; stroke-width:2; stroke-opacity:0.1; fill:none\" points=\"\n  2290.52,1487.47 2290.52,47.2441 \n  \"/>\n<polyline clip-path=\"url(#clip6302)\" style=\"stroke:#000000; stroke-width:2; stroke-opacity:0.1; fill:none\" points=\"\n  153.898,1243.81 2352.76,1243.81 \n  \"/>\n<polyline clip-path=\"url(#clip6302)\" style=\"stroke:#000000; stroke-width:2; stroke-opacity:0.1; fill:none\" points=\"\n  153.898,998.642 2352.76,998.642 \n  \"/>\n<polyline clip-path=\"url(#clip6302)\" style=\"stroke:#000000; stroke-width:2; stroke-opacity:0.1; fill:none\" points=\"\n  153.898,753.47 2352.76,753.47 \n  \"/>\n<polyline clip-path=\"url(#clip6302)\" style=\"stroke:#000000; stroke-width:2; stroke-opacity:0.1; fill:none\" points=\"\n  153.898,508.299 2352.76,508.299 \n  \"/>\n<polyline clip-path=\"url(#clip6302)\" style=\"stroke:#000000; stroke-width:2; stroke-opacity:0.1; fill:none\" points=\"\n  153.898,263.128 2352.76,263.128 \n  \"/>\n<polyline clip-path=\"url(#clip6300)\" style=\"stroke:#000000; stroke-width:4; stroke-opacity:1; fill:none\" points=\"\n  153.898,1487.47 2352.76,1487.47 \n  \"/>\n<polyline clip-path=\"url(#clip6300)\" style=\"stroke:#000000; stroke-width:4; stroke-opacity:1; fill:none\" points=\"\n  153.898,1487.47 153.898,47.2441 \n  \"/>\n<polyline clip-path=\"url(#clip6300)\" style=\"stroke:#000000; stroke-width:4; stroke-opacity:1; fill:none\" points=\"\n  446.618,1487.47 446.618,1465.87 \n  \"/>\n<polyline clip-path=\"url(#clip6300)\" style=\"stroke:#000000; stroke-width:4; stroke-opacity:1; fill:none\" points=\"\n  907.595,1487.47 907.595,1465.87 \n  \"/>\n<polyline clip-path=\"url(#clip6300)\" style=\"stroke:#000000; stroke-width:4; stroke-opacity:1; fill:none\" points=\"\n  1368.57,1487.47 1368.57,1465.87 \n  \"/>\n<polyline clip-path=\"url(#clip6300)\" style=\"stroke:#000000; stroke-width:4; stroke-opacity:1; fill:none\" points=\"\n  1829.55,1487.47 1829.55,1465.87 \n  \"/>\n<polyline clip-path=\"url(#clip6300)\" style=\"stroke:#000000; stroke-width:4; stroke-opacity:1; fill:none\" points=\"\n  2290.52,1487.47 2290.52,1465.87 \n  \"/>\n<polyline clip-path=\"url(#clip6300)\" style=\"stroke:#000000; stroke-width:4; stroke-opacity:1; fill:none\" points=\"\n  153.898,1243.81 186.881,1243.81 \n  \"/>\n<polyline clip-path=\"url(#clip6300)\" style=\"stroke:#000000; stroke-width:4; stroke-opacity:1; fill:none\" points=\"\n  153.898,998.642 186.881,998.642 \n  \"/>\n<polyline clip-path=\"url(#clip6300)\" style=\"stroke:#000000; stroke-width:4; stroke-opacity:1; fill:none\" points=\"\n  153.898,753.47 186.881,753.47 \n  \"/>\n<polyline clip-path=\"url(#clip6300)\" style=\"stroke:#000000; stroke-width:4; stroke-opacity:1; fill:none\" points=\"\n  153.898,508.299 186.881,508.299 \n  \"/>\n<polyline clip-path=\"url(#clip6300)\" style=\"stroke:#000000; stroke-width:4; stroke-opacity:1; fill:none\" points=\"\n  153.898,263.128 186.881,263.128 \n  \"/>\n<g clip-path=\"url(#clip6300)\">\n<text style=\"fill:#000000; fill-opacity:1; font-family:Arial,Helvetica Neue,Helvetica,sans-serif; font-size:48px; text-anchor:middle;\" transform=\"rotate(0, 446.618, 1541.47)\" x=\"446.618\" y=\"1541.47\">2</text>\n</g>\n<g clip-path=\"url(#clip6300)\">\n<text style=\"fill:#000000; fill-opacity:1; font-family:Arial,Helvetica Neue,Helvetica,sans-serif; font-size:48px; text-anchor:middle;\" transform=\"rotate(0, 907.595, 1541.47)\" x=\"907.595\" y=\"1541.47\">4</text>\n</g>\n<g clip-path=\"url(#clip6300)\">\n<text style=\"fill:#000000; fill-opacity:1; font-family:Arial,Helvetica Neue,Helvetica,sans-serif; font-size:48px; text-anchor:middle;\" transform=\"rotate(0, 1368.57, 1541.47)\" x=\"1368.57\" y=\"1541.47\">6</text>\n</g>\n<g clip-path=\"url(#clip6300)\">\n<text style=\"fill:#000000; fill-opacity:1; font-family:Arial,Helvetica Neue,Helvetica,sans-serif; font-size:48px; text-anchor:middle;\" transform=\"rotate(0, 1829.55, 1541.47)\" x=\"1829.55\" y=\"1541.47\">8</text>\n</g>\n<g clip-path=\"url(#clip6300)\">\n<text style=\"fill:#000000; fill-opacity:1; font-family:Arial,Helvetica Neue,Helvetica,sans-serif; font-size:48px; text-anchor:middle;\" transform=\"rotate(0, 2290.52, 1541.47)\" x=\"2290.52\" y=\"1541.47\">10</text>\n</g>\n<g clip-path=\"url(#clip6300)\">\n<text style=\"fill:#000000; fill-opacity:1; font-family:Arial,Helvetica Neue,Helvetica,sans-serif; font-size:48px; text-anchor:end;\" transform=\"rotate(0, 129.898, 1261.31)\" x=\"129.898\" y=\"1261.31\">0.1</text>\n</g>\n<g clip-path=\"url(#clip6300)\">\n<text style=\"fill:#000000; fill-opacity:1; font-family:Arial,Helvetica Neue,Helvetica,sans-serif; font-size:48px; text-anchor:end;\" transform=\"rotate(0, 129.898, 1016.14)\" x=\"129.898\" y=\"1016.14\">0.2</text>\n</g>\n<g clip-path=\"url(#clip6300)\">\n<text style=\"fill:#000000; fill-opacity:1; font-family:Arial,Helvetica Neue,Helvetica,sans-serif; font-size:48px; text-anchor:end;\" transform=\"rotate(0, 129.898, 770.97)\" x=\"129.898\" y=\"770.97\">0.3</text>\n</g>\n<g clip-path=\"url(#clip6300)\">\n<text style=\"fill:#000000; fill-opacity:1; font-family:Arial,Helvetica Neue,Helvetica,sans-serif; font-size:48px; text-anchor:end;\" transform=\"rotate(0, 129.898, 525.799)\" x=\"129.898\" y=\"525.799\">0.4</text>\n</g>\n<g clip-path=\"url(#clip6300)\">\n<text style=\"fill:#000000; fill-opacity:1; font-family:Arial,Helvetica Neue,Helvetica,sans-serif; font-size:48px; text-anchor:end;\" transform=\"rotate(0, 129.898, 280.628)\" x=\"129.898\" y=\"280.628\">0.5</text>\n</g>\n<polyline clip-path=\"url(#clip6302)\" style=\"stroke:#009af9; stroke-width:4; stroke-opacity:1; fill:none\" points=\"\n  216.13,876.056 239.179,828.145 262.227,776.277 285.276,720.422 308.325,660.703 331.374,597.452 354.423,531.284 377.472,463.163 400.52,394.47 423.569,327.035 \n  446.618,263.128 469.667,205.365 492.716,156.531 515.765,119.312 538.813,95.9654 561.862,88.0053 584.911,95.9654 607.96,119.312 631.009,156.531 654.057,205.365 \n  677.106,263.128 700.155,327.035 723.204,394.47 746.253,463.163 769.302,531.284 792.35,597.452 815.399,660.703 838.448,720.422 861.497,776.277 884.546,828.145 \n  907.595,876.056 930.643,920.141 953.692,960.598 976.741,997.659 999.79,1031.58 1022.84,1062.6 1045.89,1090.98 1068.94,1116.95 1091.99,1140.73 1115.03,1162.52 \n  1138.08,1182.52 1161.13,1200.89 1184.18,1217.78 1207.23,1233.33 1230.28,1247.67 1253.33,1260.92 1276.38,1273.16 1299.42,1284.5 1322.47,1295.02 1345.52,1304.78 \n  1368.57,1313.86 1391.62,1322.31 1414.67,1330.19 1437.72,1337.55 1460.77,1344.43 1483.82,1350.86 1506.86,1356.89 1529.91,1362.54 1552.96,1367.85 1576.01,1372.84 \n  1599.06,1377.54 1622.11,1381.97 1645.16,1386.14 1668.21,1390.09 1691.25,1393.81 1714.3,1397.33 1737.35,1400.67 1760.4,1403.83 1783.45,1406.82 1806.5,1409.67 \n  1829.55,1412.37 1852.6,1414.94 1875.65,1417.38 1898.69,1419.71 1921.74,1421.92 1944.79,1424.04 1967.84,1426.06 1990.89,1427.98 2013.94,1429.82 2036.99,1431.58 \n  2060.04,1433.26 2083.08,1434.87 2106.13,1436.42 2129.18,1437.9 2152.23,1439.31 2175.28,1440.67 2198.33,1441.98 2221.38,1443.23 2244.43,1444.44 2267.48,1445.6 \n  2290.52,1446.71 \n  \"/>\n<polygon clip-path=\"url(#clip6300)\" points=\"\n1989.93,251.724 2280.76,251.724 2280.76,130.764 1989.93,130.764 \n  \" fill=\"#ffffff\" fill-rule=\"evenodd\" fill-opacity=\"1\"/>\n<polyline clip-path=\"url(#clip6300)\" style=\"stroke:#000000; stroke-width:4; stroke-opacity:1; fill:none\" points=\"\n  1989.93,251.724 2280.76,251.724 2280.76,130.764 1989.93,130.764 1989.93,251.724 \n  \"/>\n<polyline clip-path=\"url(#clip6300)\" style=\"stroke:#009af9; stroke-width:4; stroke-opacity:1; fill:none\" points=\"\n  2013.93,191.244 2157.93,191.244 \n  \"/>\n<g clip-path=\"url(#clip6300)\">\n<text style=\"fill:#000000; fill-opacity:1; font-family:Arial,Helvetica Neue,Helvetica,sans-serif; font-size:48px; text-anchor:start;\" transform=\"rotate(0, 2181.93, 208.744)\" x=\"2181.93\" y=\"208.744\">y1</text>\n</g>\n</svg>\n"
               },
               "type": "node"
              }
             ],
             "instanceArgs": {
              "namespace": "html",
              "tag": "div"
             },
             "nodeType": "DOM",
             "props": {
              "className": "interact-flex-row interact-widget"
             },
             "type": "node"
            }
           }
          },
          "systemjs_options": null
         },
         "nodeType": "Scope",
         "props": {},
         "type": "node"
        }
       ],
       "instanceArgs": {
        "namespace": "html",
        "tag": "div"
       },
       "nodeType": "DOM",
       "props": {},
       "type": "node"
      },
      "text/html": [
       "<div\n",
       "    class=\"webio-mountpoint\"\n",
       "    data-webio-mountpoint=\"165641129066394508\"\n",
       ">\n",
       "    <script>\n",
       "    if (window.require && require.defined && require.defined(\"nbextensions/webio/main\")) {\n",
       "        console.log(\"Jupyter WebIO extension detected, not mounting.\");\n",
       "    } else if (window.WebIO) {\n",
       "        WebIO.mount(\n",
       "            document.querySelector('[data-webio-mountpoint=\"165641129066394508\"]'),\n",
       "            {\"props\":{},\"nodeType\":\"DOM\",\"type\":\"node\",\"instanceArgs\":{\"namespace\":\"html\",\"tag\":\"div\"},\"children\":[{\"props\":{\"className\":\"field interact-widget\"},\"nodeType\":\"DOM\",\"type\":\"node\",\"instanceArgs\":{\"namespace\":\"html\",\"tag\":\"div\"},\"children\":[{\"props\":{},\"nodeType\":\"Scope\",\"type\":\"node\",\"instanceArgs\":{\"imports\":{\"data\":[{\"name\":\"knockout\",\"type\":\"js\",\"url\":\"\\/assetserver\\/400851c8b8cf7fc10948b385af7e3ef99cb76dbc-knockout.js\"},{\"name\":\"knockout_punches\",\"type\":\"js\",\"url\":\"\\/assetserver\\/318f1c0cec30819eed901ca48cd0d6e3c354c074-knockout_punches.js\"},{\"name\":null,\"type\":\"js\",\"url\":\"\\/assetserver\\/d13c5edb54a12e669bfbc85930e20ef091aaf304-all.js\"},{\"name\":null,\"type\":\"css\",\"url\":\"\\/assetserver\\/0fe71aa5b2bfaee5384c38af6eda97e785db17a3-style.css\"},{\"name\":null,\"type\":\"css\",\"url\":\"\\/assetserver\\/1b90debdb28a966540748729e11344b804f7e6f9-bulma_confined.min.css\"}],\"type\":\"async_block\"},\"id\":\"scope-0906644d-66e6-4636-9e32-0dd6001dcfff\",\"handlers\":{\"changes\":[\"(function (val){return (val!=this.model[\\\"changes\\\"]()) ? (this.valueFromJulia[\\\"changes\\\"]=true, this.model[\\\"changes\\\"](val)) : undefined})\"],\"index\":[\"(function (val){return (val!=this.model[\\\"index\\\"]()) ? (this.valueFromJulia[\\\"index\\\"]=true, this.model[\\\"index\\\"](val)) : undefined})\"]},\"systemjs_options\":null,\"mount_callbacks\":[\"function () {\\n    var handler = (function (ko, koPunches) {\\n    ko.punches.enableAll();\\n    ko.bindingHandlers.numericValue = {\\n        init: function(element, valueAccessor, allBindings, data, context) {\\n            var stringified = ko.observable(ko.unwrap(valueAccessor()));\\n            stringified.subscribe(function(value) {\\n                var val = parseFloat(value);\\n                if (!isNaN(val)) {\\n                    valueAccessor()(val);\\n                }\\n            });\\n            valueAccessor().subscribe(function(value) {\\n                var str = JSON.stringify(value);\\n                if ((str == \\\"0\\\") && ([\\\"-0\\\", \\\"-0.\\\"].indexOf(stringified()) >= 0))\\n                     return;\\n                 if ([\\\"null\\\", \\\"\\\"].indexOf(str) >= 0)\\n                     return;\\n                stringified(str);\\n            });\\n            ko.applyBindingsToNode(\\n                element,\\n                {\\n                    value: stringified,\\n                    valueUpdate: allBindings.get('valueUpdate'),\\n                },\\n                context,\\n            );\\n        }\\n    };\\n    var json_data = {\\\"formatted_vals\\\":[\\\"1\\\",\\\"2\\\",\\\"3\\\",\\\"4\\\",\\\"5\\\",\\\"6\\\"],\\\"changes\\\":WebIO.getval({\\\"name\\\":\\\"changes\\\",\\\"scope\\\":\\\"scope-0906644d-66e6-4636-9e32-0dd6001dcfff\\\",\\\"id\\\":\\\"ob_10\\\",\\\"type\\\":\\\"observable\\\"}),\\\"index\\\":WebIO.getval({\\\"name\\\":\\\"index\\\",\\\"scope\\\":\\\"scope-0906644d-66e6-4636-9e32-0dd6001dcfff\\\",\\\"id\\\":\\\"ob_09\\\",\\\"type\\\":\\\"observable\\\"})};\\n    var self = this;\\n    function AppViewModel() {\\n        for (var key in json_data) {\\n            var el = json_data[key];\\n            this[key] = Array.isArray(el) ? ko.observableArray(el) : ko.observable(el);\\n        }\\n        \\n        [this[\\\"formatted_val\\\"]=ko.computed(    function(){\\n        return this.formatted_vals()[parseInt(this.index())-(1)];\\n    }\\n,this)]\\n        [this[\\\"changes\\\"].subscribe((function (val){!(this.valueFromJulia[\\\"changes\\\"]) ? (WebIO.setval({\\\"name\\\":\\\"changes\\\",\\\"scope\\\":\\\"scope-0906644d-66e6-4636-9e32-0dd6001dcfff\\\",\\\"id\\\":\\\"ob_10\\\",\\\"type\\\":\\\"observable\\\"},val)) : undefined; return this.valueFromJulia[\\\"changes\\\"]=false}),self),this[\\\"index\\\"].subscribe((function (val){!(this.valueFromJulia[\\\"index\\\"]) ? (WebIO.setval({\\\"name\\\":\\\"index\\\",\\\"scope\\\":\\\"scope-0906644d-66e6-4636-9e32-0dd6001dcfff\\\",\\\"id\\\":\\\"ob_09\\\",\\\"type\\\":\\\"observable\\\"},val)) : undefined; return this.valueFromJulia[\\\"index\\\"]=false}),self)]\\n        \\n    }\\n    self.model = new AppViewModel();\\n    self.valueFromJulia = {};\\n    for (var key in json_data) {\\n        self.valueFromJulia[key] = false;\\n    }\\n    ko.applyBindings(self.model, self.dom);\\n}\\n);\\n    (WebIO.importBlock({\\\"data\\\":[{\\\"name\\\":\\\"knockout\\\",\\\"type\\\":\\\"js\\\",\\\"url\\\":\\\"\\/assetserver\\/400851c8b8cf7fc10948b385af7e3ef99cb76dbc-knockout.js\\\"},{\\\"name\\\":\\\"knockout_punches\\\",\\\"type\\\":\\\"js\\\",\\\"url\\\":\\\"\\/assetserver\\/318f1c0cec30819eed901ca48cd0d6e3c354c074-knockout_punches.js\\\"}],\\\"type\\\":\\\"async_block\\\"})).then((imports) => handler.apply(this, imports));\\n}\\n\"],\"observables\":{\"changes\":{\"sync\":false,\"id\":\"ob_10\",\"value\":0},\"index\":{\"sync\":true,\"id\":\"ob_09\",\"value\":3}}},\"children\":[{\"props\":{\"className\":\"interact-flex-row interact-widget\"},\"nodeType\":\"DOM\",\"type\":\"node\",\"instanceArgs\":{\"namespace\":\"html\",\"tag\":\"div\"},\"children\":[{\"props\":{\"className\":\"interact-flex-row-left\"},\"nodeType\":\"DOM\",\"type\":\"node\",\"instanceArgs\":{\"namespace\":\"html\",\"tag\":\"div\"},\"children\":[{\"props\":{\"className\":\"interact \",\"style\":{\"padding\":\"5px 10px 0px 10px\"}},\"nodeType\":\"DOM\",\"type\":\"node\",\"instanceArgs\":{\"namespace\":\"html\",\"tag\":\"label\"},\"children\":[\"msq\"]}]},{\"props\":{\"className\":\"interact-flex-row-center\"},\"nodeType\":\"DOM\",\"type\":\"node\",\"instanceArgs\":{\"namespace\":\"html\",\"tag\":\"div\"},\"children\":[{\"props\":{\"max\":6,\"min\":1,\"attributes\":{\"type\":\"range\",\"data-bind\":\"numericValue: index, valueUpdate: 'input', event: {change: function (){this.changes(this.changes()+1)}}\",\"orient\":\"horizontal\"},\"step\":1,\"className\":\"slider slider is-fullwidth\",\"style\":{}},\"nodeType\":\"DOM\",\"type\":\"node\",\"instanceArgs\":{\"namespace\":\"html\",\"tag\":\"input\"},\"children\":[]}]},{\"props\":{\"className\":\"interact-flex-row-right\"},\"nodeType\":\"DOM\",\"type\":\"node\",\"instanceArgs\":{\"namespace\":\"html\",\"tag\":\"div\"},\"children\":[{\"props\":{\"attributes\":{\"data-bind\":\"text: formatted_val\"}},\"nodeType\":\"DOM\",\"type\":\"node\",\"instanceArgs\":{\"namespace\":\"html\",\"tag\":\"p\"},\"children\":[]}]}]}]}]},{\"props\":{\"className\":\"field interact-widget\"},\"nodeType\":\"DOM\",\"type\":\"node\",\"instanceArgs\":{\"namespace\":\"html\",\"tag\":\"div\"},\"children\":[{\"props\":{},\"nodeType\":\"Scope\",\"type\":\"node\",\"instanceArgs\":{\"imports\":{\"data\":[{\"name\":\"knockout\",\"type\":\"js\",\"url\":\"\\/assetserver\\/400851c8b8cf7fc10948b385af7e3ef99cb76dbc-knockout.js\"},{\"name\":\"knockout_punches\",\"type\":\"js\",\"url\":\"\\/assetserver\\/318f1c0cec30819eed901ca48cd0d6e3c354c074-knockout_punches.js\"},{\"name\":null,\"type\":\"js\",\"url\":\"\\/assetserver\\/d13c5edb54a12e669bfbc85930e20ef091aaf304-all.js\"},{\"name\":null,\"type\":\"css\",\"url\":\"\\/assetserver\\/0fe71aa5b2bfaee5384c38af6eda97e785db17a3-style.css\"},{\"name\":null,\"type\":\"css\",\"url\":\"\\/assetserver\\/1b90debdb28a966540748729e11344b804f7e6f9-bulma_confined.min.css\"}],\"type\":\"async_block\"},\"id\":\"scope-5ce70242-b71c-4312-a5df-596a5372bfdb\",\"handlers\":{\"changes\":[\"(function (val){return (val!=this.model[\\\"changes\\\"]()) ? (this.valueFromJulia[\\\"changes\\\"]=true, this.model[\\\"changes\\\"](val)) : undefined})\"],\"index\":[\"(function (val){return (val!=this.model[\\\"index\\\"]()) ? (this.valueFromJulia[\\\"index\\\"]=true, this.model[\\\"index\\\"](val)) : undefined})\"]},\"systemjs_options\":null,\"mount_callbacks\":[\"function () {\\n    var handler = (function (ko, koPunches) {\\n    ko.punches.enableAll();\\n    ko.bindingHandlers.numericValue = {\\n        init: function(element, valueAccessor, allBindings, data, context) {\\n            var stringified = ko.observable(ko.unwrap(valueAccessor()));\\n            stringified.subscribe(function(value) {\\n                var val = parseFloat(value);\\n                if (!isNaN(val)) {\\n                    valueAccessor()(val);\\n                }\\n            });\\n            valueAccessor().subscribe(function(value) {\\n                var str = JSON.stringify(value);\\n                if ((str == \\\"0\\\") && ([\\\"-0\\\", \\\"-0.\\\"].indexOf(stringified()) >= 0))\\n                     return;\\n                 if ([\\\"null\\\", \\\"\\\"].indexOf(str) >= 0)\\n                     return;\\n                stringified(str);\\n            });\\n            ko.applyBindingsToNode(\\n                element,\\n                {\\n                    value: stringified,\\n                    valueUpdate: allBindings.get('valueUpdate'),\\n                },\\n                context,\\n            );\\n        }\\n    };\\n    var json_data = {\\\"formatted_vals\\\":[\\\"-1.0\\\",\\\"-0.9\\\",\\\"-0.8\\\",\\\"-0.7\\\",\\\"-0.6\\\",\\\"-0.5\\\",\\\"-0.4\\\",\\\"-0.3\\\",\\\"-0.2\\\",\\\"-0.1\\\",\\\"0.0\\\",\\\"0.1\\\",\\\"0.2\\\",\\\"0.3\\\",\\\"0.4\\\",\\\"0.5\\\",\\\"0.6\\\",\\\"0.7\\\",\\\"0.8\\\",\\\"0.9\\\",\\\"1.0\\\",\\\"1.1\\\",\\\"1.2\\\",\\\"1.3\\\",\\\"1.4\\\",\\\"1.5\\\",\\\"1.6\\\",\\\"1.7\\\",\\\"1.8\\\",\\\"1.9\\\",\\\"2.0\\\",\\\"2.1\\\",\\\"2.2\\\",\\\"2.3\\\",\\\"2.4\\\",\\\"2.5\\\",\\\"2.6\\\",\\\"2.7\\\",\\\"2.8\\\",\\\"2.9\\\",\\\"3.0\\\"],\\\"changes\\\":WebIO.getval({\\\"name\\\":\\\"changes\\\",\\\"scope\\\":\\\"scope-5ce70242-b71c-4312-a5df-596a5372bfdb\\\",\\\"id\\\":\\\"ob_13\\\",\\\"type\\\":\\\"observable\\\"}),\\\"index\\\":WebIO.getval({\\\"name\\\":\\\"index\\\",\\\"scope\\\":\\\"scope-5ce70242-b71c-4312-a5df-596a5372bfdb\\\",\\\"id\\\":\\\"ob_12\\\",\\\"type\\\":\\\"observable\\\"})};\\n    var self = this;\\n    function AppViewModel() {\\n        for (var key in json_data) {\\n            var el = json_data[key];\\n            this[key] = Array.isArray(el) ? ko.observableArray(el) : ko.observable(el);\\n        }\\n        \\n        [this[\\\"formatted_val\\\"]=ko.computed(    function(){\\n        return this.formatted_vals()[parseInt(this.index())-(1)];\\n    }\\n,this)]\\n        [this[\\\"changes\\\"].subscribe((function (val){!(this.valueFromJulia[\\\"changes\\\"]) ? (WebIO.setval({\\\"name\\\":\\\"changes\\\",\\\"scope\\\":\\\"scope-5ce70242-b71c-4312-a5df-596a5372bfdb\\\",\\\"id\\\":\\\"ob_13\\\",\\\"type\\\":\\\"observable\\\"},val)) : undefined; return this.valueFromJulia[\\\"changes\\\"]=false}),self),this[\\\"index\\\"].subscribe((function (val){!(this.valueFromJulia[\\\"index\\\"]) ? (WebIO.setval({\\\"name\\\":\\\"index\\\",\\\"scope\\\":\\\"scope-5ce70242-b71c-4312-a5df-596a5372bfdb\\\",\\\"id\\\":\\\"ob_12\\\",\\\"type\\\":\\\"observable\\\"},val)) : undefined; return this.valueFromJulia[\\\"index\\\"]=false}),self)]\\n        \\n    }\\n    self.model = new AppViewModel();\\n    self.valueFromJulia = {};\\n    for (var key in json_data) {\\n        self.valueFromJulia[key] = false;\\n    }\\n    ko.applyBindings(self.model, self.dom);\\n}\\n);\\n    (WebIO.importBlock({\\\"data\\\":[{\\\"name\\\":\\\"knockout\\\",\\\"type\\\":\\\"js\\\",\\\"url\\\":\\\"\\/assetserver\\/400851c8b8cf7fc10948b385af7e3ef99cb76dbc-knockout.js\\\"},{\\\"name\\\":\\\"knockout_punches\\\",\\\"type\\\":\\\"js\\\",\\\"url\\\":\\\"\\/assetserver\\/318f1c0cec30819eed901ca48cd0d6e3c354c074-knockout_punches.js\\\"}],\\\"type\\\":\\\"async_block\\\"})).then((imports) => handler.apply(this, imports));\\n}\\n\"],\"observables\":{\"changes\":{\"sync\":false,\"id\":\"ob_13\",\"value\":0},\"index\":{\"sync\":true,\"id\":\"ob_12\",\"value\":21}}},\"children\":[{\"props\":{\"className\":\"interact-flex-row interact-widget\"},\"nodeType\":\"DOM\",\"type\":\"node\",\"instanceArgs\":{\"namespace\":\"html\",\"tag\":\"div\"},\"children\":[{\"props\":{\"className\":\"interact-flex-row-left\"},\"nodeType\":\"DOM\",\"type\":\"node\",\"instanceArgs\":{\"namespace\":\"html\",\"tag\":\"div\"},\"children\":[{\"props\":{\"className\":\"interact \",\"style\":{\"padding\":\"5px 10px 0px 10px\"}},\"nodeType\":\"DOM\",\"type\":\"node\",\"instanceArgs\":{\"namespace\":\"html\",\"tag\":\"label\"},\"children\":[\"gsq\"]}]},{\"props\":{\"className\":\"interact-flex-row-center\"},\"nodeType\":\"DOM\",\"type\":\"node\",\"instanceArgs\":{\"namespace\":\"html\",\"tag\":\"div\"},\"children\":[{\"props\":{\"max\":41,\"min\":1,\"attributes\":{\"type\":\"range\",\"data-bind\":\"numericValue: index, valueUpdate: 'input', event: {change: function (){this.changes(this.changes()+1)}}\",\"orient\":\"horizontal\"},\"step\":1,\"className\":\"slider slider is-fullwidth\",\"style\":{}},\"nodeType\":\"DOM\",\"type\":\"node\",\"instanceArgs\":{\"namespace\":\"html\",\"tag\":\"input\"},\"children\":[]}]},{\"props\":{\"className\":\"interact-flex-row-right\"},\"nodeType\":\"DOM\",\"type\":\"node\",\"instanceArgs\":{\"namespace\":\"html\",\"tag\":\"div\"},\"children\":[{\"props\":{\"attributes\":{\"data-bind\":\"text: formatted_val\"}},\"nodeType\":\"DOM\",\"type\":\"node\",\"instanceArgs\":{\"namespace\":\"html\",\"tag\":\"p\"},\"children\":[]}]}]}]}]},{\"props\":{},\"nodeType\":\"Scope\",\"type\":\"node\",\"instanceArgs\":{\"imports\":{\"data\":[],\"type\":\"async_block\"},\"id\":\"scope-928eb1a2-b248-490d-b4cb-4762e7ed3481\",\"handlers\":{},\"systemjs_options\":null,\"mount_callbacks\":[],\"observables\":{\"obs-node\":{\"sync\":false,\"id\":\"ob_17\",\"value\":{\"props\":{\"className\":\"interact-flex-row interact-widget\"},\"nodeType\":\"DOM\",\"type\":\"node\",\"instanceArgs\":{\"namespace\":\"html\",\"tag\":\"div\"},\"children\":[{\"props\":{\"setInnerHtml\":\"<?xml version=\\\"1.0\\\" encoding=\\\"utf-8\\\"?>\\n<svg xmlns=\\\"http:\\/\\/www.w3.org\\/2000\\/svg\\\" xmlns:xlink=\\\"http:\\/\\/www.w3.org\\/1999\\/xlink\\\" width=\\\"600\\\" height=\\\"400\\\" viewBox=\\\"0 0 2400 1600\\\">\\n<defs>\\n  <clipPath id=\\\"clip5900\\\">\\n    <rect x=\\\"0\\\" y=\\\"0\\\" width=\\\"2400\\\" height=\\\"1600\\\"\\/>\\n  <\\/clipPath>\\n<\\/defs>\\n<polygon clip-path=\\\"url(#clip5900)\\\" points=\\\"\\n0,1600 2400,1600 2400,0 0,0 \\n  \\\" fill=\\\"#ffffff\\\" fill-rule=\\\"evenodd\\\" fill-opacity=\\\"1\\\"\\/>\\n<defs>\\n  <clipPath id=\\\"clip5901\\\">\\n    <rect x=\\\"480\\\" y=\\\"0\\\" width=\\\"1681\\\" height=\\\"1600\\\"\\/>\\n  <\\/clipPath>\\n<\\/defs>\\n<polygon clip-path=\\\"url(#clip5900)\\\" points=\\\"\\n153.898,1487.47 2352.76,1487.47 2352.76,47.2441 153.898,47.2441 \\n  \\\" fill=\\\"#ffffff\\\" fill-rule=\\\"evenodd\\\" fill-opacity=\\\"1\\\"\\/>\\n<defs>\\n  <clipPath id=\\\"clip5902\\\">\\n    <rect x=\\\"153\\\" y=\\\"47\\\" width=\\\"2200\\\" height=\\\"1441\\\"\\/>\\n  <\\/clipPath>\\n<\\/defs>\\n<polyline clip-path=\\\"url(#clip5902)\\\" style=\\\"stroke:#000000; stroke-width:2; stroke-opacity:0.1; fill:none\\\" points=\\\"\\n  446.618,1487.47 446.618,47.2441 \\n  \\\"\\/>\\n<polyline clip-path=\\\"url(#clip5902)\\\" style=\\\"stroke:#000000; stroke-width:2; stroke-opacity:0.1; fill:none\\\" points=\\\"\\n  907.595,1487.47 907.595,47.2441 \\n  \\\"\\/>\\n<polyline clip-path=\\\"url(#clip5902)\\\" style=\\\"stroke:#000000; stroke-width:2; stroke-opacity:0.1; fill:none\\\" points=\\\"\\n  1368.57,1487.47 1368.57,47.2441 \\n  \\\"\\/>\\n<polyline clip-path=\\\"url(#clip5902)\\\" style=\\\"stroke:#000000; stroke-width:2; stroke-opacity:0.1; fill:none\\\" points=\\\"\\n  1829.55,1487.47 1829.55,47.2441 \\n  \\\"\\/>\\n<polyline clip-path=\\\"url(#clip5902)\\\" style=\\\"stroke:#000000; stroke-width:2; stroke-opacity:0.1; fill:none\\\" points=\\\"\\n  2290.52,1487.47 2290.52,47.2441 \\n  \\\"\\/>\\n<polyline clip-path=\\\"url(#clip5902)\\\" style=\\\"stroke:#000000; stroke-width:2; stroke-opacity:0.1; fill:none\\\" points=\\\"\\n  153.898,1243.81 2352.76,1243.81 \\n  \\\"\\/>\\n<polyline clip-path=\\\"url(#clip5902)\\\" style=\\\"stroke:#000000; stroke-width:2; stroke-opacity:0.1; fill:none\\\" points=\\\"\\n  153.898,998.642 2352.76,998.642 \\n  \\\"\\/>\\n<polyline clip-path=\\\"url(#clip5902)\\\" style=\\\"stroke:#000000; stroke-width:2; stroke-opacity:0.1; fill:none\\\" points=\\\"\\n  153.898,753.47 2352.76,753.47 \\n  \\\"\\/>\\n<polyline clip-path=\\\"url(#clip5902)\\\" style=\\\"stroke:#000000; stroke-width:2; stroke-opacity:0.1; fill:none\\\" points=\\\"\\n  153.898,508.299 2352.76,508.299 \\n  \\\"\\/>\\n<polyline clip-path=\\\"url(#clip5902)\\\" style=\\\"stroke:#000000; stroke-width:2; stroke-opacity:0.1; fill:none\\\" points=\\\"\\n  153.898,263.128 2352.76,263.128 \\n  \\\"\\/>\\n<polyline clip-path=\\\"url(#clip5900)\\\" style=\\\"stroke:#000000; stroke-width:4; stroke-opacity:1; fill:none\\\" points=\\\"\\n  153.898,1487.47 2352.76,1487.47 \\n  \\\"\\/>\\n<polyline clip-path=\\\"url(#clip5900)\\\" style=\\\"stroke:#000000; stroke-width:4; stroke-opacity:1; fill:none\\\" points=\\\"\\n  153.898,1487.47 153.898,47.2441 \\n  \\\"\\/>\\n<polyline clip-path=\\\"url(#clip5900)\\\" style=\\\"stroke:#000000; stroke-width:4; stroke-opacity:1; fill:none\\\" points=\\\"\\n  446.618,1487.47 446.618,1465.87 \\n  \\\"\\/>\\n<polyline clip-path=\\\"url(#clip5900)\\\" style=\\\"stroke:#000000; stroke-width:4; stroke-opacity:1; fill:none\\\" points=\\\"\\n  907.595,1487.47 907.595,1465.87 \\n  \\\"\\/>\\n<polyline clip-path=\\\"url(#clip5900)\\\" style=\\\"stroke:#000000; stroke-width:4; stroke-opacity:1; fill:none\\\" points=\\\"\\n  1368.57,1487.47 1368.57,1465.87 \\n  \\\"\\/>\\n<polyline clip-path=\\\"url(#clip5900)\\\" style=\\\"stroke:#000000; stroke-width:4; stroke-opacity:1; fill:none\\\" points=\\\"\\n  1829.55,1487.47 1829.55,1465.87 \\n  \\\"\\/>\\n<polyline clip-path=\\\"url(#clip5900)\\\" style=\\\"stroke:#000000; stroke-width:4; stroke-opacity:1; fill:none\\\" points=\\\"\\n  2290.52,1487.47 2290.52,1465.87 \\n  \\\"\\/>\\n<polyline clip-path=\\\"url(#clip5900)\\\" style=\\\"stroke:#000000; stroke-width:4; stroke-opacity:1; fill:none\\\" points=\\\"\\n  153.898,1243.81 186.881,1243.81 \\n  \\\"\\/>\\n<polyline clip-path=\\\"url(#clip5900)\\\" style=\\\"stroke:#000000; stroke-width:4; stroke-opacity:1; fill:none\\\" points=\\\"\\n  153.898,998.642 186.881,998.642 \\n  \\\"\\/>\\n<polyline clip-path=\\\"url(#clip5900)\\\" style=\\\"stroke:#000000; stroke-width:4; stroke-opacity:1; fill:none\\\" points=\\\"\\n  153.898,753.47 186.881,753.47 \\n  \\\"\\/>\\n<polyline clip-path=\\\"url(#clip5900)\\\" style=\\\"stroke:#000000; stroke-width:4; stroke-opacity:1; fill:none\\\" points=\\\"\\n  153.898,508.299 186.881,508.299 \\n  \\\"\\/>\\n<polyline clip-path=\\\"url(#clip5900)\\\" style=\\\"stroke:#000000; stroke-width:4; stroke-opacity:1; fill:none\\\" points=\\\"\\n  153.898,263.128 186.881,263.128 \\n  \\\"\\/>\\n<g clip-path=\\\"url(#clip5900)\\\">\\n<text style=\\\"fill:#000000; fill-opacity:1; font-family:Arial,Helvetica Neue,Helvetica,sans-serif; font-size:48px; text-anchor:middle;\\\" transform=\\\"rotate(0, 446.618, 1541.47)\\\" x=\\\"446.618\\\" y=\\\"1541.47\\\">2<\\/text>\\n<\\/g>\\n<g clip-path=\\\"url(#clip5900)\\\">\\n<text style=\\\"fill:#000000; fill-opacity:1; font-family:Arial,Helvetica Neue,Helvetica,sans-serif; font-size:48px; text-anchor:middle;\\\" transform=\\\"rotate(0, 907.595, 1541.47)\\\" x=\\\"907.595\\\" y=\\\"1541.47\\\">4<\\/text>\\n<\\/g>\\n<g clip-path=\\\"url(#clip5900)\\\">\\n<text style=\\\"fill:#000000; fill-opacity:1; font-family:Arial,Helvetica Neue,Helvetica,sans-serif; font-size:48px; text-anchor:middle;\\\" transform=\\\"rotate(0, 1368.57, 1541.47)\\\" x=\\\"1368.57\\\" y=\\\"1541.47\\\">6<\\/text>\\n<\\/g>\\n<g clip-path=\\\"url(#clip5900)\\\">\\n<text style=\\\"fill:#000000; fill-opacity:1; font-family:Arial,Helvetica Neue,Helvetica,sans-serif; font-size:48px; text-anchor:middle;\\\" transform=\\\"rotate(0, 1829.55, 1541.47)\\\" x=\\\"1829.55\\\" y=\\\"1541.47\\\">8<\\/text>\\n<\\/g>\\n<g clip-path=\\\"url(#clip5900)\\\">\\n<text style=\\\"fill:#000000; fill-opacity:1; font-family:Arial,Helvetica Neue,Helvetica,sans-serif; font-size:48px; text-anchor:middle;\\\" transform=\\\"rotate(0, 2290.52, 1541.47)\\\" x=\\\"2290.52\\\" y=\\\"1541.47\\\">10<\\/text>\\n<\\/g>\\n<g clip-path=\\\"url(#clip5900)\\\">\\n<text style=\\\"fill:#000000; fill-opacity:1; font-family:Arial,Helvetica Neue,Helvetica,sans-serif; font-size:48px; text-anchor:end;\\\" transform=\\\"rotate(0, 129.898, 1261.31)\\\" x=\\\"129.898\\\" y=\\\"1261.31\\\">0.1<\\/text>\\n<\\/g>\\n<g clip-path=\\\"url(#clip5900)\\\">\\n<text style=\\\"fill:#000000; fill-opacity:1; font-family:Arial,Helvetica Neue,Helvetica,sans-serif; font-size:48px; text-anchor:end;\\\" transform=\\\"rotate(0, 129.898, 1016.14)\\\" x=\\\"129.898\\\" y=\\\"1016.14\\\">0.2<\\/text>\\n<\\/g>\\n<g clip-path=\\\"url(#clip5900)\\\">\\n<text style=\\\"fill:#000000; fill-opacity:1; font-family:Arial,Helvetica Neue,Helvetica,sans-serif; font-size:48px; text-anchor:end;\\\" transform=\\\"rotate(0, 129.898, 770.97)\\\" x=\\\"129.898\\\" y=\\\"770.97\\\">0.3<\\/text>\\n<\\/g>\\n<g clip-path=\\\"url(#clip5900)\\\">\\n<text style=\\\"fill:#000000; fill-opacity:1; font-family:Arial,Helvetica Neue,Helvetica,sans-serif; font-size:48px; text-anchor:end;\\\" transform=\\\"rotate(0, 129.898, 525.799)\\\" x=\\\"129.898\\\" y=\\\"525.799\\\">0.4<\\/text>\\n<\\/g>\\n<g clip-path=\\\"url(#clip5900)\\\">\\n<text style=\\\"fill:#000000; fill-opacity:1; font-family:Arial,Helvetica Neue,Helvetica,sans-serif; font-size:48px; text-anchor:end;\\\" transform=\\\"rotate(0, 129.898, 280.628)\\\" x=\\\"129.898\\\" y=\\\"280.628\\\">0.5<\\/text>\\n<\\/g>\\n<polyline clip-path=\\\"url(#clip5902)\\\" style=\\\"stroke:#009af9; stroke-width:4; stroke-opacity:1; fill:none\\\" points=\\\"\\n  216.13,876.056 239.179,828.145 262.227,776.277 285.276,720.422 308.325,660.703 331.374,597.452 354.423,531.284 377.472,463.163 400.52,394.47 423.569,327.035 \\n  446.618,263.128 469.667,205.365 492.716,156.531 515.765,119.312 538.813,95.9654 561.862,88.0053 584.911,95.9654 607.96,119.312 631.009,156.531 654.057,205.365 \\n  677.106,263.128 700.155,327.035 723.204,394.47 746.253,463.163 769.302,531.284 792.35,597.452 815.399,660.703 838.448,720.422 861.497,776.277 884.546,828.145 \\n  907.595,876.056 930.643,920.141 953.692,960.598 976.741,997.659 999.79,1031.58 1022.84,1062.6 1045.89,1090.98 1068.94,1116.95 1091.99,1140.73 1115.03,1162.52 \\n  1138.08,1182.52 1161.13,1200.89 1184.18,1217.78 1207.23,1233.33 1230.28,1247.67 1253.33,1260.92 1276.38,1273.16 1299.42,1284.5 1322.47,1295.02 1345.52,1304.78 \\n  1368.57,1313.86 1391.62,1322.31 1414.67,1330.19 1437.72,1337.55 1460.77,1344.43 1483.82,1350.86 1506.86,1356.89 1529.91,1362.54 1552.96,1367.85 1576.01,1372.84 \\n  1599.06,1377.54 1622.11,1381.97 1645.16,1386.14 1668.21,1390.09 1691.25,1393.81 1714.3,1397.33 1737.35,1400.67 1760.4,1403.83 1783.45,1406.82 1806.5,1409.67 \\n  1829.55,1412.37 1852.6,1414.94 1875.65,1417.38 1898.69,1419.71 1921.74,1421.92 1944.79,1424.04 1967.84,1426.06 1990.89,1427.98 2013.94,1429.82 2036.99,1431.58 \\n  2060.04,1433.26 2083.08,1434.87 2106.13,1436.42 2129.18,1437.9 2152.23,1439.31 2175.28,1440.67 2198.33,1441.98 2221.38,1443.23 2244.43,1444.44 2267.48,1445.6 \\n  2290.52,1446.71 \\n  \\\"\\/>\\n<polygon clip-path=\\\"url(#clip5900)\\\" points=\\\"\\n1989.93,251.724 2280.76,251.724 2280.76,130.764 1989.93,130.764 \\n  \\\" fill=\\\"#ffffff\\\" fill-rule=\\\"evenodd\\\" fill-opacity=\\\"1\\\"\\/>\\n<polyline clip-path=\\\"url(#clip5900)\\\" style=\\\"stroke:#000000; stroke-width:4; stroke-opacity:1; fill:none\\\" points=\\\"\\n  1989.93,251.724 2280.76,251.724 2280.76,130.764 1989.93,130.764 1989.93,251.724 \\n  \\\"\\/>\\n<polyline clip-path=\\\"url(#clip5900)\\\" style=\\\"stroke:#009af9; stroke-width:4; stroke-opacity:1; fill:none\\\" points=\\\"\\n  2013.93,191.244 2157.93,191.244 \\n  \\\"\\/>\\n<g clip-path=\\\"url(#clip5900)\\\">\\n<text style=\\\"fill:#000000; fill-opacity:1; font-family:Arial,Helvetica Neue,Helvetica,sans-serif; font-size:48px; text-anchor:start;\\\" transform=\\\"rotate(0, 2181.93, 208.744)\\\" x=\\\"2181.93\\\" y=\\\"208.744\\\">y1<\\/text>\\n<\\/g>\\n<\\/svg>\\n\"},\"nodeType\":\"DOM\",\"type\":\"node\",\"instanceArgs\":{\"namespace\":\"html\",\"tag\":\"div\"},\"children\":[]}]}}}},\"children\":[{\"props\":{},\"nodeType\":\"ObservableNode\",\"type\":\"node\",\"instanceArgs\":{\"id\":\"ob_17\",\"name\":\"obs-node\"},\"children\":[]}]}]},\n",
       "            window,\n",
       "        );\n",
       "    } else {\n",
       "        document\n",
       "            .querySelector('[data-webio-mountpoint=\"165641129066394508\"]')\n",
       "            .innerHTML = '<strong>WebIO not detected.</strong>';\n",
       "    }\n",
       "    </script>\n",
       "</div>\n"
      ],
      "text/plain": [
       "Node{WebIO.DOM}(WebIO.DOM(:html, :div), Any[Node{DOM}(DOM(:html, :div), Any[Scope(\"scope-0906644d-66e6-4636-9e32-0dd6001dcfff\", Node{DOM}(DOM(:html, :div), Any[Node{DOM}(DOM(:html, :div), Any[Node{DOM}(DOM(:html, :label), Any[\"msq\"], Dict{Symbol,Any}(:className=>\"interact \",:style=>Dict{Any,Any}(:padding=>\"5px 10px 0px 10px\")), 1)], Dict{Symbol,Any}(:className=>\"interact-flex-row-left\"), 2), Node{DOM}(DOM(:html, :div), Any[Node{DOM}(DOM(:html, :input), Any[], Dict{Symbol,Any}(:max=>6,:min=>1,:attributes=>Dict{Any,Any}(:type=>\"range\",Symbol(\"data-bind\")=>\"numericValue: index, valueUpdate: 'input', event: {change: function (){this.changes(this.changes()+1)}}\",\"orient\"=>\"horizontal\"),:step=>1,:className=>\"slider slider is-fullwidth\",:style=>Dict{Any,Any}()), 0)], Dict{Symbol,Any}(:className=>\"interact-flex-row-center\"), 1), Node{DOM}(DOM(:html, :div), Any[Node{DOM}(DOM(:html, :p), Any[], Dict{Symbol,Any}(:attributes=>Dict(\"data-bind\"=>\"text: formatted_val\")), 0)], Dict{Symbol,Any}(:className=>\"interact-flex-row-right\"), 1)], Dict{Symbol,Any}(:className=>\"interact-flex-row interact-widget\"), 7), Dict{String,Tuple{Observables.AbstractObservable,Union{Nothing, Bool}}}(\"changes\"=>(Observable{Int64} with 1 listeners. Value:\n",
       "0, nothing),\"index\"=>(Observable{Int64} with 2 listeners. Value:\n",
       "3, nothing)), Set(String[]), nothing, Asset[Asset(\"js\", \"knockout\", \"C:\\\\Users\\\\mikha\\\\.julia\\\\packages\\\\Knockout\\\\1sDlc\\\\src\\\\..\\\\assets\\\\knockout.js\"), Asset(\"js\", \"knockout_punches\", \"C:\\\\Users\\\\mikha\\\\.julia\\\\packages\\\\Knockout\\\\1sDlc\\\\src\\\\..\\\\assets\\\\knockout_punches.js\"), Asset(\"js\", nothing, \"C:\\\\Users\\\\mikha\\\\.julia\\\\packages\\\\InteractBase\\\\l8cEC\\\\src\\\\..\\\\assets\\\\all.js\"), Asset(\"css\", nothing, \"C:\\\\Users\\\\mikha\\\\.julia\\\\packages\\\\InteractBase\\\\l8cEC\\\\src\\\\..\\\\assets\\\\style.css\"), Asset(\"css\", nothing, \"C:\\\\Users\\\\mikha\\\\.julia\\\\packages\\\\Interact\\\\0klKX\\\\src\\\\..\\\\assets\\\\bulma_confined.min.css\")], Dict{Any,Any}(\"changes\"=>Any[JSString(\"(function (val){return (val!=this.model[\\\"changes\\\"]()) ? (this.valueFromJulia[\\\"changes\\\"]=true, this.model[\\\"changes\\\"](val)) : undefined})\")],\"index\"=>Any[JSString(\"(function (val){return (val!=this.model[\\\"index\\\"]()) ? (this.valueFromJulia[\\\"index\\\"]=true, this.model[\\\"index\\\"](val)) : undefined})\")]), ConnectionPool(Channel{Any}(sz_max:9223372036854775807,sz_curr:0), Set(AbstractConnection[]), Channel{AbstractConnection}(sz_max:32,sz_curr:0)), WebIO.JSString[JSString(\"function () {\\n    var handler = (function (ko, koPunches) {\\n    ko.punches.enableAll();\\n    ko.bindingHandlers.numericValue = {\\n        init: function(element, valueAccessor, allBindings, data, context) {\\n            var stringified = ko.observable(ko.unwrap(valueAccessor()));\\n            stringified.subscribe(function(value) {\\n                var val = parseFloat(value);\\n                if (!isNaN(val)) {\\n                    valueAccessor()(val);\\n                }\\n            });\\n            valueAccessor().subscribe(function(value) {\\n                var str = JSON.stringify(value);\\n                if ((str == \\\"0\\\") && ([\\\"-0\\\", \\\"-0.\\\"].indexOf(stringified()) >= 0))\\n                     return;\\n                 if ([\\\"null\\\", \\\"\\\"].indexOf(str) >= 0)\\n                     return;\\n                stringified(str);\\n            });\\n            ko.applyBindingsToNode(\\n                element,\\n                {\\n                    value: stringified,\\n                    valueUpdate: allBindings.get('valueUpdate'),\\n                },\\n                context,\\n            );\\n        }\\n    };\\n    var json_data = {\\\"formatted_vals\\\":[\\\"1\\\",\\\"2\\\",\\\"3\\\",\\\"4\\\",\\\"5\\\",\\\"6\\\"],\\\"changes\\\":WebIO.getval({\\\"name\\\":\\\"changes\\\",\\\"scope\\\":\\\"scope-0906644d-66e6-4636-9e32-0dd6001dcfff\\\",\\\"id\\\":\\\"ob_10\\\",\\\"type\\\":\\\"observable\\\"}),\\\"index\\\":WebIO.getval({\\\"name\\\":\\\"index\\\",\\\"scope\\\":\\\"scope-0906644d-66e6-4636-9e32-0dd6001dcfff\\\",\\\"id\\\":\\\"ob_09\\\",\\\"type\\\":\\\"observable\\\"})};\\n    var self = this;\\n    function AppViewModel() {\\n        for (var key in json_data) {\\n            var el = json_data[key];\\n            this[key] = Array.isArray(el) ? ko.observableArray(el) : ko.observable(el);\\n        }\\n        \\n        [this[\\\"formatted_val\\\"]=ko.computed(    function(){\\n        return this.formatted_vals()[parseInt(this.index())-(1)];\\n    }\\n,this)]\\n        [this[\\\"changes\\\"].subscribe((function (val){!(this.valueFromJulia[\\\"changes\\\"]) ? (WebIO.setval({\\\"name\\\":\\\"changes\\\",\\\"scope\\\":\\\"scope-0906644d-66e6-4636-9e32-0dd6001dcfff\\\",\\\"id\\\":\\\"ob_10\\\",\\\"type\\\":\\\"observable\\\"},val)) : undefined; return this.valueFromJulia[\\\"changes\\\"]=false}),self),this[\\\"index\\\"].subscribe((function (val){!(this.valueFromJulia[\\\"index\\\"]) ? (WebIO.setval({\\\"name\\\":\\\"index\\\",\\\"scope\\\":\\\"scope-0906644d-66e6-4636-9e32-0dd6001dcfff\\\",\\\"id\\\":\\\"ob_09\\\",\\\"type\\\":\\\"observable\\\"},val)) : undefined; return this.valueFromJulia[\\\"index\\\"]=false}),self)]\\n        \\n    }\\n    self.model = new AppViewModel();\\n    self.valueFromJulia = {};\\n    for (var key in json_data) {\\n        self.valueFromJulia[key] = false;\\n    }\\n    ko.applyBindings(self.model, self.dom);\\n}\\n);\\n    (WebIO.importBlock({\\\"data\\\":[{\\\"name\\\":\\\"knockout\\\",\\\"type\\\":\\\"js\\\",\\\"url\\\":\\\"/assetserver/400851c8b8cf7fc10948b385af7e3ef99cb76dbc-knockout.js\\\"},{\\\"name\\\":\\\"knockout_punches\\\",\\\"type\\\":\\\"js\\\",\\\"url\\\":\\\"/assetserver/318f1c0cec30819eed901ca48cd0d6e3c354c074-knockout_punches.js\\\"}],\\\"type\\\":\\\"async_block\\\"})).then((imports) => handler.apply(this, imports));\\n}\\n\")])], Dict{Symbol,Any}(:className=>\"field interact-widget\"), 1), Node{DOM}(DOM(:html, :div), Any[Scope(\"scope-5ce70242-b71c-4312-a5df-596a5372bfdb\", Node{DOM}(DOM(:html, :div), Any[Node{DOM}(DOM(:html, :div), Any[Node{DOM}(DOM(:html, :label), Any[\"gsq\"], Dict{Symbol,Any}(:className=>\"interact \",:style=>Dict{Any,Any}(:padding=>\"5px 10px 0px 10px\")), 1)], Dict{Symbol,Any}(:className=>\"interact-flex-row-left\"), 2), Node{DOM}(DOM(:html, :div), Any[Node{DOM}(DOM(:html, :input), Any[], Dict{Symbol,Any}(:max=>41,:min=>1,:attributes=>Dict{Any,Any}(:type=>\"range\",Symbol(\"data-bind\")=>\"numericValue: index, valueUpdate: 'input', event: {change: function (){this.changes(this.changes()+1)}}\",\"orient\"=>\"horizontal\"),:step=>1,:className=>\"slider slider is-fullwidth\",:style=>Dict{Any,Any}()), 0)], Dict{Symbol,Any}(:className=>\"interact-flex-row-center\"), 1), Node{DOM}(DOM(:html, :div), Any[Node{DOM}(DOM(:html, :p), Any[], Dict{Symbol,Any}(:attributes=>Dict(\"data-bind\"=>\"text: formatted_val\")), 0)], Dict{Symbol,Any}(:className=>\"interact-flex-row-right\"), 1)], Dict{Symbol,Any}(:className=>\"interact-flex-row interact-widget\"), 7), Dict{String,Tuple{Observables.AbstractObservable,Union{Nothing, Bool}}}(\"changes\"=>(Observable{Int64} with 1 listeners. Value:\n",
       "0, nothing),\"index\"=>(Observable{Any} with 2 listeners. Value:\n",
       "21, nothing)), Set(String[]), nothing, Asset[Asset(\"js\", \"knockout\", \"C:\\\\Users\\\\mikha\\\\.julia\\\\packages\\\\Knockout\\\\1sDlc\\\\src\\\\..\\\\assets\\\\knockout.js\"), Asset(\"js\", \"knockout_punches\", \"C:\\\\Users\\\\mikha\\\\.julia\\\\packages\\\\Knockout\\\\1sDlc\\\\src\\\\..\\\\assets\\\\knockout_punches.js\"), Asset(\"js\", nothing, \"C:\\\\Users\\\\mikha\\\\.julia\\\\packages\\\\InteractBase\\\\l8cEC\\\\src\\\\..\\\\assets\\\\all.js\"), Asset(\"css\", nothing, \"C:\\\\Users\\\\mikha\\\\.julia\\\\packages\\\\InteractBase\\\\l8cEC\\\\src\\\\..\\\\assets\\\\style.css\"), Asset(\"css\", nothing, \"C:\\\\Users\\\\mikha\\\\.julia\\\\packages\\\\Interact\\\\0klKX\\\\src\\\\..\\\\assets\\\\bulma_confined.min.css\")], Dict{Any,Any}(\"changes\"=>Any[JSString(\"(function (val){return (val!=this.model[\\\"changes\\\"]()) ? (this.valueFromJulia[\\\"changes\\\"]=true, this.model[\\\"changes\\\"](val)) : undefined})\")],\"index\"=>Any[JSString(\"(function (val){return (val!=this.model[\\\"index\\\"]()) ? (this.valueFromJulia[\\\"index\\\"]=true, this.model[\\\"index\\\"](val)) : undefined})\")]), ConnectionPool(Channel{Any}(sz_max:9223372036854775807,sz_curr:0), Set(AbstractConnection[]), Channel{AbstractConnection}(sz_max:32,sz_curr:0)), WebIO.JSString[JSString(\"function () {\\n    var handler = (function (ko, koPunches) {\\n    ko.punches.enableAll();\\n    ko.bindingHandlers.numericValue = {\\n        init: function(element, valueAccessor, allBindings, data, context) {\\n            var stringified = ko.observable(ko.unwrap(valueAccessor()));\\n            stringified.subscribe(function(value) {\\n                var val = parseFloat(value);\\n                if (!isNaN(val)) {\\n                    valueAccessor()(val);\\n                }\\n            });\\n            valueAccessor().subscribe(function(value) {\\n                var str = JSON.stringify(value);\\n                if ((str == \\\"0\\\") && ([\\\"-0\\\", \\\"-0.\\\"].indexOf(stringified()) >= 0))\\n                     return;\\n                 if ([\\\"null\\\", \\\"\\\"].indexOf(str) >= 0)\\n                     return;\\n                stringified(str);\\n            });\\n            ko.applyBindingsToNode(\\n                element,\\n                {\\n                    value: stringified,\\n                    valueUpdate: allBindings.get('valueUpdate'),\\n                },\\n                context,\\n            );\\n        }\\n    };\\n    var json_data = {\\\"formatted_vals\\\":[\\\"-1.0\\\",\\\"-0.9\\\",\\\"-0.8\\\",\\\"-0.7\\\",\\\"-0.6\\\",\\\"-0.5\\\",\\\"-0.4\\\",\\\"-0.3\\\",\\\"-0.2\\\",\\\"-0.1\\\",\\\"0.0\\\",\\\"0.1\\\",\\\"0.2\\\",\\\"0.3\\\",\\\"0.4\\\",\\\"0.5\\\",\\\"0.6\\\",\\\"0.7\\\",\\\"0.8\\\",\\\"0.9\\\",\\\"1.0\\\",\\\"1.1\\\",\\\"1.2\\\",\\\"1.3\\\",\\\"1.4\\\",\\\"1.5\\\",\\\"1.6\\\",\\\"1.7\\\",\\\"1.8\\\",\\\"1.9\\\",\\\"2.0\\\",\\\"2.1\\\",\\\"2.2\\\",\\\"2.3\\\",\\\"2.4\\\",\\\"2.5\\\",\\\"2.6\\\",\\\"2.7\\\",\\\"2.8\\\",\\\"2.9\\\",\\\"3.0\\\"],\\\"changes\\\":WebIO.getval({\\\"name\\\":\\\"changes\\\",\\\"scope\\\":\\\"scope-5ce70242-b71c-4312-a5df-596a5372bfdb\\\",\\\"id\\\":\\\"ob_13\\\",\\\"type\\\":\\\"observable\\\"}),\\\"index\\\":WebIO.getval({\\\"name\\\":\\\"index\\\",\\\"scope\\\":\\\"scope-5ce70242-b71c-4312-a5df-596a5372bfdb\\\",\\\"id\\\":\\\"ob_12\\\",\\\"type\\\":\\\"observable\\\"})};\\n    var self = this;\\n    function AppViewModel() {\\n        for (var key in json_data) {\\n            var el = json_data[key];\\n            this[key] = Array.isArray(el) ? ko.observableArray(el) : ko.observable(el);\\n        }\\n        \\n        [this[\\\"formatted_val\\\"]=ko.computed(    function(){\\n        return this.formatted_vals()[parseInt(this.index())-(1)];\\n    }\\n,this)]\\n        [this[\\\"changes\\\"].subscribe((function (val){!(this.valueFromJulia[\\\"changes\\\"]) ? (WebIO.setval({\\\"name\\\":\\\"changes\\\",\\\"scope\\\":\\\"scope-5ce70242-b71c-4312-a5df-596a5372bfdb\\\",\\\"id\\\":\\\"ob_13\\\",\\\"type\\\":\\\"observable\\\"},val)) : undefined; return this.valueFromJulia[\\\"changes\\\"]=false}),self),this[\\\"index\\\"].subscribe((function (val){!(this.valueFromJulia[\\\"index\\\"]) ? (WebIO.setval({\\\"name\\\":\\\"index\\\",\\\"scope\\\":\\\"scope-5ce70242-b71c-4312-a5df-596a5372bfdb\\\",\\\"id\\\":\\\"ob_12\\\",\\\"type\\\":\\\"observable\\\"},val)) : undefined; return this.valueFromJulia[\\\"index\\\"]=false}),self)]\\n        \\n    }\\n    self.model = new AppViewModel();\\n    self.valueFromJulia = {};\\n    for (var key in json_data) {\\n        self.valueFromJulia[key] = false;\\n    }\\n    ko.applyBindings(self.model, self.dom);\\n}\\n);\\n    (WebIO.importBlock({\\\"data\\\":[{\\\"name\\\":\\\"knockout\\\",\\\"type\\\":\\\"js\\\",\\\"url\\\":\\\"/assetserver/400851c8b8cf7fc10948b385af7e3ef99cb76dbc-knockout.js\\\"},{\\\"name\\\":\\\"knockout_punches\\\",\\\"type\\\":\\\"js\\\",\\\"url\\\":\\\"/assetserver/318f1c0cec30819eed901ca48cd0d6e3c354c074-knockout_punches.js\\\"}],\\\"type\\\":\\\"async_block\\\"})).then((imports) => handler.apply(this, imports));\\n}\\n\")])], Dict{Symbol,Any}(:className=>\"field interact-widget\"), 1), Observable{Any} with 0 listeners. Value:\n",
       "Node{DOM}(DOM(:html, :div), Any[Plot{Plots.GRBackend() n=1}], Dict{Symbol,Any}(:className=>\"interact-flex-row interact-widget\"), 1)], Dict{Symbol,Any}(), 3)"
      ]
     },
     "execution_count": 10,
     "metadata": {
      "application/vnd.webio.node+json": {
       "kernelId": null
      }
     },
     "output_type": "execute_result"
    }
   ],
   "source": [
    "@manipulate for msq=1:6, gsq=-1:0.1:3\n",
    "    plot(s->abs2(f(s, msq, gsq)),1:0.1:10)\n",
    "end"
   ]
  },
  {
   "cell_type": "code",
   "execution_count": 19,
   "metadata": {},
   "outputs": [
    {
     "data": {
      "application/vnd.webio.node+json": {
       "children": [
        {
         "children": [
          {
           "children": [
            {
             "children": [
              {
               "children": [
                {
                 "children": [
                  "msq"
                 ],
                 "instanceArgs": {
                  "namespace": "html",
                  "tag": "label"
                 },
                 "nodeType": "DOM",
                 "props": {
                  "className": "interact ",
                  "style": {
                   "padding": "5px 10px 0px 10px"
                  }
                 },
                 "type": "node"
                }
               ],
               "instanceArgs": {
                "namespace": "html",
                "tag": "div"
               },
               "nodeType": "DOM",
               "props": {
                "className": "interact-flex-row-left"
               },
               "type": "node"
              },
              {
               "children": [
                {
                 "children": [],
                 "instanceArgs": {
                  "namespace": "html",
                  "tag": "input"
                 },
                 "nodeType": "DOM",
                 "props": {
                  "attributes": {
                   "data-bind": "numericValue: index, valueUpdate: 'input', event: {change: function (){this.changes(this.changes()+1)}}",
                   "orient": "horizontal",
                   "type": "range"
                  },
                  "className": "slider slider is-fullwidth",
                  "max": 71,
                  "min": 1,
                  "step": 1,
                  "style": {}
                 },
                 "type": "node"
                }
               ],
               "instanceArgs": {
                "namespace": "html",
                "tag": "div"
               },
               "nodeType": "DOM",
               "props": {
                "className": "interact-flex-row-center"
               },
               "type": "node"
              },
              {
               "children": [
                {
                 "children": [],
                 "instanceArgs": {
                  "namespace": "html",
                  "tag": "p"
                 },
                 "nodeType": "DOM",
                 "props": {
                  "attributes": {
                   "data-bind": "text: formatted_val"
                  }
                 },
                 "type": "node"
                }
               ],
               "instanceArgs": {
                "namespace": "html",
                "tag": "div"
               },
               "nodeType": "DOM",
               "props": {
                "className": "interact-flex-row-right"
               },
               "type": "node"
              }
             ],
             "instanceArgs": {
              "namespace": "html",
              "tag": "div"
             },
             "nodeType": "DOM",
             "props": {
              "className": "interact-flex-row interact-widget"
             },
             "type": "node"
            }
           ],
           "instanceArgs": {
            "handlers": {
             "changes": [
              "(function (val){return (val!=this.model[\"changes\"]()) ? (this.valueFromJulia[\"changes\"]=true, this.model[\"changes\"](val)) : undefined})"
             ],
             "index": [
              "(function (val){return (val!=this.model[\"index\"]()) ? (this.valueFromJulia[\"index\"]=true, this.model[\"index\"](val)) : undefined})"
             ]
            },
            "id": "scope-eb94b833-3ff4-45b2-8bdd-03209d90b0b7",
            "imports": {
             "data": [
              {
               "name": "knockout",
               "type": "js",
               "url": "/assetserver/400851c8b8cf7fc10948b385af7e3ef99cb76dbc-knockout.js"
              },
              {
               "name": "knockout_punches",
               "type": "js",
               "url": "/assetserver/318f1c0cec30819eed901ca48cd0d6e3c354c074-knockout_punches.js"
              },
              {
               "name": null,
               "type": "js",
               "url": "/assetserver/d13c5edb54a12e669bfbc85930e20ef091aaf304-all.js"
              },
              {
               "name": null,
               "type": "css",
               "url": "/assetserver/0fe71aa5b2bfaee5384c38af6eda97e785db17a3-style.css"
              },
              {
               "name": null,
               "type": "css",
               "url": "/assetserver/1b90debdb28a966540748729e11344b804f7e6f9-bulma_confined.min.css"
              }
             ],
             "type": "async_block"
            },
            "mount_callbacks": [
             "function () {\n    var handler = (function (ko, koPunches) {\n    ko.punches.enableAll();\n    ko.bindingHandlers.numericValue = {\n        init: function(element, valueAccessor, allBindings, data, context) {\n            var stringified = ko.observable(ko.unwrap(valueAccessor()));\n            stringified.subscribe(function(value) {\n                var val = parseFloat(value);\n                if (!isNaN(val)) {\n                    valueAccessor()(val);\n                }\n            });\n            valueAccessor().subscribe(function(value) {\n                var str = JSON.stringify(value);\n                if ((str == \"0\") && ([\"-0\", \"-0.\"].indexOf(stringified()) >= 0))\n                     return;\n                 if ([\"null\", \"\"].indexOf(str) >= 0)\n                     return;\n                stringified(str);\n            });\n            ko.applyBindingsToNode(\n                element,\n                {\n                    value: stringified,\n                    valueUpdate: allBindings.get('valueUpdate'),\n                },\n                context,\n            );\n        }\n    };\n    var json_data = {\"formatted_vals\":[\"-1.0\",\"-0.9\",\"-0.8\",\"-0.7\",\"-0.6\",\"-0.5\",\"-0.4\",\"-0.3\",\"-0.2\",\"-0.1\",\"0.0\",\"0.1\",\"0.2\",\"0.3\",\"0.4\",\"0.5\",\"0.6\",\"0.7\",\"0.8\",\"0.9\",\"1.0\",\"1.1\",\"1.2\",\"1.3\",\"1.4\",\"1.5\",\"1.6\",\"1.7\",\"1.8\",\"1.9\",\"2.0\",\"2.1\",\"2.2\",\"2.3\",\"2.4\",\"2.5\",\"2.6\",\"2.7\",\"2.8\",\"2.9\",\"3.0\",\"3.1\",\"3.2\",\"3.3\",\"3.4\",\"3.5\",\"3.6\",\"3.7\",\"3.8\",\"3.9\",\"4.0\",\"4.1\",\"4.2\",\"4.3\",\"4.4\",\"4.5\",\"4.6\",\"4.7\",\"4.8\",\"4.9\",\"5.0\",\"5.1\",\"5.2\",\"5.3\",\"5.4\",\"5.5\",\"5.6\",\"5.7\",\"5.8\",\"5.9\",\"6.0\"],\"changes\":WebIO.getval({\"name\":\"changes\",\"scope\":\"scope-eb94b833-3ff4-45b2-8bdd-03209d90b0b7\",\"id\":\"ob_67\",\"type\":\"observable\"}),\"index\":WebIO.getval({\"name\":\"index\",\"scope\":\"scope-eb94b833-3ff4-45b2-8bdd-03209d90b0b7\",\"id\":\"ob_66\",\"type\":\"observable\"})};\n    var self = this;\n    function AppViewModel() {\n        for (var key in json_data) {\n            var el = json_data[key];\n            this[key] = Array.isArray(el) ? ko.observableArray(el) : ko.observable(el);\n        }\n        \n        [this[\"formatted_val\"]=ko.computed(    function(){\n        return this.formatted_vals()[parseInt(this.index())-(1)];\n    }\n,this)]\n        [this[\"changes\"].subscribe((function (val){!(this.valueFromJulia[\"changes\"]) ? (WebIO.setval({\"name\":\"changes\",\"scope\":\"scope-eb94b833-3ff4-45b2-8bdd-03209d90b0b7\",\"id\":\"ob_67\",\"type\":\"observable\"},val)) : undefined; return this.valueFromJulia[\"changes\"]=false}),self),this[\"index\"].subscribe((function (val){!(this.valueFromJulia[\"index\"]) ? (WebIO.setval({\"name\":\"index\",\"scope\":\"scope-eb94b833-3ff4-45b2-8bdd-03209d90b0b7\",\"id\":\"ob_66\",\"type\":\"observable\"},val)) : undefined; return this.valueFromJulia[\"index\"]=false}),self)]\n        \n    }\n    self.model = new AppViewModel();\n    self.valueFromJulia = {};\n    for (var key in json_data) {\n        self.valueFromJulia[key] = false;\n    }\n    ko.applyBindings(self.model, self.dom);\n}\n);\n    (WebIO.importBlock({\"data\":[{\"name\":\"knockout\",\"type\":\"js\",\"url\":\"/assetserver/400851c8b8cf7fc10948b385af7e3ef99cb76dbc-knockout.js\"},{\"name\":\"knockout_punches\",\"type\":\"js\",\"url\":\"/assetserver/318f1c0cec30819eed901ca48cd0d6e3c354c074-knockout_punches.js\"}],\"type\":\"async_block\"})).then((imports) => handler.apply(this, imports));\n}\n"
            ],
            "observables": {
             "changes": {
              "id": "ob_67",
              "sync": false,
              "value": 0
             },
             "index": {
              "id": "ob_66",
              "sync": true,
              "value": 36
             }
            },
            "systemjs_options": null
           },
           "nodeType": "Scope",
           "props": {},
           "type": "node"
          }
         ],
         "instanceArgs": {
          "namespace": "html",
          "tag": "div"
         },
         "nodeType": "DOM",
         "props": {
          "className": "field interact-widget"
         },
         "type": "node"
        },
        {
         "children": [
          {
           "children": [
            {
             "children": [
              {
               "children": [
                {
                 "children": [
                  "gsq"
                 ],
                 "instanceArgs": {
                  "namespace": "html",
                  "tag": "label"
                 },
                 "nodeType": "DOM",
                 "props": {
                  "className": "interact ",
                  "style": {
                   "padding": "5px 10px 0px 10px"
                  }
                 },
                 "type": "node"
                }
               ],
               "instanceArgs": {
                "namespace": "html",
                "tag": "div"
               },
               "nodeType": "DOM",
               "props": {
                "className": "interact-flex-row-left"
               },
               "type": "node"
              },
              {
               "children": [
                {
                 "children": [],
                 "instanceArgs": {
                  "namespace": "html",
                  "tag": "input"
                 },
                 "nodeType": "DOM",
                 "props": {
                  "attributes": {
                   "data-bind": "numericValue: index, valueUpdate: 'input', event: {change: function (){this.changes(this.changes()+1)}}",
                   "orient": "horizontal",
                   "type": "range"
                  },
                  "className": "slider slider is-fullwidth",
                  "max": 41,
                  "min": 1,
                  "step": 1,
                  "style": {}
                 },
                 "type": "node"
                }
               ],
               "instanceArgs": {
                "namespace": "html",
                "tag": "div"
               },
               "nodeType": "DOM",
               "props": {
                "className": "interact-flex-row-center"
               },
               "type": "node"
              },
              {
               "children": [
                {
                 "children": [],
                 "instanceArgs": {
                  "namespace": "html",
                  "tag": "p"
                 },
                 "nodeType": "DOM",
                 "props": {
                  "attributes": {
                   "data-bind": "text: formatted_val"
                  }
                 },
                 "type": "node"
                }
               ],
               "instanceArgs": {
                "namespace": "html",
                "tag": "div"
               },
               "nodeType": "DOM",
               "props": {
                "className": "interact-flex-row-right"
               },
               "type": "node"
              }
             ],
             "instanceArgs": {
              "namespace": "html",
              "tag": "div"
             },
             "nodeType": "DOM",
             "props": {
              "className": "interact-flex-row interact-widget"
             },
             "type": "node"
            }
           ],
           "instanceArgs": {
            "handlers": {
             "changes": [
              "(function (val){return (val!=this.model[\"changes\"]()) ? (this.valueFromJulia[\"changes\"]=true, this.model[\"changes\"](val)) : undefined})"
             ],
             "index": [
              "(function (val){return (val!=this.model[\"index\"]()) ? (this.valueFromJulia[\"index\"]=true, this.model[\"index\"](val)) : undefined})"
             ]
            },
            "id": "scope-e99600a5-a05d-41f8-ac5c-05d4ba6089b3",
            "imports": {
             "data": [
              {
               "name": "knockout",
               "type": "js",
               "url": "/assetserver/400851c8b8cf7fc10948b385af7e3ef99cb76dbc-knockout.js"
              },
              {
               "name": "knockout_punches",
               "type": "js",
               "url": "/assetserver/318f1c0cec30819eed901ca48cd0d6e3c354c074-knockout_punches.js"
              },
              {
               "name": null,
               "type": "js",
               "url": "/assetserver/d13c5edb54a12e669bfbc85930e20ef091aaf304-all.js"
              },
              {
               "name": null,
               "type": "css",
               "url": "/assetserver/0fe71aa5b2bfaee5384c38af6eda97e785db17a3-style.css"
              },
              {
               "name": null,
               "type": "css",
               "url": "/assetserver/1b90debdb28a966540748729e11344b804f7e6f9-bulma_confined.min.css"
              }
             ],
             "type": "async_block"
            },
            "mount_callbacks": [
             "function () {\n    var handler = (function (ko, koPunches) {\n    ko.punches.enableAll();\n    ko.bindingHandlers.numericValue = {\n        init: function(element, valueAccessor, allBindings, data, context) {\n            var stringified = ko.observable(ko.unwrap(valueAccessor()));\n            stringified.subscribe(function(value) {\n                var val = parseFloat(value);\n                if (!isNaN(val)) {\n                    valueAccessor()(val);\n                }\n            });\n            valueAccessor().subscribe(function(value) {\n                var str = JSON.stringify(value);\n                if ((str == \"0\") && ([\"-0\", \"-0.\"].indexOf(stringified()) >= 0))\n                     return;\n                 if ([\"null\", \"\"].indexOf(str) >= 0)\n                     return;\n                stringified(str);\n            });\n            ko.applyBindingsToNode(\n                element,\n                {\n                    value: stringified,\n                    valueUpdate: allBindings.get('valueUpdate'),\n                },\n                context,\n            );\n        }\n    };\n    var json_data = {\"formatted_vals\":[\"-1.0\",\"-0.9\",\"-0.8\",\"-0.7\",\"-0.6\",\"-0.5\",\"-0.4\",\"-0.3\",\"-0.2\",\"-0.1\",\"0.0\",\"0.1\",\"0.2\",\"0.3\",\"0.4\",\"0.5\",\"0.6\",\"0.7\",\"0.8\",\"0.9\",\"1.0\",\"1.1\",\"1.2\",\"1.3\",\"1.4\",\"1.5\",\"1.6\",\"1.7\",\"1.8\",\"1.9\",\"2.0\",\"2.1\",\"2.2\",\"2.3\",\"2.4\",\"2.5\",\"2.6\",\"2.7\",\"2.8\",\"2.9\",\"3.0\"],\"changes\":WebIO.getval({\"name\":\"changes\",\"scope\":\"scope-e99600a5-a05d-41f8-ac5c-05d4ba6089b3\",\"id\":\"ob_70\",\"type\":\"observable\"}),\"index\":WebIO.getval({\"name\":\"index\",\"scope\":\"scope-e99600a5-a05d-41f8-ac5c-05d4ba6089b3\",\"id\":\"ob_69\",\"type\":\"observable\"})};\n    var self = this;\n    function AppViewModel() {\n        for (var key in json_data) {\n            var el = json_data[key];\n            this[key] = Array.isArray(el) ? ko.observableArray(el) : ko.observable(el);\n        }\n        \n        [this[\"formatted_val\"]=ko.computed(    function(){\n        return this.formatted_vals()[parseInt(this.index())-(1)];\n    }\n,this)]\n        [this[\"changes\"].subscribe((function (val){!(this.valueFromJulia[\"changes\"]) ? (WebIO.setval({\"name\":\"changes\",\"scope\":\"scope-e99600a5-a05d-41f8-ac5c-05d4ba6089b3\",\"id\":\"ob_70\",\"type\":\"observable\"},val)) : undefined; return this.valueFromJulia[\"changes\"]=false}),self),this[\"index\"].subscribe((function (val){!(this.valueFromJulia[\"index\"]) ? (WebIO.setval({\"name\":\"index\",\"scope\":\"scope-e99600a5-a05d-41f8-ac5c-05d4ba6089b3\",\"id\":\"ob_69\",\"type\":\"observable\"},val)) : undefined; return this.valueFromJulia[\"index\"]=false}),self)]\n        \n    }\n    self.model = new AppViewModel();\n    self.valueFromJulia = {};\n    for (var key in json_data) {\n        self.valueFromJulia[key] = false;\n    }\n    ko.applyBindings(self.model, self.dom);\n}\n);\n    (WebIO.importBlock({\"data\":[{\"name\":\"knockout\",\"type\":\"js\",\"url\":\"/assetserver/400851c8b8cf7fc10948b385af7e3ef99cb76dbc-knockout.js\"},{\"name\":\"knockout_punches\",\"type\":\"js\",\"url\":\"/assetserver/318f1c0cec30819eed901ca48cd0d6e3c354c074-knockout_punches.js\"}],\"type\":\"async_block\"})).then((imports) => handler.apply(this, imports));\n}\n"
            ],
            "observables": {
             "changes": {
              "id": "ob_70",
              "sync": false,
              "value": 0
             },
             "index": {
              "id": "ob_69",
              "sync": true,
              "value": 21
             }
            },
            "systemjs_options": null
           },
           "nodeType": "Scope",
           "props": {},
           "type": "node"
          }
         ],
         "instanceArgs": {
          "namespace": "html",
          "tag": "div"
         },
         "nodeType": "DOM",
         "props": {
          "className": "field interact-widget"
         },
         "type": "node"
        },
        {
         "children": [
          {
           "children": [],
           "instanceArgs": {
            "id": "ob_76",
            "name": "obs-node"
           },
           "nodeType": "ObservableNode",
           "props": {},
           "type": "node"
          }
         ],
         "instanceArgs": {
          "handlers": {},
          "id": "scope-c57efbdd-8403-40e6-ab1a-a3f0682ab60f",
          "imports": {
           "data": [],
           "type": "async_block"
          },
          "mount_callbacks": [],
          "observables": {
           "obs-node": {
            "id": "ob_76",
            "sync": false,
            "value": {
             "children": [
              {
               "children": [],
               "instanceArgs": {
                "namespace": "html",
                "tag": "div"
               },
               "nodeType": "DOM",
               "props": {
                "setInnerHtml": "<?xml version=\"1.0\" encoding=\"utf-8\"?>\n<svg xmlns=\"http://www.w3.org/2000/svg\" xmlns:xlink=\"http://www.w3.org/1999/xlink\" width=\"600\" height=\"400\" viewBox=\"0 0 2400 1600\">\n<defs>\n  <clipPath id=\"clip0700\">\n    <rect x=\"0\" y=\"0\" width=\"2400\" height=\"1600\"/>\n  </clipPath>\n</defs>\n<polygon clip-path=\"url(#clip0700)\" points=\"\n0,1600 2400,1600 2400,0 0,0 \n  \" fill=\"#ffffff\" fill-rule=\"evenodd\" fill-opacity=\"1\"/>\n<defs>\n  <clipPath id=\"clip0701\">\n    <rect x=\"480\" y=\"0\" width=\"1681\" height=\"1600\"/>\n  </clipPath>\n</defs>\n<polygon clip-path=\"url(#clip0700)\" points=\"\n141.865,1487.47 2352.76,1487.47 2352.76,47.2441 141.865,47.2441 \n  \" fill=\"#ffffff\" fill-rule=\"evenodd\" fill-opacity=\"1\"/>\n<defs>\n  <clipPath id=\"clip0702\">\n    <rect x=\"141\" y=\"47\" width=\"2212\" height=\"1441\"/>\n  </clipPath>\n</defs>\n<polyline clip-path=\"url(#clip0702)\" style=\"stroke:#000000; stroke-width:2; stroke-opacity:0.1; fill:none\" points=\"\n  141.865,1487.47 141.865,47.2441 \n  \"/>\n<polyline clip-path=\"url(#clip0702)\" style=\"stroke:#000000; stroke-width:2; stroke-opacity:0.1; fill:none\" points=\"\n  694.587,1487.47 694.587,47.2441 \n  \"/>\n<polyline clip-path=\"url(#clip0702)\" style=\"stroke:#000000; stroke-width:2; stroke-opacity:0.1; fill:none\" points=\"\n  1247.31,1487.47 1247.31,47.2441 \n  \"/>\n<polyline clip-path=\"url(#clip0702)\" style=\"stroke:#000000; stroke-width:2; stroke-opacity:0.1; fill:none\" points=\"\n  1800.03,1487.47 1800.03,47.2441 \n  \"/>\n<polyline clip-path=\"url(#clip0702)\" style=\"stroke:#000000; stroke-width:2; stroke-opacity:0.1; fill:none\" points=\"\n  2352.76,1487.47 2352.76,47.2441 \n  \"/>\n<polyline clip-path=\"url(#clip0702)\" style=\"stroke:#000000; stroke-width:2; stroke-opacity:0.1; fill:none\" points=\"\n  141.865,1487.47 2352.76,1487.47 \n  \"/>\n<polyline clip-path=\"url(#clip0702)\" style=\"stroke:#000000; stroke-width:2; stroke-opacity:0.1; fill:none\" points=\"\n  141.865,1127.42 2352.76,1127.42 \n  \"/>\n<polyline clip-path=\"url(#clip0702)\" style=\"stroke:#000000; stroke-width:2; stroke-opacity:0.1; fill:none\" points=\"\n  141.865,767.359 2352.76,767.359 \n  \"/>\n<polyline clip-path=\"url(#clip0702)\" style=\"stroke:#000000; stroke-width:2; stroke-opacity:0.1; fill:none\" points=\"\n  141.865,407.302 2352.76,407.302 \n  \"/>\n<polyline clip-path=\"url(#clip0702)\" style=\"stroke:#000000; stroke-width:2; stroke-opacity:0.1; fill:none\" points=\"\n  141.865,47.2441 2352.76,47.2441 \n  \"/>\n<polyline clip-path=\"url(#clip0700)\" style=\"stroke:#000000; stroke-width:4; stroke-opacity:1; fill:none\" points=\"\n  141.865,1487.47 2352.76,1487.47 \n  \"/>\n<polyline clip-path=\"url(#clip0700)\" style=\"stroke:#000000; stroke-width:4; stroke-opacity:1; fill:none\" points=\"\n  141.865,1487.47 141.865,47.2441 \n  \"/>\n<polyline clip-path=\"url(#clip0700)\" style=\"stroke:#000000; stroke-width:4; stroke-opacity:1; fill:none\" points=\"\n  141.865,1487.47 141.865,1465.87 \n  \"/>\n<polyline clip-path=\"url(#clip0700)\" style=\"stroke:#000000; stroke-width:4; stroke-opacity:1; fill:none\" points=\"\n  694.587,1487.47 694.587,1465.87 \n  \"/>\n<polyline clip-path=\"url(#clip0700)\" style=\"stroke:#000000; stroke-width:4; stroke-opacity:1; fill:none\" points=\"\n  1247.31,1487.47 1247.31,1465.87 \n  \"/>\n<polyline clip-path=\"url(#clip0700)\" style=\"stroke:#000000; stroke-width:4; stroke-opacity:1; fill:none\" points=\"\n  1800.03,1487.47 1800.03,1465.87 \n  \"/>\n<polyline clip-path=\"url(#clip0700)\" style=\"stroke:#000000; stroke-width:4; stroke-opacity:1; fill:none\" points=\"\n  2352.76,1487.47 2352.76,1465.87 \n  \"/>\n<polyline clip-path=\"url(#clip0700)\" style=\"stroke:#000000; stroke-width:4; stroke-opacity:1; fill:none\" points=\"\n  141.865,1487.47 175.028,1487.47 \n  \"/>\n<polyline clip-path=\"url(#clip0700)\" style=\"stroke:#000000; stroke-width:4; stroke-opacity:1; fill:none\" points=\"\n  141.865,1127.42 175.028,1127.42 \n  \"/>\n<polyline clip-path=\"url(#clip0700)\" style=\"stroke:#000000; stroke-width:4; stroke-opacity:1; fill:none\" points=\"\n  141.865,767.359 175.028,767.359 \n  \"/>\n<polyline clip-path=\"url(#clip0700)\" style=\"stroke:#000000; stroke-width:4; stroke-opacity:1; fill:none\" points=\"\n  141.865,407.302 175.028,407.302 \n  \"/>\n<polyline clip-path=\"url(#clip0700)\" style=\"stroke:#000000; stroke-width:4; stroke-opacity:1; fill:none\" points=\"\n  141.865,47.2441 175.028,47.2441 \n  \"/>\n<g clip-path=\"url(#clip0700)\">\n<text style=\"fill:#000000; fill-opacity:1; font-family:Arial,Helvetica Neue,Helvetica,sans-serif; font-size:48px; text-anchor:middle;\" transform=\"rotate(0, 141.865, 1541.47)\" x=\"141.865\" y=\"1541.47\">-2</text>\n</g>\n<g clip-path=\"url(#clip0700)\">\n<text style=\"fill:#000000; fill-opacity:1; font-family:Arial,Helvetica Neue,Helvetica,sans-serif; font-size:48px; text-anchor:middle;\" transform=\"rotate(0, 694.587, 1541.47)\" x=\"694.587\" y=\"1541.47\">0</text>\n</g>\n<g clip-path=\"url(#clip0700)\">\n<text style=\"fill:#000000; fill-opacity:1; font-family:Arial,Helvetica Neue,Helvetica,sans-serif; font-size:48px; text-anchor:middle;\" transform=\"rotate(0, 1247.31, 1541.47)\" x=\"1247.31\" y=\"1541.47\">2</text>\n</g>\n<g clip-path=\"url(#clip0700)\">\n<text style=\"fill:#000000; fill-opacity:1; font-family:Arial,Helvetica Neue,Helvetica,sans-serif; font-size:48px; text-anchor:middle;\" transform=\"rotate(0, 1800.03, 1541.47)\" x=\"1800.03\" y=\"1541.47\">4</text>\n</g>\n<g clip-path=\"url(#clip0700)\">\n<text style=\"fill:#000000; fill-opacity:1; font-family:Arial,Helvetica Neue,Helvetica,sans-serif; font-size:48px; text-anchor:middle;\" transform=\"rotate(0, 2352.76, 1541.47)\" x=\"2352.76\" y=\"1541.47\">6</text>\n</g>\n<g clip-path=\"url(#clip0700)\">\n<text style=\"fill:#000000; fill-opacity:1; font-family:Arial,Helvetica Neue,Helvetica,sans-serif; font-size:48px; text-anchor:end;\" transform=\"rotate(0, 117.865, 1504.97)\" x=\"117.865\" y=\"1504.97\">-3</text>\n</g>\n<g clip-path=\"url(#clip0700)\">\n<text style=\"fill:#000000; fill-opacity:1; font-family:Arial,Helvetica Neue,Helvetica,sans-serif; font-size:48px; text-anchor:end;\" transform=\"rotate(0, 117.865, 1144.92)\" x=\"117.865\" y=\"1144.92\">-2</text>\n</g>\n<g clip-path=\"url(#clip0700)\">\n<text style=\"fill:#000000; fill-opacity:1; font-family:Arial,Helvetica Neue,Helvetica,sans-serif; font-size:48px; text-anchor:end;\" transform=\"rotate(0, 117.865, 784.859)\" x=\"117.865\" y=\"784.859\">-1</text>\n</g>\n<g clip-path=\"url(#clip0700)\">\n<text style=\"fill:#000000; fill-opacity:1; font-family:Arial,Helvetica Neue,Helvetica,sans-serif; font-size:48px; text-anchor:end;\" transform=\"rotate(0, 117.865, 424.802)\" x=\"117.865\" y=\"424.802\">0</text>\n</g>\n<g clip-path=\"url(#clip0700)\">\n<text style=\"fill:#000000; fill-opacity:1; font-family:Arial,Helvetica Neue,Helvetica,sans-serif; font-size:48px; text-anchor:end;\" transform=\"rotate(0, 117.865, 64.7441)\" x=\"117.865\" y=\"64.7441\">1</text>\n</g>\n<polyline clip-path=\"url(#clip0702)\" style=\"stroke:#3b0963; stroke-width:4; stroke-opacity:1; fill:none\" points=\"\n  280.868,1487.47 253.633,1437.81 228.783,1388.15 218.102,1365.09 205.635,1338.49 184.075,1288.82 164.397,1239.16 146.472,1189.5 141.865,1175.66 \n  \"/>\n<polyline clip-path=\"url(#clip0702)\" style=\"stroke:#550f6d; stroke-width:4; stroke-opacity:1; fill:none\" points=\"\n  591.429,1487.47 554.739,1437.81 523.053,1389.32 522.3,1388.15 492.462,1338.49 465.91,1288.82 446.815,1248.88 442.088,1239.16 419.892,1189.5 400.089,1139.83 \n  382.463,1090.17 370.577,1052.67 366.557,1040.51 351.739,990.843 338.619,941.18 327.062,891.517 316.948,841.854 308.168,792.191 300.632,742.528 294.34,693.473 \n  294.258,692.865 288.689,643.202 284.252,593.538 280.9,543.875 278.6,494.212 277.33,444.549 294.34,443.535 370.577,438.829 446.815,433.987 523.053,428.96 \n  599.29,423.661 675.528,417.921 751.766,411.358 828.003,402.915 873.502,394.886 880.264,345.223 895.283,295.56 904.241,274.38 917.549,245.897 948.306,196.233 \n  980.479,154.79 989.109,146.57 1045.25,96.9072 1056.72,87.4202 1128.21,47.2441 \n  \"/>\n<polyline clip-path=\"url(#clip0702)\" style=\"stroke:#3b0963; stroke-width:4; stroke-opacity:1; fill:none\" points=\"\n  884.32,47.2441 852.027,96.9072 828.003,142.696 826.09,146.57 804.776,196.233 788.511,245.897 777.013,295.56 769.95,345.223 766.999,394.886 751.766,396.714 \n  675.528,403.838 599.29,409.775 523.053,415.083 446.815,420.012 370.577,424.692 294.34,429.196 218.102,433.568 141.865,437.837 \n  \"/>\n<polyline clip-path=\"url(#clip0702)\" style=\"stroke:#0a0622; stroke-width:4; stroke-opacity:1; fill:none\" points=\"\n  141.865,408.209 218.102,404.433 294.34,400.519 370.577,396.42 397.218,394.886 398.514,345.223 401.554,295.56 406.372,245.897 413.023,196.233 421.576,146.57 \n  432.112,96.9072 444.723,47.2441 \n  \"/>\n<polyline clip-path=\"url(#clip0702)\" style=\"stroke:#1f0b46; stroke-width:4; stroke-opacity:1; fill:none\" points=\"\n  682.301,47.2441 675.528,65.2425 663.482,96.9072 647.576,146.57 634.837,196.233 625.071,245.897 618.092,295.56 613.738,345.223 611.895,394.886 599.29,395.888 \n  523.053,401.205 446.815,406.038 370.577,410.556 294.34,414.857 218.102,419.001 141.865,423.023 \n  \"/>\n<polyline clip-path=\"url(#clip0702)\" style=\"stroke:#f88c0a; stroke-width:4; stroke-opacity:1; fill:none\" points=\"\n  1138.51,841.854 1156.44,891.517 1207.89,941.18 1209.19,942.155 1238.24,941.18 1285.43,939.986 1333.47,891.517 1352.59,841.854 1354.09,792.191 1339.5,742.528 \n  1295.96,692.865 1285.43,684.162 1209.19,681.961 1194.87,692.865 1150.71,742.528 \n  \"/>\n<polyline clip-path=\"url(#clip0702)\" style=\"stroke:#fbaa0f; stroke-width:4; stroke-opacity:1; fill:none\" points=\"\n  1179.11,742.528 1209.19,712.73 1285.43,714.451 1312.42,742.528 1336.65,792.191 1333.36,841.854 1302.07,891.517 1285.43,908.304 1209.19,910.261 1189.57,891.517 \n  1158.39,841.854 \n  \"/>\n<polyline clip-path=\"url(#clip0702)\" style=\"stroke:#f8c933; stroke-width:4; stroke-opacity:1; fill:none\" points=\"\n  1178.26,841.854 1209.19,881.206 1285.43,879.624 1314.13,841.854 1319.21,792.191 1285.43,742.616 1281.22,742.528 1209.19,740.866 1207.51,742.528 \n  \"/>\n<polyline clip-path=\"url(#clip0702)\" style=\"stroke:#f2e763; stroke-width:4; stroke-opacity:1; fill:none\" points=\"\n  1198.13,841.854 1209.19,855.922 1285.43,854.328 1294.91,841.854 1301.76,792.191 1285.43,768.216 1209.19,766.604 1191.21,792.191 1198.13,841.854 \n  \"/>\n<polyline clip-path=\"url(#clip0702)\" style=\"stroke:#6e186e; stroke-width:4; stroke-opacity:1; fill:none\" points=\"\n  889.293,1487.47 828.744,1437.81 828.003,1437.14 779.967,1388.15 751.766,1354.85 738.754,1338.49 703.28,1288.82 675.528,1243.28 673.029,1239.16 645.706,1189.5 \n  622.245,1139.83 602.19,1090.17 599.29,1081.98 583.751,1040.51 567.699,990.843 553.992,941.18 542.353,891.517 532.53,841.854 524.3,792.191 523.053,783.094 \n  517.046,742.528 511.093,692.865 506.386,643.202 502.782,593.538 500.157,543.875 498.409,494.212 497.464,444.549 523.053,442.837 599.29,437.548 675.528,432.004 \n  751.766,426.002 828.003,418.971 904.241,408.384 938.728,394.886 962.692,345.223 980.479,315.549 1000.38,295.56 1051.44,245.897 1056.72,240.952 1132.95,196.617 \n  1134.2,196.233 1209.19,171.613 1285.43,163.988 1361.67,172.058 1436.76,196.233 1437.9,196.615 1514.14,238.46 1524.1,245.897 1583.34,295.56 1590.38,302.321 \n  1628.89,345.223 1665.25,394.886 1666.62,397.039 1695.83,444.549 1720.69,494.212 1740.52,543.875 1742.85,550.962 1757.78,593.538 1771.53,643.202 1781.9,692.865 \n  1789.19,742.528 1793.65,792.191 1795.44,841.854 1794.61,891.517 1791.15,941.18 1784.97,990.843 1775.92,1040.51 1763.78,1090.17 1748.3,1139.83 1742.85,1154.55 \n  1730.2,1189.5 1708.36,1239.16 1681.86,1288.82 1666.62,1313.75 1650.46,1338.49 1613.01,1388.15 1590.38,1414.59 1567.26,1437.81 1514.14,1485.19 1510.88,1487.47 \n  \n  \"/>\n<polyline clip-path=\"url(#clip0702)\" style=\"stroke:#550f6d; stroke-width:4; stroke-opacity:1; fill:none\" points=\"\n  1756.23,1487.47 1788.3,1437.81 1816.02,1388.15 1819.09,1382.04 1840.65,1338.49 1861.96,1288.82 1880.07,1239.16 1895.22,1189.5 1895.33,1189.07 1908.79,1139.83 \n  1919.83,1090.17 1928.47,1040.51 1934.85,990.843 1939.04,941.18 1941.12,891.517 1941.11,841.854 1939,792.191 1934.75,742.528 1928.26,692.865 1919.41,643.202 \n  1908.01,593.538 1895.33,548.845 1894.01,543.875 1878.33,494.212 1859.36,444.549 1836.71,394.886 1819.09,361.581 1810.44,345.223 1780.36,295.56 1744.65,245.897 \n  1742.85,243.612 1702.71,196.233 1666.62,159.594 1651.86,146.57 1590.38,98.3255 1588.1,96.9072 1514.14,54.4348 1495.84,47.2441 \n  \"/>\n<polyline clip-path=\"url(#clip0702)\" style=\"stroke:#3b0963; stroke-width:4; stroke-opacity:1; fill:none\" points=\"\n  1831.5,47.2441 1873.52,96.9072 1895.33,125.848 1910.26,146.57 1942.71,196.233 1970.97,245.897 1971.57,247.055 1996.79,295.56 2019.37,345.223 2038.96,394.886 \n  2047.81,420.435 2056.46,444.549 2072.11,494.212 2085.45,543.875 2096.66,593.538 2105.87,643.202 2113.22,692.865 2118.8,742.528 2122.69,792.191 2124.04,821.796 \n  2125.04,841.854 2125.78,891.517 2124.78,941.18 2124.04,954.825 2122.23,990.843 2118.11,1040.51 2112.33,1090.17 2104.82,1139.83 2095.51,1189.5 2084.29,1239.16 \n  2071.07,1288.82 2055.75,1338.49 2047.81,1361.37 2038.68,1388.15 2019.65,1437.81 1998.02,1487.47 \n  \"/>\n<polyline clip-path=\"url(#clip0702)\" style=\"stroke:#1f0b46; stroke-width:4; stroke-opacity:1; fill:none\" points=\"\n  2271.45,1487.47 2276.52,1470.93 2286.87,1437.81 2300.85,1388.15 2313.2,1338.49 2324.01,1288.82 2333.33,1239.16 2341.22,1189.5 2347.72,1139.83 2352.76,1091.37 \n  \n  \"/>\n<polyline clip-path=\"url(#clip0702)\" style=\"stroke:#1f0b46; stroke-width:4; stroke-opacity:1; fill:none\" points=\"\n  2352.76,737.078 2348.24,692.865 2341.8,643.202 2333.94,593.538 2324.58,543.875 2313.66,494.212 2301.07,444.549 2286.72,394.886 2276.52,363.386 2270.84,345.223 \n  2253.59,295.56 2234.21,245.897 2212.55,196.233 2200.28,170.545 2188.93,146.57 2163.16,96.9072 2134.44,47.2441 \n  \"/>\n<polyline clip-path=\"url(#clip0702)\" style=\"stroke:#88216a; stroke-width:4; stroke-opacity:1; fill:none\" points=\"\n  1553.79,444.549 1587.8,494.212 1590.38,498.765 1615.49,543.875 1636.96,593.538 1653.01,643.202 1664.5,692.865 1666.62,706.253 1673.22,742.528 1678.45,792.191 \n  1680.02,841.854 1678.02,891.517 1672.41,941.18 1666.62,972.296 1663.52,990.843 1651.66,1040.51 1635.4,1090.17 1614.12,1139.83 1590.38,1184.04 1587.3,1189.5 \n  1554.43,1239.16 1514.14,1287.76 1513.07,1288.82 1457.43,1338.49 1437.9,1353.96 1375.88,1388.15 1361.67,1395.64 1285.43,1418.8 1209.19,1425.11 1132.95,1415.79 \n  1056.72,1389.76 1053.69,1388.15 980.479,1346.02 970.699,1338.49 913.316,1288.82 904.241,1279.73 868.613,1239.16 832.892,1189.5 828.003,1181.55 802.623,1139.83 \n  777.712,1090.17 757.688,1040.51 751.766,1022.55 740.371,990.843 725.886,941.18 714.546,891.517 705.96,841.854 699.785,792.191 695.726,742.528 693.51,692.865 \n  692.862,643.202 693.452,593.538 694.848,543.875 696.476,494.212 697.686,444.549 751.766,440.647 828.003,435.027 904.241,428.769 980.479,406.762 1005.74,394.886 \n  1056.72,355.797 1077.7,345.223 1132.95,315.122 1202.39,295.56 1209.19,293.496 1285.43,289.571 1316.63,295.56 1361.67,304.212 1437.9,339.372 1446.33,345.223 \n  1508.93,394.886 1514.14,399.764 1553.79,444.549 \n  \"/>\n<polyline clip-path=\"url(#clip0702)\" style=\"stroke:#a12b61; stroke-width:4; stroke-opacity:1; fill:none\" points=\"\n  1469.58,494.212 1508.01,543.875 1514.14,554.051 1536.95,593.538 1558.3,643.202 1573.06,692.865 1582.44,742.528 1587.36,792.191 1588.35,841.854 1585.5,891.517 \n  1578.52,941.18 1566.76,990.843 1549.36,1040.51 1525.34,1090.17 1514.14,1109.08 1494.02,1139.83 1452.2,1189.5 1437.9,1204.07 1390.01,1239.16 1361.67,1257.75 \n  1285.43,1284.58 1224.83,1288.82 1209.19,1290.03 1202.93,1288.82 1132.95,1275.55 1058.69,1239.16 1056.72,1238.09 997.025,1189.5 980.479,1172.85 952.625,1139.83 \n  919.435,1090.17 904.241,1060.51 893.756,1040.51 872.928,990.843 857.644,941.18 847.061,891.517 840.533,841.854 837.648,792.191 838.282,742.528 842.662,692.865 \n  851.501,643.202 866.363,593.538 890.701,543.875 904.241,524.027 945.144,494.212 980.479,484.911 1056.72,450.254 1067.89,444.549 1132.95,412.784 1199.95,394.886 \n  1209.19,392.289 1285.43,391.825 1296.48,394.886 1361.67,413.367 1412.59,444.549 1437.9,462.703 1469.58,494.212 \n  \"/>\n<polyline clip-path=\"url(#clip0702)\" style=\"stroke:#ba3655; stroke-width:4; stroke-opacity:1; fill:none\" points=\"\n  1408.87,543.875 1437.9,575.663 1451.24,593.538 1479.96,643.202 1498.72,692.865 1509.84,742.528 1514.14,782.265 1515.51,792.191 1516.29,841.854 1514.14,862.424 \n  1511.71,891.517 1502.18,941.18 1485.71,990.843 1460.53,1040.51 1437.9,1073.76 1424.12,1090.17 1370.03,1139.83 1361.67,1146.48 1285.43,1179.8 1209.19,1184.37 \n  1132.95,1162.68 1097.4,1139.83 1056.72,1108.14 1039.81,1090.17 1002.67,1040.51 980.479,996.887 977.356,990.843 957.628,941.18 944.97,891.517 938.377,841.854 \n  937.352,792.191 942.078,742.528 953.7,692.865 975.001,643.202 980.479,634.576 1005.5,593.538 1056.72,545.712 1058.96,543.875 1132.95,497.794 1143.99,494.212 \n  1209.19,473.623 1285.43,475.207 1334.51,494.212 1361.67,505.478 1408.87,543.875 \n  \"/>\n<polyline clip-path=\"url(#clip0702)\" style=\"stroke:#d04544; stroke-width:4; stroke-opacity:1; fill:none\" points=\"\n  1285.43,544.849 1252.38,543.875 1209.19,542.406 1205.25,543.875 1132.95,573.39 1106.81,593.538 1062.31,643.202 1056.72,653.174 1033.69,692.865 1017.21,742.528 \n  1010.1,792.191 1010.48,841.854 1018.14,891.517 1034.21,941.18 1056.72,984.174 1060.29,990.843 1099.54,1040.51 1132.95,1069.88 1180.32,1090.17 1209.19,1101.47 \n  1285.43,1097.25 1299.46,1090.17 1361.67,1055.57 1376.48,1040.51 1415.09,990.843 1437.9,941.789 1438.18,941.18 1454.08,891.517 1461.54,841.854 1461.32,792.191 \n  1453.28,742.528 1437.9,696.948 1436.72,692.865 1412.59,643.202 1371.14,593.538 1361.67,584.511 1285.43,544.849 \n  \"/>\n<polyline clip-path=\"url(#clip0702)\" style=\"stroke:#e25832; stroke-width:4; stroke-opacity:1; fill:none\" points=\"\n  1209.19,598.364 1132.98,643.202 1132.95,643.227 1093.64,692.865 1073.48,742.528 1065.48,792.191 1065.87,841.854 1074.72,891.517 1095.5,941.18 1132.95,990.188 \n  1133.75,990.843 1209.19,1035.72 1285.43,1032.65 1346.96,990.843 1361.67,976.894 1386.42,941.18 1407.8,891.517 1417.35,841.854 1417.68,792.191 1408.83,742.528 \n  1388.02,692.865 1361.67,655.474 1349.1,643.202 1285.43,600.703 1209.19,598.364 \n  \"/>\n<polyline clip-path=\"url(#clip0702)\" style=\"stroke:#f0711e; stroke-width:4; stroke-opacity:1; fill:none\" points=\"\n  1146.14,692.865 1132.95,713.693 1116.74,742.528 1103.82,792.191 1104.86,841.854 1119.83,891.517 1132.95,914.513 1151.86,941.18 1209.19,984.17 1285.43,981.672 \n  1334.88,941.18 1361.67,899.65 1365.94,891.517 1380.9,841.854 1381.9,792.191 1368.9,742.528 1361.67,728.467 1341,692.865 1285.43,646.945 1209.19,644.866 \n  1146.14,692.865 \n  \"/>\n<polyline clip-path=\"url(#clip0702)\" style=\"stroke:#f88c0a; stroke-width:4; stroke-opacity:1; fill:none\" points=\"\n  1137.27,792.191 1138.51,841.854 \n  \"/>\n<polyline clip-path=\"url(#clip0702)\" style=\"stroke:#fbaa0f; stroke-width:4; stroke-opacity:1; fill:none\" points=\"\n  1155.25,792.191 1158.39,841.854 \n  \"/>\n<polyline clip-path=\"url(#clip0702)\" style=\"stroke:#f8c933; stroke-width:4; stroke-opacity:1; fill:none\" points=\"\n  1173.23,792.191 1178.26,841.854 \n  \"/>\n</svg>\n"
               },
               "type": "node"
              }
             ],
             "instanceArgs": {
              "namespace": "html",
              "tag": "div"
             },
             "nodeType": "DOM",
             "props": {
              "className": "interact-flex-row interact-widget"
             },
             "type": "node"
            }
           }
          },
          "systemjs_options": null
         },
         "nodeType": "Scope",
         "props": {},
         "type": "node"
        }
       ],
       "instanceArgs": {
        "namespace": "html",
        "tag": "div"
       },
       "nodeType": "DOM",
       "props": {},
       "type": "node"
      },
      "text/html": [
       "<div\n",
       "    class=\"webio-mountpoint\"\n",
       "    data-webio-mountpoint=\"5254913908420544407\"\n",
       ">\n",
       "    <script>\n",
       "    if (window.require && require.defined && require.defined(\"nbextensions/webio/main\")) {\n",
       "        console.log(\"Jupyter WebIO extension detected, not mounting.\");\n",
       "    } else if (window.WebIO) {\n",
       "        WebIO.mount(\n",
       "            document.querySelector('[data-webio-mountpoint=\"5254913908420544407\"]'),\n",
       "            {\"props\":{},\"nodeType\":\"DOM\",\"type\":\"node\",\"instanceArgs\":{\"namespace\":\"html\",\"tag\":\"div\"},\"children\":[{\"props\":{\"className\":\"field interact-widget\"},\"nodeType\":\"DOM\",\"type\":\"node\",\"instanceArgs\":{\"namespace\":\"html\",\"tag\":\"div\"},\"children\":[{\"props\":{},\"nodeType\":\"Scope\",\"type\":\"node\",\"instanceArgs\":{\"imports\":{\"data\":[{\"name\":\"knockout\",\"type\":\"js\",\"url\":\"\\/assetserver\\/400851c8b8cf7fc10948b385af7e3ef99cb76dbc-knockout.js\"},{\"name\":\"knockout_punches\",\"type\":\"js\",\"url\":\"\\/assetserver\\/318f1c0cec30819eed901ca48cd0d6e3c354c074-knockout_punches.js\"},{\"name\":null,\"type\":\"js\",\"url\":\"\\/assetserver\\/d13c5edb54a12e669bfbc85930e20ef091aaf304-all.js\"},{\"name\":null,\"type\":\"css\",\"url\":\"\\/assetserver\\/0fe71aa5b2bfaee5384c38af6eda97e785db17a3-style.css\"},{\"name\":null,\"type\":\"css\",\"url\":\"\\/assetserver\\/1b90debdb28a966540748729e11344b804f7e6f9-bulma_confined.min.css\"}],\"type\":\"async_block\"},\"id\":\"scope-eb94b833-3ff4-45b2-8bdd-03209d90b0b7\",\"handlers\":{\"changes\":[\"(function (val){return (val!=this.model[\\\"changes\\\"]()) ? (this.valueFromJulia[\\\"changes\\\"]=true, this.model[\\\"changes\\\"](val)) : undefined})\"],\"index\":[\"(function (val){return (val!=this.model[\\\"index\\\"]()) ? (this.valueFromJulia[\\\"index\\\"]=true, this.model[\\\"index\\\"](val)) : undefined})\"]},\"systemjs_options\":null,\"mount_callbacks\":[\"function () {\\n    var handler = (function (ko, koPunches) {\\n    ko.punches.enableAll();\\n    ko.bindingHandlers.numericValue = {\\n        init: function(element, valueAccessor, allBindings, data, context) {\\n            var stringified = ko.observable(ko.unwrap(valueAccessor()));\\n            stringified.subscribe(function(value) {\\n                var val = parseFloat(value);\\n                if (!isNaN(val)) {\\n                    valueAccessor()(val);\\n                }\\n            });\\n            valueAccessor().subscribe(function(value) {\\n                var str = JSON.stringify(value);\\n                if ((str == \\\"0\\\") && ([\\\"-0\\\", \\\"-0.\\\"].indexOf(stringified()) >= 0))\\n                     return;\\n                 if ([\\\"null\\\", \\\"\\\"].indexOf(str) >= 0)\\n                     return;\\n                stringified(str);\\n            });\\n            ko.applyBindingsToNode(\\n                element,\\n                {\\n                    value: stringified,\\n                    valueUpdate: allBindings.get('valueUpdate'),\\n                },\\n                context,\\n            );\\n        }\\n    };\\n    var json_data = {\\\"formatted_vals\\\":[\\\"-1.0\\\",\\\"-0.9\\\",\\\"-0.8\\\",\\\"-0.7\\\",\\\"-0.6\\\",\\\"-0.5\\\",\\\"-0.4\\\",\\\"-0.3\\\",\\\"-0.2\\\",\\\"-0.1\\\",\\\"0.0\\\",\\\"0.1\\\",\\\"0.2\\\",\\\"0.3\\\",\\\"0.4\\\",\\\"0.5\\\",\\\"0.6\\\",\\\"0.7\\\",\\\"0.8\\\",\\\"0.9\\\",\\\"1.0\\\",\\\"1.1\\\",\\\"1.2\\\",\\\"1.3\\\",\\\"1.4\\\",\\\"1.5\\\",\\\"1.6\\\",\\\"1.7\\\",\\\"1.8\\\",\\\"1.9\\\",\\\"2.0\\\",\\\"2.1\\\",\\\"2.2\\\",\\\"2.3\\\",\\\"2.4\\\",\\\"2.5\\\",\\\"2.6\\\",\\\"2.7\\\",\\\"2.8\\\",\\\"2.9\\\",\\\"3.0\\\",\\\"3.1\\\",\\\"3.2\\\",\\\"3.3\\\",\\\"3.4\\\",\\\"3.5\\\",\\\"3.6\\\",\\\"3.7\\\",\\\"3.8\\\",\\\"3.9\\\",\\\"4.0\\\",\\\"4.1\\\",\\\"4.2\\\",\\\"4.3\\\",\\\"4.4\\\",\\\"4.5\\\",\\\"4.6\\\",\\\"4.7\\\",\\\"4.8\\\",\\\"4.9\\\",\\\"5.0\\\",\\\"5.1\\\",\\\"5.2\\\",\\\"5.3\\\",\\\"5.4\\\",\\\"5.5\\\",\\\"5.6\\\",\\\"5.7\\\",\\\"5.8\\\",\\\"5.9\\\",\\\"6.0\\\"],\\\"changes\\\":WebIO.getval({\\\"name\\\":\\\"changes\\\",\\\"scope\\\":\\\"scope-eb94b833-3ff4-45b2-8bdd-03209d90b0b7\\\",\\\"id\\\":\\\"ob_67\\\",\\\"type\\\":\\\"observable\\\"}),\\\"index\\\":WebIO.getval({\\\"name\\\":\\\"index\\\",\\\"scope\\\":\\\"scope-eb94b833-3ff4-45b2-8bdd-03209d90b0b7\\\",\\\"id\\\":\\\"ob_66\\\",\\\"type\\\":\\\"observable\\\"})};\\n    var self = this;\\n    function AppViewModel() {\\n        for (var key in json_data) {\\n            var el = json_data[key];\\n            this[key] = Array.isArray(el) ? ko.observableArray(el) : ko.observable(el);\\n        }\\n        \\n        [this[\\\"formatted_val\\\"]=ko.computed(    function(){\\n        return this.formatted_vals()[parseInt(this.index())-(1)];\\n    }\\n,this)]\\n        [this[\\\"changes\\\"].subscribe((function (val){!(this.valueFromJulia[\\\"changes\\\"]) ? (WebIO.setval({\\\"name\\\":\\\"changes\\\",\\\"scope\\\":\\\"scope-eb94b833-3ff4-45b2-8bdd-03209d90b0b7\\\",\\\"id\\\":\\\"ob_67\\\",\\\"type\\\":\\\"observable\\\"},val)) : undefined; return this.valueFromJulia[\\\"changes\\\"]=false}),self),this[\\\"index\\\"].subscribe((function (val){!(this.valueFromJulia[\\\"index\\\"]) ? (WebIO.setval({\\\"name\\\":\\\"index\\\",\\\"scope\\\":\\\"scope-eb94b833-3ff4-45b2-8bdd-03209d90b0b7\\\",\\\"id\\\":\\\"ob_66\\\",\\\"type\\\":\\\"observable\\\"},val)) : undefined; return this.valueFromJulia[\\\"index\\\"]=false}),self)]\\n        \\n    }\\n    self.model = new AppViewModel();\\n    self.valueFromJulia = {};\\n    for (var key in json_data) {\\n        self.valueFromJulia[key] = false;\\n    }\\n    ko.applyBindings(self.model, self.dom);\\n}\\n);\\n    (WebIO.importBlock({\\\"data\\\":[{\\\"name\\\":\\\"knockout\\\",\\\"type\\\":\\\"js\\\",\\\"url\\\":\\\"\\/assetserver\\/400851c8b8cf7fc10948b385af7e3ef99cb76dbc-knockout.js\\\"},{\\\"name\\\":\\\"knockout_punches\\\",\\\"type\\\":\\\"js\\\",\\\"url\\\":\\\"\\/assetserver\\/318f1c0cec30819eed901ca48cd0d6e3c354c074-knockout_punches.js\\\"}],\\\"type\\\":\\\"async_block\\\"})).then((imports) => handler.apply(this, imports));\\n}\\n\"],\"observables\":{\"changes\":{\"sync\":false,\"id\":\"ob_67\",\"value\":0},\"index\":{\"sync\":true,\"id\":\"ob_66\",\"value\":36}}},\"children\":[{\"props\":{\"className\":\"interact-flex-row interact-widget\"},\"nodeType\":\"DOM\",\"type\":\"node\",\"instanceArgs\":{\"namespace\":\"html\",\"tag\":\"div\"},\"children\":[{\"props\":{\"className\":\"interact-flex-row-left\"},\"nodeType\":\"DOM\",\"type\":\"node\",\"instanceArgs\":{\"namespace\":\"html\",\"tag\":\"div\"},\"children\":[{\"props\":{\"className\":\"interact \",\"style\":{\"padding\":\"5px 10px 0px 10px\"}},\"nodeType\":\"DOM\",\"type\":\"node\",\"instanceArgs\":{\"namespace\":\"html\",\"tag\":\"label\"},\"children\":[\"msq\"]}]},{\"props\":{\"className\":\"interact-flex-row-center\"},\"nodeType\":\"DOM\",\"type\":\"node\",\"instanceArgs\":{\"namespace\":\"html\",\"tag\":\"div\"},\"children\":[{\"props\":{\"max\":71,\"min\":1,\"attributes\":{\"type\":\"range\",\"data-bind\":\"numericValue: index, valueUpdate: 'input', event: {change: function (){this.changes(this.changes()+1)}}\",\"orient\":\"horizontal\"},\"step\":1,\"className\":\"slider slider is-fullwidth\",\"style\":{}},\"nodeType\":\"DOM\",\"type\":\"node\",\"instanceArgs\":{\"namespace\":\"html\",\"tag\":\"input\"},\"children\":[]}]},{\"props\":{\"className\":\"interact-flex-row-right\"},\"nodeType\":\"DOM\",\"type\":\"node\",\"instanceArgs\":{\"namespace\":\"html\",\"tag\":\"div\"},\"children\":[{\"props\":{\"attributes\":{\"data-bind\":\"text: formatted_val\"}},\"nodeType\":\"DOM\",\"type\":\"node\",\"instanceArgs\":{\"namespace\":\"html\",\"tag\":\"p\"},\"children\":[]}]}]}]}]},{\"props\":{\"className\":\"field interact-widget\"},\"nodeType\":\"DOM\",\"type\":\"node\",\"instanceArgs\":{\"namespace\":\"html\",\"tag\":\"div\"},\"children\":[{\"props\":{},\"nodeType\":\"Scope\",\"type\":\"node\",\"instanceArgs\":{\"imports\":{\"data\":[{\"name\":\"knockout\",\"type\":\"js\",\"url\":\"\\/assetserver\\/400851c8b8cf7fc10948b385af7e3ef99cb76dbc-knockout.js\"},{\"name\":\"knockout_punches\",\"type\":\"js\",\"url\":\"\\/assetserver\\/318f1c0cec30819eed901ca48cd0d6e3c354c074-knockout_punches.js\"},{\"name\":null,\"type\":\"js\",\"url\":\"\\/assetserver\\/d13c5edb54a12e669bfbc85930e20ef091aaf304-all.js\"},{\"name\":null,\"type\":\"css\",\"url\":\"\\/assetserver\\/0fe71aa5b2bfaee5384c38af6eda97e785db17a3-style.css\"},{\"name\":null,\"type\":\"css\",\"url\":\"\\/assetserver\\/1b90debdb28a966540748729e11344b804f7e6f9-bulma_confined.min.css\"}],\"type\":\"async_block\"},\"id\":\"scope-e99600a5-a05d-41f8-ac5c-05d4ba6089b3\",\"handlers\":{\"changes\":[\"(function (val){return (val!=this.model[\\\"changes\\\"]()) ? (this.valueFromJulia[\\\"changes\\\"]=true, this.model[\\\"changes\\\"](val)) : undefined})\"],\"index\":[\"(function (val){return (val!=this.model[\\\"index\\\"]()) ? (this.valueFromJulia[\\\"index\\\"]=true, this.model[\\\"index\\\"](val)) : undefined})\"]},\"systemjs_options\":null,\"mount_callbacks\":[\"function () {\\n    var handler = (function (ko, koPunches) {\\n    ko.punches.enableAll();\\n    ko.bindingHandlers.numericValue = {\\n        init: function(element, valueAccessor, allBindings, data, context) {\\n            var stringified = ko.observable(ko.unwrap(valueAccessor()));\\n            stringified.subscribe(function(value) {\\n                var val = parseFloat(value);\\n                if (!isNaN(val)) {\\n                    valueAccessor()(val);\\n                }\\n            });\\n            valueAccessor().subscribe(function(value) {\\n                var str = JSON.stringify(value);\\n                if ((str == \\\"0\\\") && ([\\\"-0\\\", \\\"-0.\\\"].indexOf(stringified()) >= 0))\\n                     return;\\n                 if ([\\\"null\\\", \\\"\\\"].indexOf(str) >= 0)\\n                     return;\\n                stringified(str);\\n            });\\n            ko.applyBindingsToNode(\\n                element,\\n                {\\n                    value: stringified,\\n                    valueUpdate: allBindings.get('valueUpdate'),\\n                },\\n                context,\\n            );\\n        }\\n    };\\n    var json_data = {\\\"formatted_vals\\\":[\\\"-1.0\\\",\\\"-0.9\\\",\\\"-0.8\\\",\\\"-0.7\\\",\\\"-0.6\\\",\\\"-0.5\\\",\\\"-0.4\\\",\\\"-0.3\\\",\\\"-0.2\\\",\\\"-0.1\\\",\\\"0.0\\\",\\\"0.1\\\",\\\"0.2\\\",\\\"0.3\\\",\\\"0.4\\\",\\\"0.5\\\",\\\"0.6\\\",\\\"0.7\\\",\\\"0.8\\\",\\\"0.9\\\",\\\"1.0\\\",\\\"1.1\\\",\\\"1.2\\\",\\\"1.3\\\",\\\"1.4\\\",\\\"1.5\\\",\\\"1.6\\\",\\\"1.7\\\",\\\"1.8\\\",\\\"1.9\\\",\\\"2.0\\\",\\\"2.1\\\",\\\"2.2\\\",\\\"2.3\\\",\\\"2.4\\\",\\\"2.5\\\",\\\"2.6\\\",\\\"2.7\\\",\\\"2.8\\\",\\\"2.9\\\",\\\"3.0\\\"],\\\"changes\\\":WebIO.getval({\\\"name\\\":\\\"changes\\\",\\\"scope\\\":\\\"scope-e99600a5-a05d-41f8-ac5c-05d4ba6089b3\\\",\\\"id\\\":\\\"ob_70\\\",\\\"type\\\":\\\"observable\\\"}),\\\"index\\\":WebIO.getval({\\\"name\\\":\\\"index\\\",\\\"scope\\\":\\\"scope-e99600a5-a05d-41f8-ac5c-05d4ba6089b3\\\",\\\"id\\\":\\\"ob_69\\\",\\\"type\\\":\\\"observable\\\"})};\\n    var self = this;\\n    function AppViewModel() {\\n        for (var key in json_data) {\\n            var el = json_data[key];\\n            this[key] = Array.isArray(el) ? ko.observableArray(el) : ko.observable(el);\\n        }\\n        \\n        [this[\\\"formatted_val\\\"]=ko.computed(    function(){\\n        return this.formatted_vals()[parseInt(this.index())-(1)];\\n    }\\n,this)]\\n        [this[\\\"changes\\\"].subscribe((function (val){!(this.valueFromJulia[\\\"changes\\\"]) ? (WebIO.setval({\\\"name\\\":\\\"changes\\\",\\\"scope\\\":\\\"scope-e99600a5-a05d-41f8-ac5c-05d4ba6089b3\\\",\\\"id\\\":\\\"ob_70\\\",\\\"type\\\":\\\"observable\\\"},val)) : undefined; return this.valueFromJulia[\\\"changes\\\"]=false}),self),this[\\\"index\\\"].subscribe((function (val){!(this.valueFromJulia[\\\"index\\\"]) ? (WebIO.setval({\\\"name\\\":\\\"index\\\",\\\"scope\\\":\\\"scope-e99600a5-a05d-41f8-ac5c-05d4ba6089b3\\\",\\\"id\\\":\\\"ob_69\\\",\\\"type\\\":\\\"observable\\\"},val)) : undefined; return this.valueFromJulia[\\\"index\\\"]=false}),self)]\\n        \\n    }\\n    self.model = new AppViewModel();\\n    self.valueFromJulia = {};\\n    for (var key in json_data) {\\n        self.valueFromJulia[key] = false;\\n    }\\n    ko.applyBindings(self.model, self.dom);\\n}\\n);\\n    (WebIO.importBlock({\\\"data\\\":[{\\\"name\\\":\\\"knockout\\\",\\\"type\\\":\\\"js\\\",\\\"url\\\":\\\"\\/assetserver\\/400851c8b8cf7fc10948b385af7e3ef99cb76dbc-knockout.js\\\"},{\\\"name\\\":\\\"knockout_punches\\\",\\\"type\\\":\\\"js\\\",\\\"url\\\":\\\"\\/assetserver\\/318f1c0cec30819eed901ca48cd0d6e3c354c074-knockout_punches.js\\\"}],\\\"type\\\":\\\"async_block\\\"})).then((imports) => handler.apply(this, imports));\\n}\\n\"],\"observables\":{\"changes\":{\"sync\":false,\"id\":\"ob_70\",\"value\":0},\"index\":{\"sync\":true,\"id\":\"ob_69\",\"value\":21}}},\"children\":[{\"props\":{\"className\":\"interact-flex-row interact-widget\"},\"nodeType\":\"DOM\",\"type\":\"node\",\"instanceArgs\":{\"namespace\":\"html\",\"tag\":\"div\"},\"children\":[{\"props\":{\"className\":\"interact-flex-row-left\"},\"nodeType\":\"DOM\",\"type\":\"node\",\"instanceArgs\":{\"namespace\":\"html\",\"tag\":\"div\"},\"children\":[{\"props\":{\"className\":\"interact \",\"style\":{\"padding\":\"5px 10px 0px 10px\"}},\"nodeType\":\"DOM\",\"type\":\"node\",\"instanceArgs\":{\"namespace\":\"html\",\"tag\":\"label\"},\"children\":[\"gsq\"]}]},{\"props\":{\"className\":\"interact-flex-row-center\"},\"nodeType\":\"DOM\",\"type\":\"node\",\"instanceArgs\":{\"namespace\":\"html\",\"tag\":\"div\"},\"children\":[{\"props\":{\"max\":41,\"min\":1,\"attributes\":{\"type\":\"range\",\"data-bind\":\"numericValue: index, valueUpdate: 'input', event: {change: function (){this.changes(this.changes()+1)}}\",\"orient\":\"horizontal\"},\"step\":1,\"className\":\"slider slider is-fullwidth\",\"style\":{}},\"nodeType\":\"DOM\",\"type\":\"node\",\"instanceArgs\":{\"namespace\":\"html\",\"tag\":\"input\"},\"children\":[]}]},{\"props\":{\"className\":\"interact-flex-row-right\"},\"nodeType\":\"DOM\",\"type\":\"node\",\"instanceArgs\":{\"namespace\":\"html\",\"tag\":\"div\"},\"children\":[{\"props\":{\"attributes\":{\"data-bind\":\"text: formatted_val\"}},\"nodeType\":\"DOM\",\"type\":\"node\",\"instanceArgs\":{\"namespace\":\"html\",\"tag\":\"p\"},\"children\":[]}]}]}]}]},{\"props\":{},\"nodeType\":\"Scope\",\"type\":\"node\",\"instanceArgs\":{\"imports\":{\"data\":[],\"type\":\"async_block\"},\"id\":\"scope-7af70a35-39bd-4afc-87c1-5e35ebbb6e71\",\"handlers\":{},\"systemjs_options\":null,\"mount_callbacks\":[],\"observables\":{\"obs-node\":{\"sync\":false,\"id\":\"ob_74\",\"value\":{\"props\":{\"className\":\"interact-flex-row interact-widget\"},\"nodeType\":\"DOM\",\"type\":\"node\",\"instanceArgs\":{\"namespace\":\"html\",\"tag\":\"div\"},\"children\":[{\"props\":{\"setInnerHtml\":\"<?xml version=\\\"1.0\\\" encoding=\\\"utf-8\\\"?>\\n<svg xmlns=\\\"http:\\/\\/www.w3.org\\/2000\\/svg\\\" xmlns:xlink=\\\"http:\\/\\/www.w3.org\\/1999\\/xlink\\\" width=\\\"600\\\" height=\\\"400\\\" viewBox=\\\"0 0 2400 1600\\\">\\n<defs>\\n  <clipPath id=\\\"clip0300\\\">\\n    <rect x=\\\"0\\\" y=\\\"0\\\" width=\\\"2400\\\" height=\\\"1600\\\"\\/>\\n  <\\/clipPath>\\n<\\/defs>\\n<polygon clip-path=\\\"url(#clip0300)\\\" points=\\\"\\n0,1600 2400,1600 2400,0 0,0 \\n  \\\" fill=\\\"#ffffff\\\" fill-rule=\\\"evenodd\\\" fill-opacity=\\\"1\\\"\\/>\\n<defs>\\n  <clipPath id=\\\"clip0301\\\">\\n    <rect x=\\\"480\\\" y=\\\"0\\\" width=\\\"1681\\\" height=\\\"1600\\\"\\/>\\n  <\\/clipPath>\\n<\\/defs>\\n<polygon clip-path=\\\"url(#clip0300)\\\" points=\\\"\\n141.865,1487.47 2352.76,1487.47 2352.76,47.2441 141.865,47.2441 \\n  \\\" fill=\\\"#ffffff\\\" fill-rule=\\\"evenodd\\\" fill-opacity=\\\"1\\\"\\/>\\n<defs>\\n  <clipPath id=\\\"clip0302\\\">\\n    <rect x=\\\"141\\\" y=\\\"47\\\" width=\\\"2212\\\" height=\\\"1441\\\"\\/>\\n  <\\/clipPath>\\n<\\/defs>\\n<polyline clip-path=\\\"url(#clip0302)\\\" style=\\\"stroke:#000000; stroke-width:2; stroke-opacity:0.1; fill:none\\\" points=\\\"\\n  141.865,1487.47 141.865,47.2441 \\n  \\\"\\/>\\n<polyline clip-path=\\\"url(#clip0302)\\\" style=\\\"stroke:#000000; stroke-width:2; stroke-opacity:0.1; fill:none\\\" points=\\\"\\n  694.587,1487.47 694.587,47.2441 \\n  \\\"\\/>\\n<polyline clip-path=\\\"url(#clip0302)\\\" style=\\\"stroke:#000000; stroke-width:2; stroke-opacity:0.1; fill:none\\\" points=\\\"\\n  1247.31,1487.47 1247.31,47.2441 \\n  \\\"\\/>\\n<polyline clip-path=\\\"url(#clip0302)\\\" style=\\\"stroke:#000000; stroke-width:2; stroke-opacity:0.1; fill:none\\\" points=\\\"\\n  1800.03,1487.47 1800.03,47.2441 \\n  \\\"\\/>\\n<polyline clip-path=\\\"url(#clip0302)\\\" style=\\\"stroke:#000000; stroke-width:2; stroke-opacity:0.1; fill:none\\\" points=\\\"\\n  2352.76,1487.47 2352.76,47.2441 \\n  \\\"\\/>\\n<polyline clip-path=\\\"url(#clip0302)\\\" style=\\\"stroke:#000000; stroke-width:2; stroke-opacity:0.1; fill:none\\\" points=\\\"\\n  141.865,1487.47 2352.76,1487.47 \\n  \\\"\\/>\\n<polyline clip-path=\\\"url(#clip0302)\\\" style=\\\"stroke:#000000; stroke-width:2; stroke-opacity:0.1; fill:none\\\" points=\\\"\\n  141.865,1127.42 2352.76,1127.42 \\n  \\\"\\/>\\n<polyline clip-path=\\\"url(#clip0302)\\\" style=\\\"stroke:#000000; stroke-width:2; stroke-opacity:0.1; fill:none\\\" points=\\\"\\n  141.865,767.359 2352.76,767.359 \\n  \\\"\\/>\\n<polyline clip-path=\\\"url(#clip0302)\\\" style=\\\"stroke:#000000; stroke-width:2; stroke-opacity:0.1; fill:none\\\" points=\\\"\\n  141.865,407.302 2352.76,407.302 \\n  \\\"\\/>\\n<polyline clip-path=\\\"url(#clip0302)\\\" style=\\\"stroke:#000000; stroke-width:2; stroke-opacity:0.1; fill:none\\\" points=\\\"\\n  141.865,47.2441 2352.76,47.2441 \\n  \\\"\\/>\\n<polyline clip-path=\\\"url(#clip0300)\\\" style=\\\"stroke:#000000; stroke-width:4; stroke-opacity:1; fill:none\\\" points=\\\"\\n  141.865,1487.47 2352.76,1487.47 \\n  \\\"\\/>\\n<polyline clip-path=\\\"url(#clip0300)\\\" style=\\\"stroke:#000000; stroke-width:4; stroke-opacity:1; fill:none\\\" points=\\\"\\n  141.865,1487.47 141.865,47.2441 \\n  \\\"\\/>\\n<polyline clip-path=\\\"url(#clip0300)\\\" style=\\\"stroke:#000000; stroke-width:4; stroke-opacity:1; fill:none\\\" points=\\\"\\n  141.865,1487.47 141.865,1465.87 \\n  \\\"\\/>\\n<polyline clip-path=\\\"url(#clip0300)\\\" style=\\\"stroke:#000000; stroke-width:4; stroke-opacity:1; fill:none\\\" points=\\\"\\n  694.587,1487.47 694.587,1465.87 \\n  \\\"\\/>\\n<polyline clip-path=\\\"url(#clip0300)\\\" style=\\\"stroke:#000000; stroke-width:4; stroke-opacity:1; fill:none\\\" points=\\\"\\n  1247.31,1487.47 1247.31,1465.87 \\n  \\\"\\/>\\n<polyline clip-path=\\\"url(#clip0300)\\\" style=\\\"stroke:#000000; stroke-width:4; stroke-opacity:1; fill:none\\\" points=\\\"\\n  1800.03,1487.47 1800.03,1465.87 \\n  \\\"\\/>\\n<polyline clip-path=\\\"url(#clip0300)\\\" style=\\\"stroke:#000000; stroke-width:4; stroke-opacity:1; fill:none\\\" points=\\\"\\n  2352.76,1487.47 2352.76,1465.87 \\n  \\\"\\/>\\n<polyline clip-path=\\\"url(#clip0300)\\\" style=\\\"stroke:#000000; stroke-width:4; stroke-opacity:1; fill:none\\\" points=\\\"\\n  141.865,1487.47 175.028,1487.47 \\n  \\\"\\/>\\n<polyline clip-path=\\\"url(#clip0300)\\\" style=\\\"stroke:#000000; stroke-width:4; stroke-opacity:1; fill:none\\\" points=\\\"\\n  141.865,1127.42 175.028,1127.42 \\n  \\\"\\/>\\n<polyline clip-path=\\\"url(#clip0300)\\\" style=\\\"stroke:#000000; stroke-width:4; stroke-opacity:1; fill:none\\\" points=\\\"\\n  141.865,767.359 175.028,767.359 \\n  \\\"\\/>\\n<polyline clip-path=\\\"url(#clip0300)\\\" style=\\\"stroke:#000000; stroke-width:4; stroke-opacity:1; fill:none\\\" points=\\\"\\n  141.865,407.302 175.028,407.302 \\n  \\\"\\/>\\n<polyline clip-path=\\\"url(#clip0300)\\\" style=\\\"stroke:#000000; stroke-width:4; stroke-opacity:1; fill:none\\\" points=\\\"\\n  141.865,47.2441 175.028,47.2441 \\n  \\\"\\/>\\n<g clip-path=\\\"url(#clip0300)\\\">\\n<text style=\\\"fill:#000000; fill-opacity:1; font-family:Arial,Helvetica Neue,Helvetica,sans-serif; font-size:48px; text-anchor:middle;\\\" transform=\\\"rotate(0, 141.865, 1541.47)\\\" x=\\\"141.865\\\" y=\\\"1541.47\\\">-2<\\/text>\\n<\\/g>\\n<g clip-path=\\\"url(#clip0300)\\\">\\n<text style=\\\"fill:#000000; fill-opacity:1; font-family:Arial,Helvetica Neue,Helvetica,sans-serif; font-size:48px; text-anchor:middle;\\\" transform=\\\"rotate(0, 694.587, 1541.47)\\\" x=\\\"694.587\\\" y=\\\"1541.47\\\">0<\\/text>\\n<\\/g>\\n<g clip-path=\\\"url(#clip0300)\\\">\\n<text style=\\\"fill:#000000; fill-opacity:1; font-family:Arial,Helvetica Neue,Helvetica,sans-serif; font-size:48px; text-anchor:middle;\\\" transform=\\\"rotate(0, 1247.31, 1541.47)\\\" x=\\\"1247.31\\\" y=\\\"1541.47\\\">2<\\/text>\\n<\\/g>\\n<g clip-path=\\\"url(#clip0300)\\\">\\n<text style=\\\"fill:#000000; fill-opacity:1; font-family:Arial,Helvetica Neue,Helvetica,sans-serif; font-size:48px; text-anchor:middle;\\\" transform=\\\"rotate(0, 1800.03, 1541.47)\\\" x=\\\"1800.03\\\" y=\\\"1541.47\\\">4<\\/text>\\n<\\/g>\\n<g clip-path=\\\"url(#clip0300)\\\">\\n<text style=\\\"fill:#000000; fill-opacity:1; font-family:Arial,Helvetica Neue,Helvetica,sans-serif; font-size:48px; text-anchor:middle;\\\" transform=\\\"rotate(0, 2352.76, 1541.47)\\\" x=\\\"2352.76\\\" y=\\\"1541.47\\\">6<\\/text>\\n<\\/g>\\n<g clip-path=\\\"url(#clip0300)\\\">\\n<text style=\\\"fill:#000000; fill-opacity:1; font-family:Arial,Helvetica Neue,Helvetica,sans-serif; font-size:48px; text-anchor:end;\\\" transform=\\\"rotate(0, 117.865, 1504.97)\\\" x=\\\"117.865\\\" y=\\\"1504.97\\\">-3<\\/text>\\n<\\/g>\\n<g clip-path=\\\"url(#clip0300)\\\">\\n<text style=\\\"fill:#000000; fill-opacity:1; font-family:Arial,Helvetica Neue,Helvetica,sans-serif; font-size:48px; text-anchor:end;\\\" transform=\\\"rotate(0, 117.865, 1144.92)\\\" x=\\\"117.865\\\" y=\\\"1144.92\\\">-2<\\/text>\\n<\\/g>\\n<g clip-path=\\\"url(#clip0300)\\\">\\n<text style=\\\"fill:#000000; fill-opacity:1; font-family:Arial,Helvetica Neue,Helvetica,sans-serif; font-size:48px; text-anchor:end;\\\" transform=\\\"rotate(0, 117.865, 784.859)\\\" x=\\\"117.865\\\" y=\\\"784.859\\\">-1<\\/text>\\n<\\/g>\\n<g clip-path=\\\"url(#clip0300)\\\">\\n<text style=\\\"fill:#000000; fill-opacity:1; font-family:Arial,Helvetica Neue,Helvetica,sans-serif; font-size:48px; text-anchor:end;\\\" transform=\\\"rotate(0, 117.865, 424.802)\\\" x=\\\"117.865\\\" y=\\\"424.802\\\">0<\\/text>\\n<\\/g>\\n<g clip-path=\\\"url(#clip0300)\\\">\\n<text style=\\\"fill:#000000; fill-opacity:1; font-family:Arial,Helvetica Neue,Helvetica,sans-serif; font-size:48px; text-anchor:end;\\\" transform=\\\"rotate(0, 117.865, 64.7441)\\\" x=\\\"117.865\\\" y=\\\"64.7441\\\">1<\\/text>\\n<\\/g>\\n<polyline clip-path=\\\"url(#clip0302)\\\" style=\\\"stroke:#3b0963; stroke-width:4; stroke-opacity:1; fill:none\\\" points=\\\"\\n  280.868,1487.47 253.633,1437.81 228.783,1388.15 218.102,1365.09 205.635,1338.49 184.075,1288.82 164.397,1239.16 146.472,1189.5 141.865,1175.66 \\n  \\\"\\/>\\n<polyline clip-path=\\\"url(#clip0302)\\\" style=\\\"stroke:#550f6d; stroke-width:4; stroke-opacity:1; fill:none\\\" points=\\\"\\n  591.429,1487.47 554.739,1437.81 523.053,1389.32 522.3,1388.15 492.462,1338.49 465.91,1288.82 446.815,1248.88 442.088,1239.16 419.892,1189.5 400.089,1139.83 \\n  382.463,1090.17 370.577,1052.67 366.557,1040.51 351.739,990.843 338.619,941.18 327.062,891.517 316.948,841.854 308.168,792.191 300.632,742.528 294.34,693.473 \\n  294.258,692.865 288.689,643.202 284.252,593.538 280.9,543.875 278.6,494.212 277.33,444.549 294.34,443.535 370.577,438.829 446.815,433.987 523.053,428.96 \\n  599.29,423.661 675.528,417.921 751.766,411.358 828.003,402.915 873.502,394.886 880.264,345.223 895.283,295.56 904.241,274.38 917.549,245.897 948.306,196.233 \\n  980.479,154.79 989.109,146.57 1045.25,96.9072 1056.72,87.4202 1128.21,47.2441 \\n  \\\"\\/>\\n<polyline clip-path=\\\"url(#clip0302)\\\" style=\\\"stroke:#3b0963; stroke-width:4; stroke-opacity:1; fill:none\\\" points=\\\"\\n  884.32,47.2441 852.027,96.9072 828.003,142.696 826.09,146.57 804.776,196.233 788.511,245.897 777.013,295.56 769.95,345.223 766.999,394.886 751.766,396.714 \\n  675.528,403.838 599.29,409.775 523.053,415.083 446.815,420.012 370.577,424.692 294.34,429.196 218.102,433.568 141.865,437.837 \\n  \\\"\\/>\\n<polyline clip-path=\\\"url(#clip0302)\\\" style=\\\"stroke:#0a0622; stroke-width:4; stroke-opacity:1; fill:none\\\" points=\\\"\\n  141.865,408.209 218.102,404.433 294.34,400.519 370.577,396.42 397.218,394.886 398.514,345.223 401.554,295.56 406.372,245.897 413.023,196.233 421.576,146.57 \\n  432.112,96.9072 444.723,47.2441 \\n  \\\"\\/>\\n<polyline clip-path=\\\"url(#clip0302)\\\" style=\\\"stroke:#1f0b46; stroke-width:4; stroke-opacity:1; fill:none\\\" points=\\\"\\n  682.301,47.2441 675.528,65.2425 663.482,96.9072 647.576,146.57 634.837,196.233 625.071,245.897 618.092,295.56 613.738,345.223 611.895,394.886 599.29,395.888 \\n  523.053,401.205 446.815,406.038 370.577,410.556 294.34,414.857 218.102,419.001 141.865,423.023 \\n  \\\"\\/>\\n<polyline clip-path=\\\"url(#clip0302)\\\" style=\\\"stroke:#f88c0a; stroke-width:4; stroke-opacity:1; fill:none\\\" points=\\\"\\n  1138.51,841.854 1156.44,891.517 1207.89,941.18 1209.19,942.155 1238.24,941.18 1285.43,939.986 1333.47,891.517 1352.59,841.854 1354.09,792.191 1339.5,742.528 \\n  1295.96,692.865 1285.43,684.162 1209.19,681.961 1194.87,692.865 1150.71,742.528 \\n  \\\"\\/>\\n<polyline clip-path=\\\"url(#clip0302)\\\" style=\\\"stroke:#fbaa0f; stroke-width:4; stroke-opacity:1; fill:none\\\" points=\\\"\\n  1179.11,742.528 1209.19,712.73 1285.43,714.451 1312.42,742.528 1336.65,792.191 1333.36,841.854 1302.07,891.517 1285.43,908.304 1209.19,910.261 1189.57,891.517 \\n  1158.39,841.854 \\n  \\\"\\/>\\n<polyline clip-path=\\\"url(#clip0302)\\\" style=\\\"stroke:#f8c933; stroke-width:4; stroke-opacity:1; fill:none\\\" points=\\\"\\n  1178.26,841.854 1209.19,881.206 1285.43,879.624 1314.13,841.854 1319.21,792.191 1285.43,742.616 1281.22,742.528 1209.19,740.866 1207.51,742.528 \\n  \\\"\\/>\\n<polyline clip-path=\\\"url(#clip0302)\\\" style=\\\"stroke:#f2e763; stroke-width:4; stroke-opacity:1; fill:none\\\" points=\\\"\\n  1198.13,841.854 1209.19,855.922 1285.43,854.328 1294.91,841.854 1301.76,792.191 1285.43,768.216 1209.19,766.604 1191.21,792.191 1198.13,841.854 \\n  \\\"\\/>\\n<polyline clip-path=\\\"url(#clip0302)\\\" style=\\\"stroke:#6e186e; stroke-width:4; stroke-opacity:1; fill:none\\\" points=\\\"\\n  889.293,1487.47 828.744,1437.81 828.003,1437.14 779.967,1388.15 751.766,1354.85 738.754,1338.49 703.28,1288.82 675.528,1243.28 673.029,1239.16 645.706,1189.5 \\n  622.245,1139.83 602.19,1090.17 599.29,1081.98 583.751,1040.51 567.699,990.843 553.992,941.18 542.353,891.517 532.53,841.854 524.3,792.191 523.053,783.094 \\n  517.046,742.528 511.093,692.865 506.386,643.202 502.782,593.538 500.157,543.875 498.409,494.212 497.464,444.549 523.053,442.837 599.29,437.548 675.528,432.004 \\n  751.766,426.002 828.003,418.971 904.241,408.384 938.728,394.886 962.692,345.223 980.479,315.549 1000.38,295.56 1051.44,245.897 1056.72,240.952 1132.95,196.617 \\n  1134.2,196.233 1209.19,171.613 1285.43,163.988 1361.67,172.058 1436.76,196.233 1437.9,196.615 1514.14,238.46 1524.1,245.897 1583.34,295.56 1590.38,302.321 \\n  1628.89,345.223 1665.25,394.886 1666.62,397.039 1695.83,444.549 1720.69,494.212 1740.52,543.875 1742.85,550.962 1757.78,593.538 1771.53,643.202 1781.9,692.865 \\n  1789.19,742.528 1793.65,792.191 1795.44,841.854 1794.61,891.517 1791.15,941.18 1784.97,990.843 1775.92,1040.51 1763.78,1090.17 1748.3,1139.83 1742.85,1154.55 \\n  1730.2,1189.5 1708.36,1239.16 1681.86,1288.82 1666.62,1313.75 1650.46,1338.49 1613.01,1388.15 1590.38,1414.59 1567.26,1437.81 1514.14,1485.19 1510.88,1487.47 \\n  \\n  \\\"\\/>\\n<polyline clip-path=\\\"url(#clip0302)\\\" style=\\\"stroke:#550f6d; stroke-width:4; stroke-opacity:1; fill:none\\\" points=\\\"\\n  1756.23,1487.47 1788.3,1437.81 1816.02,1388.15 1819.09,1382.04 1840.65,1338.49 1861.96,1288.82 1880.07,1239.16 1895.22,1189.5 1895.33,1189.07 1908.79,1139.83 \\n  1919.83,1090.17 1928.47,1040.51 1934.85,990.843 1939.04,941.18 1941.12,891.517 1941.11,841.854 1939,792.191 1934.75,742.528 1928.26,692.865 1919.41,643.202 \\n  1908.01,593.538 1895.33,548.845 1894.01,543.875 1878.33,494.212 1859.36,444.549 1836.71,394.886 1819.09,361.581 1810.44,345.223 1780.36,295.56 1744.65,245.897 \\n  1742.85,243.612 1702.71,196.233 1666.62,159.594 1651.86,146.57 1590.38,98.3255 1588.1,96.9072 1514.14,54.4348 1495.84,47.2441 \\n  \\\"\\/>\\n<polyline clip-path=\\\"url(#clip0302)\\\" style=\\\"stroke:#3b0963; stroke-width:4; stroke-opacity:1; fill:none\\\" points=\\\"\\n  1831.5,47.2441 1873.52,96.9072 1895.33,125.848 1910.26,146.57 1942.71,196.233 1970.97,245.897 1971.57,247.055 1996.79,295.56 2019.37,345.223 2038.96,394.886 \\n  2047.81,420.435 2056.46,444.549 2072.11,494.212 2085.45,543.875 2096.66,593.538 2105.87,643.202 2113.22,692.865 2118.8,742.528 2122.69,792.191 2124.04,821.796 \\n  2125.04,841.854 2125.78,891.517 2124.78,941.18 2124.04,954.825 2122.23,990.843 2118.11,1040.51 2112.33,1090.17 2104.82,1139.83 2095.51,1189.5 2084.29,1239.16 \\n  2071.07,1288.82 2055.75,1338.49 2047.81,1361.37 2038.68,1388.15 2019.65,1437.81 1998.02,1487.47 \\n  \\\"\\/>\\n<polyline clip-path=\\\"url(#clip0302)\\\" style=\\\"stroke:#1f0b46; stroke-width:4; stroke-opacity:1; fill:none\\\" points=\\\"\\n  2271.45,1487.47 2276.52,1470.93 2286.87,1437.81 2300.85,1388.15 2313.2,1338.49 2324.01,1288.82 2333.33,1239.16 2341.22,1189.5 2347.72,1139.83 2352.76,1091.37 \\n  \\n  \\\"\\/>\\n<polyline clip-path=\\\"url(#clip0302)\\\" style=\\\"stroke:#1f0b46; stroke-width:4; stroke-opacity:1; fill:none\\\" points=\\\"\\n  2352.76,737.078 2348.24,692.865 2341.8,643.202 2333.94,593.538 2324.58,543.875 2313.66,494.212 2301.07,444.549 2286.72,394.886 2276.52,363.386 2270.84,345.223 \\n  2253.59,295.56 2234.21,245.897 2212.55,196.233 2200.28,170.545 2188.93,146.57 2163.16,96.9072 2134.44,47.2441 \\n  \\\"\\/>\\n<polyline clip-path=\\\"url(#clip0302)\\\" style=\\\"stroke:#88216a; stroke-width:4; stroke-opacity:1; fill:none\\\" points=\\\"\\n  1553.79,444.549 1587.8,494.212 1590.38,498.765 1615.49,543.875 1636.96,593.538 1653.01,643.202 1664.5,692.865 1666.62,706.253 1673.22,742.528 1678.45,792.191 \\n  1680.02,841.854 1678.02,891.517 1672.41,941.18 1666.62,972.296 1663.52,990.843 1651.66,1040.51 1635.4,1090.17 1614.12,1139.83 1590.38,1184.04 1587.3,1189.5 \\n  1554.43,1239.16 1514.14,1287.76 1513.07,1288.82 1457.43,1338.49 1437.9,1353.96 1375.88,1388.15 1361.67,1395.64 1285.43,1418.8 1209.19,1425.11 1132.95,1415.79 \\n  1056.72,1389.76 1053.69,1388.15 980.479,1346.02 970.699,1338.49 913.316,1288.82 904.241,1279.73 868.613,1239.16 832.892,1189.5 828.003,1181.55 802.623,1139.83 \\n  777.712,1090.17 757.688,1040.51 751.766,1022.55 740.371,990.843 725.886,941.18 714.546,891.517 705.96,841.854 699.785,792.191 695.726,742.528 693.51,692.865 \\n  692.862,643.202 693.452,593.538 694.848,543.875 696.476,494.212 697.686,444.549 751.766,440.647 828.003,435.027 904.241,428.769 980.479,406.762 1005.74,394.886 \\n  1056.72,355.797 1077.7,345.223 1132.95,315.122 1202.39,295.56 1209.19,293.496 1285.43,289.571 1316.63,295.56 1361.67,304.212 1437.9,339.372 1446.33,345.223 \\n  1508.93,394.886 1514.14,399.764 1553.79,444.549 \\n  \\\"\\/>\\n<polyline clip-path=\\\"url(#clip0302)\\\" style=\\\"stroke:#a12b61; stroke-width:4; stroke-opacity:1; fill:none\\\" points=\\\"\\n  1469.58,494.212 1508.01,543.875 1514.14,554.051 1536.95,593.538 1558.3,643.202 1573.06,692.865 1582.44,742.528 1587.36,792.191 1588.35,841.854 1585.5,891.517 \\n  1578.52,941.18 1566.76,990.843 1549.36,1040.51 1525.34,1090.17 1514.14,1109.08 1494.02,1139.83 1452.2,1189.5 1437.9,1204.07 1390.01,1239.16 1361.67,1257.75 \\n  1285.43,1284.58 1224.83,1288.82 1209.19,1290.03 1202.93,1288.82 1132.95,1275.55 1058.69,1239.16 1056.72,1238.09 997.025,1189.5 980.479,1172.85 952.625,1139.83 \\n  919.435,1090.17 904.241,1060.51 893.756,1040.51 872.928,990.843 857.644,941.18 847.061,891.517 840.533,841.854 837.648,792.191 838.282,742.528 842.662,692.865 \\n  851.501,643.202 866.363,593.538 890.701,543.875 904.241,524.027 945.144,494.212 980.479,484.911 1056.72,450.254 1067.89,444.549 1132.95,412.784 1199.95,394.886 \\n  1209.19,392.289 1285.43,391.825 1296.48,394.886 1361.67,413.367 1412.59,444.549 1437.9,462.703 1469.58,494.212 \\n  \\\"\\/>\\n<polyline clip-path=\\\"url(#clip0302)\\\" style=\\\"stroke:#ba3655; stroke-width:4; stroke-opacity:1; fill:none\\\" points=\\\"\\n  1408.87,543.875 1437.9,575.663 1451.24,593.538 1479.96,643.202 1498.72,692.865 1509.84,742.528 1514.14,782.265 1515.51,792.191 1516.29,841.854 1514.14,862.424 \\n  1511.71,891.517 1502.18,941.18 1485.71,990.843 1460.53,1040.51 1437.9,1073.76 1424.12,1090.17 1370.03,1139.83 1361.67,1146.48 1285.43,1179.8 1209.19,1184.37 \\n  1132.95,1162.68 1097.4,1139.83 1056.72,1108.14 1039.81,1090.17 1002.67,1040.51 980.479,996.887 977.356,990.843 957.628,941.18 944.97,891.517 938.377,841.854 \\n  937.352,792.191 942.078,742.528 953.7,692.865 975.001,643.202 980.479,634.576 1005.5,593.538 1056.72,545.712 1058.96,543.875 1132.95,497.794 1143.99,494.212 \\n  1209.19,473.623 1285.43,475.207 1334.51,494.212 1361.67,505.478 1408.87,543.875 \\n  \\\"\\/>\\n<polyline clip-path=\\\"url(#clip0302)\\\" style=\\\"stroke:#d04544; stroke-width:4; stroke-opacity:1; fill:none\\\" points=\\\"\\n  1285.43,544.849 1252.38,543.875 1209.19,542.406 1205.25,543.875 1132.95,573.39 1106.81,593.538 1062.31,643.202 1056.72,653.174 1033.69,692.865 1017.21,742.528 \\n  1010.1,792.191 1010.48,841.854 1018.14,891.517 1034.21,941.18 1056.72,984.174 1060.29,990.843 1099.54,1040.51 1132.95,1069.88 1180.32,1090.17 1209.19,1101.47 \\n  1285.43,1097.25 1299.46,1090.17 1361.67,1055.57 1376.48,1040.51 1415.09,990.843 1437.9,941.789 1438.18,941.18 1454.08,891.517 1461.54,841.854 1461.32,792.191 \\n  1453.28,742.528 1437.9,696.948 1436.72,692.865 1412.59,643.202 1371.14,593.538 1361.67,584.511 1285.43,544.849 \\n  \\\"\\/>\\n<polyline clip-path=\\\"url(#clip0302)\\\" style=\\\"stroke:#e25832; stroke-width:4; stroke-opacity:1; fill:none\\\" points=\\\"\\n  1209.19,598.364 1132.98,643.202 1132.95,643.227 1093.64,692.865 1073.48,742.528 1065.48,792.191 1065.87,841.854 1074.72,891.517 1095.5,941.18 1132.95,990.188 \\n  1133.75,990.843 1209.19,1035.72 1285.43,1032.65 1346.96,990.843 1361.67,976.894 1386.42,941.18 1407.8,891.517 1417.35,841.854 1417.68,792.191 1408.83,742.528 \\n  1388.02,692.865 1361.67,655.474 1349.1,643.202 1285.43,600.703 1209.19,598.364 \\n  \\\"\\/>\\n<polyline clip-path=\\\"url(#clip0302)\\\" style=\\\"stroke:#f0711e; stroke-width:4; stroke-opacity:1; fill:none\\\" points=\\\"\\n  1146.14,692.865 1132.95,713.693 1116.74,742.528 1103.82,792.191 1104.86,841.854 1119.83,891.517 1132.95,914.513 1151.86,941.18 1209.19,984.17 1285.43,981.672 \\n  1334.88,941.18 1361.67,899.65 1365.94,891.517 1380.9,841.854 1381.9,792.191 1368.9,742.528 1361.67,728.467 1341,692.865 1285.43,646.945 1209.19,644.866 \\n  1146.14,692.865 \\n  \\\"\\/>\\n<polyline clip-path=\\\"url(#clip0302)\\\" style=\\\"stroke:#f88c0a; stroke-width:4; stroke-opacity:1; fill:none\\\" points=\\\"\\n  1137.27,792.191 1138.51,841.854 \\n  \\\"\\/>\\n<polyline clip-path=\\\"url(#clip0302)\\\" style=\\\"stroke:#fbaa0f; stroke-width:4; stroke-opacity:1; fill:none\\\" points=\\\"\\n  1155.25,792.191 1158.39,841.854 \\n  \\\"\\/>\\n<polyline clip-path=\\\"url(#clip0302)\\\" style=\\\"stroke:#f8c933; stroke-width:4; stroke-opacity:1; fill:none\\\" points=\\\"\\n  1173.23,792.191 1178.26,841.854 \\n  \\\"\\/>\\n<\\/svg>\\n\"},\"nodeType\":\"DOM\",\"type\":\"node\",\"instanceArgs\":{\"namespace\":\"html\",\"tag\":\"div\"},\"children\":[]}]}}}},\"children\":[{\"props\":{},\"nodeType\":\"ObservableNode\",\"type\":\"node\",\"instanceArgs\":{\"id\":\"ob_74\",\"name\":\"obs-node\"},\"children\":[]}]}]},\n",
       "            window,\n",
       "        );\n",
       "    } else {\n",
       "        document\n",
       "            .querySelector('[data-webio-mountpoint=\"5254913908420544407\"]')\n",
       "            .innerHTML = '<strong>WebIO not detected.</strong>';\n",
       "    }\n",
       "    </script>\n",
       "</div>\n"
      ],
      "text/plain": [
       "Node{WebIO.DOM}(WebIO.DOM(:html, :div), Any[Node{DOM}(DOM(:html, :div), Any[Scope(\"scope-eb94b833-3ff4-45b2-8bdd-03209d90b0b7\", Node{DOM}(DOM(:html, :div), Any[Node{DOM}(DOM(:html, :div), Any[Node{DOM}(DOM(:html, :label), Any[\"msq\"], Dict{Symbol,Any}(:className=>\"interact \",:style=>Dict{Any,Any}(:padding=>\"5px 10px 0px 10px\")), 1)], Dict{Symbol,Any}(:className=>\"interact-flex-row-left\"), 2), Node{DOM}(DOM(:html, :div), Any[Node{DOM}(DOM(:html, :input), Any[], Dict{Symbol,Any}(:max=>71,:min=>1,:attributes=>Dict{Any,Any}(:type=>\"range\",Symbol(\"data-bind\")=>\"numericValue: index, valueUpdate: 'input', event: {change: function (){this.changes(this.changes()+1)}}\",\"orient\"=>\"horizontal\"),:step=>1,:className=>\"slider slider is-fullwidth\",:style=>Dict{Any,Any}()), 0)], Dict{Symbol,Any}(:className=>\"interact-flex-row-center\"), 1), Node{DOM}(DOM(:html, :div), Any[Node{DOM}(DOM(:html, :p), Any[], Dict{Symbol,Any}(:attributes=>Dict(\"data-bind\"=>\"text: formatted_val\")), 0)], Dict{Symbol,Any}(:className=>\"interact-flex-row-right\"), 1)], Dict{Symbol,Any}(:className=>\"interact-flex-row interact-widget\"), 7), Dict{String,Tuple{Observables.AbstractObservable,Union{Nothing, Bool}}}(\"changes\"=>(Observable{Int64} with 1 listeners. Value:\n",
       "0, nothing),\"index\"=>(Observable{Any} with 2 listeners. Value:\n",
       "36, nothing)), Set(String[]), nothing, Asset[Asset(\"js\", \"knockout\", \"C:\\\\Users\\\\mikha\\\\.julia\\\\packages\\\\Knockout\\\\1sDlc\\\\src\\\\..\\\\assets\\\\knockout.js\"), Asset(\"js\", \"knockout_punches\", \"C:\\\\Users\\\\mikha\\\\.julia\\\\packages\\\\Knockout\\\\1sDlc\\\\src\\\\..\\\\assets\\\\knockout_punches.js\"), Asset(\"js\", nothing, \"C:\\\\Users\\\\mikha\\\\.julia\\\\packages\\\\InteractBase\\\\l8cEC\\\\src\\\\..\\\\assets\\\\all.js\"), Asset(\"css\", nothing, \"C:\\\\Users\\\\mikha\\\\.julia\\\\packages\\\\InteractBase\\\\l8cEC\\\\src\\\\..\\\\assets\\\\style.css\"), Asset(\"css\", nothing, \"C:\\\\Users\\\\mikha\\\\.julia\\\\packages\\\\Interact\\\\0klKX\\\\src\\\\..\\\\assets\\\\bulma_confined.min.css\")], Dict{Any,Any}(\"changes\"=>Any[JSString(\"(function (val){return (val!=this.model[\\\"changes\\\"]()) ? (this.valueFromJulia[\\\"changes\\\"]=true, this.model[\\\"changes\\\"](val)) : undefined})\")],\"index\"=>Any[JSString(\"(function (val){return (val!=this.model[\\\"index\\\"]()) ? (this.valueFromJulia[\\\"index\\\"]=true, this.model[\\\"index\\\"](val)) : undefined})\")]), ConnectionPool(Channel{Any}(sz_max:9223372036854775807,sz_curr:0), Set(AbstractConnection[]), Channel{AbstractConnection}(sz_max:32,sz_curr:0)), WebIO.JSString[JSString(\"function () {\\n    var handler = (function (ko, koPunches) {\\n    ko.punches.enableAll();\\n    ko.bindingHandlers.numericValue = {\\n        init: function(element, valueAccessor, allBindings, data, context) {\\n            var stringified = ko.observable(ko.unwrap(valueAccessor()));\\n            stringified.subscribe(function(value) {\\n                var val = parseFloat(value);\\n                if (!isNaN(val)) {\\n                    valueAccessor()(val);\\n                }\\n            });\\n            valueAccessor().subscribe(function(value) {\\n                var str = JSON.stringify(value);\\n                if ((str == \\\"0\\\") && ([\\\"-0\\\", \\\"-0.\\\"].indexOf(stringified()) >= 0))\\n                     return;\\n                 if ([\\\"null\\\", \\\"\\\"].indexOf(str) >= 0)\\n                     return;\\n                stringified(str);\\n            });\\n            ko.applyBindingsToNode(\\n                element,\\n                {\\n                    value: stringified,\\n                    valueUpdate: allBindings.get('valueUpdate'),\\n                },\\n                context,\\n            );\\n        }\\n    };\\n    var json_data = {\\\"formatted_vals\\\":[\\\"-1.0\\\",\\\"-0.9\\\",\\\"-0.8\\\",\\\"-0.7\\\",\\\"-0.6\\\",\\\"-0.5\\\",\\\"-0.4\\\",\\\"-0.3\\\",\\\"-0.2\\\",\\\"-0.1\\\",\\\"0.0\\\",\\\"0.1\\\",\\\"0.2\\\",\\\"0.3\\\",\\\"0.4\\\",\\\"0.5\\\",\\\"0.6\\\",\\\"0.7\\\",\\\"0.8\\\",\\\"0.9\\\",\\\"1.0\\\",\\\"1.1\\\",\\\"1.2\\\",\\\"1.3\\\",\\\"1.4\\\",\\\"1.5\\\",\\\"1.6\\\",\\\"1.7\\\",\\\"1.8\\\",\\\"1.9\\\",\\\"2.0\\\",\\\"2.1\\\",\\\"2.2\\\",\\\"2.3\\\",\\\"2.4\\\",\\\"2.5\\\",\\\"2.6\\\",\\\"2.7\\\",\\\"2.8\\\",\\\"2.9\\\",\\\"3.0\\\",\\\"3.1\\\",\\\"3.2\\\",\\\"3.3\\\",\\\"3.4\\\",\\\"3.5\\\",\\\"3.6\\\",\\\"3.7\\\",\\\"3.8\\\",\\\"3.9\\\",\\\"4.0\\\",\\\"4.1\\\",\\\"4.2\\\",\\\"4.3\\\",\\\"4.4\\\",\\\"4.5\\\",\\\"4.6\\\",\\\"4.7\\\",\\\"4.8\\\",\\\"4.9\\\",\\\"5.0\\\",\\\"5.1\\\",\\\"5.2\\\",\\\"5.3\\\",\\\"5.4\\\",\\\"5.5\\\",\\\"5.6\\\",\\\"5.7\\\",\\\"5.8\\\",\\\"5.9\\\",\\\"6.0\\\"],\\\"changes\\\":WebIO.getval({\\\"name\\\":\\\"changes\\\",\\\"scope\\\":\\\"scope-eb94b833-3ff4-45b2-8bdd-03209d90b0b7\\\",\\\"id\\\":\\\"ob_67\\\",\\\"type\\\":\\\"observable\\\"}),\\\"index\\\":WebIO.getval({\\\"name\\\":\\\"index\\\",\\\"scope\\\":\\\"scope-eb94b833-3ff4-45b2-8bdd-03209d90b0b7\\\",\\\"id\\\":\\\"ob_66\\\",\\\"type\\\":\\\"observable\\\"})};\\n    var self = this;\\n    function AppViewModel() {\\n        for (var key in json_data) {\\n            var el = json_data[key];\\n            this[key] = Array.isArray(el) ? ko.observableArray(el) : ko.observable(el);\\n        }\\n        \\n        [this[\\\"formatted_val\\\"]=ko.computed(    function(){\\n        return this.formatted_vals()[parseInt(this.index())-(1)];\\n    }\\n,this)]\\n        [this[\\\"changes\\\"].subscribe((function (val){!(this.valueFromJulia[\\\"changes\\\"]) ? (WebIO.setval({\\\"name\\\":\\\"changes\\\",\\\"scope\\\":\\\"scope-eb94b833-3ff4-45b2-8bdd-03209d90b0b7\\\",\\\"id\\\":\\\"ob_67\\\",\\\"type\\\":\\\"observable\\\"},val)) : undefined; return this.valueFromJulia[\\\"changes\\\"]=false}),self),this[\\\"index\\\"].subscribe((function (val){!(this.valueFromJulia[\\\"index\\\"]) ? (WebIO.setval({\\\"name\\\":\\\"index\\\",\\\"scope\\\":\\\"scope-eb94b833-3ff4-45b2-8bdd-03209d90b0b7\\\",\\\"id\\\":\\\"ob_66\\\",\\\"type\\\":\\\"observable\\\"},val)) : undefined; return this.valueFromJulia[\\\"index\\\"]=false}),self)]\\n        \\n    }\\n    self.model = new AppViewModel();\\n    self.valueFromJulia = {};\\n    for (var key in json_data) {\\n        self.valueFromJulia[key] = false;\\n    }\\n    ko.applyBindings(self.model, self.dom);\\n}\\n);\\n    (WebIO.importBlock({\\\"data\\\":[{\\\"name\\\":\\\"knockout\\\",\\\"type\\\":\\\"js\\\",\\\"url\\\":\\\"/assetserver/400851c8b8cf7fc10948b385af7e3ef99cb76dbc-knockout.js\\\"},{\\\"name\\\":\\\"knockout_punches\\\",\\\"type\\\":\\\"js\\\",\\\"url\\\":\\\"/assetserver/318f1c0cec30819eed901ca48cd0d6e3c354c074-knockout_punches.js\\\"}],\\\"type\\\":\\\"async_block\\\"})).then((imports) => handler.apply(this, imports));\\n}\\n\")])], Dict{Symbol,Any}(:className=>\"field interact-widget\"), 1), Node{DOM}(DOM(:html, :div), Any[Scope(\"scope-e99600a5-a05d-41f8-ac5c-05d4ba6089b3\", Node{DOM}(DOM(:html, :div), Any[Node{DOM}(DOM(:html, :div), Any[Node{DOM}(DOM(:html, :label), Any[\"gsq\"], Dict{Symbol,Any}(:className=>\"interact \",:style=>Dict{Any,Any}(:padding=>\"5px 10px 0px 10px\")), 1)], Dict{Symbol,Any}(:className=>\"interact-flex-row-left\"), 2), Node{DOM}(DOM(:html, :div), Any[Node{DOM}(DOM(:html, :input), Any[], Dict{Symbol,Any}(:max=>41,:min=>1,:attributes=>Dict{Any,Any}(:type=>\"range\",Symbol(\"data-bind\")=>\"numericValue: index, valueUpdate: 'input', event: {change: function (){this.changes(this.changes()+1)}}\",\"orient\"=>\"horizontal\"),:step=>1,:className=>\"slider slider is-fullwidth\",:style=>Dict{Any,Any}()), 0)], Dict{Symbol,Any}(:className=>\"interact-flex-row-center\"), 1), Node{DOM}(DOM(:html, :div), Any[Node{DOM}(DOM(:html, :p), Any[], Dict{Symbol,Any}(:attributes=>Dict(\"data-bind\"=>\"text: formatted_val\")), 0)], Dict{Symbol,Any}(:className=>\"interact-flex-row-right\"), 1)], Dict{Symbol,Any}(:className=>\"interact-flex-row interact-widget\"), 7), Dict{String,Tuple{Observables.AbstractObservable,Union{Nothing, Bool}}}(\"changes\"=>(Observable{Int64} with 1 listeners. Value:\n",
       "0, nothing),\"index\"=>(Observable{Any} with 2 listeners. Value:\n",
       "21, nothing)), Set(String[]), nothing, Asset[Asset(\"js\", \"knockout\", \"C:\\\\Users\\\\mikha\\\\.julia\\\\packages\\\\Knockout\\\\1sDlc\\\\src\\\\..\\\\assets\\\\knockout.js\"), Asset(\"js\", \"knockout_punches\", \"C:\\\\Users\\\\mikha\\\\.julia\\\\packages\\\\Knockout\\\\1sDlc\\\\src\\\\..\\\\assets\\\\knockout_punches.js\"), Asset(\"js\", nothing, \"C:\\\\Users\\\\mikha\\\\.julia\\\\packages\\\\InteractBase\\\\l8cEC\\\\src\\\\..\\\\assets\\\\all.js\"), Asset(\"css\", nothing, \"C:\\\\Users\\\\mikha\\\\.julia\\\\packages\\\\InteractBase\\\\l8cEC\\\\src\\\\..\\\\assets\\\\style.css\"), Asset(\"css\", nothing, \"C:\\\\Users\\\\mikha\\\\.julia\\\\packages\\\\Interact\\\\0klKX\\\\src\\\\..\\\\assets\\\\bulma_confined.min.css\")], Dict{Any,Any}(\"changes\"=>Any[JSString(\"(function (val){return (val!=this.model[\\\"changes\\\"]()) ? (this.valueFromJulia[\\\"changes\\\"]=true, this.model[\\\"changes\\\"](val)) : undefined})\")],\"index\"=>Any[JSString(\"(function (val){return (val!=this.model[\\\"index\\\"]()) ? (this.valueFromJulia[\\\"index\\\"]=true, this.model[\\\"index\\\"](val)) : undefined})\")]), ConnectionPool(Channel{Any}(sz_max:9223372036854775807,sz_curr:0), Set(AbstractConnection[]), Channel{AbstractConnection}(sz_max:32,sz_curr:0)), WebIO.JSString[JSString(\"function () {\\n    var handler = (function (ko, koPunches) {\\n    ko.punches.enableAll();\\n    ko.bindingHandlers.numericValue = {\\n        init: function(element, valueAccessor, allBindings, data, context) {\\n            var stringified = ko.observable(ko.unwrap(valueAccessor()));\\n            stringified.subscribe(function(value) {\\n                var val = parseFloat(value);\\n                if (!isNaN(val)) {\\n                    valueAccessor()(val);\\n                }\\n            });\\n            valueAccessor().subscribe(function(value) {\\n                var str = JSON.stringify(value);\\n                if ((str == \\\"0\\\") && ([\\\"-0\\\", \\\"-0.\\\"].indexOf(stringified()) >= 0))\\n                     return;\\n                 if ([\\\"null\\\", \\\"\\\"].indexOf(str) >= 0)\\n                     return;\\n                stringified(str);\\n            });\\n            ko.applyBindingsToNode(\\n                element,\\n                {\\n                    value: stringified,\\n                    valueUpdate: allBindings.get('valueUpdate'),\\n                },\\n                context,\\n            );\\n        }\\n    };\\n    var json_data = {\\\"formatted_vals\\\":[\\\"-1.0\\\",\\\"-0.9\\\",\\\"-0.8\\\",\\\"-0.7\\\",\\\"-0.6\\\",\\\"-0.5\\\",\\\"-0.4\\\",\\\"-0.3\\\",\\\"-0.2\\\",\\\"-0.1\\\",\\\"0.0\\\",\\\"0.1\\\",\\\"0.2\\\",\\\"0.3\\\",\\\"0.4\\\",\\\"0.5\\\",\\\"0.6\\\",\\\"0.7\\\",\\\"0.8\\\",\\\"0.9\\\",\\\"1.0\\\",\\\"1.1\\\",\\\"1.2\\\",\\\"1.3\\\",\\\"1.4\\\",\\\"1.5\\\",\\\"1.6\\\",\\\"1.7\\\",\\\"1.8\\\",\\\"1.9\\\",\\\"2.0\\\",\\\"2.1\\\",\\\"2.2\\\",\\\"2.3\\\",\\\"2.4\\\",\\\"2.5\\\",\\\"2.6\\\",\\\"2.7\\\",\\\"2.8\\\",\\\"2.9\\\",\\\"3.0\\\"],\\\"changes\\\":WebIO.getval({\\\"name\\\":\\\"changes\\\",\\\"scope\\\":\\\"scope-e99600a5-a05d-41f8-ac5c-05d4ba6089b3\\\",\\\"id\\\":\\\"ob_70\\\",\\\"type\\\":\\\"observable\\\"}),\\\"index\\\":WebIO.getval({\\\"name\\\":\\\"index\\\",\\\"scope\\\":\\\"scope-e99600a5-a05d-41f8-ac5c-05d4ba6089b3\\\",\\\"id\\\":\\\"ob_69\\\",\\\"type\\\":\\\"observable\\\"})};\\n    var self = this;\\n    function AppViewModel() {\\n        for (var key in json_data) {\\n            var el = json_data[key];\\n            this[key] = Array.isArray(el) ? ko.observableArray(el) : ko.observable(el);\\n        }\\n        \\n        [this[\\\"formatted_val\\\"]=ko.computed(    function(){\\n        return this.formatted_vals()[parseInt(this.index())-(1)];\\n    }\\n,this)]\\n        [this[\\\"changes\\\"].subscribe((function (val){!(this.valueFromJulia[\\\"changes\\\"]) ? (WebIO.setval({\\\"name\\\":\\\"changes\\\",\\\"scope\\\":\\\"scope-e99600a5-a05d-41f8-ac5c-05d4ba6089b3\\\",\\\"id\\\":\\\"ob_70\\\",\\\"type\\\":\\\"observable\\\"},val)) : undefined; return this.valueFromJulia[\\\"changes\\\"]=false}),self),this[\\\"index\\\"].subscribe((function (val){!(this.valueFromJulia[\\\"index\\\"]) ? (WebIO.setval({\\\"name\\\":\\\"index\\\",\\\"scope\\\":\\\"scope-e99600a5-a05d-41f8-ac5c-05d4ba6089b3\\\",\\\"id\\\":\\\"ob_69\\\",\\\"type\\\":\\\"observable\\\"},val)) : undefined; return this.valueFromJulia[\\\"index\\\"]=false}),self)]\\n        \\n    }\\n    self.model = new AppViewModel();\\n    self.valueFromJulia = {};\\n    for (var key in json_data) {\\n        self.valueFromJulia[key] = false;\\n    }\\n    ko.applyBindings(self.model, self.dom);\\n}\\n);\\n    (WebIO.importBlock({\\\"data\\\":[{\\\"name\\\":\\\"knockout\\\",\\\"type\\\":\\\"js\\\",\\\"url\\\":\\\"/assetserver/400851c8b8cf7fc10948b385af7e3ef99cb76dbc-knockout.js\\\"},{\\\"name\\\":\\\"knockout_punches\\\",\\\"type\\\":\\\"js\\\",\\\"url\\\":\\\"/assetserver/318f1c0cec30819eed901ca48cd0d6e3c354c074-knockout_punches.js\\\"}],\\\"type\\\":\\\"async_block\\\"})).then((imports) => handler.apply(this, imports));\\n}\\n\")])], Dict{Symbol,Any}(:className=>\"field interact-widget\"), 1), Observable{Any} with 0 listeners. Value:\n",
       "Node{DOM}(DOM(:html, :div), Any[Plot{Plots.GRBackend() n=1}], Dict{Symbol,Any}(:className=>\"interact-flex-row interact-widget\"), 1)], Dict{Symbol,Any}(), 3)"
      ]
     },
     "execution_count": 19,
     "metadata": {
      "application/vnd.webio.node+json": {
       "kernelId": null
      }
     },
     "output_type": "execute_result"
    }
   ],
   "source": [
    "@manipulate for msq=-1:0.1:6, gsq=-1:0.1:3\n",
    "    xv = LinRange(-2,6,30)\n",
    "    yv = LinRange(-3,1,30)\n",
    "    cal = [f(x+1im*y, msq, gsq) for y in yv, x in xv]\n",
    "    contour(xv, yv, log.(abs2.(cal)), colorbar=false)\n",
    "end"
   ]
  },
  {
   "cell_type": "code",
   "execution_count": null,
   "metadata": {},
   "outputs": [],
   "source": []
  }
 ],
 "metadata": {
  "@webio": {
   "lastCommId": "daf64e406d9641498f49ce0dae2847af",
   "lastKernelId": "298fa7ff-be6a-4a45-8d8a-7e01da295d2c"
  },
  "kernelspec": {
   "display_name": "Julia 1.1.0",
   "language": "julia",
   "name": "julia-1.1"
  },
  "language_info": {
   "file_extension": ".jl",
   "mimetype": "application/julia",
   "name": "julia",
   "version": "1.1.0"
  }
 },
 "nbformat": 4,
 "nbformat_minor": 2
}
