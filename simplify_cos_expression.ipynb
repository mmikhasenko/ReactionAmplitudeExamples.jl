{
 "cells": [
  {
   "cell_type": "markdown",
   "metadata": {},
   "source": [
    "# Caluclation of the interference term"
   ]
  },
  {
   "cell_type": "code",
   "execution_count": 1,
   "metadata": {},
   "outputs": [],
   "source": [
    "push!(LOAD_PATH,\"../src\")\n",
    "using Isobars\n",
    "using Masses\n",
    "using JPACModel\n",
    "using DalitzPlotAnalysis"
   ]
  },
  {
   "cell_type": "code",
   "execution_count": 2,
   "metadata": {},
   "outputs": [],
   "source": [
    "using SymPy"
   ]
  },
  {
   "cell_type": "code",
   "execution_count": 81,
   "metadata": {},
   "outputs": [
    {
     "data": {
      "text/latex": [
       "$$3 m^{2} + s - s_{1} - s_{3}$$"
      ],
      "text/plain": [
       "   2              \n",
       "3*m  + s - s1 - s3"
      ]
     },
     "execution_count": 81,
     "metadata": {},
     "output_type": "execute_result"
    }
   ],
   "source": [
    "@vars s1 s3 m positive=true\n",
    "s2 = 3m^2+s-s1-s3"
   ]
  },
  {
   "cell_type": "code",
   "execution_count": 82,
   "metadata": {},
   "outputs": [
    {
     "data": {
      "text/latex": [
       "$$m^{2}$$"
      ],
      "text/plain": [
       " 2\n",
       "m "
      ]
     },
     "execution_count": 82,
     "metadata": {},
     "output_type": "execute_result"
    }
   ],
   "source": [
    "m^2"
   ]
  },
  {
   "cell_type": "code",
   "execution_count": 83,
   "metadata": {},
   "outputs": [
    {
     "data": {
      "text/plain": [
       "λ (generic function with 1 method)"
      ]
     },
     "execution_count": 83,
     "metadata": {},
     "output_type": "execute_result"
    }
   ],
   "source": [
    "λ(x,y,z) = x^2+y^2+z^2-2x*y-2y*z-2z*x"
   ]
  },
  {
   "cell_type": "code",
   "execution_count": 84,
   "metadata": {},
   "outputs": [
    {
     "data": {
      "text/latex": [
       "$$- s_{1}^{2} \\left(- 3 m^{2} - s + s_{1} + 2 s_{3}\\right)^{2} + \\left(- 4 m^{2} s_{1} + s_{1}^{2}\\right) \\left(m^{4} - 2 m^{2} s - 2 m^{2} s_{1} + s^{2} - 2 s s_{1} + s_{1}^{2}\\right)$$"
      ],
      "text/plain": [
       "                              2                                               \n",
       "    2 /     2                \\    /     2        2\\ / 4      2        2       \n",
       "- s1 *\\- 3*m  - s + s1 + 2*s3/  + \\- 4*m *s1 + s1 /*\\m  - 2*m *s - 2*m *s1 + s\n",
       "\n",
       "                 \n",
       "2              2\\\n",
       "  - 2*s*s1 + s1 /"
      ]
     },
     "execution_count": 84,
     "metadata": {},
     "output_type": "execute_result"
    }
   ],
   "source": [
    "num_cos23 = s1*(s3-s2)\n",
    "num_sin23 = λ(s,s1,m^2)*λ(s1,m^2,m^2)-num_cos23^2"
   ]
  },
  {
   "cell_type": "code",
   "execution_count": 85,
   "metadata": {},
   "outputs": [
    {
     "data": {
      "text/latex": [
       "$$4 s_{1} \\left(- m^{6} + 2 m^{4} s - m^{2} s^{2} + 3 m^{2} s_{1} s_{3} + s s_{1} s_{3} - s_{1}^{2} s_{3} - s_{1} s_{3}^{2}\\right)$$"
      ],
      "text/plain": [
       "     /   6      4      2  2      2                     2           2\\\n",
       "4*s1*\\- m  + 2*m *s - m *s  + 3*m *s1*s3 + s*s1*s3 - s1 *s3 - s1*s3 /"
      ]
     },
     "execution_count": 85,
     "metadata": {},
     "output_type": "execute_result"
    }
   ],
   "source": [
    "simplify(num_sin23)"
   ]
  },
  {
   "cell_type": "code",
   "execution_count": 86,
   "metadata": {},
   "outputs": [
    {
     "data": {
      "text/latex": [
       "$$- s_{3}^{2} \\left(3 m^{2} + s - 2 s_{1} - s_{3}\\right)^{2} + \\left(- 4 m^{2} s_{3} + s_{3}^{2}\\right) \\left(m^{4} - 2 m^{2} s - 2 m^{2} s_{3} + s^{2} - 2 s s_{3} + s_{3}^{2}\\right)$$"
      ],
      "text/plain": [
       "                            2                                                 \n",
       "    2 /   2                \\    /     2        2\\ / 4      2        2       2 \n",
       "- s3 *\\3*m  + s - 2*s1 - s3/  + \\- 4*m *s3 + s3 /*\\m  - 2*m *s - 2*m *s3 + s  \n",
       "\n",
       "               \n",
       "             2\\\n",
       "- 2*s*s3 + s3 /"
      ]
     },
     "execution_count": 86,
     "metadata": {},
     "output_type": "execute_result"
    }
   ],
   "source": [
    "num_cos12 = s3*(s2-s1)\n",
    "num_sin12 = λ(s,s3,m^2)*λ(s3,m^2,m^2)-num_cos12^2"
   ]
  },
  {
   "cell_type": "code",
   "execution_count": 87,
   "metadata": {},
   "outputs": [
    {
     "data": {
      "text/latex": [
       "$$4 s_{3} \\left(- m^{6} + 2 m^{4} s - m^{2} s^{2} + 3 m^{2} s_{1} s_{3} + s s_{1} s_{3} - s_{1}^{2} s_{3} - s_{1} s_{3}^{2}\\right)$$"
      ],
      "text/plain": [
       "     /   6      4      2  2      2                     2           2\\\n",
       "4*s3*\\- m  + 2*m *s - m *s  + 3*m *s1*s3 + s*s1*s3 - s1 *s3 - s1*s3 /"
      ]
     },
     "execution_count": 87,
     "metadata": {},
     "output_type": "execute_result"
    }
   ],
   "source": [
    "simplify(num_sin12)"
   ]
  },
  {
   "cell_type": "code",
   "execution_count": 88,
   "metadata": {},
   "outputs": [
    {
     "data": {
      "text/latex": [
       "$$4 \\sqrt{s_{1}} \\sqrt{s_{3}} \\sqrt{\\left(m^{6} - 2 m^{4} s + m^{2} s^{2} - 3 m^{2} s_{1} s_{3} - s s_{1} s_{3} + s_{1}^{2} s_{3} + s_{1} s_{3}^{2}\\right)^{2}}$$"
      ],
      "text/plain": [
       "                    __________________________________________________________\n",
       "                   /                                                          \n",
       "    ____   ____   /  / 6      4      2  2      2                     2        \n",
       "4*\\/ s1 *\\/ s3 *\\/   \\m  - 2*m *s + m *s  - 3*m *s1*s3 - s*s1*s3 + s1 *s3 + s1\n",
       "\n",
       "_______\n",
       "     2 \n",
       "   2\\  \n",
       "*s3 /  "
      ]
     },
     "execution_count": 88,
     "metadata": {},
     "output_type": "execute_result"
    }
   ],
   "source": [
    "simplify(sqrt(simplify(num_sin12)*simplify(num_sin23)))"
   ]
  },
  {
   "cell_type": "code",
   "execution_count": 89,
   "metadata": {},
   "outputs": [
    {
     "data": {
      "text/latex": [
       "$$- m^{6} + 2 m^{4} s - m^{2} s^{2} + 3 m^{2} s_{1} s_{3} + s s_{1} s_{3} - s_{1}^{2} s_{3} - s_{1} s_{3}^{2}$$"
      ],
      "text/plain": [
       "   6      4      2  2      2                     2           2\n",
       "- m  + 2*m *s - m *s  + 3*m *s1*s3 + s*s1*s3 - s1 *s3 - s1*s3 "
      ]
     },
     "execution_count": 89,
     "metadata": {},
     "output_type": "execute_result"
    }
   ],
   "source": [
    "Φ = simplify(num_sin12)/(4s3)"
   ]
  },
  {
   "cell_type": "code",
   "execution_count": 171,
   "metadata": {},
   "outputs": [
    {
     "name": "stdout",
     "output_type": "stream",
     "text": [
      "-m^6 + 2*m^4*s - m^2*s^2 + 3*m^2*s1*s3 + s*s1*s3 - s1^2*s3 - s1*s3^2\n"
     ]
    }
   ],
   "source": [
    "println(Φ)"
   ]
  },
  {
   "cell_type": "code",
   "execution_count": 126,
   "metadata": {},
   "outputs": [
    {
     "data": {
      "text/latex": [
       "$$- \\left(2 s \\left(- m^{2} - s + s_{1} + s_{3}\\right) + \\left(m^{2} + s - s_{1}\\right) \\left(m^{2} + s - s_{3}\\right)\\right)^{2} + \\left(m^{4} - 2 m^{2} s - 2 m^{2} s_{1} + s^{2} - 2 s s_{1} + s_{1}^{2}\\right) \\left(m^{4} - 2 m^{2} s - 2 m^{2} s_{3} + s^{2} - 2 s s_{3} + s_{3}^{2}\\right)$$"
      ],
      "text/plain": [
       "                                                          2                   \n",
       "  /    /   2              \\   / 2         \\ / 2         \\\\    / 4      2      \n",
       "- \\2*s*\\- m  - s + s1 + s3/ + \\m  + s - s1/*\\m  + s - s3//  + \\m  - 2*m *s - 2\n",
       "\n",
       "                                                                       \n",
       "  2       2              2\\ / 4      2        2       2              2\\\n",
       "*m *s1 + s  - 2*s*s1 + s1 /*\\m  - 2*m *s - 2*m *s3 + s  - 2*s*s3 + s3 /"
      ]
     },
     "execution_count": 126,
     "metadata": {},
     "output_type": "execute_result"
    }
   ],
   "source": [
    "num_cos3 = 2s*(s1+s3-s-m^2)+(s+m^2-s1)*(s+m^2-s3)\n",
    "num_sin3 = λ(s,s3,m^2)*λ(s,s1,m^2)-num_cos3^2"
   ]
  },
  {
   "cell_type": "code",
   "execution_count": 155,
   "metadata": {},
   "outputs": [
    {
     "data": {
      "text/latex": [
       "$$- m^{6} + 2 m^{4} s - m^{2} s^{2} + 3 m^{2} s_{1} s_{3} + s s_{1} s_{3} - s_{1}^{2} s_{3} - s_{1} s_{3}^{2}$$"
      ],
      "text/plain": [
       "   6      4      2  2      2                     2           2\n",
       "- m  + 2*m *s - m *s  + 3*m *s1*s3 + s*s1*s3 - s1 *s3 - s1*s3 "
      ]
     },
     "execution_count": 155,
     "metadata": {},
     "output_type": "execute_result"
    }
   ],
   "source": [
    "simplify(num_sin3)/(4s)"
   ]
  },
  {
   "cell_type": "code",
   "execution_count": 154,
   "metadata": {},
   "outputs": [
    {
     "data": {
      "text/latex": [
       "$$\\sin{\\left (t_{12} \\right )} \\sin{\\left (t_{23} \\right )} \\cos{\\left (t_{3} \\right )} - \\sin{\\left (t_{12} \\right )} \\sin{\\left (t_{3} \\right )} \\cos{\\left (t_{23} \\right )} + \\sin{\\left (t_{23} \\right )} \\sin{\\left (t_{3} \\right )} \\cos{\\left (t_{12} \\right )} + \\cos{\\left (t_{12} \\right )} \\cos{\\left (t_{23} \\right )} \\cos{\\left (t_{3} \\right )}$$"
      ],
      "text/plain": [
       "sin(t12)*sin(t23)*cos(t3) - sin(t12)*sin(t3)*cos(t23) + sin(t23)*sin(t3)*cos(t\n",
       "12) + cos(t12)*cos(t23)*cos(t3)"
      ]
     },
     "execution_count": 154,
     "metadata": {},
     "output_type": "execute_result"
    }
   ],
   "source": [
    "@vars t12 t23 t3\n",
    "expand(expand_trig(cos(t12+t3-t23)))"
   ]
  },
  {
   "cell_type": "markdown",
   "metadata": {},
   "source": [
    "### Write the numerator of the final expression"
   ]
  },
  {
   "cell_type": "code",
   "execution_count": 168,
   "metadata": {},
   "outputs": [
    {
     "data": {
      "text/latex": [
       "$$s_{1} s_{3} \\left(2 s \\left(- m^{2} - s + s_{1} + s_{3}\\right) + \\left(m^{2} + s - s_{1}\\right) \\left(m^{2} + s - s_{3}\\right)\\right) \\left(- 3 m^{2} - s + s_{1} + 2 s_{3}\\right) \\left(3 m^{2} + s - 2 s_{1} - s_{3}\\right) + \\left(\\sqrt{s} \\sqrt{s_{1}} s_{3} \\left(3 m^{2} + s - 2 s_{1} - s_{3}\\right) - \\sqrt{s} s_{1} \\sqrt{s_{3}} \\left(- 3 m^{2} - s + s_{1} + 2 s_{3}\\right) + \\sqrt{s_{1}} \\sqrt{s_{3}} \\left(2 s \\left(- m^{2} - s + s_{1} + s_{3}\\right) + \\left(m^{2} + s - s_{1}\\right) \\left(m^{2} + s - s_{3}\\right)\\right)\\right) \\left(- 4 m^{6} + 8 m^{4} s - 4 m^{2} s^{2} + 12 m^{2} s_{1} s_{3} + 4 s s_{1} s_{3} - 4 s_{1}^{2} s_{3} - 4 s_{1} s_{3}^{2}\\right)$$"
      ],
      "text/plain": [
       "      /    /   2              \\   / 2         \\ / 2         \\\\ /     2        \n",
       "s1*s3*\\2*s*\\- m  - s + s1 + s3/ + \\m  + s - s1/*\\m  + s - s3//*\\- 3*m  - s + s\n",
       "\n",
       "        \\ /   2                \\   /  ___   ____    /   2                \\    \n",
       "1 + 2*s3/*\\3*m  + s - 2*s1 - s3/ + \\\\/ s *\\/ s1 *s3*\\3*m  + s - 2*s1 - s3/ - \\\n",
       "\n",
       " ___      ____ /     2                \\     ____   ____ /    /   2            \n",
       "/ s *s1*\\/ s3 *\\- 3*m  - s + s1 + 2*s3/ + \\/ s1 *\\/ s3 *\\2*s*\\- m  - s + s1 + \n",
       "\n",
       "  \\   / 2         \\ / 2         \\\\\\ /     6      4        2  2       2        \n",
       "s3/ + \\m  + s - s1/*\\m  + s - s3///*\\- 4*m  + 8*m *s - 4*m *s  + 12*m *s1*s3 +\n",
       "\n",
       "                 2             2\\\n",
       " 4*s*s1*s3 - 4*s1 *s3 - 4*s1*s3 /"
      ]
     },
     "execution_count": 168,
     "metadata": {},
     "output_type": "execute_result"
    }
   ],
   "source": [
    "final = num_cos12*num_cos23*num_cos3+4Φ*(sqrt(s3*s1)*num_cos3-sqrt(s*s3)*num_cos23+sqrt(s1*s)*num_cos12)"
   ]
  },
  {
   "cell_type": "code",
   "execution_count": 169,
   "metadata": {},
   "outputs": [
    {
     "data": {
      "text/latex": [
       "$$s_{1} s_{3} \\left(2 s \\left(m^{2} + s - s_{1} - s_{3}\\right) - \\left(m^{2} + s - s_{1}\\right) \\left(m^{2} + s - s_{3}\\right)\\right) \\left(3 m^{2} + s - 2 s_{1} - s_{3}\\right) \\left(3 m^{2} + s - s_{1} - 2 s_{3}\\right) - 4 \\left(\\sqrt{s} \\sqrt{s_{1}} s_{3} \\left(3 m^{2} + s - 2 s_{1} - s_{3}\\right) + \\sqrt{s} s_{1} \\sqrt{s_{3}} \\left(3 m^{2} + s - s_{1} - 2 s_{3}\\right) + \\sqrt{s_{1}} \\sqrt{s_{3}} \\left(- 2 s \\left(m^{2} + s - s_{1} - s_{3}\\right) + \\left(m^{2} + s - s_{1}\\right) \\left(m^{2} + s - s_{3}\\right)\\right)\\right) \\left(m^{6} - 2 m^{4} s + m^{2} s^{2} - 3 m^{2} s_{1} s_{3} - s s_{1} s_{3} + s_{1}^{2} s_{3} + s_{1} s_{3}^{2}\\right)$$"
      ],
      "text/plain": [
       "      /    / 2              \\   / 2         \\ / 2         \\\\ /   2            \n",
       "s1*s3*\\2*s*\\m  + s - s1 - s3/ - \\m  + s - s1/*\\m  + s - s3//*\\3*m  + s - 2*s1 \n",
       "\n",
       "    \\ /   2                \\     /  ___   ____    /   2                \\     _\n",
       "- s3/*\\3*m  + s - s1 - 2*s3/ - 4*\\\\/ s *\\/ s1 *s3*\\3*m  + s - 2*s1 - s3/ + \\/ \n",
       "\n",
       "__      ____ /   2                \\     ____   ____ /      / 2              \\ \n",
       "s *s1*\\/ s3 *\\3*m  + s - s1 - 2*s3/ + \\/ s1 *\\/ s3 *\\- 2*s*\\m  + s - s1 - s3/ \n",
       "\n",
       "  / 2         \\ / 2         \\\\\\ / 6      4      2  2      2                   \n",
       "+ \\m  + s - s1/*\\m  + s - s3///*\\m  - 2*m *s + m *s  - 3*m *s1*s3 - s*s1*s3 + \n",
       "\n",
       "  2           2\\\n",
       "s1 *s3 + s1*s3 /"
      ]
     },
     "execution_count": 169,
     "metadata": {},
     "output_type": "execute_result"
    }
   ],
   "source": [
    "final_sim = simplify(final)"
   ]
  },
  {
   "cell_type": "code",
   "execution_count": 170,
   "metadata": {},
   "outputs": [
    {
     "name": "stdout",
     "output_type": "stream",
     "text": [
      "s1*s3*(2*s*(m^2 + s - s1 - s3) - (m^2 + s - s1)*(m^2 + s - s3))*(3*m^2 + s - 2*s1 - s3)*(3*m^2 + s - s1 - 2*s3) - 4*(sqrt(s)*sqrt(s1)*s3*(3*m^2 + s - 2*s1 - s3) + sqrt(s)*s1*sqrt(s3)*(3*m^2 + s - s1 - 2*s3) + sqrt(s1)*sqrt(s3)*(-2*s*(m^2 + s - s1 - s3) + (m^2 + s - s1)*(m^2 + s - s3)))*(m^6 - 2*m^4*s + m^2*s^2 - 3*m^2*s1*s3 - s*s1*s3 + s1^2*s3 + s1*s3^2)"
     ]
    }
   ],
   "source": [
    "print(final_sim)"
   ]
  },
  {
   "cell_type": "markdown",
   "metadata": {},
   "source": [
    "### Write the denominator of the final expression"
   ]
  },
  {
   "cell_type": "code",
   "execution_count": 162,
   "metadata": {},
   "outputs": [
    {
     "data": {
      "text/latex": [
       "$$\\sqrt{\\left(- 4 m^{2} s_{1} + s_{1}^{2}\\right) \\left(- 4 m^{2} s_{3} + s_{3}^{2}\\right)} \\left(m^{4} - 2 m^{2} s - 2 m^{2} s_{1} + s^{2} - 2 s s_{1} + s_{1}^{2}\\right) \\left(m^{4} - 2 m^{2} s - 2 m^{2} s_{3} + s^{2} - 2 s s_{3} + s_{3}^{2}\\right)$$"
      ],
      "text/plain": [
       "   _____________________________________                                      \n",
       "  / /     2        2\\ /     2        2\\  / 4      2        2       2          \n",
       "\\/  \\- 4*m *s1 + s1 /*\\- 4*m *s3 + s3 / *\\m  - 2*m *s - 2*m *s1 + s  - 2*s*s1 \n",
       "\n",
       "                                                  \n",
       "    2\\ / 4      2        2       2              2\\\n",
       "+ s1 /*\\m  - 2*m *s - 2*m *s3 + s  - 2*s*s3 + s3 /"
      ]
     },
     "execution_count": 162,
     "metadata": {},
     "output_type": "execute_result"
    }
   ],
   "source": [
    "final_d = sqrt(λ(s1,m^2,m^2)*λ(s3,m^2,m^2))*λ(s1,s,m^2)*λ(s3,s,m^2)"
   ]
  },
  {
   "cell_type": "code",
   "execution_count": 161,
   "metadata": {},
   "outputs": [
    {
     "data": {
      "text/latex": [
       "$$\\frac{1}{\\sqrt{s_{1}} \\sqrt{s_{3}} \\sqrt{\\left(4 m^{2} - s_{1}\\right) \\left(4 m^{2} - s_{3}\\right)} \\left(m^{4} - 2 m^{2} s - 2 m^{2} s_{1} + s^{2} - 2 s s_{1} + s_{1}^{2}\\right) \\left(m^{4} - 2 m^{2} s - 2 m^{2} s_{3} + s^{2} - 2 s s_{3} + s_{3}^{2}\\right)} \\left(s_{1} s_{3} \\left(2 s \\left(m^{2} + s - s_{1} - s_{3}\\right) - \\left(m^{2} + s - s_{1}\\right) \\left(m^{2} + s - s_{3}\\right)\\right) \\left(3 m^{2} + s - 2 s_{1} - s_{3}\\right) \\left(3 m^{2} + s - s_{1} - 2 s_{3}\\right) - 4 \\left(\\sqrt{s} \\sqrt{s_{1}} s_{3} \\left(3 m^{2} + s - 2 s_{1} - s_{3}\\right) + \\sqrt{s} s_{1} \\sqrt{s_{3}} \\left(3 m^{2} + s - s_{1} - 2 s_{3}\\right) + \\sqrt{s_{1}} \\sqrt{s_{3}} \\left(- 2 s \\left(m^{2} + s - s_{1} - s_{3}\\right) + \\left(m^{2} + s - s_{1}\\right) \\left(m^{2} + s - s_{3}\\right)\\right)\\right) \\left(m^{6} - 2 m^{4} s + m^{2} s^{2} - 3 m^{2} s_{1} s_{3} - s s_{1} s_{3} + s_{1}^{2} s_{3} + s_{1} s_{3}^{2}\\right)\\right)$$"
      ],
      "text/plain": [
       "      /    / 2              \\   / 2         \\ / 2         \\\\ /   2            \n",
       "s1*s3*\\2*s*\\m  + s - s1 - s3/ - \\m  + s - s1/*\\m  + s - s3//*\\3*m  + s - 2*s1 \n",
       "------------------------------------------------------------------------------\n",
       "                                                                              \n",
       "                                                                              \n",
       "                                                                              \n",
       "\n",
       "    \\ /   2                \\     /  ___   ____    /   2                \\     _\n",
       "- s3/*\\3*m  + s - s1 - 2*s3/ - 4*\\\\/ s *\\/ s1 *s3*\\3*m  + s - 2*s1 - s3/ + \\/ \n",
       "------------------------------------------------------------------------------\n",
       "                                      _________________________               \n",
       "                       ____   ____   / /   2     \\ /   2     \\  / 4      2    \n",
       "                     \\/ s1 *\\/ s3 *\\/  \\4*m  - s1/*\\4*m  - s3/ *\\m  - 2*m *s -\n",
       "\n",
       "__      ____ /   2                \\     ____   ____ /      / 2              \\ \n",
       "s *s1*\\/ s3 *\\3*m  + s - s1 - 2*s3/ + \\/ s1 *\\/ s3 *\\- 2*s*\\m  + s - s1 - s3/ \n",
       "------------------------------------------------------------------------------\n",
       "                                                                              \n",
       "    2       2              2\\ / 4      2        2       2              2\\     \n",
       " 2*m *s1 + s  - 2*s*s1 + s1 /*\\m  - 2*m *s - 2*m *s3 + s  - 2*s*s3 + s3 /     \n",
       "\n",
       "  / 2         \\ / 2         \\\\\\ / 6      4      2  2      2                   \n",
       "+ \\m  + s - s1/*\\m  + s - s3///*\\m  - 2*m *s + m *s  - 3*m *s1*s3 - s*s1*s3 + \n",
       "------------------------------------------------------------------------------\n",
       "                                                                              \n",
       "                                                                              \n",
       "                                                                              \n",
       "\n",
       "  2           2\\\n",
       "s1 *s3 + s1*s3 /\n",
       "----------------\n",
       "                \n",
       "                \n",
       "                "
      ]
     },
     "execution_count": 161,
     "metadata": {},
     "output_type": "execute_result"
    }
   ],
   "source": [
    "ff = simplify(final_n2/final_d)"
   ]
  },
  {
   "cell_type": "code",
   "execution_count": 163,
   "metadata": {},
   "outputs": [
    {
     "data": {
      "text/plain": [
       "dff (generic function with 1 method)"
      ]
     },
     "execution_count": 163,
     "metadata": {},
     "output_type": "execute_result"
    }
   ],
   "source": [
    "dff(vs1,vs3,vs) = N(ff(m=>mπ, s1=>vs1, s3=>vs3, s=>vs))"
   ]
  },
  {
   "cell_type": "code",
   "execution_count": 164,
   "metadata": {},
   "outputs": [
    {
     "data": {
      "text/plain": [
       "-0.8821618777960989"
      ]
     },
     "execution_count": 164,
     "metadata": {},
     "output_type": "execute_result"
    }
   ],
   "source": [
    "dff(0.5,0.5,1.1)"
   ]
  },
  {
   "cell_type": "code",
   "execution_count": 165,
   "metadata": {},
   "outputs": [
    {
     "data": {
      "text/plain": [
       "dffa (generic function with 1 method)"
      ]
     },
     "execution_count": 165,
     "metadata": {},
     "output_type": "execute_result"
    }
   ],
   "source": [
    "function dffa(s1,s3,s)\n",
    "    z = cross_basis_z23(s1,s3,mπ2,mπ2,mπ2,s)\n",
    "    θ23 = acos(z)\n",
    "    cosθ3 = cross_basis_cosθ3(s1, z, mπ2,mπ2,mπ2, s, s3)\n",
    "    θ3 = acos(cosθ3) # this causes problem\n",
    "    cosθ12 = cross_basis_cosθ12(s1, z, mπ2,mπ2,mπ2, s, s3)\n",
    "    θ12 = acos(cosθ12)\n",
    "    cosθ12, cosθ3, z,  cos(θ12+θ3-θ23)\n",
    "end"
   ]
  },
  {
   "cell_type": "code",
   "execution_count": 166,
   "metadata": {
    "scrolled": true
   },
   "outputs": [
    {
     "data": {
      "text/plain": [
       "(-0.6809491729724828, 0.4056435161768251, 0.6809491729724826, -0.8821618777960955)"
      ]
     },
     "execution_count": 166,
     "metadata": {},
     "output_type": "execute_result"
    }
   ],
   "source": [
    "dffa(0.5,0.5,1.1)"
   ]
  },
  {
   "cell_type": "code",
   "execution_count": 140,
   "metadata": {},
   "outputs": [
    {
     "data": {
      "text/plain": [
       "cosθ12_n (generic function with 1 method)"
      ]
     },
     "execution_count": 140,
     "metadata": {},
     "output_type": "execute_result"
    }
   ],
   "source": [
    "cosθ12_n(vs1,vs3,vs) = N(num_cos12(m=>mπ, s1=>vs1, s3=>vs3, s=>vs)/sqrt(λ(vs1,mπ2,mπ2)*λ(vs,vs3,mπ2)))"
   ]
  },
  {
   "cell_type": "code",
   "execution_count": 141,
   "metadata": {},
   "outputs": [
    {
     "data": {
      "text/plain": [
       "cosθ23_n (generic function with 1 method)"
      ]
     },
     "execution_count": 141,
     "metadata": {},
     "output_type": "execute_result"
    }
   ],
   "source": [
    "cosθ23_n(vs1,vs3,vs) = N(num_cos23(m=>mπ, s1=>vs1, s3=>vs3, s=>vs)/sqrt(λ(vs3,mπ2,mπ2)*λ(vs,vs3,mπ2)))"
   ]
  },
  {
   "cell_type": "code",
   "execution_count": 142,
   "metadata": {},
   "outputs": [
    {
     "data": {
      "text/plain": [
       "cosθ3_n (generic function with 1 method)"
      ]
     },
     "execution_count": 142,
     "metadata": {},
     "output_type": "execute_result"
    }
   ],
   "source": [
    "cosθ3_n(vs1,vs3,vs) = N(num_cos3(m=>mπ, s1=>vs1, s3=>vs3, s=>vs)/sqrt(λ(vs,vs3,mπ2)*λ(vs,vs1,mπ2)))"
   ]
  },
  {
   "cell_type": "code",
   "execution_count": 143,
   "metadata": {},
   "outputs": [
    {
     "data": {
      "text/plain": [
       "(-0.6809491729724831, 0.6809491729724831, 0.40564351617682337)"
      ]
     },
     "execution_count": 143,
     "metadata": {},
     "output_type": "execute_result"
    }
   ],
   "source": [
    "cosθ12_n(0.5,0.5,1.1), cosθ23_n(0.5,0.5,1.1), cosθ3_n(0.5,0.5,1.1)"
   ]
  }
 ],
 "metadata": {
  "kernelspec": {
   "display_name": "Julia 0.6.3",
   "language": "julia",
   "name": "julia-0.6"
  },
  "language_info": {
   "file_extension": ".jl",
   "mimetype": "application/julia",
   "name": "julia",
   "version": "0.6.3"
  }
 },
 "nbformat": 4,
 "nbformat_minor": 2
}
