{
 "cells": [
  {
   "cell_type": "code",
   "execution_count": 1,
   "metadata": {},
   "outputs": [],
   "source": [
    "using JuMP\n",
    "using NLopt\n",
    "using Plots\n",
    "using Interpolations\n",
    "using QuadGK\n",
    "using Cuba"
   ]
  },
  {
   "cell_type": "code",
   "execution_count": 2,
   "metadata": {},
   "outputs": [],
   "source": [
    "push!(LOAD_PATH, ENV[\"HOME\"]*\"/Documents/amplitude_analysis/modules\")\n",
    "# my modules\n",
    "using isobars\n",
    "using masses\n",
    "using DalitzPlotAnalysis"
   ]
  },
  {
   "cell_type": "code",
   "execution_count": 10,
   "metadata": {},
   "outputs": [
    {
     "data": {
      "text/plain": [
       "amplitude (generic function with 2 methods)"
      ]
     },
     "execution_count": 10,
     "metadata": {},
     "output_type": "execute_result"
    }
   ],
   "source": [
    "function amplitude(x, p...)\n",
    "    a = p[1]\n",
    "    b = p[2]\n",
    "    c = p[3]\n",
    "    d = p[4]\n",
    "    a/(x^2+b^2)+c/(x^2+d^2)\n",
    "end"
   ]
  },
  {
   "cell_type": "code",
   "execution_count": 12,
   "metadata": {},
   "outputs": [
    {
     "data": {
      "text/html": [
       "<?xml version=\"1.0\" encoding=\"utf-8\"?>\n",
       "<svg xmlns=\"http://www.w3.org/2000/svg\" xmlns:xlink=\"http://www.w3.org/1999/xlink\" width=\"600\" height=\"400\" viewBox=\"0 0 600 400\">\n",
       "<defs>\n",
       "  <clipPath id=\"clip4800\">\n",
       "    <rect x=\"0\" y=\"0\" width=\"600\" height=\"400\"/>\n",
       "  </clipPath>\n",
       "</defs>\n",
       "<polygon clip-path=\"url(#clip4800)\" points=\"\n",
       "0,400 600,400 600,0 0,0 \n",
       "  \" fill=\"#ffffff\" fill-opacity=\"1\"/>\n",
       "<defs>\n",
       "  <clipPath id=\"clip4801\">\n",
       "    <rect x=\"120\" y=\"0\" width=\"421\" height=\"400\"/>\n",
       "  </clipPath>\n",
       "</defs>\n",
       "<polygon clip-path=\"url(#clip4800)\" points=\"\n",
       "38.8117,375.813 580.315,375.813 580.315,11.811 38.8117,11.811 \n",
       "  \" fill=\"#ffffff\" fill-opacity=\"1\"/>\n",
       "<defs>\n",
       "  <clipPath id=\"clip4802\">\n",
       "    <rect x=\"38\" y=\"11\" width=\"543\" height=\"365\"/>\n",
       "  </clipPath>\n",
       "</defs>\n",
       "<polyline clip-path=\"url(#clip4802)\" style=\"stroke:#000000; stroke-width:0.5; stroke-opacity:0.1; fill:none\" points=\"\n",
       "  87.4542,375.813 87.4542,11.811 \n",
       "  \"/>\n",
       "<polyline clip-path=\"url(#clip4802)\" style=\"stroke:#000000; stroke-width:0.5; stroke-opacity:0.1; fill:none\" points=\"\n",
       "  187.424,375.813 187.424,11.811 \n",
       "  \"/>\n",
       "<polyline clip-path=\"url(#clip4802)\" style=\"stroke:#000000; stroke-width:0.5; stroke-opacity:0.1; fill:none\" points=\"\n",
       "  287.394,375.813 287.394,11.811 \n",
       "  \"/>\n",
       "<polyline clip-path=\"url(#clip4802)\" style=\"stroke:#000000; stroke-width:0.5; stroke-opacity:0.1; fill:none\" points=\"\n",
       "  387.363,375.813 387.363,11.811 \n",
       "  \"/>\n",
       "<polyline clip-path=\"url(#clip4802)\" style=\"stroke:#000000; stroke-width:0.5; stroke-opacity:0.1; fill:none\" points=\"\n",
       "  487.333,375.813 487.333,11.811 \n",
       "  \"/>\n",
       "<polyline clip-path=\"url(#clip4802)\" style=\"stroke:#000000; stroke-width:0.5; stroke-opacity:0.1; fill:none\" points=\"\n",
       "  38.8117,321.301 580.315,321.301 \n",
       "  \"/>\n",
       "<polyline clip-path=\"url(#clip4802)\" style=\"stroke:#000000; stroke-width:0.5; stroke-opacity:0.1; fill:none\" points=\"\n",
       "  38.8117,259.373 580.315,259.373 \n",
       "  \"/>\n",
       "<polyline clip-path=\"url(#clip4802)\" style=\"stroke:#000000; stroke-width:0.5; stroke-opacity:0.1; fill:none\" points=\"\n",
       "  38.8117,197.444 580.315,197.444 \n",
       "  \"/>\n",
       "<polyline clip-path=\"url(#clip4802)\" style=\"stroke:#000000; stroke-width:0.5; stroke-opacity:0.1; fill:none\" points=\"\n",
       "  38.8117,135.515 580.315,135.515 \n",
       "  \"/>\n",
       "<polyline clip-path=\"url(#clip4802)\" style=\"stroke:#000000; stroke-width:0.5; stroke-opacity:0.1; fill:none\" points=\"\n",
       "  38.8117,73.5865 580.315,73.5865 \n",
       "  \"/>\n",
       "<polyline clip-path=\"url(#clip4800)\" style=\"stroke:#000000; stroke-width:1; stroke-opacity:1; fill:none\" points=\"\n",
       "  38.8117,375.813 580.315,375.813 \n",
       "  \"/>\n",
       "<polyline clip-path=\"url(#clip4800)\" style=\"stroke:#000000; stroke-width:1; stroke-opacity:1; fill:none\" points=\"\n",
       "  38.8117,375.813 38.8117,11.811 \n",
       "  \"/>\n",
       "<polyline clip-path=\"url(#clip4800)\" style=\"stroke:#000000; stroke-width:1; stroke-opacity:1; fill:none\" points=\"\n",
       "  87.4542,375.813 87.4542,370.353 \n",
       "  \"/>\n",
       "<polyline clip-path=\"url(#clip4800)\" style=\"stroke:#000000; stroke-width:1; stroke-opacity:1; fill:none\" points=\"\n",
       "  187.424,375.813 187.424,370.353 \n",
       "  \"/>\n",
       "<polyline clip-path=\"url(#clip4800)\" style=\"stroke:#000000; stroke-width:1; stroke-opacity:1; fill:none\" points=\"\n",
       "  287.394,375.813 287.394,370.353 \n",
       "  \"/>\n",
       "<polyline clip-path=\"url(#clip4800)\" style=\"stroke:#000000; stroke-width:1; stroke-opacity:1; fill:none\" points=\"\n",
       "  387.363,375.813 387.363,370.353 \n",
       "  \"/>\n",
       "<polyline clip-path=\"url(#clip4800)\" style=\"stroke:#000000; stroke-width:1; stroke-opacity:1; fill:none\" points=\"\n",
       "  487.333,375.813 487.333,370.353 \n",
       "  \"/>\n",
       "<polyline clip-path=\"url(#clip4800)\" style=\"stroke:#000000; stroke-width:1; stroke-opacity:1; fill:none\" points=\"\n",
       "  38.8117,321.301 46.9343,321.301 \n",
       "  \"/>\n",
       "<polyline clip-path=\"url(#clip4800)\" style=\"stroke:#000000; stroke-width:1; stroke-opacity:1; fill:none\" points=\"\n",
       "  38.8117,259.373 46.9343,259.373 \n",
       "  \"/>\n",
       "<polyline clip-path=\"url(#clip4800)\" style=\"stroke:#000000; stroke-width:1; stroke-opacity:1; fill:none\" points=\"\n",
       "  38.8117,197.444 46.9343,197.444 \n",
       "  \"/>\n",
       "<polyline clip-path=\"url(#clip4800)\" style=\"stroke:#000000; stroke-width:1; stroke-opacity:1; fill:none\" points=\"\n",
       "  38.8117,135.515 46.9343,135.515 \n",
       "  \"/>\n",
       "<polyline clip-path=\"url(#clip4800)\" style=\"stroke:#000000; stroke-width:1; stroke-opacity:1; fill:none\" points=\"\n",
       "  38.8117,73.5865 46.9343,73.5865 \n",
       "  \"/>\n",
       "<g clip-path=\"url(#clip4800)\">\n",
       "<text style=\"fill:#000000; fill-opacity:1; font-family:Arial,Helvetica Neue,Helvetica,sans-serif; font-size:12; text-anchor:middle;\" transform=\"rotate(0, 87.4542, 389.613)\" x=\"87.4542\" y=\"389.613\">0</text>\n",
       "</g>\n",
       "<g clip-path=\"url(#clip4800)\">\n",
       "<text style=\"fill:#000000; fill-opacity:1; font-family:Arial,Helvetica Neue,Helvetica,sans-serif; font-size:12; text-anchor:middle;\" transform=\"rotate(0, 187.424, 389.613)\" x=\"187.424\" y=\"389.613\">2</text>\n",
       "</g>\n",
       "<g clip-path=\"url(#clip4800)\">\n",
       "<text style=\"fill:#000000; fill-opacity:1; font-family:Arial,Helvetica Neue,Helvetica,sans-serif; font-size:12; text-anchor:middle;\" transform=\"rotate(0, 287.394, 389.613)\" x=\"287.394\" y=\"389.613\">4</text>\n",
       "</g>\n",
       "<g clip-path=\"url(#clip4800)\">\n",
       "<text style=\"fill:#000000; fill-opacity:1; font-family:Arial,Helvetica Neue,Helvetica,sans-serif; font-size:12; text-anchor:middle;\" transform=\"rotate(0, 387.363, 389.613)\" x=\"387.363\" y=\"389.613\">6</text>\n",
       "</g>\n",
       "<g clip-path=\"url(#clip4800)\">\n",
       "<text style=\"fill:#000000; fill-opacity:1; font-family:Arial,Helvetica Neue,Helvetica,sans-serif; font-size:12; text-anchor:middle;\" transform=\"rotate(0, 487.333, 389.613)\" x=\"487.333\" y=\"389.613\">8</text>\n",
       "</g>\n",
       "<g clip-path=\"url(#clip4800)\">\n",
       "<text style=\"fill:#000000; fill-opacity:1; font-family:Arial,Helvetica Neue,Helvetica,sans-serif; font-size:12; text-anchor:end;\" transform=\"rotate(0, 32.8117, 325.801)\" x=\"32.8117\" y=\"325.801\">0.25</text>\n",
       "</g>\n",
       "<g clip-path=\"url(#clip4800)\">\n",
       "<text style=\"fill:#000000; fill-opacity:1; font-family:Arial,Helvetica Neue,Helvetica,sans-serif; font-size:12; text-anchor:end;\" transform=\"rotate(0, 32.8117, 263.873)\" x=\"32.8117\" y=\"263.873\">0.50</text>\n",
       "</g>\n",
       "<g clip-path=\"url(#clip4800)\">\n",
       "<text style=\"fill:#000000; fill-opacity:1; font-family:Arial,Helvetica Neue,Helvetica,sans-serif; font-size:12; text-anchor:end;\" transform=\"rotate(0, 32.8117, 201.944)\" x=\"32.8117\" y=\"201.944\">0.75</text>\n",
       "</g>\n",
       "<g clip-path=\"url(#clip4800)\">\n",
       "<text style=\"fill:#000000; fill-opacity:1; font-family:Arial,Helvetica Neue,Helvetica,sans-serif; font-size:12; text-anchor:end;\" transform=\"rotate(0, 32.8117, 140.015)\" x=\"32.8117\" y=\"140.015\">1.00</text>\n",
       "</g>\n",
       "<g clip-path=\"url(#clip4800)\">\n",
       "<text style=\"fill:#000000; fill-opacity:1; font-family:Arial,Helvetica Neue,Helvetica,sans-serif; font-size:12; text-anchor:end;\" transform=\"rotate(0, 32.8117, 78.0865)\" x=\"32.8117\" y=\"78.0865\">1.25</text>\n",
       "</g>\n",
       "<polyline clip-path=\"url(#clip4802)\" style=\"stroke:#009af9; stroke-width:1; stroke-opacity:1; fill:none\" points=\"\n",
       "  38.8117,155.854 40.1541,151.34 41.4965,146.745 42.8389,142.072 55.2513,95.9608 67.6637,49.8985 70.7667,39.8561 73.8698,30.9409 76.9729,23.4377 80.076,17.6111 \n",
       "  83.1791,13.6829 86.2822,11.811 89.3853,12.0733 92.4884,14.4586 96.218,19.9903 99.9477,28.128 103.677,38.4434 107.407,50.4492 114.866,77.5943 122.326,106.188 \n",
       "  128.632,129.773 134.939,151.966 141.246,172.399 147.553,190.962 154.404,209.062 161.254,225.162 168.105,239.459 174.956,252.155 187.588,271.99 200.22,288.046 \n",
       "  213.763,301.984 227.305,313.284 242.996,323.835 258.686,332.294 286.574,343.611 311.029,350.8 337.692,356.678 364.513,361.153 394.167,364.926 422.382,367.701 \n",
       "  451.719,369.976 476.415,371.531 506.566,373.088 534.908,374.288 580.315,375.813 \n",
       "  \"/>\n",
       "<polygon clip-path=\"url(#clip4800)\" points=\"\n",
       "489.799,62.931 562.315,62.931 562.315,32.691 489.799,32.691 \n",
       "  \" fill=\"#ffffff\" fill-opacity=\"1\"/>\n",
       "<polyline clip-path=\"url(#clip4800)\" style=\"stroke:#000000; stroke-width:1; stroke-opacity:1; fill:none\" points=\"\n",
       "  489.799,62.931 562.315,62.931 562.315,32.691 489.799,32.691 489.799,62.931 \n",
       "  \"/>\n",
       "<polyline clip-path=\"url(#clip4800)\" style=\"stroke:#009af9; stroke-width:1; stroke-opacity:1; fill:none\" points=\"\n",
       "  495.799,47.811 531.799,47.811 \n",
       "  \"/>\n",
       "<g clip-path=\"url(#clip4800)\">\n",
       "<text style=\"fill:#000000; fill-opacity:1; font-family:Arial,Helvetica Neue,Helvetica,sans-serif; font-size:12; text-anchor:start;\" transform=\"rotate(0, 537.799, 52.311)\" x=\"537.799\" y=\"52.311\">y1</text>\n",
       "</g>\n",
       "</svg>\n"
      ]
     },
     "execution_count": 12,
     "metadata": {},
     "output_type": "execute_result"
    }
   ],
   "source": [
    "plot(x->amplitude(x,1,1,2,2),-1,10)"
   ]
  },
  {
   "cell_type": "code",
   "execution_count": 28,
   "metadata": {},
   "outputs": [
    {
     "data": {
      "text/plain": [
       "ff (generic function with 1 method)"
      ]
     },
     "execution_count": 28,
     "metadata": {},
     "output_type": "execute_result"
    }
   ],
   "source": [
    "function ff(x)\n",
    "    real(quadgk(y->(y+4)/(y-x-1e-3), -50, 60)[1])\n",
    "end"
   ]
  },
  {
   "cell_type": "code",
   "execution_count": 30,
   "metadata": {},
   "outputs": [
    {
     "data": {
      "text/plain": [
       "109.59355952506083"
      ]
     },
     "execution_count": 30,
     "metadata": {},
     "output_type": "execute_result"
    }
   ],
   "source": [
    "ff(1.1)"
   ]
  },
  {
   "cell_type": "code",
   "execution_count": 31,
   "metadata": {},
   "outputs": [
    {
     "data": {
      "text/plain": [
       "tr2 (generic function with 1 method)"
      ]
     },
     "execution_count": 31,
     "metadata": {},
     "output_type": "execute_result"
    }
   ],
   "source": [
    "function tr1(y,mod)\n",
    "    return length([mod(y) for y in 1:10])\n",
    "end\n",
    "function tr2(y)\n",
    "    return length([ff(y) for y in 1:10])\n",
    "end"
   ]
  },
  {
   "cell_type": "code",
   "execution_count": 38,
   "metadata": {},
   "outputs": [],
   "source": [
    "using BenchmarkTools"
   ]
  },
  {
   "cell_type": "code",
   "execution_count": 39,
   "metadata": {},
   "outputs": [
    {
     "name": "stdout",
     "output_type": "stream",
     "text": [
      "  8.239 s (80000383 allocations: 1.44 GiB)\n"
     ]
    },
    {
     "data": {
      "text/plain": [
       "10"
      ]
     },
     "execution_count": 39,
     "metadata": {},
     "output_type": "execute_result"
    }
   ],
   "source": [
    "@btime tr1(1.3,ff)"
   ]
  },
  {
   "cell_type": "code",
   "execution_count": 40,
   "metadata": {},
   "outputs": [
    {
     "name": "stdout",
     "output_type": "stream",
     "text": [
      "  8.222 s (80000383 allocations: 1.44 GiB)\n"
     ]
    },
    {
     "data": {
      "text/plain": [
       "10"
      ]
     },
     "execution_count": 40,
     "metadata": {},
     "output_type": "execute_result"
    }
   ],
   "source": [
    "@btime tr2(1.3)"
   ]
  },
  {
   "cell_type": "code",
   "execution_count": 42,
   "metadata": {},
   "outputs": [
    {
     "name": "stdout",
     "output_type": "stream",
     "text": [
      "Variables:\n",
      "  #self# <optimized out>\n",
      "  y <optimized out>\n",
      "  mod <optimized out>\n",
      "\n",
      "Body:\n",
      "  begin \n",
      "      SSAValue(0) = $(Expr(:invoke, MethodInstance for collect(::Base.Generator{UnitRange{Int64},#ff}), :(Base.collect), :($(Expr(:new, Base.Generator{UnitRange{Int64},#ff}, :($(QuoteNode(ff))), :($(Expr(:new, UnitRange{Int64}, 1, :((Base.select_value)((Base.sle_int)(1, 10)::Bool, 10, (Base.sub_int)(1, 1)::Int64)::Int64)))))))))\n",
      "      return (Base.arraylen)(SSAValue(0))::Int64\n",
      "  end::Int64\n"
     ]
    }
   ],
   "source": [
    "@code_warntype tr1(1.3, ff)"
   ]
  },
  {
   "cell_type": "code",
   "execution_count": 43,
   "metadata": {},
   "outputs": [
    {
     "data": {
      "text/plain": [
       "ff (generic function with 1 method)"
      ]
     },
     "execution_count": 43,
     "metadata": {},
     "output_type": "execute_result"
    }
   ],
   "source": [
    "ll = ff"
   ]
  },
  {
   "cell_type": "code",
   "execution_count": 50,
   "metadata": {},
   "outputs": [
    {
     "data": {
      "text/plain": [
       "ff (generic function with 1 method)"
      ]
     },
     "execution_count": 50,
     "metadata": {},
     "output_type": "execute_result"
    }
   ],
   "source": [
    "ll"
   ]
  },
  {
   "cell_type": "code",
   "execution_count": 58,
   "metadata": {},
   "outputs": [
    {
     "data": {
      "text/plain": [
       "tr4 (generic function with 1 method)"
      ]
     },
     "execution_count": 58,
     "metadata": {},
     "output_type": "execute_result"
    }
   ],
   "source": [
    "function tr4(y)\n",
    "    return length([hh(y) for y in 1:10])\n",
    "end"
   ]
  },
  {
   "cell_type": "code",
   "execution_count": 48,
   "metadata": {},
   "outputs": [
    {
     "name": "stdout",
     "output_type": "stream",
     "text": [
      "  8.168 s (80000385 allocations: 1.44 GiB)\n"
     ]
    },
    {
     "data": {
      "text/plain": [
       "10"
      ]
     },
     "execution_count": 48,
     "metadata": {},
     "output_type": "execute_result"
    }
   ],
   "source": [
    "@btime tr2(1.3)"
   ]
  },
  {
   "cell_type": "code",
   "execution_count": 63,
   "metadata": {},
   "outputs": [
    {
     "ename": "LoadError",
     "evalue": "\u001b[91msyntax: unexpected \"end\"\u001b[39m",
     "output_type": "error",
     "traceback": [
      "\u001b[91msyntax: unexpected \"end\"\u001b[39m",
      "",
      "Stacktrace:",
      " [1] \u001b[1minclude_string\u001b[22m\u001b[22m\u001b[1m(\u001b[22m\u001b[22m::String, ::String\u001b[1m)\u001b[22m\u001b[22m at \u001b[1m./loading.jl:522\u001b[22m\u001b[22m"
     ]
    }
   ],
   "source": [
    "for i=1:3\n",
    "    i++\n",
    "end"
   ]
  },
  {
   "cell_type": "code",
   "execution_count": 405,
   "metadata": {},
   "outputs": [
    {
     "data": {
      "text/plain": [
       "fit (generic function with 1 method)"
      ]
     },
     "execution_count": 405,
     "metadata": {},
     "output_type": "execute_result"
    }
   ],
   "source": [
    "function fit(data,func,stpars) # fits\n",
    "    # function to minimize\n",
    "    function rchi2(pars...)\n",
    "        dd = data[:,1:3]\n",
    "        sum(begin\n",
    "                sx = data[i,1];\n",
    "                dy = data[i,2];\n",
    "                ey = data[i,3];\n",
    "                ((dy-func(sx,pars...))/ey)^2\n",
    "                end for i=1:size(data,1))\n",
    "    end\n",
    "    m = Model(solver=NLoptSolver(algorithm=:LD_MMA))\n",
    "    JuMP.register(m, :rchi2, length(stpars), rchi2, autodiff=true)\n",
    "    \n",
    "    jump_pars = [] # to keep parameter references\n",
    "    for (i,p) in enumerate(stpars)\n",
    "        @eval push!($jump_pars, @variable($m, $(Symbol(\"par_\"*string(i))), start = $p))\n",
    "    end\n",
    "    # string version of the function call\n",
    "    str = \"rchi2(par_1\"*prod(\",par_\"*string(i) for i=2:length(jump_pars))*\")\"\n",
    "    \n",
    "    @eval @NLobjective($m, Min, $(parse(str)))\n",
    "    print(m)\n",
    "\n",
    "    # fit!\n",
    "    status = solve(m)\n",
    "\n",
    "    println(\"Objective value: \", getobjectivevalue(m))\n",
    "    [getvalue(p) for p in jump_pars]\n",
    "end"
   ]
  },
  {
   "cell_type": "markdown",
   "metadata": {},
   "source": [
    "### Comparison of the time-wise efficienty"
   ]
  },
  {
   "cell_type": "code",
   "execution_count": 406,
   "metadata": {},
   "outputs": [
    {
     "data": {
      "text/plain": [
       "test (generic function with 1 method)"
      ]
     },
     "execution_count": 406,
     "metadata": {},
     "output_type": "execute_result"
    }
   ],
   "source": [
    "function test()\n",
    "    let sv = -1:0.1:2, gunc = (x->x^2+3), func = (x,a,b,c)->a*x^3+b*x^4+c\n",
    "        data = hcat(sv,gunc.(sv),[0.5 for i in 1:length(sv)])\n",
    "        pars = fit(data,func,(1,2,4)) # fit\n",
    "        # plot\n",
    "        plot(data[:,1],data[:,2],yerr=data[:,3],lw=0, lab = \"data\")\n",
    "        plot!(data[:,1],[func(s,pars...) for s in data[:,1]], lab = \"fit\")\n",
    "    end\n",
    "end"
   ]
  },
  {
   "cell_type": "code",
   "execution_count": 408,
   "metadata": {},
   "outputs": [
    {
     "name": "stdout",
     "output_type": "stream",
     "text": [
      "Min rchi2(par_1, par_2, par_3)\n",
      "Subject to\n",
      " par_1\n",
      " par_2\n",
      " par_3\n",
      "Objective value: 12.16777608947337\n",
      "  0.010143 seconds (21.14 k allocations: 1.303 MiB)\n"
     ]
    },
    {
     "data": {
      "text/html": [
       "<?xml version=\"1.0\" encoding=\"utf-8\"?>\n",
       "<svg xmlns=\"http://www.w3.org/2000/svg\" xmlns:xlink=\"http://www.w3.org/1999/xlink\" width=\"600\" height=\"400\" viewBox=\"0 0 600 400\">\n",
       "<defs>\n",
       "  <clipPath id=\"clip5800\">\n",
       "    <rect x=\"0\" y=\"0\" width=\"600\" height=\"400\"/>\n",
       "  </clipPath>\n",
       "</defs>\n",
       "<polygon clip-path=\"url(#clip5800)\" points=\"\n",
       "0,400 600,400 600,0 0,0 \n",
       "  \" fill=\"#ffffff\" fill-opacity=\"1\"/>\n",
       "<defs>\n",
       "  <clipPath id=\"clip5801\">\n",
       "    <rect x=\"120\" y=\"0\" width=\"421\" height=\"400\"/>\n",
       "  </clipPath>\n",
       "</defs>\n",
       "<polygon clip-path=\"url(#clip5800)\" points=\"\n",
       "22.3377,375.813 580.315,375.813 580.315,11.811 22.3377,11.811 \n",
       "  \" fill=\"#ffffff\" fill-opacity=\"1\"/>\n",
       "<defs>\n",
       "  <clipPath id=\"clip5802\">\n",
       "    <rect x=\"22\" y=\"11\" width=\"559\" height=\"365\"/>\n",
       "  </clipPath>\n",
       "</defs>\n",
       "<polyline clip-path=\"url(#clip5802)\" style=\"stroke:#000000; stroke-width:0.5; stroke-opacity:0.1; fill:none\" points=\"\n",
       "  38.1295,375.813 38.1295,11.811 \n",
       "  \"/>\n",
       "<polyline clip-path=\"url(#clip5802)\" style=\"stroke:#000000; stroke-width:0.5; stroke-opacity:0.1; fill:none\" points=\"\n",
       "  213.594,375.813 213.594,11.811 \n",
       "  \"/>\n",
       "<polyline clip-path=\"url(#clip5802)\" style=\"stroke:#000000; stroke-width:0.5; stroke-opacity:0.1; fill:none\" points=\"\n",
       "  389.059,375.813 389.059,11.811 \n",
       "  \"/>\n",
       "<polyline clip-path=\"url(#clip5802)\" style=\"stroke:#000000; stroke-width:0.5; stroke-opacity:0.1; fill:none\" points=\"\n",
       "  564.523,375.813 564.523,11.811 \n",
       "  \"/>\n",
       "<polyline clip-path=\"url(#clip5802)\" style=\"stroke:#000000; stroke-width:0.5; stroke-opacity:0.1; fill:none\" points=\"\n",
       "  22.3377,331.172 580.315,331.172 \n",
       "  \"/>\n",
       "<polyline clip-path=\"url(#clip5802)\" style=\"stroke:#000000; stroke-width:0.5; stroke-opacity:0.1; fill:none\" points=\"\n",
       "  22.3377,262.492 580.315,262.492 \n",
       "  \"/>\n",
       "<polyline clip-path=\"url(#clip5802)\" style=\"stroke:#000000; stroke-width:0.5; stroke-opacity:0.1; fill:none\" points=\"\n",
       "  22.3377,193.812 580.315,193.812 \n",
       "  \"/>\n",
       "<polyline clip-path=\"url(#clip5802)\" style=\"stroke:#000000; stroke-width:0.5; stroke-opacity:0.1; fill:none\" points=\"\n",
       "  22.3377,125.133 580.315,125.133 \n",
       "  \"/>\n",
       "<polyline clip-path=\"url(#clip5802)\" style=\"stroke:#000000; stroke-width:0.5; stroke-opacity:0.1; fill:none\" points=\"\n",
       "  22.3377,56.4528 580.315,56.4528 \n",
       "  \"/>\n",
       "<polyline clip-path=\"url(#clip5800)\" style=\"stroke:#000000; stroke-width:1; stroke-opacity:1; fill:none\" points=\"\n",
       "  22.3377,375.813 580.315,375.813 \n",
       "  \"/>\n",
       "<polyline clip-path=\"url(#clip5800)\" style=\"stroke:#000000; stroke-width:1; stroke-opacity:1; fill:none\" points=\"\n",
       "  22.3377,375.813 22.3377,11.811 \n",
       "  \"/>\n",
       "<polyline clip-path=\"url(#clip5800)\" style=\"stroke:#000000; stroke-width:1; stroke-opacity:1; fill:none\" points=\"\n",
       "  38.1295,375.813 38.1295,370.353 \n",
       "  \"/>\n",
       "<polyline clip-path=\"url(#clip5800)\" style=\"stroke:#000000; stroke-width:1; stroke-opacity:1; fill:none\" points=\"\n",
       "  213.594,375.813 213.594,370.353 \n",
       "  \"/>\n",
       "<polyline clip-path=\"url(#clip5800)\" style=\"stroke:#000000; stroke-width:1; stroke-opacity:1; fill:none\" points=\"\n",
       "  389.059,375.813 389.059,370.353 \n",
       "  \"/>\n",
       "<polyline clip-path=\"url(#clip5800)\" style=\"stroke:#000000; stroke-width:1; stroke-opacity:1; fill:none\" points=\"\n",
       "  564.523,375.813 564.523,370.353 \n",
       "  \"/>\n",
       "<polyline clip-path=\"url(#clip5800)\" style=\"stroke:#000000; stroke-width:1; stroke-opacity:1; fill:none\" points=\"\n",
       "  22.3377,331.172 30.7073,331.172 \n",
       "  \"/>\n",
       "<polyline clip-path=\"url(#clip5800)\" style=\"stroke:#000000; stroke-width:1; stroke-opacity:1; fill:none\" points=\"\n",
       "  22.3377,262.492 30.7073,262.492 \n",
       "  \"/>\n",
       "<polyline clip-path=\"url(#clip5800)\" style=\"stroke:#000000; stroke-width:1; stroke-opacity:1; fill:none\" points=\"\n",
       "  22.3377,193.812 30.7073,193.812 \n",
       "  \"/>\n",
       "<polyline clip-path=\"url(#clip5800)\" style=\"stroke:#000000; stroke-width:1; stroke-opacity:1; fill:none\" points=\"\n",
       "  22.3377,125.133 30.7073,125.133 \n",
       "  \"/>\n",
       "<polyline clip-path=\"url(#clip5800)\" style=\"stroke:#000000; stroke-width:1; stroke-opacity:1; fill:none\" points=\"\n",
       "  22.3377,56.4528 30.7073,56.4528 \n",
       "  \"/>\n",
       "<g clip-path=\"url(#clip5800)\">\n",
       "<text style=\"fill:#000000; fill-opacity:1; font-family:Arial,Helvetica Neue,Helvetica,sans-serif; font-size:12; text-anchor:middle;\" transform=\"rotate(0, 38.1295, 389.613)\" x=\"38.1295\" y=\"389.613\">-1</text>\n",
       "</g>\n",
       "<g clip-path=\"url(#clip5800)\">\n",
       "<text style=\"fill:#000000; fill-opacity:1; font-family:Arial,Helvetica Neue,Helvetica,sans-serif; font-size:12; text-anchor:middle;\" transform=\"rotate(0, 213.594, 389.613)\" x=\"213.594\" y=\"389.613\">0</text>\n",
       "</g>\n",
       "<g clip-path=\"url(#clip5800)\">\n",
       "<text style=\"fill:#000000; fill-opacity:1; font-family:Arial,Helvetica Neue,Helvetica,sans-serif; font-size:12; text-anchor:middle;\" transform=\"rotate(0, 389.059, 389.613)\" x=\"389.059\" y=\"389.613\">1</text>\n",
       "</g>\n",
       "<g clip-path=\"url(#clip5800)\">\n",
       "<text style=\"fill:#000000; fill-opacity:1; font-family:Arial,Helvetica Neue,Helvetica,sans-serif; font-size:12; text-anchor:middle;\" transform=\"rotate(0, 564.523, 389.613)\" x=\"564.523\" y=\"389.613\">2</text>\n",
       "</g>\n",
       "<g clip-path=\"url(#clip5800)\">\n",
       "<text style=\"fill:#000000; fill-opacity:1; font-family:Arial,Helvetica Neue,Helvetica,sans-serif; font-size:12; text-anchor:end;\" transform=\"rotate(0, 16.3377, 335.672)\" x=\"16.3377\" y=\"335.672\">3</text>\n",
       "</g>\n",
       "<g clip-path=\"url(#clip5800)\">\n",
       "<text style=\"fill:#000000; fill-opacity:1; font-family:Arial,Helvetica Neue,Helvetica,sans-serif; font-size:12; text-anchor:end;\" transform=\"rotate(0, 16.3377, 266.992)\" x=\"16.3377\" y=\"266.992\">4</text>\n",
       "</g>\n",
       "<g clip-path=\"url(#clip5800)\">\n",
       "<text style=\"fill:#000000; fill-opacity:1; font-family:Arial,Helvetica Neue,Helvetica,sans-serif; font-size:12; text-anchor:end;\" transform=\"rotate(0, 16.3377, 198.312)\" x=\"16.3377\" y=\"198.312\">5</text>\n",
       "</g>\n",
       "<g clip-path=\"url(#clip5800)\">\n",
       "<text style=\"fill:#000000; fill-opacity:1; font-family:Arial,Helvetica Neue,Helvetica,sans-serif; font-size:12; text-anchor:end;\" transform=\"rotate(0, 16.3377, 129.633)\" x=\"16.3377\" y=\"129.633\">6</text>\n",
       "</g>\n",
       "<g clip-path=\"url(#clip5800)\">\n",
       "<text style=\"fill:#000000; fill-opacity:1; font-family:Arial,Helvetica Neue,Helvetica,sans-serif; font-size:12; text-anchor:end;\" transform=\"rotate(0, 16.3377, 60.9528)\" x=\"16.3377\" y=\"60.9528\">7</text>\n",
       "</g>\n",
       "<polyline clip-path=\"url(#clip5802)\" style=\"stroke:#009af9; stroke-width:0; stroke-opacity:1; fill:none\" points=\"\n",
       "  38.1295,262.492 55.6759,275.541 73.2224,287.217 90.7688,297.519 108.315,306.447 125.862,314.002 143.408,320.183 160.955,324.99 178.501,328.424 196.048,330.485 \n",
       "  213.594,331.172 231.14,330.485 248.687,328.424 266.233,324.99 283.78,320.183 301.326,314.002 318.873,306.447 336.419,297.519 353.966,287.217 371.512,275.541 \n",
       "  389.059,262.492 406.605,248.069 424.152,232.273 441.698,215.103 459.244,196.559 476.791,176.642 494.337,155.352 511.884,132.687 529.43,108.649 546.977,83.2379 \n",
       "  564.523,56.4528 \n",
       "  \"/>\n",
       "<polyline clip-path=\"url(#clip5802)\" style=\"stroke:#000000; stroke-width:1; stroke-opacity:1; fill:none\" points=\"\n",
       "  38.1295,296.832 38.1295,228.152 \n",
       "  \"/>\n",
       "<polyline clip-path=\"url(#clip5802)\" style=\"stroke:#000000; stroke-width:1; stroke-opacity:1; fill:none\" points=\"\n",
       "  55.6759,309.881 55.6759,241.201 \n",
       "  \"/>\n",
       "<polyline clip-path=\"url(#clip5802)\" style=\"stroke:#000000; stroke-width:1; stroke-opacity:1; fill:none\" points=\"\n",
       "  73.2224,321.556 73.2224,252.877 \n",
       "  \"/>\n",
       "<polyline clip-path=\"url(#clip5802)\" style=\"stroke:#000000; stroke-width:1; stroke-opacity:1; fill:none\" points=\"\n",
       "  90.7688,331.858 90.7688,263.179 \n",
       "  \"/>\n",
       "<polyline clip-path=\"url(#clip5802)\" style=\"stroke:#000000; stroke-width:1; stroke-opacity:1; fill:none\" points=\"\n",
       "  108.315,340.787 108.315,272.107 \n",
       "  \"/>\n",
       "<polyline clip-path=\"url(#clip5802)\" style=\"stroke:#000000; stroke-width:1; stroke-opacity:1; fill:none\" points=\"\n",
       "  125.862,348.342 125.862,279.662 \n",
       "  \"/>\n",
       "<polyline clip-path=\"url(#clip5802)\" style=\"stroke:#000000; stroke-width:1; stroke-opacity:1; fill:none\" points=\"\n",
       "  143.408,354.523 143.408,285.843 \n",
       "  \"/>\n",
       "<polyline clip-path=\"url(#clip5802)\" style=\"stroke:#000000; stroke-width:1; stroke-opacity:1; fill:none\" points=\"\n",
       "  160.955,359.33 160.955,290.651 \n",
       "  \"/>\n",
       "<polyline clip-path=\"url(#clip5802)\" style=\"stroke:#000000; stroke-width:1; stroke-opacity:1; fill:none\" points=\"\n",
       "  178.501,362.764 178.501,294.085 \n",
       "  \"/>\n",
       "<polyline clip-path=\"url(#clip5802)\" style=\"stroke:#000000; stroke-width:1; stroke-opacity:1; fill:none\" points=\"\n",
       "  196.048,364.825 196.048,296.145 \n",
       "  \"/>\n",
       "<polyline clip-path=\"url(#clip5802)\" style=\"stroke:#000000; stroke-width:1; stroke-opacity:1; fill:none\" points=\"\n",
       "  213.594,365.511 213.594,296.832 \n",
       "  \"/>\n",
       "<polyline clip-path=\"url(#clip5802)\" style=\"stroke:#000000; stroke-width:1; stroke-opacity:1; fill:none\" points=\"\n",
       "  231.14,364.825 231.14,296.145 \n",
       "  \"/>\n",
       "<polyline clip-path=\"url(#clip5802)\" style=\"stroke:#000000; stroke-width:1; stroke-opacity:1; fill:none\" points=\"\n",
       "  248.687,362.764 248.687,294.085 \n",
       "  \"/>\n",
       "<polyline clip-path=\"url(#clip5802)\" style=\"stroke:#000000; stroke-width:1; stroke-opacity:1; fill:none\" points=\"\n",
       "  266.233,359.33 266.233,290.651 \n",
       "  \"/>\n",
       "<polyline clip-path=\"url(#clip5802)\" style=\"stroke:#000000; stroke-width:1; stroke-opacity:1; fill:none\" points=\"\n",
       "  283.78,354.523 283.78,285.843 \n",
       "  \"/>\n",
       "<polyline clip-path=\"url(#clip5802)\" style=\"stroke:#000000; stroke-width:1; stroke-opacity:1; fill:none\" points=\"\n",
       "  301.326,348.342 301.326,279.662 \n",
       "  \"/>\n",
       "<polyline clip-path=\"url(#clip5802)\" style=\"stroke:#000000; stroke-width:1; stroke-opacity:1; fill:none\" points=\"\n",
       "  318.873,340.787 318.873,272.107 \n",
       "  \"/>\n",
       "<polyline clip-path=\"url(#clip5802)\" style=\"stroke:#000000; stroke-width:1; stroke-opacity:1; fill:none\" points=\"\n",
       "  336.419,331.858 336.419,263.179 \n",
       "  \"/>\n",
       "<polyline clip-path=\"url(#clip5802)\" style=\"stroke:#000000; stroke-width:1; stroke-opacity:1; fill:none\" points=\"\n",
       "  353.966,321.556 353.966,252.877 \n",
       "  \"/>\n",
       "<polyline clip-path=\"url(#clip5802)\" style=\"stroke:#000000; stroke-width:1; stroke-opacity:1; fill:none\" points=\"\n",
       "  371.512,309.881 371.512,241.201 \n",
       "  \"/>\n",
       "<polyline clip-path=\"url(#clip5802)\" style=\"stroke:#000000; stroke-width:1; stroke-opacity:1; fill:none\" points=\"\n",
       "  389.059,296.832 389.059,228.152 \n",
       "  \"/>\n",
       "<polyline clip-path=\"url(#clip5802)\" style=\"stroke:#000000; stroke-width:1; stroke-opacity:1; fill:none\" points=\"\n",
       "  406.605,282.409 406.605,213.729 \n",
       "  \"/>\n",
       "<polyline clip-path=\"url(#clip5802)\" style=\"stroke:#000000; stroke-width:1; stroke-opacity:1; fill:none\" points=\"\n",
       "  424.152,266.613 424.152,197.933 \n",
       "  \"/>\n",
       "<polyline clip-path=\"url(#clip5802)\" style=\"stroke:#000000; stroke-width:1; stroke-opacity:1; fill:none\" points=\"\n",
       "  441.698,249.443 441.698,180.763 \n",
       "  \"/>\n",
       "<polyline clip-path=\"url(#clip5802)\" style=\"stroke:#000000; stroke-width:1; stroke-opacity:1; fill:none\" points=\"\n",
       "  459.244,230.899 459.244,162.22 \n",
       "  \"/>\n",
       "<polyline clip-path=\"url(#clip5802)\" style=\"stroke:#000000; stroke-width:1; stroke-opacity:1; fill:none\" points=\"\n",
       "  476.791,210.982 476.791,142.302 \n",
       "  \"/>\n",
       "<polyline clip-path=\"url(#clip5802)\" style=\"stroke:#000000; stroke-width:1; stroke-opacity:1; fill:none\" points=\"\n",
       "  494.337,189.691 494.337,121.012 \n",
       "  \"/>\n",
       "<polyline clip-path=\"url(#clip5802)\" style=\"stroke:#000000; stroke-width:1; stroke-opacity:1; fill:none\" points=\"\n",
       "  511.884,167.027 511.884,98.3474 \n",
       "  \"/>\n",
       "<polyline clip-path=\"url(#clip5802)\" style=\"stroke:#000000; stroke-width:1; stroke-opacity:1; fill:none\" points=\"\n",
       "  529.43,142.989 529.43,74.3096 \n",
       "  \"/>\n",
       "<polyline clip-path=\"url(#clip5802)\" style=\"stroke:#000000; stroke-width:1; stroke-opacity:1; fill:none\" points=\"\n",
       "  546.977,117.578 546.977,48.8981 \n",
       "  \"/>\n",
       "<polyline clip-path=\"url(#clip5802)\" style=\"stroke:#000000; stroke-width:1; stroke-opacity:1; fill:none\" points=\"\n",
       "  564.523,90.7927 564.523,22.113 \n",
       "  \"/>\n",
       "<line clip-path=\"url(#clip5802)\" x1=\"43.1295\" y1=\"296.832\" x2=\"33.1295\" y2=\"296.832\" style=\"stroke:#000000; stroke-opacity:1\"/>\n",
       "<line clip-path=\"url(#clip5802)\" x1=\"43.1295\" y1=\"228.152\" x2=\"33.1295\" y2=\"228.152\" style=\"stroke:#000000; stroke-opacity:1\"/>\n",
       "<line clip-path=\"url(#clip5802)\" x1=\"60.6759\" y1=\"309.881\" x2=\"50.6759\" y2=\"309.881\" style=\"stroke:#000000; stroke-opacity:1\"/>\n",
       "<line clip-path=\"url(#clip5802)\" x1=\"60.6759\" y1=\"241.201\" x2=\"50.6759\" y2=\"241.201\" style=\"stroke:#000000; stroke-opacity:1\"/>\n",
       "<line clip-path=\"url(#clip5802)\" x1=\"78.2224\" y1=\"321.556\" x2=\"68.2224\" y2=\"321.556\" style=\"stroke:#000000; stroke-opacity:1\"/>\n",
       "<line clip-path=\"url(#clip5802)\" x1=\"78.2224\" y1=\"252.877\" x2=\"68.2224\" y2=\"252.877\" style=\"stroke:#000000; stroke-opacity:1\"/>\n",
       "<line clip-path=\"url(#clip5802)\" x1=\"95.7688\" y1=\"331.858\" x2=\"85.7688\" y2=\"331.858\" style=\"stroke:#000000; stroke-opacity:1\"/>\n",
       "<line clip-path=\"url(#clip5802)\" x1=\"95.7688\" y1=\"263.179\" x2=\"85.7688\" y2=\"263.179\" style=\"stroke:#000000; stroke-opacity:1\"/>\n",
       "<line clip-path=\"url(#clip5802)\" x1=\"113.315\" y1=\"340.787\" x2=\"103.315\" y2=\"340.787\" style=\"stroke:#000000; stroke-opacity:1\"/>\n",
       "<line clip-path=\"url(#clip5802)\" x1=\"113.315\" y1=\"272.107\" x2=\"103.315\" y2=\"272.107\" style=\"stroke:#000000; stroke-opacity:1\"/>\n",
       "<line clip-path=\"url(#clip5802)\" x1=\"130.862\" y1=\"348.342\" x2=\"120.862\" y2=\"348.342\" style=\"stroke:#000000; stroke-opacity:1\"/>\n",
       "<line clip-path=\"url(#clip5802)\" x1=\"130.862\" y1=\"279.662\" x2=\"120.862\" y2=\"279.662\" style=\"stroke:#000000; stroke-opacity:1\"/>\n",
       "<line clip-path=\"url(#clip5802)\" x1=\"148.408\" y1=\"354.523\" x2=\"138.408\" y2=\"354.523\" style=\"stroke:#000000; stroke-opacity:1\"/>\n",
       "<line clip-path=\"url(#clip5802)\" x1=\"148.408\" y1=\"285.843\" x2=\"138.408\" y2=\"285.843\" style=\"stroke:#000000; stroke-opacity:1\"/>\n",
       "<line clip-path=\"url(#clip5802)\" x1=\"165.955\" y1=\"359.33\" x2=\"155.955\" y2=\"359.33\" style=\"stroke:#000000; stroke-opacity:1\"/>\n",
       "<line clip-path=\"url(#clip5802)\" x1=\"165.955\" y1=\"290.651\" x2=\"155.955\" y2=\"290.651\" style=\"stroke:#000000; stroke-opacity:1\"/>\n",
       "<line clip-path=\"url(#clip5802)\" x1=\"183.501\" y1=\"362.764\" x2=\"173.501\" y2=\"362.764\" style=\"stroke:#000000; stroke-opacity:1\"/>\n",
       "<line clip-path=\"url(#clip5802)\" x1=\"183.501\" y1=\"294.085\" x2=\"173.501\" y2=\"294.085\" style=\"stroke:#000000; stroke-opacity:1\"/>\n",
       "<line clip-path=\"url(#clip5802)\" x1=\"201.048\" y1=\"364.825\" x2=\"191.048\" y2=\"364.825\" style=\"stroke:#000000; stroke-opacity:1\"/>\n",
       "<line clip-path=\"url(#clip5802)\" x1=\"201.048\" y1=\"296.145\" x2=\"191.048\" y2=\"296.145\" style=\"stroke:#000000; stroke-opacity:1\"/>\n",
       "<line clip-path=\"url(#clip5802)\" x1=\"218.594\" y1=\"365.511\" x2=\"208.594\" y2=\"365.511\" style=\"stroke:#000000; stroke-opacity:1\"/>\n",
       "<line clip-path=\"url(#clip5802)\" x1=\"218.594\" y1=\"296.832\" x2=\"208.594\" y2=\"296.832\" style=\"stroke:#000000; stroke-opacity:1\"/>\n",
       "<line clip-path=\"url(#clip5802)\" x1=\"236.14\" y1=\"364.825\" x2=\"226.14\" y2=\"364.825\" style=\"stroke:#000000; stroke-opacity:1\"/>\n",
       "<line clip-path=\"url(#clip5802)\" x1=\"236.14\" y1=\"296.145\" x2=\"226.14\" y2=\"296.145\" style=\"stroke:#000000; stroke-opacity:1\"/>\n",
       "<line clip-path=\"url(#clip5802)\" x1=\"253.687\" y1=\"362.764\" x2=\"243.687\" y2=\"362.764\" style=\"stroke:#000000; stroke-opacity:1\"/>\n",
       "<line clip-path=\"url(#clip5802)\" x1=\"253.687\" y1=\"294.085\" x2=\"243.687\" y2=\"294.085\" style=\"stroke:#000000; stroke-opacity:1\"/>\n",
       "<line clip-path=\"url(#clip5802)\" x1=\"271.233\" y1=\"359.33\" x2=\"261.233\" y2=\"359.33\" style=\"stroke:#000000; stroke-opacity:1\"/>\n",
       "<line clip-path=\"url(#clip5802)\" x1=\"271.233\" y1=\"290.651\" x2=\"261.233\" y2=\"290.651\" style=\"stroke:#000000; stroke-opacity:1\"/>\n",
       "<line clip-path=\"url(#clip5802)\" x1=\"288.78\" y1=\"354.523\" x2=\"278.78\" y2=\"354.523\" style=\"stroke:#000000; stroke-opacity:1\"/>\n",
       "<line clip-path=\"url(#clip5802)\" x1=\"288.78\" y1=\"285.843\" x2=\"278.78\" y2=\"285.843\" style=\"stroke:#000000; stroke-opacity:1\"/>\n",
       "<line clip-path=\"url(#clip5802)\" x1=\"306.326\" y1=\"348.342\" x2=\"296.326\" y2=\"348.342\" style=\"stroke:#000000; stroke-opacity:1\"/>\n",
       "<line clip-path=\"url(#clip5802)\" x1=\"306.326\" y1=\"279.662\" x2=\"296.326\" y2=\"279.662\" style=\"stroke:#000000; stroke-opacity:1\"/>\n",
       "<line clip-path=\"url(#clip5802)\" x1=\"323.873\" y1=\"340.787\" x2=\"313.873\" y2=\"340.787\" style=\"stroke:#000000; stroke-opacity:1\"/>\n",
       "<line clip-path=\"url(#clip5802)\" x1=\"323.873\" y1=\"272.107\" x2=\"313.873\" y2=\"272.107\" style=\"stroke:#000000; stroke-opacity:1\"/>\n",
       "<line clip-path=\"url(#clip5802)\" x1=\"341.419\" y1=\"331.858\" x2=\"331.419\" y2=\"331.858\" style=\"stroke:#000000; stroke-opacity:1\"/>\n",
       "<line clip-path=\"url(#clip5802)\" x1=\"341.419\" y1=\"263.179\" x2=\"331.419\" y2=\"263.179\" style=\"stroke:#000000; stroke-opacity:1\"/>\n",
       "<line clip-path=\"url(#clip5802)\" x1=\"358.966\" y1=\"321.556\" x2=\"348.966\" y2=\"321.556\" style=\"stroke:#000000; stroke-opacity:1\"/>\n",
       "<line clip-path=\"url(#clip5802)\" x1=\"358.966\" y1=\"252.877\" x2=\"348.966\" y2=\"252.877\" style=\"stroke:#000000; stroke-opacity:1\"/>\n",
       "<line clip-path=\"url(#clip5802)\" x1=\"376.512\" y1=\"309.881\" x2=\"366.512\" y2=\"309.881\" style=\"stroke:#000000; stroke-opacity:1\"/>\n",
       "<line clip-path=\"url(#clip5802)\" x1=\"376.512\" y1=\"241.201\" x2=\"366.512\" y2=\"241.201\" style=\"stroke:#000000; stroke-opacity:1\"/>\n",
       "<line clip-path=\"url(#clip5802)\" x1=\"394.059\" y1=\"296.832\" x2=\"384.059\" y2=\"296.832\" style=\"stroke:#000000; stroke-opacity:1\"/>\n",
       "<line clip-path=\"url(#clip5802)\" x1=\"394.059\" y1=\"228.152\" x2=\"384.059\" y2=\"228.152\" style=\"stroke:#000000; stroke-opacity:1\"/>\n",
       "<line clip-path=\"url(#clip5802)\" x1=\"411.605\" y1=\"282.409\" x2=\"401.605\" y2=\"282.409\" style=\"stroke:#000000; stroke-opacity:1\"/>\n",
       "<line clip-path=\"url(#clip5802)\" x1=\"411.605\" y1=\"213.729\" x2=\"401.605\" y2=\"213.729\" style=\"stroke:#000000; stroke-opacity:1\"/>\n",
       "<line clip-path=\"url(#clip5802)\" x1=\"429.152\" y1=\"266.613\" x2=\"419.152\" y2=\"266.613\" style=\"stroke:#000000; stroke-opacity:1\"/>\n",
       "<line clip-path=\"url(#clip5802)\" x1=\"429.152\" y1=\"197.933\" x2=\"419.152\" y2=\"197.933\" style=\"stroke:#000000; stroke-opacity:1\"/>\n",
       "<line clip-path=\"url(#clip5802)\" x1=\"446.698\" y1=\"249.443\" x2=\"436.698\" y2=\"249.443\" style=\"stroke:#000000; stroke-opacity:1\"/>\n",
       "<line clip-path=\"url(#clip5802)\" x1=\"446.698\" y1=\"180.763\" x2=\"436.698\" y2=\"180.763\" style=\"stroke:#000000; stroke-opacity:1\"/>\n",
       "<line clip-path=\"url(#clip5802)\" x1=\"464.244\" y1=\"230.899\" x2=\"454.244\" y2=\"230.899\" style=\"stroke:#000000; stroke-opacity:1\"/>\n",
       "<line clip-path=\"url(#clip5802)\" x1=\"464.244\" y1=\"162.22\" x2=\"454.244\" y2=\"162.22\" style=\"stroke:#000000; stroke-opacity:1\"/>\n",
       "<line clip-path=\"url(#clip5802)\" x1=\"481.791\" y1=\"210.982\" x2=\"471.791\" y2=\"210.982\" style=\"stroke:#000000; stroke-opacity:1\"/>\n",
       "<line clip-path=\"url(#clip5802)\" x1=\"481.791\" y1=\"142.302\" x2=\"471.791\" y2=\"142.302\" style=\"stroke:#000000; stroke-opacity:1\"/>\n",
       "<line clip-path=\"url(#clip5802)\" x1=\"499.337\" y1=\"189.691\" x2=\"489.337\" y2=\"189.691\" style=\"stroke:#000000; stroke-opacity:1\"/>\n",
       "<line clip-path=\"url(#clip5802)\" x1=\"499.337\" y1=\"121.012\" x2=\"489.337\" y2=\"121.012\" style=\"stroke:#000000; stroke-opacity:1\"/>\n",
       "<line clip-path=\"url(#clip5802)\" x1=\"516.884\" y1=\"167.027\" x2=\"506.884\" y2=\"167.027\" style=\"stroke:#000000; stroke-opacity:1\"/>\n",
       "<line clip-path=\"url(#clip5802)\" x1=\"516.884\" y1=\"98.3474\" x2=\"506.884\" y2=\"98.3474\" style=\"stroke:#000000; stroke-opacity:1\"/>\n",
       "<line clip-path=\"url(#clip5802)\" x1=\"534.43\" y1=\"142.989\" x2=\"524.43\" y2=\"142.989\" style=\"stroke:#000000; stroke-opacity:1\"/>\n",
       "<line clip-path=\"url(#clip5802)\" x1=\"534.43\" y1=\"74.3096\" x2=\"524.43\" y2=\"74.3096\" style=\"stroke:#000000; stroke-opacity:1\"/>\n",
       "<line clip-path=\"url(#clip5802)\" x1=\"551.977\" y1=\"117.578\" x2=\"541.977\" y2=\"117.578\" style=\"stroke:#000000; stroke-opacity:1\"/>\n",
       "<line clip-path=\"url(#clip5802)\" x1=\"551.977\" y1=\"48.8981\" x2=\"541.977\" y2=\"48.8981\" style=\"stroke:#000000; stroke-opacity:1\"/>\n",
       "<line clip-path=\"url(#clip5802)\" x1=\"569.523\" y1=\"90.7927\" x2=\"559.523\" y2=\"90.7927\" style=\"stroke:#000000; stroke-opacity:1\"/>\n",
       "<line clip-path=\"url(#clip5802)\" x1=\"569.523\" y1=\"22.113\" x2=\"559.523\" y2=\"22.113\" style=\"stroke:#000000; stroke-opacity:1\"/>\n",
       "<polyline clip-path=\"url(#clip5802)\" style=\"stroke:#e26f46; stroke-width:1; stroke-opacity:1; fill:none\" points=\"\n",
       "  38.1295,309.15 55.6759,308.267 73.2224,307.278 90.7688,306.289 108.315,305.381 125.862,304.613 143.408,304.02 160.955,303.612 178.501,303.378 196.048,303.284 \n",
       "  213.594,303.269 231.14,303.252 248.687,303.128 266.233,302.768 283.78,302.02 301.326,300.707 318.873,298.632 336.419,295.571 353.966,291.279 371.512,285.488 \n",
       "  389.059,277.904 406.605,268.211 424.152,256.071 441.698,241.12 459.244,222.973 476.791,201.221 494.337,175.43 511.884,145.144 529.43,109.884 546.977,69.1476 \n",
       "  564.523,22.4076 \n",
       "  \"/>\n",
       "<polygon clip-path=\"url(#clip5800)\" points=\"\n",
       "479.251,78.051 562.315,78.051 562.315,32.691 479.251,32.691 \n",
       "  \" fill=\"#ffffff\" fill-opacity=\"1\"/>\n",
       "<polyline clip-path=\"url(#clip5800)\" style=\"stroke:#000000; stroke-width:1; stroke-opacity:1; fill:none\" points=\"\n",
       "  479.251,78.051 562.315,78.051 562.315,32.691 479.251,32.691 479.251,78.051 \n",
       "  \"/>\n",
       "<polyline clip-path=\"url(#clip5800)\" style=\"stroke:#009af9; stroke-width:0; stroke-opacity:1; fill:none\" points=\"\n",
       "  485.251,47.811 521.251,47.811 \n",
       "  \"/>\n",
       "<g clip-path=\"url(#clip5800)\">\n",
       "<text style=\"fill:#000000; fill-opacity:1; font-family:Arial,Helvetica Neue,Helvetica,sans-serif; font-size:12; text-anchor:start;\" transform=\"rotate(0, 527.251, 52.311)\" x=\"527.251\" y=\"52.311\">data</text>\n",
       "</g>\n",
       "<polyline clip-path=\"url(#clip5800)\" style=\"stroke:#e26f46; stroke-width:1; stroke-opacity:1; fill:none\" points=\"\n",
       "  485.251,62.931 521.251,62.931 \n",
       "  \"/>\n",
       "<g clip-path=\"url(#clip5800)\">\n",
       "<text style=\"fill:#000000; fill-opacity:1; font-family:Arial,Helvetica Neue,Helvetica,sans-serif; font-size:12; text-anchor:start;\" transform=\"rotate(0, 527.251, 67.431)\" x=\"527.251\" y=\"67.431\">fit</text>\n",
       "</g>\n",
       "</svg>\n"
      ]
     },
     "execution_count": 408,
     "metadata": {},
     "output_type": "execute_result"
    }
   ],
   "source": [
    "@time test()"
   ]
  },
  {
   "cell_type": "markdown",
   "metadata": {},
   "source": [
    "Straightforward implementation"
   ]
  },
  {
   "cell_type": "code",
   "execution_count": 392,
   "metadata": {},
   "outputs": [
    {
     "data": {
      "text/plain": [
       "my_fit (generic function with 1 method)"
      ]
     },
     "execution_count": 392,
     "metadata": {},
     "output_type": "execute_result"
    }
   ],
   "source": [
    "function my_fit()\n",
    "    sv = -1:0.1:2; gunc = x->x^2+3; func = (x,a,b,c)->a*x^3+b*x^4+c\n",
    "    data = hcat(sv,gunc.(sv),[0.5 for i in 1:length(sv)])\n",
    "    function fit() # fits\n",
    "        # function to minimize\n",
    "        function rchi2(a,b,c)\n",
    "            dd = data[:,1:3]\n",
    "            sum([begin\n",
    "                    sx = data[i,1];\n",
    "                    dy = data[i,2];\n",
    "                    ey = data[i,3];\n",
    "                    ((dy-func(sx,a,b,c))/ey)^2\n",
    "                        end for i=1:size(data,1)])\n",
    "        end\n",
    "        m = Model(solver=NLoptSolver(algorithm=:LD_MMA))\n",
    "        JuMP.register(m, :rchi2, 3, rchi2, autodiff=true)\n",
    "\n",
    "        @variable(m, p1, start = 1)\n",
    "        @variable(m, p2, start = 2)\n",
    "        @variable(m, p3, start = 3)\n",
    "        \n",
    "        @NLobjective(m, Min, rchi2(p1,p2,p3))\n",
    "        print(m)\n",
    "\n",
    "        # fit!\n",
    "        status = solve(m)\n",
    "\n",
    "        println(\"Objective value: \", getobjectivevalue(m))\n",
    "        getvalue(p1),getvalue(p2),getvalue(p3)\n",
    "    end\n",
    "    pars = fit()\n",
    "    plot(data[:,1],data[:,2],yerr=data[:,3],lw=0, lab = \"data\")\n",
    "    plot!(data[:,1],[func(s,pars...) for s in data[:,1]], lab = \"fit\")\n",
    "end"
   ]
  },
  {
   "cell_type": "code",
   "execution_count": 394,
   "metadata": {},
   "outputs": [
    {
     "name": "stdout",
     "output_type": "stream",
     "text": [
      "Min rchi2(p1, p2, p3)\n",
      "Subject to\n",
      " p1\n",
      " p2\n",
      " p3\n",
      "Objective value: 12.167376147780919\n",
      "  0.006948 seconds (22.77 k allocations: 1.949 MiB)\n"
     ]
    },
    {
     "data": {
      "text/html": [
       "<?xml version=\"1.0\" encoding=\"utf-8\"?>\n",
       "<svg xmlns=\"http://www.w3.org/2000/svg\" xmlns:xlink=\"http://www.w3.org/1999/xlink\" width=\"600\" height=\"400\" viewBox=\"0 0 600 400\">\n",
       "<defs>\n",
       "  <clipPath id=\"clip4200\">\n",
       "    <rect x=\"0\" y=\"0\" width=\"600\" height=\"400\"/>\n",
       "  </clipPath>\n",
       "</defs>\n",
       "<polygon clip-path=\"url(#clip4200)\" points=\"\n",
       "0,400 600,400 600,0 0,0 \n",
       "  \" fill=\"#ffffff\" fill-opacity=\"1\"/>\n",
       "<defs>\n",
       "  <clipPath id=\"clip4201\">\n",
       "    <rect x=\"120\" y=\"0\" width=\"421\" height=\"400\"/>\n",
       "  </clipPath>\n",
       "</defs>\n",
       "<polygon clip-path=\"url(#clip4200)\" points=\"\n",
       "22.3377,375.813 580.315,375.813 580.315,11.811 22.3377,11.811 \n",
       "  \" fill=\"#ffffff\" fill-opacity=\"1\"/>\n",
       "<defs>\n",
       "  <clipPath id=\"clip4202\">\n",
       "    <rect x=\"22\" y=\"11\" width=\"559\" height=\"365\"/>\n",
       "  </clipPath>\n",
       "</defs>\n",
       "<polyline clip-path=\"url(#clip4202)\" style=\"stroke:#000000; stroke-width:0.5; stroke-opacity:0.1; fill:none\" points=\"\n",
       "  38.1295,375.813 38.1295,11.811 \n",
       "  \"/>\n",
       "<polyline clip-path=\"url(#clip4202)\" style=\"stroke:#000000; stroke-width:0.5; stroke-opacity:0.1; fill:none\" points=\"\n",
       "  213.594,375.813 213.594,11.811 \n",
       "  \"/>\n",
       "<polyline clip-path=\"url(#clip4202)\" style=\"stroke:#000000; stroke-width:0.5; stroke-opacity:0.1; fill:none\" points=\"\n",
       "  389.059,375.813 389.059,11.811 \n",
       "  \"/>\n",
       "<polyline clip-path=\"url(#clip4202)\" style=\"stroke:#000000; stroke-width:0.5; stroke-opacity:0.1; fill:none\" points=\"\n",
       "  564.523,375.813 564.523,11.811 \n",
       "  \"/>\n",
       "<polyline clip-path=\"url(#clip4202)\" style=\"stroke:#000000; stroke-width:0.5; stroke-opacity:0.1; fill:none\" points=\"\n",
       "  22.3377,331.172 580.315,331.172 \n",
       "  \"/>\n",
       "<polyline clip-path=\"url(#clip4202)\" style=\"stroke:#000000; stroke-width:0.5; stroke-opacity:0.1; fill:none\" points=\"\n",
       "  22.3377,262.492 580.315,262.492 \n",
       "  \"/>\n",
       "<polyline clip-path=\"url(#clip4202)\" style=\"stroke:#000000; stroke-width:0.5; stroke-opacity:0.1; fill:none\" points=\"\n",
       "  22.3377,193.812 580.315,193.812 \n",
       "  \"/>\n",
       "<polyline clip-path=\"url(#clip4202)\" style=\"stroke:#000000; stroke-width:0.5; stroke-opacity:0.1; fill:none\" points=\"\n",
       "  22.3377,125.133 580.315,125.133 \n",
       "  \"/>\n",
       "<polyline clip-path=\"url(#clip4202)\" style=\"stroke:#000000; stroke-width:0.5; stroke-opacity:0.1; fill:none\" points=\"\n",
       "  22.3377,56.4528 580.315,56.4528 \n",
       "  \"/>\n",
       "<polyline clip-path=\"url(#clip4200)\" style=\"stroke:#000000; stroke-width:1; stroke-opacity:1; fill:none\" points=\"\n",
       "  22.3377,375.813 580.315,375.813 \n",
       "  \"/>\n",
       "<polyline clip-path=\"url(#clip4200)\" style=\"stroke:#000000; stroke-width:1; stroke-opacity:1; fill:none\" points=\"\n",
       "  22.3377,375.813 22.3377,11.811 \n",
       "  \"/>\n",
       "<polyline clip-path=\"url(#clip4200)\" style=\"stroke:#000000; stroke-width:1; stroke-opacity:1; fill:none\" points=\"\n",
       "  38.1295,375.813 38.1295,370.353 \n",
       "  \"/>\n",
       "<polyline clip-path=\"url(#clip4200)\" style=\"stroke:#000000; stroke-width:1; stroke-opacity:1; fill:none\" points=\"\n",
       "  213.594,375.813 213.594,370.353 \n",
       "  \"/>\n",
       "<polyline clip-path=\"url(#clip4200)\" style=\"stroke:#000000; stroke-width:1; stroke-opacity:1; fill:none\" points=\"\n",
       "  389.059,375.813 389.059,370.353 \n",
       "  \"/>\n",
       "<polyline clip-path=\"url(#clip4200)\" style=\"stroke:#000000; stroke-width:1; stroke-opacity:1; fill:none\" points=\"\n",
       "  564.523,375.813 564.523,370.353 \n",
       "  \"/>\n",
       "<polyline clip-path=\"url(#clip4200)\" style=\"stroke:#000000; stroke-width:1; stroke-opacity:1; fill:none\" points=\"\n",
       "  22.3377,331.172 30.7073,331.172 \n",
       "  \"/>\n",
       "<polyline clip-path=\"url(#clip4200)\" style=\"stroke:#000000; stroke-width:1; stroke-opacity:1; fill:none\" points=\"\n",
       "  22.3377,262.492 30.7073,262.492 \n",
       "  \"/>\n",
       "<polyline clip-path=\"url(#clip4200)\" style=\"stroke:#000000; stroke-width:1; stroke-opacity:1; fill:none\" points=\"\n",
       "  22.3377,193.812 30.7073,193.812 \n",
       "  \"/>\n",
       "<polyline clip-path=\"url(#clip4200)\" style=\"stroke:#000000; stroke-width:1; stroke-opacity:1; fill:none\" points=\"\n",
       "  22.3377,125.133 30.7073,125.133 \n",
       "  \"/>\n",
       "<polyline clip-path=\"url(#clip4200)\" style=\"stroke:#000000; stroke-width:1; stroke-opacity:1; fill:none\" points=\"\n",
       "  22.3377,56.4528 30.7073,56.4528 \n",
       "  \"/>\n",
       "<g clip-path=\"url(#clip4200)\">\n",
       "<text style=\"fill:#000000; fill-opacity:1; font-family:Arial,Helvetica Neue,Helvetica,sans-serif; font-size:12; text-anchor:middle;\" transform=\"rotate(0, 38.1295, 389.613)\" x=\"38.1295\" y=\"389.613\">-1</text>\n",
       "</g>\n",
       "<g clip-path=\"url(#clip4200)\">\n",
       "<text style=\"fill:#000000; fill-opacity:1; font-family:Arial,Helvetica Neue,Helvetica,sans-serif; font-size:12; text-anchor:middle;\" transform=\"rotate(0, 213.594, 389.613)\" x=\"213.594\" y=\"389.613\">0</text>\n",
       "</g>\n",
       "<g clip-path=\"url(#clip4200)\">\n",
       "<text style=\"fill:#000000; fill-opacity:1; font-family:Arial,Helvetica Neue,Helvetica,sans-serif; font-size:12; text-anchor:middle;\" transform=\"rotate(0, 389.059, 389.613)\" x=\"389.059\" y=\"389.613\">1</text>\n",
       "</g>\n",
       "<g clip-path=\"url(#clip4200)\">\n",
       "<text style=\"fill:#000000; fill-opacity:1; font-family:Arial,Helvetica Neue,Helvetica,sans-serif; font-size:12; text-anchor:middle;\" transform=\"rotate(0, 564.523, 389.613)\" x=\"564.523\" y=\"389.613\">2</text>\n",
       "</g>\n",
       "<g clip-path=\"url(#clip4200)\">\n",
       "<text style=\"fill:#000000; fill-opacity:1; font-family:Arial,Helvetica Neue,Helvetica,sans-serif; font-size:12; text-anchor:end;\" transform=\"rotate(0, 16.3377, 335.672)\" x=\"16.3377\" y=\"335.672\">3</text>\n",
       "</g>\n",
       "<g clip-path=\"url(#clip4200)\">\n",
       "<text style=\"fill:#000000; fill-opacity:1; font-family:Arial,Helvetica Neue,Helvetica,sans-serif; font-size:12; text-anchor:end;\" transform=\"rotate(0, 16.3377, 266.992)\" x=\"16.3377\" y=\"266.992\">4</text>\n",
       "</g>\n",
       "<g clip-path=\"url(#clip4200)\">\n",
       "<text style=\"fill:#000000; fill-opacity:1; font-family:Arial,Helvetica Neue,Helvetica,sans-serif; font-size:12; text-anchor:end;\" transform=\"rotate(0, 16.3377, 198.312)\" x=\"16.3377\" y=\"198.312\">5</text>\n",
       "</g>\n",
       "<g clip-path=\"url(#clip4200)\">\n",
       "<text style=\"fill:#000000; fill-opacity:1; font-family:Arial,Helvetica Neue,Helvetica,sans-serif; font-size:12; text-anchor:end;\" transform=\"rotate(0, 16.3377, 129.633)\" x=\"16.3377\" y=\"129.633\">6</text>\n",
       "</g>\n",
       "<g clip-path=\"url(#clip4200)\">\n",
       "<text style=\"fill:#000000; fill-opacity:1; font-family:Arial,Helvetica Neue,Helvetica,sans-serif; font-size:12; text-anchor:end;\" transform=\"rotate(0, 16.3377, 60.9528)\" x=\"16.3377\" y=\"60.9528\">7</text>\n",
       "</g>\n",
       "<polyline clip-path=\"url(#clip4202)\" style=\"stroke:#009af9; stroke-width:0; stroke-opacity:1; fill:none\" points=\"\n",
       "  38.1295,262.492 55.6759,275.541 73.2224,287.217 90.7688,297.519 108.315,306.447 125.862,314.002 143.408,320.183 160.955,324.99 178.501,328.424 196.048,330.485 \n",
       "  213.594,331.172 231.14,330.485 248.687,328.424 266.233,324.99 283.78,320.183 301.326,314.002 318.873,306.447 336.419,297.519 353.966,287.217 371.512,275.541 \n",
       "  389.059,262.492 406.605,248.069 424.152,232.273 441.698,215.103 459.244,196.559 476.791,176.642 494.337,155.352 511.884,132.687 529.43,108.649 546.977,83.2379 \n",
       "  564.523,56.4528 \n",
       "  \"/>\n",
       "<polyline clip-path=\"url(#clip4202)\" style=\"stroke:#000000; stroke-width:1; stroke-opacity:1; fill:none\" points=\"\n",
       "  38.1295,296.832 38.1295,228.152 \n",
       "  \"/>\n",
       "<polyline clip-path=\"url(#clip4202)\" style=\"stroke:#000000; stroke-width:1; stroke-opacity:1; fill:none\" points=\"\n",
       "  55.6759,309.881 55.6759,241.201 \n",
       "  \"/>\n",
       "<polyline clip-path=\"url(#clip4202)\" style=\"stroke:#000000; stroke-width:1; stroke-opacity:1; fill:none\" points=\"\n",
       "  73.2224,321.556 73.2224,252.877 \n",
       "  \"/>\n",
       "<polyline clip-path=\"url(#clip4202)\" style=\"stroke:#000000; stroke-width:1; stroke-opacity:1; fill:none\" points=\"\n",
       "  90.7688,331.858 90.7688,263.179 \n",
       "  \"/>\n",
       "<polyline clip-path=\"url(#clip4202)\" style=\"stroke:#000000; stroke-width:1; stroke-opacity:1; fill:none\" points=\"\n",
       "  108.315,340.787 108.315,272.107 \n",
       "  \"/>\n",
       "<polyline clip-path=\"url(#clip4202)\" style=\"stroke:#000000; stroke-width:1; stroke-opacity:1; fill:none\" points=\"\n",
       "  125.862,348.342 125.862,279.662 \n",
       "  \"/>\n",
       "<polyline clip-path=\"url(#clip4202)\" style=\"stroke:#000000; stroke-width:1; stroke-opacity:1; fill:none\" points=\"\n",
       "  143.408,354.523 143.408,285.843 \n",
       "  \"/>\n",
       "<polyline clip-path=\"url(#clip4202)\" style=\"stroke:#000000; stroke-width:1; stroke-opacity:1; fill:none\" points=\"\n",
       "  160.955,359.33 160.955,290.651 \n",
       "  \"/>\n",
       "<polyline clip-path=\"url(#clip4202)\" style=\"stroke:#000000; stroke-width:1; stroke-opacity:1; fill:none\" points=\"\n",
       "  178.501,362.764 178.501,294.085 \n",
       "  \"/>\n",
       "<polyline clip-path=\"url(#clip4202)\" style=\"stroke:#000000; stroke-width:1; stroke-opacity:1; fill:none\" points=\"\n",
       "  196.048,364.825 196.048,296.145 \n",
       "  \"/>\n",
       "<polyline clip-path=\"url(#clip4202)\" style=\"stroke:#000000; stroke-width:1; stroke-opacity:1; fill:none\" points=\"\n",
       "  213.594,365.511 213.594,296.832 \n",
       "  \"/>\n",
       "<polyline clip-path=\"url(#clip4202)\" style=\"stroke:#000000; stroke-width:1; stroke-opacity:1; fill:none\" points=\"\n",
       "  231.14,364.825 231.14,296.145 \n",
       "  \"/>\n",
       "<polyline clip-path=\"url(#clip4202)\" style=\"stroke:#000000; stroke-width:1; stroke-opacity:1; fill:none\" points=\"\n",
       "  248.687,362.764 248.687,294.085 \n",
       "  \"/>\n",
       "<polyline clip-path=\"url(#clip4202)\" style=\"stroke:#000000; stroke-width:1; stroke-opacity:1; fill:none\" points=\"\n",
       "  266.233,359.33 266.233,290.651 \n",
       "  \"/>\n",
       "<polyline clip-path=\"url(#clip4202)\" style=\"stroke:#000000; stroke-width:1; stroke-opacity:1; fill:none\" points=\"\n",
       "  283.78,354.523 283.78,285.843 \n",
       "  \"/>\n",
       "<polyline clip-path=\"url(#clip4202)\" style=\"stroke:#000000; stroke-width:1; stroke-opacity:1; fill:none\" points=\"\n",
       "  301.326,348.342 301.326,279.662 \n",
       "  \"/>\n",
       "<polyline clip-path=\"url(#clip4202)\" style=\"stroke:#000000; stroke-width:1; stroke-opacity:1; fill:none\" points=\"\n",
       "  318.873,340.787 318.873,272.107 \n",
       "  \"/>\n",
       "<polyline clip-path=\"url(#clip4202)\" style=\"stroke:#000000; stroke-width:1; stroke-opacity:1; fill:none\" points=\"\n",
       "  336.419,331.858 336.419,263.179 \n",
       "  \"/>\n",
       "<polyline clip-path=\"url(#clip4202)\" style=\"stroke:#000000; stroke-width:1; stroke-opacity:1; fill:none\" points=\"\n",
       "  353.966,321.556 353.966,252.877 \n",
       "  \"/>\n",
       "<polyline clip-path=\"url(#clip4202)\" style=\"stroke:#000000; stroke-width:1; stroke-opacity:1; fill:none\" points=\"\n",
       "  371.512,309.881 371.512,241.201 \n",
       "  \"/>\n",
       "<polyline clip-path=\"url(#clip4202)\" style=\"stroke:#000000; stroke-width:1; stroke-opacity:1; fill:none\" points=\"\n",
       "  389.059,296.832 389.059,228.152 \n",
       "  \"/>\n",
       "<polyline clip-path=\"url(#clip4202)\" style=\"stroke:#000000; stroke-width:1; stroke-opacity:1; fill:none\" points=\"\n",
       "  406.605,282.409 406.605,213.729 \n",
       "  \"/>\n",
       "<polyline clip-path=\"url(#clip4202)\" style=\"stroke:#000000; stroke-width:1; stroke-opacity:1; fill:none\" points=\"\n",
       "  424.152,266.613 424.152,197.933 \n",
       "  \"/>\n",
       "<polyline clip-path=\"url(#clip4202)\" style=\"stroke:#000000; stroke-width:1; stroke-opacity:1; fill:none\" points=\"\n",
       "  441.698,249.443 441.698,180.763 \n",
       "  \"/>\n",
       "<polyline clip-path=\"url(#clip4202)\" style=\"stroke:#000000; stroke-width:1; stroke-opacity:1; fill:none\" points=\"\n",
       "  459.244,230.899 459.244,162.22 \n",
       "  \"/>\n",
       "<polyline clip-path=\"url(#clip4202)\" style=\"stroke:#000000; stroke-width:1; stroke-opacity:1; fill:none\" points=\"\n",
       "  476.791,210.982 476.791,142.302 \n",
       "  \"/>\n",
       "<polyline clip-path=\"url(#clip4202)\" style=\"stroke:#000000; stroke-width:1; stroke-opacity:1; fill:none\" points=\"\n",
       "  494.337,189.691 494.337,121.012 \n",
       "  \"/>\n",
       "<polyline clip-path=\"url(#clip4202)\" style=\"stroke:#000000; stroke-width:1; stroke-opacity:1; fill:none\" points=\"\n",
       "  511.884,167.027 511.884,98.3474 \n",
       "  \"/>\n",
       "<polyline clip-path=\"url(#clip4202)\" style=\"stroke:#000000; stroke-width:1; stroke-opacity:1; fill:none\" points=\"\n",
       "  529.43,142.989 529.43,74.3096 \n",
       "  \"/>\n",
       "<polyline clip-path=\"url(#clip4202)\" style=\"stroke:#000000; stroke-width:1; stroke-opacity:1; fill:none\" points=\"\n",
       "  546.977,117.578 546.977,48.8981 \n",
       "  \"/>\n",
       "<polyline clip-path=\"url(#clip4202)\" style=\"stroke:#000000; stroke-width:1; stroke-opacity:1; fill:none\" points=\"\n",
       "  564.523,90.7927 564.523,22.113 \n",
       "  \"/>\n",
       "<line clip-path=\"url(#clip4202)\" x1=\"43.1295\" y1=\"296.832\" x2=\"33.1295\" y2=\"296.832\" style=\"stroke:#000000; stroke-opacity:1\"/>\n",
       "<line clip-path=\"url(#clip4202)\" x1=\"43.1295\" y1=\"228.152\" x2=\"33.1295\" y2=\"228.152\" style=\"stroke:#000000; stroke-opacity:1\"/>\n",
       "<line clip-path=\"url(#clip4202)\" x1=\"60.6759\" y1=\"309.881\" x2=\"50.6759\" y2=\"309.881\" style=\"stroke:#000000; stroke-opacity:1\"/>\n",
       "<line clip-path=\"url(#clip4202)\" x1=\"60.6759\" y1=\"241.201\" x2=\"50.6759\" y2=\"241.201\" style=\"stroke:#000000; stroke-opacity:1\"/>\n",
       "<line clip-path=\"url(#clip4202)\" x1=\"78.2224\" y1=\"321.556\" x2=\"68.2224\" y2=\"321.556\" style=\"stroke:#000000; stroke-opacity:1\"/>\n",
       "<line clip-path=\"url(#clip4202)\" x1=\"78.2224\" y1=\"252.877\" x2=\"68.2224\" y2=\"252.877\" style=\"stroke:#000000; stroke-opacity:1\"/>\n",
       "<line clip-path=\"url(#clip4202)\" x1=\"95.7688\" y1=\"331.858\" x2=\"85.7688\" y2=\"331.858\" style=\"stroke:#000000; stroke-opacity:1\"/>\n",
       "<line clip-path=\"url(#clip4202)\" x1=\"95.7688\" y1=\"263.179\" x2=\"85.7688\" y2=\"263.179\" style=\"stroke:#000000; stroke-opacity:1\"/>\n",
       "<line clip-path=\"url(#clip4202)\" x1=\"113.315\" y1=\"340.787\" x2=\"103.315\" y2=\"340.787\" style=\"stroke:#000000; stroke-opacity:1\"/>\n",
       "<line clip-path=\"url(#clip4202)\" x1=\"113.315\" y1=\"272.107\" x2=\"103.315\" y2=\"272.107\" style=\"stroke:#000000; stroke-opacity:1\"/>\n",
       "<line clip-path=\"url(#clip4202)\" x1=\"130.862\" y1=\"348.342\" x2=\"120.862\" y2=\"348.342\" style=\"stroke:#000000; stroke-opacity:1\"/>\n",
       "<line clip-path=\"url(#clip4202)\" x1=\"130.862\" y1=\"279.662\" x2=\"120.862\" y2=\"279.662\" style=\"stroke:#000000; stroke-opacity:1\"/>\n",
       "<line clip-path=\"url(#clip4202)\" x1=\"148.408\" y1=\"354.523\" x2=\"138.408\" y2=\"354.523\" style=\"stroke:#000000; stroke-opacity:1\"/>\n",
       "<line clip-path=\"url(#clip4202)\" x1=\"148.408\" y1=\"285.843\" x2=\"138.408\" y2=\"285.843\" style=\"stroke:#000000; stroke-opacity:1\"/>\n",
       "<line clip-path=\"url(#clip4202)\" x1=\"165.955\" y1=\"359.33\" x2=\"155.955\" y2=\"359.33\" style=\"stroke:#000000; stroke-opacity:1\"/>\n",
       "<line clip-path=\"url(#clip4202)\" x1=\"165.955\" y1=\"290.651\" x2=\"155.955\" y2=\"290.651\" style=\"stroke:#000000; stroke-opacity:1\"/>\n",
       "<line clip-path=\"url(#clip4202)\" x1=\"183.501\" y1=\"362.764\" x2=\"173.501\" y2=\"362.764\" style=\"stroke:#000000; stroke-opacity:1\"/>\n",
       "<line clip-path=\"url(#clip4202)\" x1=\"183.501\" y1=\"294.085\" x2=\"173.501\" y2=\"294.085\" style=\"stroke:#000000; stroke-opacity:1\"/>\n",
       "<line clip-path=\"url(#clip4202)\" x1=\"201.048\" y1=\"364.825\" x2=\"191.048\" y2=\"364.825\" style=\"stroke:#000000; stroke-opacity:1\"/>\n",
       "<line clip-path=\"url(#clip4202)\" x1=\"201.048\" y1=\"296.145\" x2=\"191.048\" y2=\"296.145\" style=\"stroke:#000000; stroke-opacity:1\"/>\n",
       "<line clip-path=\"url(#clip4202)\" x1=\"218.594\" y1=\"365.511\" x2=\"208.594\" y2=\"365.511\" style=\"stroke:#000000; stroke-opacity:1\"/>\n",
       "<line clip-path=\"url(#clip4202)\" x1=\"218.594\" y1=\"296.832\" x2=\"208.594\" y2=\"296.832\" style=\"stroke:#000000; stroke-opacity:1\"/>\n",
       "<line clip-path=\"url(#clip4202)\" x1=\"236.14\" y1=\"364.825\" x2=\"226.14\" y2=\"364.825\" style=\"stroke:#000000; stroke-opacity:1\"/>\n",
       "<line clip-path=\"url(#clip4202)\" x1=\"236.14\" y1=\"296.145\" x2=\"226.14\" y2=\"296.145\" style=\"stroke:#000000; stroke-opacity:1\"/>\n",
       "<line clip-path=\"url(#clip4202)\" x1=\"253.687\" y1=\"362.764\" x2=\"243.687\" y2=\"362.764\" style=\"stroke:#000000; stroke-opacity:1\"/>\n",
       "<line clip-path=\"url(#clip4202)\" x1=\"253.687\" y1=\"294.085\" x2=\"243.687\" y2=\"294.085\" style=\"stroke:#000000; stroke-opacity:1\"/>\n",
       "<line clip-path=\"url(#clip4202)\" x1=\"271.233\" y1=\"359.33\" x2=\"261.233\" y2=\"359.33\" style=\"stroke:#000000; stroke-opacity:1\"/>\n",
       "<line clip-path=\"url(#clip4202)\" x1=\"271.233\" y1=\"290.651\" x2=\"261.233\" y2=\"290.651\" style=\"stroke:#000000; stroke-opacity:1\"/>\n",
       "<line clip-path=\"url(#clip4202)\" x1=\"288.78\" y1=\"354.523\" x2=\"278.78\" y2=\"354.523\" style=\"stroke:#000000; stroke-opacity:1\"/>\n",
       "<line clip-path=\"url(#clip4202)\" x1=\"288.78\" y1=\"285.843\" x2=\"278.78\" y2=\"285.843\" style=\"stroke:#000000; stroke-opacity:1\"/>\n",
       "<line clip-path=\"url(#clip4202)\" x1=\"306.326\" y1=\"348.342\" x2=\"296.326\" y2=\"348.342\" style=\"stroke:#000000; stroke-opacity:1\"/>\n",
       "<line clip-path=\"url(#clip4202)\" x1=\"306.326\" y1=\"279.662\" x2=\"296.326\" y2=\"279.662\" style=\"stroke:#000000; stroke-opacity:1\"/>\n",
       "<line clip-path=\"url(#clip4202)\" x1=\"323.873\" y1=\"340.787\" x2=\"313.873\" y2=\"340.787\" style=\"stroke:#000000; stroke-opacity:1\"/>\n",
       "<line clip-path=\"url(#clip4202)\" x1=\"323.873\" y1=\"272.107\" x2=\"313.873\" y2=\"272.107\" style=\"stroke:#000000; stroke-opacity:1\"/>\n",
       "<line clip-path=\"url(#clip4202)\" x1=\"341.419\" y1=\"331.858\" x2=\"331.419\" y2=\"331.858\" style=\"stroke:#000000; stroke-opacity:1\"/>\n",
       "<line clip-path=\"url(#clip4202)\" x1=\"341.419\" y1=\"263.179\" x2=\"331.419\" y2=\"263.179\" style=\"stroke:#000000; stroke-opacity:1\"/>\n",
       "<line clip-path=\"url(#clip4202)\" x1=\"358.966\" y1=\"321.556\" x2=\"348.966\" y2=\"321.556\" style=\"stroke:#000000; stroke-opacity:1\"/>\n",
       "<line clip-path=\"url(#clip4202)\" x1=\"358.966\" y1=\"252.877\" x2=\"348.966\" y2=\"252.877\" style=\"stroke:#000000; stroke-opacity:1\"/>\n",
       "<line clip-path=\"url(#clip4202)\" x1=\"376.512\" y1=\"309.881\" x2=\"366.512\" y2=\"309.881\" style=\"stroke:#000000; stroke-opacity:1\"/>\n",
       "<line clip-path=\"url(#clip4202)\" x1=\"376.512\" y1=\"241.201\" x2=\"366.512\" y2=\"241.201\" style=\"stroke:#000000; stroke-opacity:1\"/>\n",
       "<line clip-path=\"url(#clip4202)\" x1=\"394.059\" y1=\"296.832\" x2=\"384.059\" y2=\"296.832\" style=\"stroke:#000000; stroke-opacity:1\"/>\n",
       "<line clip-path=\"url(#clip4202)\" x1=\"394.059\" y1=\"228.152\" x2=\"384.059\" y2=\"228.152\" style=\"stroke:#000000; stroke-opacity:1\"/>\n",
       "<line clip-path=\"url(#clip4202)\" x1=\"411.605\" y1=\"282.409\" x2=\"401.605\" y2=\"282.409\" style=\"stroke:#000000; stroke-opacity:1\"/>\n",
       "<line clip-path=\"url(#clip4202)\" x1=\"411.605\" y1=\"213.729\" x2=\"401.605\" y2=\"213.729\" style=\"stroke:#000000; stroke-opacity:1\"/>\n",
       "<line clip-path=\"url(#clip4202)\" x1=\"429.152\" y1=\"266.613\" x2=\"419.152\" y2=\"266.613\" style=\"stroke:#000000; stroke-opacity:1\"/>\n",
       "<line clip-path=\"url(#clip4202)\" x1=\"429.152\" y1=\"197.933\" x2=\"419.152\" y2=\"197.933\" style=\"stroke:#000000; stroke-opacity:1\"/>\n",
       "<line clip-path=\"url(#clip4202)\" x1=\"446.698\" y1=\"249.443\" x2=\"436.698\" y2=\"249.443\" style=\"stroke:#000000; stroke-opacity:1\"/>\n",
       "<line clip-path=\"url(#clip4202)\" x1=\"446.698\" y1=\"180.763\" x2=\"436.698\" y2=\"180.763\" style=\"stroke:#000000; stroke-opacity:1\"/>\n",
       "<line clip-path=\"url(#clip4202)\" x1=\"464.244\" y1=\"230.899\" x2=\"454.244\" y2=\"230.899\" style=\"stroke:#000000; stroke-opacity:1\"/>\n",
       "<line clip-path=\"url(#clip4202)\" x1=\"464.244\" y1=\"162.22\" x2=\"454.244\" y2=\"162.22\" style=\"stroke:#000000; stroke-opacity:1\"/>\n",
       "<line clip-path=\"url(#clip4202)\" x1=\"481.791\" y1=\"210.982\" x2=\"471.791\" y2=\"210.982\" style=\"stroke:#000000; stroke-opacity:1\"/>\n",
       "<line clip-path=\"url(#clip4202)\" x1=\"481.791\" y1=\"142.302\" x2=\"471.791\" y2=\"142.302\" style=\"stroke:#000000; stroke-opacity:1\"/>\n",
       "<line clip-path=\"url(#clip4202)\" x1=\"499.337\" y1=\"189.691\" x2=\"489.337\" y2=\"189.691\" style=\"stroke:#000000; stroke-opacity:1\"/>\n",
       "<line clip-path=\"url(#clip4202)\" x1=\"499.337\" y1=\"121.012\" x2=\"489.337\" y2=\"121.012\" style=\"stroke:#000000; stroke-opacity:1\"/>\n",
       "<line clip-path=\"url(#clip4202)\" x1=\"516.884\" y1=\"167.027\" x2=\"506.884\" y2=\"167.027\" style=\"stroke:#000000; stroke-opacity:1\"/>\n",
       "<line clip-path=\"url(#clip4202)\" x1=\"516.884\" y1=\"98.3474\" x2=\"506.884\" y2=\"98.3474\" style=\"stroke:#000000; stroke-opacity:1\"/>\n",
       "<line clip-path=\"url(#clip4202)\" x1=\"534.43\" y1=\"142.989\" x2=\"524.43\" y2=\"142.989\" style=\"stroke:#000000; stroke-opacity:1\"/>\n",
       "<line clip-path=\"url(#clip4202)\" x1=\"534.43\" y1=\"74.3096\" x2=\"524.43\" y2=\"74.3096\" style=\"stroke:#000000; stroke-opacity:1\"/>\n",
       "<line clip-path=\"url(#clip4202)\" x1=\"551.977\" y1=\"117.578\" x2=\"541.977\" y2=\"117.578\" style=\"stroke:#000000; stroke-opacity:1\"/>\n",
       "<line clip-path=\"url(#clip4202)\" x1=\"551.977\" y1=\"48.8981\" x2=\"541.977\" y2=\"48.8981\" style=\"stroke:#000000; stroke-opacity:1\"/>\n",
       "<line clip-path=\"url(#clip4202)\" x1=\"569.523\" y1=\"90.7927\" x2=\"559.523\" y2=\"90.7927\" style=\"stroke:#000000; stroke-opacity:1\"/>\n",
       "<line clip-path=\"url(#clip4202)\" x1=\"569.523\" y1=\"22.113\" x2=\"559.523\" y2=\"22.113\" style=\"stroke:#000000; stroke-opacity:1\"/>\n",
       "<polyline clip-path=\"url(#clip4202)\" style=\"stroke:#e26f46; stroke-width:1; stroke-opacity:1; fill:none\" points=\"\n",
       "  38.1295,309.409 55.6759,308.445 73.2224,307.394 90.7688,306.359 108.315,305.418 125.862,304.628 143.408,304.02 160.955,303.604 178.501,303.367 196.048,303.271 \n",
       "  213.594,303.256 231.14,303.239 248.687,303.114 266.233,302.751 283.78,301.998 301.326,300.679 318.873,298.594 336.419,295.522 353.966,291.218 371.512,285.413 \n",
       "  389.059,277.816 406.605,268.112 424.152,255.963 441.698,241.009 459.244,222.865 476.791,201.124 494.337,175.355 511.884,145.106 529.43,109.9 546.977,69.2357 \n",
       "  564.523,22.5916 \n",
       "  \"/>\n",
       "<polygon clip-path=\"url(#clip4200)\" points=\"\n",
       "479.251,78.051 562.315,78.051 562.315,32.691 479.251,32.691 \n",
       "  \" fill=\"#ffffff\" fill-opacity=\"1\"/>\n",
       "<polyline clip-path=\"url(#clip4200)\" style=\"stroke:#000000; stroke-width:1; stroke-opacity:1; fill:none\" points=\"\n",
       "  479.251,78.051 562.315,78.051 562.315,32.691 479.251,32.691 479.251,78.051 \n",
       "  \"/>\n",
       "<polyline clip-path=\"url(#clip4200)\" style=\"stroke:#009af9; stroke-width:0; stroke-opacity:1; fill:none\" points=\"\n",
       "  485.251,47.811 521.251,47.811 \n",
       "  \"/>\n",
       "<g clip-path=\"url(#clip4200)\">\n",
       "<text style=\"fill:#000000; fill-opacity:1; font-family:Arial,Helvetica Neue,Helvetica,sans-serif; font-size:12; text-anchor:start;\" transform=\"rotate(0, 527.251, 52.311)\" x=\"527.251\" y=\"52.311\">data</text>\n",
       "</g>\n",
       "<polyline clip-path=\"url(#clip4200)\" style=\"stroke:#e26f46; stroke-width:1; stroke-opacity:1; fill:none\" points=\"\n",
       "  485.251,62.931 521.251,62.931 \n",
       "  \"/>\n",
       "<g clip-path=\"url(#clip4200)\">\n",
       "<text style=\"fill:#000000; fill-opacity:1; font-family:Arial,Helvetica Neue,Helvetica,sans-serif; font-size:12; text-anchor:start;\" transform=\"rotate(0, 527.251, 67.431)\" x=\"527.251\" y=\"67.431\">fit</text>\n",
       "</g>\n",
       "</svg>\n"
      ]
     },
     "execution_count": 394,
     "metadata": {},
     "output_type": "execute_result"
    }
   ],
   "source": [
    "@time my_fit()"
   ]
  },
  {
   "cell_type": "markdown",
   "metadata": {},
   "source": [
    "## Minimization"
   ]
  },
  {
   "cell_type": "code",
   "execution_count": null,
   "metadata": {},
   "outputs": [],
   "source": []
  }
 ],
 "metadata": {
  "kernelspec": {
   "display_name": "Julia 0.6.1",
   "language": "julia",
   "name": "julia-0.6"
  },
  "language_info": {
   "file_extension": ".jl",
   "mimetype": "application/julia",
   "name": "julia",
   "version": "0.6.1"
  }
 },
 "nbformat": 4,
 "nbformat_minor": 2
}
