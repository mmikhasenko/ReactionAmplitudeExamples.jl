{
 "cells": [
  {
   "cell_type": "markdown",
   "metadata": {},
   "source": [
    "# Circular cut of the OPE"
   ]
  },
  {
   "cell_type": "code",
   "execution_count": 1,
   "metadata": {},
   "outputs": [],
   "source": [
    "using Plots\n",
    "using Interact"
   ]
  },
  {
   "cell_type": "markdown",
   "metadata": {},
   "source": [
    "The studied expression\n",
    "$$\n",
    "f(s) = \\frac{1}{pq}\\log\\frac{A(s)+2pq}{A(s)-2pq}\n",
    "$$\n",
    "where \n",
    "$$\n",
    "p = \\lambda^{1/2}(s,m_i^2,m_i^2)/(2\\sqrt{s}),\\quad\n",
    "q = \\lambda^{1/2}(s,m_f^2,m_f^2)/(2\\sqrt{s})\n",
    "$$\n",
    "The expression for $A(s)$ comes from the denominator of OPE $m_E^2-t,\\quad t = (p_1-p_3)^2$\n",
    "$$\n",
    "A(s) = m_E^2-m_i^2-m_f^2 + s/2\n",
    "$$"
   ]
  },
  {
   "cell_type": "code",
   "execution_count": 48,
   "metadata": {},
   "outputs": [
    {
     "data": {
      "text/plain": [
       "my_log (generic function with 3 methods)"
      ]
     },
     "execution_count": 48,
     "metadata": {},
     "output_type": "execute_result"
    }
   ],
   "source": [
    "λ(x,y,z) = x^2 + y^2 + z^2 - 2x*y - 2y*z - 2z*x\n",
    "function my_log(s, mi2, mf2, mE2, ϕ)\n",
    "    A = mE2-mi2-mf2 + s/2\n",
    "    two_pq= sqrt(λ(s,mf2,mf2))*sqrt(λ(s,mi2,mi2))/(2s)\n",
    "    B = two_pq\n",
    "    (log((A-B)/(A+B)*cis(-ϕ)) + 1im*ϕ)/(2two_pq)\n",
    "end"
   ]
  },
  {
   "cell_type": "markdown",
   "metadata": {},
   "source": [
    "Show the complex plane and sliders for the mass"
   ]
  },
  {
   "cell_type": "code",
   "execution_count": 50,
   "metadata": {},
   "outputs": [
    {
     "data": {
      "text/html": [],
      "text/plain": [
       "Interact.Options{:SelectionSlider,Float64}(95: \"input-34\" = 0.7474747474747475 Float64 , \"mi\", 0.7474747474747475, \"0.7474747474747475\", 50, Interact.OptionDict(DataStructures.OrderedDict(\"0.5\"=>0.5,\"0.5050505050505051\"=>0.505051,\"0.51010101010101\"=>0.510101,\"0.5151515151515151\"=>0.515152,\"0.5202020202020202\"=>0.520202,\"0.5252525252525253\"=>0.525253,\"0.5303030303030303\"=>0.530303,\"0.5353535353535354\"=>0.535354,\"0.5404040404040404\"=>0.540404,\"0.5454545454545454\"=>0.545455…), Dict(0.510101=>\"0.51010101010101\",0.691919=>\"0.6919191919191919\",0.979798=>\"0.9797979797979798\",0.59596=>\"0.5959595959595959\",0.843434=>\"0.8434343434343434\",0.565657=>\"0.5656565656565656\",0.924242=>\"0.9242424242424242\",0.989899=>\"0.98989898989899\",0.782828=>\"0.7828282828282829\",0.606061=>\"0.6060606060606061\"…)), Any[], Any[], true, \"horizontal\", true)"
      ]
     },
     "metadata": {},
     "output_type": "display_data"
    },
    {
     "data": {
      "text/html": [],
      "text/plain": [
       "Interact.Options{:SelectionSlider,Float64}(97: \"input-35\" = 0.7929292929292929 Float64 , \"mE\", 0.7929292929292929, \"0.7929292929292929\", 50, Interact.OptionDict(DataStructures.OrderedDict(\"0.1\"=>0.1,\"0.11414141414141414\"=>0.114141,\"0.12828282828282828\"=>0.128283,\"0.14242424242424243\"=>0.142424,\"0.15656565656565657\"=>0.156566,\"0.1707070707070707\"=>0.170707,\"0.18484848484848485\"=>0.184848,\"0.198989898989899\"=>0.19899,\"0.21313131313131314\"=>0.213131,\"0.22727272727272727\"=>0.227273…), Dict(0.510101=>\"0.51010101010101\",0.891919=>\"0.8919191919191919\",1.16061=>\"1.1606060606060606\",0.312121=>\"0.31212121212121213\",1.13232=>\"1.1323232323232324\",1.5=>\"1.5\",0.368687=>\"0.3686868686868687\",0.906061=>\"0.906060606060606\",1.44343=>\"1.4434343434343435\",1.27374=>\"1.2737373737373738\"…)), Any[], Any[], true, \"horizontal\", true)"
      ]
     },
     "metadata": {},
     "output_type": "display_data"
    },
    {
     "data": {
      "text/html": [],
      "text/plain": [
       "Interact.Options{:SelectionSlider,Float64}(99: \"input-36\" = 0.0 Float64 , \"ϕ\", 0.0, \"0.0\", 50, Interact.OptionDict(DataStructures.OrderedDict(\"-0.3141592653589793\"=>-0.314159,\"-0.3077478517802246\"=>-0.307748,\"-0.30133643820146994\"=>-0.301336,\"-0.29492502462271525\"=>-0.294925,\"-0.2885136110439606\"=>-0.288514,\"-0.28210219746520593\"=>-0.282102,\"-0.27569078388645124\"=>-0.275691,\"-0.26927937030769655\"=>-0.269279,\"-0.26286795672894187\"=>-0.262868,\"-0.2564565431501872\"=>-0.256457…), Dict(-0.0448799=>\"-0.04487989505128276\",0.0384685=>\"0.03846848147252808\",0.0448799=>\"0.04487989505128276\",0.141051=>\"0.14105109873260296\",-0.00641141=>\"-0.00641141357875468\",-0.173108=>\"-0.17310816662637635\",0.0961712=>\"0.09617120368132019\",-0.166697=>\"-0.1666967530476217\",-0.294925=>\"-0.29492502462271525\",-0.262868=>\"-0.26286795672894187\"…)), Any[], Any[], true, \"horizontal\", true)"
      ]
     },
     "metadata": {},
     "output_type": "display_data"
    },
    {
     "data": {
      "image/svg+xml": [
       "<?xml version=\"1.0\" encoding=\"utf-8\"?>\n",
       "<svg xmlns=\"http://www.w3.org/2000/svg\" xmlns:xlink=\"http://www.w3.org/1999/xlink\" width=\"600\" height=\"400\" viewBox=\"0 0 600 400\">\n",
       "<defs>\n",
       "  <clipPath id=\"clip00\">\n",
       "    <rect x=\"0\" y=\"0\" width=\"600\" height=\"400\"/>\n",
       "  </clipPath>\n",
       "</defs>\n",
       "<polygon clip-path=\"url(#clip7700)\" points=\"\n",
       "0,400 600,400 600,0 0,0 \n",
       "  \" fill=\"#ffffff\" fill-opacity=\"1\"/>\n",
       "<defs>\n",
       "  <clipPath id=\"clip01\">\n",
       "    <rect x=\"120\" y=\"0\" width=\"421\" height=\"400\"/>\n",
       "  </clipPath>\n",
       "</defs>\n",
       "<polygon clip-path=\"url(#clip7700)\" points=\"\n",
       "37.1332,375.813 520.315,375.813 520.315,11.811 37.1332,11.811 \n",
       "  \" fill=\"#ffffff\" fill-opacity=\"1\"/>\n",
       "<defs>\n",
       "  <clipPath id=\"clip02\">\n",
       "    <rect x=\"37\" y=\"11\" width=\"484\" height=\"365\"/>\n",
       "  </clipPath>\n",
       "</defs>\n",
       "<polyline clip-path=\"url(#clip7702)\" style=\"stroke:#000000; stroke-width:0.5; stroke-opacity:0.1; fill:none\" points=\"\n",
       "  39.5491,375.813 39.5491,11.811 \n",
       "  \"/>\n",
       "<polyline clip-path=\"url(#clip7702)\" style=\"stroke:#000000; stroke-width:0.5; stroke-opacity:0.1; fill:none\" points=\"\n",
       "  159.137,375.813 159.137,11.811 \n",
       "  \"/>\n",
       "<polyline clip-path=\"url(#clip7702)\" style=\"stroke:#000000; stroke-width:0.5; stroke-opacity:0.1; fill:none\" points=\"\n",
       "  278.724,375.813 278.724,11.811 \n",
       "  \"/>\n",
       "<polyline clip-path=\"url(#clip7702)\" style=\"stroke:#000000; stroke-width:0.5; stroke-opacity:0.1; fill:none\" points=\"\n",
       "  398.312,375.813 398.312,11.811 \n",
       "  \"/>\n",
       "<polyline clip-path=\"url(#clip7702)\" style=\"stroke:#000000; stroke-width:0.5; stroke-opacity:0.1; fill:none\" points=\"\n",
       "  517.899,375.813 517.899,11.811 \n",
       "  \"/>\n",
       "<polyline clip-path=\"url(#clip7702)\" style=\"stroke:#000000; stroke-width:0.5; stroke-opacity:0.1; fill:none\" points=\"\n",
       "  37.1332,373.993 520.315,373.993 \n",
       "  \"/>\n",
       "<polyline clip-path=\"url(#clip7702)\" style=\"stroke:#000000; stroke-width:0.5; stroke-opacity:0.1; fill:none\" points=\"\n",
       "  37.1332,313.933 520.315,313.933 \n",
       "  \"/>\n",
       "<polyline clip-path=\"url(#clip7702)\" style=\"stroke:#000000; stroke-width:0.5; stroke-opacity:0.1; fill:none\" points=\"\n",
       "  37.1332,253.873 520.315,253.873 \n",
       "  \"/>\n",
       "<polyline clip-path=\"url(#clip7702)\" style=\"stroke:#000000; stroke-width:0.5; stroke-opacity:0.1; fill:none\" points=\"\n",
       "  37.1332,193.812 520.315,193.812 \n",
       "  \"/>\n",
       "<polyline clip-path=\"url(#clip7702)\" style=\"stroke:#000000; stroke-width:0.5; stroke-opacity:0.1; fill:none\" points=\"\n",
       "  37.1332,133.752 520.315,133.752 \n",
       "  \"/>\n",
       "<polyline clip-path=\"url(#clip7702)\" style=\"stroke:#000000; stroke-width:0.5; stroke-opacity:0.1; fill:none\" points=\"\n",
       "  37.1332,73.6914 520.315,73.6914 \n",
       "  \"/>\n",
       "<polyline clip-path=\"url(#clip7702)\" style=\"stroke:#000000; stroke-width:0.5; stroke-opacity:0.1; fill:none\" points=\"\n",
       "  37.1332,13.631 520.315,13.631 \n",
       "  \"/>\n",
       "<polyline clip-path=\"url(#clip7700)\" style=\"stroke:#000000; stroke-width:1; stroke-opacity:1; fill:none\" points=\"\n",
       "  37.1332,375.813 520.315,375.813 \n",
       "  \"/>\n",
       "<polyline clip-path=\"url(#clip7700)\" style=\"stroke:#000000; stroke-width:1; stroke-opacity:1; fill:none\" points=\"\n",
       "  37.1332,375.813 37.1332,11.811 \n",
       "  \"/>\n",
       "<polyline clip-path=\"url(#clip7700)\" style=\"stroke:#000000; stroke-width:1; stroke-opacity:1; fill:none\" points=\"\n",
       "  39.5491,375.813 39.5491,370.353 \n",
       "  \"/>\n",
       "<polyline clip-path=\"url(#clip7700)\" style=\"stroke:#000000; stroke-width:1; stroke-opacity:1; fill:none\" points=\"\n",
       "  159.137,375.813 159.137,370.353 \n",
       "  \"/>\n",
       "<polyline clip-path=\"url(#clip7700)\" style=\"stroke:#000000; stroke-width:1; stroke-opacity:1; fill:none\" points=\"\n",
       "  278.724,375.813 278.724,370.353 \n",
       "  \"/>\n",
       "<polyline clip-path=\"url(#clip7700)\" style=\"stroke:#000000; stroke-width:1; stroke-opacity:1; fill:none\" points=\"\n",
       "  398.312,375.813 398.312,370.353 \n",
       "  \"/>\n",
       "<polyline clip-path=\"url(#clip7700)\" style=\"stroke:#000000; stroke-width:1; stroke-opacity:1; fill:none\" points=\"\n",
       "  517.899,375.813 517.899,370.353 \n",
       "  \"/>\n",
       "<polyline clip-path=\"url(#clip7700)\" style=\"stroke:#000000; stroke-width:1; stroke-opacity:1; fill:none\" points=\"\n",
       "  37.1332,373.993 44.3809,373.993 \n",
       "  \"/>\n",
       "<polyline clip-path=\"url(#clip7700)\" style=\"stroke:#000000; stroke-width:1; stroke-opacity:1; fill:none\" points=\"\n",
       "  37.1332,313.933 44.3809,313.933 \n",
       "  \"/>\n",
       "<polyline clip-path=\"url(#clip7700)\" style=\"stroke:#000000; stroke-width:1; stroke-opacity:1; fill:none\" points=\"\n",
       "  37.1332,253.873 44.3809,253.873 \n",
       "  \"/>\n",
       "<polyline clip-path=\"url(#clip7700)\" style=\"stroke:#000000; stroke-width:1; stroke-opacity:1; fill:none\" points=\"\n",
       "  37.1332,193.812 44.3809,193.812 \n",
       "  \"/>\n",
       "<polyline clip-path=\"url(#clip7700)\" style=\"stroke:#000000; stroke-width:1; stroke-opacity:1; fill:none\" points=\"\n",
       "  37.1332,133.752 44.3809,133.752 \n",
       "  \"/>\n",
       "<polyline clip-path=\"url(#clip7700)\" style=\"stroke:#000000; stroke-width:1; stroke-opacity:1; fill:none\" points=\"\n",
       "  37.1332,73.6914 44.3809,73.6914 \n",
       "  \"/>\n",
       "<polyline clip-path=\"url(#clip7700)\" style=\"stroke:#000000; stroke-width:1; stroke-opacity:1; fill:none\" points=\"\n",
       "  37.1332,13.631 44.3809,13.631 \n",
       "  \"/>\n",
       "<g clip-path=\"url(#clip7700)\">\n",
       "<text style=\"fill:#000000; fill-opacity:1; font-family:Arial,Helvetica Neue,Helvetica,sans-serif; font-size:12; text-anchor:middle;\" transform=\"rotate(0, 39.5491, 389.613)\" x=\"39.5491\" y=\"389.613\">-4</text>\n",
       "</g>\n",
       "<g clip-path=\"url(#clip7700)\">\n",
       "<text style=\"fill:#000000; fill-opacity:1; font-family:Arial,Helvetica Neue,Helvetica,sans-serif; font-size:12; text-anchor:middle;\" transform=\"rotate(0, 159.137, 389.613)\" x=\"159.137\" y=\"389.613\">-2</text>\n",
       "</g>\n",
       "<g clip-path=\"url(#clip7700)\">\n",
       "<text style=\"fill:#000000; fill-opacity:1; font-family:Arial,Helvetica Neue,Helvetica,sans-serif; font-size:12; text-anchor:middle;\" transform=\"rotate(0, 278.724, 389.613)\" x=\"278.724\" y=\"389.613\">0</text>\n",
       "</g>\n",
       "<g clip-path=\"url(#clip7700)\">\n",
       "<text style=\"fill:#000000; fill-opacity:1; font-family:Arial,Helvetica Neue,Helvetica,sans-serif; font-size:12; text-anchor:middle;\" transform=\"rotate(0, 398.312, 389.613)\" x=\"398.312\" y=\"389.613\">2</text>\n",
       "</g>\n",
       "<g clip-path=\"url(#clip7700)\">\n",
       "<text style=\"fill:#000000; fill-opacity:1; font-family:Arial,Helvetica Neue,Helvetica,sans-serif; font-size:12; text-anchor:middle;\" transform=\"rotate(0, 517.899, 389.613)\" x=\"517.899\" y=\"389.613\">4</text>\n",
       "</g>\n",
       "<g clip-path=\"url(#clip7700)\">\n",
       "<text style=\"fill:#000000; fill-opacity:1; font-family:Arial,Helvetica Neue,Helvetica,sans-serif; font-size:12; text-anchor:end;\" transform=\"rotate(0, 31.1332, 378.493)\" x=\"31.1332\" y=\"378.493\">-3</text>\n",
       "</g>\n",
       "<g clip-path=\"url(#clip7700)\">\n",
       "<text style=\"fill:#000000; fill-opacity:1; font-family:Arial,Helvetica Neue,Helvetica,sans-serif; font-size:12; text-anchor:end;\" transform=\"rotate(0, 31.1332, 318.433)\" x=\"31.1332\" y=\"318.433\">-2</text>\n",
       "</g>\n",
       "<g clip-path=\"url(#clip7700)\">\n",
       "<text style=\"fill:#000000; fill-opacity:1; font-family:Arial,Helvetica Neue,Helvetica,sans-serif; font-size:12; text-anchor:end;\" transform=\"rotate(0, 31.1332, 258.373)\" x=\"31.1332\" y=\"258.373\">-1</text>\n",
       "</g>\n",
       "<g clip-path=\"url(#clip7700)\">\n",
       "<text style=\"fill:#000000; fill-opacity:1; font-family:Arial,Helvetica Neue,Helvetica,sans-serif; font-size:12; text-anchor:end;\" transform=\"rotate(0, 31.1332, 198.312)\" x=\"31.1332\" y=\"198.312\">0</text>\n",
       "</g>\n",
       "<g clip-path=\"url(#clip7700)\">\n",
       "<text style=\"fill:#000000; fill-opacity:1; font-family:Arial,Helvetica Neue,Helvetica,sans-serif; font-size:12; text-anchor:end;\" transform=\"rotate(0, 31.1332, 138.252)\" x=\"31.1332\" y=\"138.252\">1</text>\n",
       "</g>\n",
       "<g clip-path=\"url(#clip7700)\">\n",
       "<text style=\"fill:#000000; fill-opacity:1; font-family:Arial,Helvetica Neue,Helvetica,sans-serif; font-size:12; text-anchor:end;\" transform=\"rotate(0, 31.1332, 78.1914)\" x=\"31.1332\" y=\"78.1914\">2</text>\n",
       "</g>\n",
       "<g clip-path=\"url(#clip7700)\">\n",
       "<text style=\"fill:#000000; fill-opacity:1; font-family:Arial,Helvetica Neue,Helvetica,sans-serif; font-size:12; text-anchor:end;\" transform=\"rotate(0, 31.1332, 18.131)\" x=\"31.1332\" y=\"18.131\">3</text>\n",
       "</g>\n",
       "<g clip-path=\"url(#clip7702)\">\n",
       "<image width=\"483\" height=\"364\" xlink:href=\"data:;base64,\n",
       "iVBORw0KGgoAAAANSUhEUgAAAeMAAAFsCAYAAAD/kdE1AAAgAElEQVR4nO3dzY48yVWG8azunv98\n",
       "eDxjI0uwQV6w5wZYseU+uByQuAe4GW4CIcHGSDZItsee6e5i0cioI96aevvEiTyRVc9v16nIyKis\n",
       "7A5lnD4nTv/6t3933oJOW/jUVCf7YCs+fqv7oc76saVe0yUuusL3fjLvWQX/eVxjvK2S52yymjst\n",
       "7qQYSO7Y+muekz/8+Rx7QuQwzL6sv4YD9/Zs9uc1iY3t4frlAADATEzGAAAUYzIGAKDYk9twlThS\n",
       "RXw41So30rRCfHjbVIx4/3HZX90i8eHpj9rKz3Jzu0eGGv/mxJnqfzBE3DT1mtlfVNvdyKOthmb1\n",
       "l/s5w8NIxJsxAADFmIwBACjGZAwAQDE7ZnzP5ofG1s0prqCHsUDM9RZiwUf6/4oR1uf08kHd+x0v\n",
       "2CB+/xPjyCfRfzRXeNv6/yORObryvF7qk7ZC4PcSY2y8GQMAUIzJGACAYixTz7TIsq+0aJnLbdtK\n",
       "7puXMjf//oQ/+iJL6McysCYtGrarwUN3Xy1dJ5a6VOVkw2Uzh5aHvRSlzGwqexztTZr868SbMQAA\n",
       "xZiMAQAoxmQMAECxD8SMF0nhsGM6q8bLFkljWkTFVoirbHEYzb5Z5nfx4Mbu4vV4s0pPGhvH9Tjy\n",
       "UF/il9GJI6v/NRlKd1o5RamROVTejAEAKMZkDABAMSZjAACKyZjxLcaHXDf52RfJKSY+HGmYO64l\n",
       "nu/sQURzbWdfUuQKO/nJdv/i5LEymonbEpbEfc3c7NnDCOLNGACAYkzGAAAUoxxmJmOJcYllwjIF\n",
       "C0SrLElPHkfqc3W09MHcGqK9YNVMfXeMsovbwNJ18g5Q0bKZI+lOznL5gbKfbLwZAwBQjMkYAIBi\n",
       "TMYAABRbO2Z8tNjVCpZOY5p8TXmU+PCPn7zwtpCJ7Pit4n7J56stPhBHFoeisV8ZgM6L32ZLjQev\n",
       "Elw2rsmbMQAAxZiMAQAoxmQMAECxZWLGFXGlFWJZt2DtWG3FNeOfPTdldpE49QLyS186cd65pS/f\n",
       "DsW2UIzmD6tz3fOG4rftuTf4b0K8GQMAUIzJGACAYheWqW9wDSCbsSy4y9Leqf1xlZKTky+xQ5nL\n",
       "2ddcYUm64hn1jax/5nUfTwKKl770+u9P9tOfRnY4ao96d2isRObt480YAIBiTMYAABRjMgYAoNgT\n",
       "K/b4qPiGbJkmx4flwR3iwxXXDHe2SurU9XHoeKvb//XSl253Z/dEEfu1MoNkGU3jPPsC4rSBNClf\n",
       "LE59JLwZAwBQjMkYAIBiTMYAABRbphymb+F8ygK3mFc8u9Sl39XkZy0Yh10lFnyk36mxcphugLit\n",
       "E+md5uQPvzW8HkfWY/Vi3vHc44FtFs0bcgfVMHkzBgCgGpMxAADFSpapK3bcGWIu5U3/CAX3qGJH\n",
       "ppJyj25NwnD/6uDkJekVlsFHZA5k4JGNhjXEqnI8ZWnb7KVrpze79GX4mp7MEpn6Pg4soe+MN2MA\n",
       "AIoxGQMAUIzJGACAYgdMbcKuKtKYSmLSiadVpAst/X8NC8SpzQvokbqpQdcveZb/mzCwrWJ0C8WB\n",
       "WLCTZjS9RGawdGe2zEvyZgwAQDEmYwAAirFMfSAl1bZm78wzu7LW5N2GtNlL0gUVsiquWcAOm8iV\n",
       "61gFLlnTykyL6i8gQhPm0nU4xUoP1rzC/ipWuJ3+eTMGAKAYkzEAAMWYjAEAKEbMeFUVpS9LQjor\n",
       "RGs063bMjqVO718dLEiJUmZfNPnR6/6nw4krXxiHmxbVxoN1jFd1ptrF482prPGuG5OO4s0YAIBi\n",
       "TMYAABRjMgYAoNjiMePJ8T77xEViaEdXklM80F+w/7FtD5vyhiN9VfQvr9n+WJEvLwx8eDf2219S\n",
       "5RSPxJGbNqrK5cgWiga39KXdTlxjkScm2ftPypsxAADFmIwBACj2dKsLAEdXsww+ufTl9LBDeq7K\n",
       "5P4T+ysIr5wyx38wcqm9q4bpLj/Hy2G256olb71Bk5nGZO3uNFJc81ilNHuxcIXCmzEAAMWYjAEA\n",
       "KMZkDABAscVTm+7Z3Hjc9NKXC/fvn3r9O7D7ykyLmh0fFifOTkfSz+MqMWkRSw2mMckQo4wFi3ap\n",
       "8ds454orW3W8vBkDAFCMyRgAgGJMxgAAFKuJGa+aMlbl4Pfj6DnR27ZZH2IsPhyM6U6OD++RK3z8\n",
       "fGRxv40brmLBiro/0Tiymys81q490I9rdknLWyyZyZsxAADFmIwBACi2yzL1wVdhb9TsRZ3k0pfB\n",
       "hygzjcmXWYYyt6Rl5pLx7OXnddKdgqlN8v54fUWXrtXKuN7JaUR7tnvRg80EwZukT7u+SxZvxgAA\n",
       "FGMyBgCgGJMxAADFKId5Bw5f+nLbttRYYWppyuRtCttUlZGuVokPn9ofC+K+Q7kwwdQmXfvS6kvG\n",
       "h404styO0YzpWmlMbx0217za5CL92c2Td5Y+rKZD3owBACjGZAwAQDEmYwAAihEz7iTHAA0lMbQB\n",
       "mfejpq/g/c5+EORWhcGugjHd7FzecGzZvhf7/++Ae3KXfSsTiPtD0fiwaidLcLrx4f5MefTUfAgn\n",
       "rnzZ/C0fPcFrJj6OvBkDAFCMyRgAgGL3vUx9sOps69p/B6XsvrxmAyEMuQwbXVoeWUZuj5h9jYw/\n",
       "M7VpcllUf3XVeBYmL0mrdvLZcJekw8vZqyw1K9Hf7Hhf0f55MwYAoBiTMQAAxZiMAQAodhMx41Wi\n",
       "E5aSwR4rdcoZ7y5bI6Z+V/unU0XTlkbSncLnJsbU3f7tZsGQqCpDqT+TlxsUTm1SV8yMLbvXFMei\n",
       "3/Aqf9Hc7RKdAfNmDABAMSZjAACK3cQyNf7fLqvgk9NLwlLTmLatXVsaS2OKGVuqnb0kPTm1yf4+\n",
       "Jy9amuNol6X9ClyimXvNLrVJj+zaeReZy9ndaWoUmevU2dTHnH7J9zeEN2MAAIoxGQMAUIzJGACA\n",
       "YsSMb01yYHaVOO+x7L/rUTR+Ozs+/HbofLWN7io3thztX6UoRftz0538tKjmPJ2LZB2S5V7d2PLV\n",
       "nuaT18wciNlX9JK8GQMAUIzJGACAYkzGAAAUI2aMgP0DMZkbobkXsK45klMcjXWOlMi0co+Tt1VM\n",
       "zDOeHUfWXRVEQGV6r4ojGyea/Q/05nR1IaAdz8B32OUqjXZjpS+vX5M3YwAAijEZAwBQjGVqHNPk\n",
       "0pe+gTSmydd0lpvtJe/gkrRsN9CXHlr83JnS05isQwUffOUyl0JBtpOVdsWbMQAAxZiMAQAoxmQM\n",
       "AEAxYsY7WyCUhUTz05jc+HB0HMG470C7zL4ua7a/5BcvxHr67CBs4pcQTB+6dK5XSjMvjUmdypsx\n",
       "AADFmIwBACjGZAwAQDFixrubnYCX3H94e7q8vrQ1Sl/6l1zje8/M+a3IM47GkaNbU94CuQXkQFXR\n",
       "27yTeaVA/a0c31+TN2MAAIoxGQMAUIxlaixn7j4u21ZR+tLlpOC4aTpWXxWpTXa6VmI70WZ+tlPm\n",
       "LkXuFUVpTbVbklq5Pntja1tVLFura6qPKZfo3Q7bXZsS05gU3owBACjGZAwAQDEmYwAAij3d0z+v\n",
       "o9qxn6vZpS/fOPdoYOO2xIC8HUe2tnKUUUDRTp1sxIMLYsZqrDLuqD67it++imbNp3C/ExUfVt+B\n",
       "G0eOUylFeWlGuvRlfRqTasabMQAAxZiMAQAoxmQMAEAx8ozxJ0vvMlcxuHAp0LxtDzNzirdtoDSl\n",
       "7ix0ropNDuUUWyU4zZhx5nNmxodPIi4r74Z4dTq9Xr9vZ/FwuPFhp53/X0fic3r/KiBi6Nl/EK6P\n",
       "zS0rGs1t5s0YAIBiTMYAABTbZZm6fZNfejkUjWOnI4V3aNq2bY0dtuamMY2kJ0XPHVuS9pabu3Pt\n",
       "5W0l+BzI9VvzoiKNSV7i1Dbs36/kUrNcuu771yUggxL7cktfymPy3OA43Hbs2gQAwPqYjAEAKMZk\n",
       "DABAsZtIbdp/ozLsb9FtDxdOuXJjutZ55jjceLBznh0zlp/JiFMnjt+ltjOUJScfVDnM/t3poTn0\n",
       "KlKd3Hj/2f1L2hxytxYcubPWufYFgilK7uekHCYAAMfEZAwAQDEmYwAAitXEjAny4gBKwsGJucHW\n",
       "uTJJ17ymycozHogPO/1lb9GotKfq7fXMZN6zek8SycdNHNmNvbsx9LCBALEuJ3m62mYkp9gpdelv\n",
       "vWi2oxwmAABrYTIGAKDYTaQ24f6sEtXI3KHpTWJqTUEak70Efb378JK0ahc979LgrN2pzKMqten8\n",
       "2i9Jq2XStpXaASrzM/3fQIJNvM8u04zaY+5uT2Yak2LtvuTuuGWkTvFmDABAMSZjAACKMRkDAFDs\n",
       "iSyjvcl91XYfBRrTH/rEbfhks3jsN9yXqb2kHWuWKVyx1B3Z/8NAGpDgtFMxUnXa+dS/J72qbQ+b\n",
       "u3s697FmGUdO3c/Qe0jd7RidtCU3zcjeatGJgyfGhxXejAEAKMZkDABAsftObSpYoycsgI8YeTas\n",
       "pUi3AtdIGlN7bCDNyD72cH2Z+nQSFa3spev+1O63W91HuZYqUpbEuumDendqzj2/xlObog+bXh52\n",
       "l67NJeO2GpZMf4pX5XLSrjKXpNU4eDMGAKAYkzEAAMWYjAEAKHYhZrxK+s0q4wCqZO+uM/f3xwlF\n",
       "jpS+jB5T8eE2rnzp2KbOdeLIZkqUinU+iNivs9uQPO+1f+dy07WU7kwZHzbLfrrtuvjt3PjwW3/X\n",
       "DsTjw2ocvBkDAFCMyRgAgGJMxgAAFLvvPGOJOPV92v879rdVdDqLNcsufakvGssz1sFl99z3cV4d\n",
       "H3bjyCIfOZjbrMicWRHndXYbVOdtL8nfsZF/a+cBu+Uq22NufnI0Piyu4d5FO8e6+Zk3YwAAijEZ\n",
       "AwBQrGSZ+mglIY82XkyyyJc+tENTcNemoTSjrs3INcW5RglLp2Tm2zG1dO0eO//oz2+8vybn177/\n",
       "V9VfWybyRaUxPYorXu9r28w0I6PNtm3bq9lOL3G3ffVt7CXpYIqSvQx+tSfdkDdjAACKMRkDAFCM\n",
       "yRgAgGIyZlwSI02+aNvdIuG+HcRTs/RXQKrXPAvcx8St9Pxr5KYxWfHgkVjwY3/sQRzrzlVt3HQn\n",
       "tRXis0ixamKiDy8iPixj16KrYOx3JD4cbeeW1nRLWDrx4Ggs+NI1W7wZAwBQjMkYAIBiTMYAABT7\n",
       "QJ4xscMUJC3fvpHv8+jPghx/Ww7TaHOhmcyPdbZQNHKRt+0D8eHHl/7Y00vTxoxJi3HImOhz/+e6\n",
       "bXf6oW8j+zdzcp2Y7qsowfl6VsdUX2675mdz/Eq0XOXIFopO/7wZAwBQjMkYAIBi7NoE3IBddl+y\n",
       "XB+HXH62U5u8/tpzZUrRwK5N7ZL0tm3bQ7tMLdrIY2I5Wzn/8Nwfa4b78v1nXl8idUouNxvH5JK0\n",
       "6l+0c9OpUpep5cGBspbWedfTrngzBgCgGJMxAADFmIwBACj2tEqqjT+MySlWi9yPsKOPvwypex9m\n",
       "lnbs4sHmeTI+bJfINNq48WGZ2iSOffY+pvvwmYgPf9bHfU+i3dZXtdy25+sB8+fff9E1UbHUl9f+\n",
       "Ai8iPqzbPTY/uzFjMz5sxIPd30w3jizP7Y645TZjeDMGAKAYkzEAAMWYjAEAKGbnGd/Ctopxc+OJ\n",
       "KkYSzRtNv2XLfAfvLf08LnrPxpjx4Wj3KqbrnmrEkWXpSzeOLEtkqhzi9+1kfPgLcd6X3aHt9IX5\n",
       "nvT43ftx/fqnXZPX5z7u+yzKZj6LcpvP4tw2RuzmGbu5wepJc2K/0fzey+fORTlMAAAWw2QMAECx\n",
       "wXKYx0kHyV45vMmVyOlGnpf23DWfs5vllqGU8goLyiVpoWtnpkRtJ1GaUqQ7bcZOTqdP5pL0N593\n",
       "x87fftsf+/qbfmjf/Or9gX/rv5U/fNenO/3h+/6a34ulaycFamSpObq0nP3bH959KXEgvBkDAFCM\n",
       "yRgAgGJMxgAAFNMxYwKi+5p+v/eP7R/uESoZsIqNtbHO2WNYw9DHNE5WWzTa6U4yBcookSl2M1Qp\n",
       "S+evv+6OPf/5X3bHfvjl33THvvrZX7/7+b//+Z+6Nr/+nz7+/P1zPzi5XWJ3ZH6aUaYj/WcJb8YA\n",
       "ABRjMgYAoNjTv//mF93B9Ff71H9Ld/89PqZdJfzIOLq+RsYR7DD8L/pe9/o8eWL8e3I+u/s5M3d3\n",
       "kekawb7cc0euqZcY277U7jrqml47tTNPOw7ZRvT1MtDu+dz+LNqIG/SDeeyP6tjL+4t+99IP9rcv\n",
       "fVWu32y/64796uE/u2P/9cd/6a/5wz+++/kf/urvuza//Olvu2OfP/bjeHSX6JsnUIUAtHiVtekW\n",
       "GAhvxgAAFGMyBgCgGJMxAADFBsthCqk7YiywkP8BR/o3+iHdBz3W9+S6m+8zU2IWnXyqzP7bZmoX\n",
       "tJMIduoUqP7Ygzj22DR8Eq86n8QORz957ctV/uL1L7pjX37el8P8+dPP3/38H7/vU5a+euprcH77\n",
       "6fvu2OdiJ6onkcL10JQMfZD3tjukd6Jz2xn82LUQ/CedzL98vBkDAFCMyRgAgGJMxgAAFHsiLoaP\n",
       "4pnBJSqG1sdv3c7UP6B4cV6nK3WaejvR8eHrxz4Tbb54UFfo47yfXvv48J+JYz/77P256nfzd8/9\n",
       "NoifHvp/F1L1Aj6JD/rY3JBHse2kut8PRs7y27Hr/xigvnM1fv1oxLZtldc0e3LwZgwAQDEmYwAA\n",
       "iuWnNk1WU/pyruzyoLfpXj7nPTDTjAaWHdulTpmeJJdS+2OPquynaNemMrklWx9P/TLyl2I5u02d\n",
       "2rZt+8lTk04lLqlKgX4vdmhS43CWZlX1V7Ukrf7Oqe9Ap0Vd70svbnvPmiVao/iSZhi8GQMAUIzJ\n",
       "GACAYkzGAAAUO1zMuMa68crwtoepo8AtcStaJla+tDmpU+qYbCPimg+ipYwji/662Kl41XkQ8Uqd\n",
       "XyraiXF81fwFfxJBWLW9ptxSUhx7ELHlvpE6qD5UnwJ1FvfjQfwzT9tMZr2JK8rwsP2QNg3t+qxm\n",
       "q+Zz8mYMAEAxJmMAAIoxGQMAUGwsZnzH2yVOd/Cg7sGHfxMqYrrRnF83p1jHfvtj7VuG+tzuMVX6\n",
       "Ut7H5qLqM6mcZTcer7Zk/LwJXqu4srrCq4gPq2MvKo7cHHtRSdfyNa8/6G6XGP0fAJUErXOPjaua\n",
       "ecZ+2cz3DXkzBgCgGJMxAADFSG0KYhkWR+SUFVRrgCeRbqLSUtyUE+OSFzJJxLKg2smp3eVHpSyJ\n",
       "7tUSpvqc6g9n20yVenRL8KqlTrUE/am5yKO4qLtsKpeujXYjpUzVdyBXvdv+zCVp2U6NRI73/UHV\n",
       "vduX81vAmzEAAMWYjAEAKMZkDABAMWLGwE0wY2PBsoKKXTbTuqa3l56dAhXcnk5/9tiWjzJ1yszg\n",
       "VCU4n8SHb+PIjyqm7l1Sj1fFkZtrtKlO26ZjzW4ak44jN2lA8kEz48iKE1uWj6i3VaT6n4UWb8YA\n",
       "ABRjMgYAoBiTMQAAxZaOGWfm8rr5fcB9uV6+UrfSnDiyW9LSzlW1YoVeTFrROdBq+8UrQ7jYm+jL\n",
       "zDNut0xUpTtVX26834kjv9olIb3nSv+tfn+wjSFv26U48vW+3g65OcrGeTpp+SrejAEAKMZkDABA\n",
       "saWXqYEjGtstyVnU3Z8ehVsisykrKHqzl4JF/69Gyoksh6nWQweWrr3v2FvSVf2rtKX22IMMOwzE\n",
       "6NSuR6fr36e6tTrdSbRzNoEyy7OqdiotTabWdWU/42lM8lHb2u8OAACUYjIGAKAYkzEAAMX8mPFA\n",
       "2bxjmRuju817hjRORo5z3oVzHe62iu7Yuii425ds58UAnS33VKxTp3qpViqWerUrp0Lptm06XetR\n",
       "tGtTmVQak05tika4PXaalHlyd0jFfXVg1urfiiMbW3VeaGY9Q7wZAwBQjMkYAIBiTMYAABQryjNe\n",
       "I3fyeLhve3JCgLOvqcRzlsUVZBVAu65g5Iq6lbldoh7v9XaqVGK7FeBbOyMWvF3IS3Wkx4ybXFUz\n",
       "PuzmNivt4+FWhJR9mTek/xcAL1Zrl7k0Hkn9kbznts3NVmfyZgwAQDEmYwAAilEOEyiSmI1Uw13i\n",
       "Ntb71LKvKiuoqCXd13Z5UqX8mMuJ7vKktz2VlzolU5SMnaJkOcyBJWnN+D6N2/N2zEwlc5bG7d8o\n",
       "s12wHKZyMsqK8mYMAEAxJmMAAIoxGQMAUIyYMQ7iOFsLqrjjhSCXIZ5m5JadtLofSHdqL6q3WXTH\n",
       "4V2xjSOr4atxyLimW7PRuB1u/FZvH9m3az+nip+rNy59Te9Ya+T/HNz73Zar1F+JVyr1wgXE2Ixy\n",
       "mIlxZN6MAQAoxmQMAEAxlqmBbdtGloMd4RVXt+KU3f/k5X7jg/pZKeZWTsGld7njjrmcHeVWw5JL\n",
       "y2oJus3gsndoUvc2L7HO3aFJhyeuLxm7YQ07uuLuGtb1n7d0zZsxAADFmIwBACjGZAwAQLFlYsaH\n",
       "KgOIqw5X6nHRAacPq40x2nkYaiDutkpJ5106V57apMJ4G/VcCEnH7rgbaXZ3bXLiwTI9SZ3nlshM\n",
       "jCO7nKfDLlE6Ug7TuKruScSRjWeIN2MAAIoxGQMAUIzJGACAYsvEjFe2QOgQQZlRpD3Cyl5szPsE\n",
       "XinD3Pzq+JnxOLKsPtolN3v3xwxJewZKX+rc4+t5xnILRW9oH5CZj+zFV9vvRZa5dMcV/gNglMzc\n",
       "4rnTvBkDAFCMyRgAgGJ6mZp12UXNLdm4NCMlZ5XH1t3Jqd21ZdvMyo7mCl1mX/pkcaqRtuRfcyQF\n",
       "qm3ilShMrHwp2alH5tJ1l9ok05jiS9fueOdrd22K56rpZ8F4iIIlM7fNq+zKmzEAAMWYjAEAKMZk\n",
       "DABAMVKbgIsmbzdo8EO6sXSn9NQpI19IprO4t1bGpNU4Er+r4L9q+ClF8dSmtp2MNatxFJS5dO/j\n",
       "7P+MyezfijVf6L/dfpE3YwAAijEZAwBQjMkYAIBidsx4lRzOCovurnezvPs9P+e6jce5pRLtZ0Mm\n",
       "S8c+w/zcYy8304oju1soOn29DcQ9GLnidjZzVR3u1oV+nnGsf8XNR472P/Ib6/33xkDxWyMR2C99\n",
       "GRsFb8YAABRjMgYAoBipTbg7FWGH6AJadIOZt4ZeCU5rXJlL12YZTXspcnLei1ySDqY26XaxJelt\n",
       "27aH5jvWYYLY8rMv+bfHeOjtSEdiNMtfUo+FNXgzBgCgGJMxAADFmIwBAChGzHhnq6RJZe6cJ7cz\n",
       "W7p0ZNQOn7ON7wVTnbbt0v24niRih96CcWS7jKZilsM8dVvumQa+TmdDTPez2+lO1nnxY0r0Fh1u\n",
       "s9fuV0V9w3npTrwZAwBQjMkYAIBiTMYAABQjZoyP8/bhu3raB06d3Jl5SbeKnjg3mhaZ2de2ic9g\n",
       "lszMjSOnBmY1d6vFRM6ujdnbKvZt3Di1GXt32s0ONi9irJzn9dxj3owBACjGZAwAQDGWqXEI3sp4\n",
       "fCFplZSzjlnSMry0PLv/Te1+pZZS49eUJi+JxtN7YsvPl67ZLiPvkdrkmL8inR7AEa2MUqMu45K8\n",
       "GQMAUIzJGACAYkzGAAAUI2Z8cMEso7sxOxasUj/OIuaauYViJjmuyXFkHSM1c6yk62PLjmG66Ujd\n",
       "eQM7QNppS12j3KfIKcG5NPWoOd+LmcsnS2TKYbw/ypsxAADFmIwBACjGMvWqls216Xm7A+mWK1fl\n",
       "ii8Z5+3uNHsZ2V5qNq8ZZVfzcs8uqMZmnWcekylnxrlDqU32Mviif4hMmXuvZfbFmzEAAMWYjAEA\n",
       "KMZkDABAMWLGh5eXxBEOuVbsoGRfMl56MSp7dyfrvGAceaSooIpr6s/5/uzMONvF/pYth6kOxuLD\n",
       "8lhyGpN0oFym7GctSo6jOcibMQAAxZiMAQAoxmQMAEAxYsadVaIMSJEYzx7rKpZ3PRQBNOLII0+7\n",
       "G6vttqIz85Pdz77Kb6fznwhD2yXKhsEtFKOlNW3HzkV+0/6uuPcs9peCN2MAAIoxGQMAUIxlaiwn\n",
       "NeVHttw/FOGmO3XniWPR3ZLeGl5fMh5ZHrbGplKi1Hn6A1wb1j4Sl3kzS2Rml688GUuzi3wjOq1u\n",
       "9uCiO0AJvBkDAFCMyRgAgGJMxgAAFFsmZnygHQPTZX72Ve6jjpEukjamYjrBXfhG7rdKLzknbkto\n",
       "jW1gO0b3mk5fOkbqnr0m95scKZFp9R+MYY5cdHqsdgd5hYa9/nkzBgCgGJMxAADFmIwBAChmx4xX\n",
       "iUWuouR+WBfNjcse/XvP3GoxO/9Wn9y0FPHboTi1c56MV8o6l6FxZG+XOFtmrDA7Ptzl/A5soWjn\n",
       "Oyf2P9Yw0QL/zsKbMQAAxZiMAQAotkxq03RHX2+9AforKNjNSFnk+eg/Z+z+vJ378etdIschU8Su\n",
       "9zhyW1fOmHHKflrnfaSdcQ1/eTg63tyl8dt0/TeUN2MAAIoxGQMAUIzJGACAYncTM14kJFhimc++\n",
       "yECi6U4qvWd2utNIWdFoaUo5DrPdORrDTCwDmi5YlnPkE7lbIUa3M1RbI0aNfXOJ4yh4hDIzongz\n",
       "BgCgGJMxAADFmIwBACimY8aLxPbWsX+ttJW/guk5v8b93uX+dB/UKxNZEkeWtSmvP6PZ9zEcpx4o\n",
       "41ghvJ2h3VI8a9HtDM2D4b9oC4f7c5m/LeavYnuIN2MAAIoxGQMAUOxuUptulrVmvMCWJBfo1J2C\n",
       "cYhj3TBko7m7ZA2lHoml33Nw6VqJfk1rPHnz2WlGyTst9fJ2hbrUX7T/+LnHCms4eDMGAKAYkzEA\n",
       "AMWYjAEAKFYUM143hjlifspPnsyUln3SsNoe87YRvCQzfrvKvW3jkzo+7/0uzo4tryLzL9Ps+LAs\n",
       "c5n8pzW17OTx/+yn4c0YAIBiTMYAABRjMgYAoNjSecYrl4SskHs/1o3bZ+YeT3+GzNzjkbKZ1iWj\n",
       "fZnbA+4RWz66kXhw11e03UCZy2hOsStz28bb8P6O82YMAEAxJmMAAIotvUw929hy6KLLvIus7c9P\n",
       "M1p4J61Flq6V6cvZVrMFfk8uytstSUkvE/W0VUQAAANfSURBVNksjY8tSYt2RsM9vs2Vn5gsvBkD\n",
       "AFCMyRgAgGJMxgAAFLvrmPFsi4RvbUuPN7HWaEm5ymAcOfv+zy7ZquOa7YFlnqqpZseH8+3/vdxD\n",
       "LNjFmzEAAMWYjAEAKDa0TL30suadsJYd7S9qbrrQ7MpRZ5mXFq8StcLStR79cVKiblXuxkXxnZa8\n",
       "nZyUeArXKrtH3RrejAEAKMZkDABAMSZjAACKLZTatEh5SQLh7xzpduix5sWRM8t5XuzPGdrk0ppK\n",
       "5m9ixfNTEa60d0GaHh++BbGnZuX70X4i3owBACjGZAwAQDEmYwAAivkx40WCh7OHMdZ/27Lvbe3x\n",
       "K8fJPZ6dTz17W0hlrLTm9ZPvJX6bzfsMXnw4vWymMY7cnOK8vuxr3sJD1ODNGACAYkzGAAAUWyi1\n",
       "CbsaWHOdvfNPJl02U7VcY+k63L9d1zJWblN2ZV7ySOx0JP/kjzYZPDe+JB1H6csMvBkDAFCMyRgA\n",
       "gGJMxgAAFCNmPNUiJT7TXU/hGjE9DhuOI++/HaPbv5JZbtPvatXne+AbSEwDSr7k1n6ukfhwdorS\n",
       "oSzwoXgzBgCgGJMxAADFmIwBACiWHjPOjZetEXP1Y4zB/sWxZXJVjYGcRKPz5Dhydo6r9x3nbcd4\n",
       "qbdMqeU2baLHg9fcnP0XJxof/ti5OefJcSSX+Mx9YI6TDc+bMQAAxZiMAQAoNrZMfSc7Od2i+UvX\n",
       "odNse3zn7dJ1ZhlNt9UKS9mX2GNbIG1EqRhW+pL05A+hQlC5/ZvtFn2GMvFmDABAMSZjAACKMRkD\n",
       "AFCMcphB8XQnL8Z4/Dj4/mlp65bR3LboZ1/5ObiDMN6HxO/H3Phw+vd0+tEfy6wyjijejAEAKMZk\n",
       "DABAMSZjAACKETPGn4Rzj80g5h5lM/tr9m4xjuxeER+X+4SK+PAipTtrcor3f0pXjS3zZgwAQDEm\n",
       "YwAAiu2yTJ27404sNWjtJbt7SXfqrbKb0eyla72ZkXPV+KJa9MyjP1PKPkuT1+9cdlnH6bs2pe/I\n",
       "ZFxy1XXkyb8ZvBkDAFCMyRgAgGJMxgAAFMuPGd9iYNPkbbl3LNbXOfSdq1KAfYdHjyO7sbf+mXFH\n",
       "kRdoWzZkV8b7Drr7tkh8WBOfaXqK1ezf4mP/weXNGACAYkzGAAAU+1+lp1ET6J8dwAAAAABJRU5E\n",
       "rkJggg==\n",
       "\" transform=\"translate(37, 12)\"/>\n",
       "</g>\n",
       "<defs>\n",
       "  <clipPath id=\"clip03\">\n",
       "    <rect x=\"532\" y=\"11\" width=\"19\" height=\"365\"/>\n",
       "  </clipPath>\n",
       "</defs>\n",
       "<g clip-path=\"url(#clip7703)\">\n",
       "<image width=\"18\" height=\"364\" xlink:href=\"data:;base64,\n",
       "iVBORw0KGgoAAAANSUhEUgAAABIAAAFsCAYAAADBkelSAAACHUlEQVR4nO2c223EMAwEqUD9V5Eu\n",
       "4yOvBPpjEAwIqoCF9kU5vljnyd8KYP0QIBERN+thgAoC4qhVzqVmcw0Te7BGHLWgkk0BgdQo1yZr\n",
       "lH8Q0Ca7Wxy1Ux8GKBICOhAQaT+lESQ2aD9Gbe1vgU4mAiSkRgEpk824NjnZRvsh1yj7la6N1Qi0\n",
       "35ZsnWtC+yORF1pxo3zUMNcYjZTUVqMeCMFBqUFAUGeN1HRA5Ds2CKjyIEBK+xlqt8qnEUSNAiLf\n",
       "+Y+lFslgTdaImkc3itmUkJpxZm+ym3XLppHwOKI0Eh5HXPt1gw2035Zs0P6x7QeT7aO2rrVAtooY\n",
       "2++z33aukf8PKSutUKNN9j8C5WrUraXWL18gZ2s09mlk8DzaZPdAQvtDRk1oP/TjupMaZT+Uo8Gl\n",
       "NdpPAQmpYa7pks2VFhtsOo249iMwS+3NMs5sBEbZ/qXWA/ke2AfPbIya8WEUAtJVZO3vF2g/g6Oc\n",
       "2XM1AqnZkg0eRxAQtSOlRmt/s4TUVqMXQAyOcmbr5pFu1N6CPqoRJntwaXU5MrZfl+zB1MCfM6Dv\n",
       "sn3n2s7sF0A6apTYGDWhRkmVVpjswa5R1Ar6etmo0cGo2a4JoXYE2n909nPJttkPltZ2/xGYbOge\n",
       "LZ/9Oo2WWr/A0kI34GA7Iv/KnksNm0eDNeKo6dq/rvVAVEWoHQmHf+kumcaoBfQmArwngnON0sjX\n",
       "fs7+udQgoC/rNOfnsknqIwAAAABJRU5ErkJggg==\n",
       "\" transform=\"translate(532, 12)\"/>\n",
       "</g>\n",
       "<g clip-path=\"url(#clip7700)\">\n",
       "<text style=\"fill:#000000; fill-opacity:1; font-family:Arial,Helvetica Neue,Helvetica,sans-serif; font-size:12; text-anchor:start;\" transform=\"rotate(0, 559.315, 365.565)\" x=\"559.315\" y=\"365.565\">-</text>\n",
       "</g>\n",
       "<g clip-path=\"url(#clip7700)\">\n",
       "<text style=\"fill:#000000; fill-opacity:1; font-family:Arial,Helvetica Neue,Helvetica,sans-serif; font-size:12; text-anchor:start;\" transform=\"rotate(0, 566.236, 365.565)\" x=\"566.236\" y=\"365.565\">5.0</text>\n",
       "</g>\n",
       "<g clip-path=\"url(#clip7700)\">\n",
       "<text style=\"fill:#000000; fill-opacity:1; font-family:Arial,Helvetica Neue,Helvetica,sans-serif; font-size:12; text-anchor:start;\" transform=\"rotate(0, 559.315, 281.395)\" x=\"559.315\" y=\"281.395\">-</text>\n",
       "</g>\n",
       "<g clip-path=\"url(#clip7700)\">\n",
       "<text style=\"fill:#000000; fill-opacity:1; font-family:Arial,Helvetica Neue,Helvetica,sans-serif; font-size:12; text-anchor:start;\" transform=\"rotate(0, 566.236, 281.395)\" x=\"566.236\" y=\"281.395\">2.5</text>\n",
       "</g>\n",
       "<g clip-path=\"url(#clip7700)\">\n",
       "<text style=\"fill:#000000; fill-opacity:1; font-family:Arial,Helvetica Neue,Helvetica,sans-serif; font-size:12; text-anchor:start;\" transform=\"rotate(0, 559.315, 197.225)\" x=\"559.315\" y=\"197.225\">0</text>\n",
       "</g>\n",
       "<g clip-path=\"url(#clip7700)\">\n",
       "<text style=\"fill:#000000; fill-opacity:1; font-family:Arial,Helvetica Neue,Helvetica,sans-serif; font-size:12; text-anchor:start;\" transform=\"rotate(0, 559.315, 113.055)\" x=\"559.315\" y=\"113.055\">2.5</text>\n",
       "</g>\n",
       "<g clip-path=\"url(#clip7700)\">\n",
       "<text style=\"fill:#000000; fill-opacity:1; font-family:Arial,Helvetica Neue,Helvetica,sans-serif; font-size:12; text-anchor:start;\" transform=\"rotate(0, 559.315, 28.8849)\" x=\"559.315\" y=\"28.8849\">5.0</text>\n",
       "</g>\n",
       "<polyline clip-path=\"url(#clip7700)\" style=\"stroke:#000000; stroke-width:1; stroke-opacity:1; fill:none\" points=\"\n",
       "  550.315,375.813 550.315,362.152 556.315,362.152 550.315,362.152 550.315,277.982 556.315,277.982 550.315,277.982 550.315,193.812 556.315,193.812 550.315,193.812 \n",
       "  550.315,109.642 556.315,109.642 550.315,109.642 550.315,25.4721 556.315,25.4721 550.315,25.4721 550.315,11.811 \n",
       "  \"/>\n",
       "<polyline clip-path=\"url(#clip7702)\" style=\"stroke:#000000; stroke-width:1; stroke-opacity:1; fill:none\" points=\"\n",
       "  239.33,373.993 241.579,370.353 242.485,368.928 243.83,366.713 246.099,363.073 247.317,361.173 248.381,359.433 250.671,355.793 252.149,353.51 252.985,352.153 \n",
       "  255.299,348.513 256.981,345.943 257.646,344.873 259.986,341.233 261.813,338.475 262.367,337.593 264.736,333.953 266.645,331.111 267.152,330.313 269.553,326.673 \n",
       "  271.476,323.853 272.005,323.033 274.443,319.393 276.308,316.705 276.931,315.753 279.41,312.113 281.14,309.67 281.936,308.473 284.463,304.833 285.972,302.75 \n",
       "  287.028,301.193 289.61,297.553 290.804,295.947 292.215,293.913 294.861,290.273 295.635,289.261 297.507,286.633 300.229,282.993 300.467,282.692 302.919,279.353 \n",
       "  305.299,276.277 305.703,275.713 308.466,272.073 310.131,270.007 311.299,268.433 314.173,264.793 314.963,263.858 317.057,261.153 319.795,257.849 320.048,257.513 \n",
       "  323.01,253.873 324.626,252.035 326.063,250.233 329.209,246.593 329.458,246.329 332.329,242.953 334.29,240.851 335.575,239.313 338.932,235.673 339.122,235.487 \n",
       "  342.268,232.032 343.954,230.383 345.749,228.392 348.785,225.422 349.384,224.752 353.108,221.112 353.617,220.681 356.914,217.472 358.449,216.203 360.919,213.832 \n",
       "  363.281,211.945 365.151,210.192 368.113,207.939 369.651,206.552 372.945,204.22 374.491,202.912 377.776,200.818 379.816,199.272 382.608,197.758 386.05,195.632 \n",
       "  386.05,191.992 382.608,189.867 379.816,188.352 377.776,186.807 374.491,184.712 372.945,183.405 369.651,181.072 368.113,179.685 365.151,177.432 363.281,175.68 \n",
       "  360.919,173.792 358.449,171.422 356.914,170.152 353.617,166.943 353.108,166.512 349.384,162.872 348.785,162.203 345.749,159.232 343.954,157.241 342.268,155.592 \n",
       "  339.122,152.137 338.932,151.952 335.575,148.312 334.29,146.774 332.329,144.672 329.458,141.296 329.209,141.032 326.063,137.392 324.626,135.59 323.01,133.752 \n",
       "  320.048,130.112 319.795,129.776 317.057,126.472 314.963,123.766 314.173,122.832 311.299,119.192 310.131,117.617 308.466,115.552 305.703,111.912 305.299,111.348 \n",
       "  302.919,108.272 300.467,104.932 300.229,104.632 297.507,100.992 295.635,98.3634 294.861,97.3516 292.215,93.7116 290.804,91.6776 289.61,90.0715 287.028,86.4315 \n",
       "  285.972,84.8743 284.463,82.7915 281.936,79.1515 281.14,77.9542 279.41,75.5114 276.931,71.8714 276.308,70.9191 274.443,68.2314 272.005,64.5914 271.476,63.7712 \n",
       "  269.553,60.9514 267.152,57.3113 266.645,56.5136 264.736,53.6713 262.367,50.0313 261.813,49.1492 259.986,46.3913 257.646,42.7512 256.981,41.6818 255.299,39.1112 \n",
       "  252.985,35.4712 252.149,34.1148 250.671,31.8312 248.381,28.1911 247.317,26.4519 246.099,24.5511 243.83,20.9111 242.485,18.6969 241.579,17.2711 239.33,13.631 \n",
       "  \n",
       "  \"/>\n",
       "<polyline clip-path=\"url(#clip7702)\" style=\"stroke:#000000; stroke-width:1; stroke-opacity:1; fill:none\" points=\"\n",
       "  498.685,13.631 498.572,13.6474 493.74,14.5062 488.908,15.5217 484.076,16.7022 482.057,17.2711 479.245,18.034 474.413,19.5283 470.457,20.9111 469.581,21.2063 \n",
       "  464.749,23.042 461.203,24.5511 459.917,25.0801 455.085,27.3015 453.347,28.1911 450.254,29.7274 446.448,31.8312 445.422,32.3829 440.59,35.269 440.284,35.4712 \n",
       "  435.758,38.3922 434.752,39.1112 430.926,41.7925 429.689,42.7512 426.095,45.4947 425.031,46.3913 421.263,49.5333 420.721,50.0313 416.732,53.6713 416.431,53.9438 \n",
       "  413.054,57.3113 411.599,58.7645 409.61,60.9514 406.767,64.1115 406.374,64.5914 403.392,68.2314 401.935,70.0401 400.59,71.8714 397.973,75.5114 397.104,76.7387 \n",
       "  395.543,79.1515 393.269,82.7915 392.272,84.4332 391.159,86.4315 389.207,90.0715 387.44,93.585 387.381,93.7116 385.726,97.3516 384.196,100.992 382.792,104.632 \n",
       "  382.608,105.13 381.532,108.272 380.399,111.912 379.392,115.552 378.513,119.192 377.776,122.757 377.762,122.832 377.131,126.472 376.627,130.112 376.251,133.752 \n",
       "  376.005,137.392 375.891,141.032 375.913,144.672 376.076,148.312 376.386,151.952 376.856,155.592 377.504,159.232 377.776,160.337 378.288,162.872 379.226,166.512 \n",
       "  380.389,170.152 381.853,173.792 382.608,175.2 383.51,177.432 385.441,181.072 387.44,183.772 387.928,184.712 390.75,188.352 392.272,189.556 394.427,191.992 \n",
       "  394.427,195.632 392.272,198.069 390.75,199.272 387.928,202.912 387.44,203.853 385.441,206.552 383.51,210.192 382.608,212.425 381.853,213.832 380.389,217.472 \n",
       "  379.226,221.112 378.288,224.752 377.776,227.288 377.504,228.392 376.856,232.032 376.386,235.673 376.076,239.313 375.913,242.953 375.891,246.593 376.005,250.233 \n",
       "  376.251,253.873 376.627,257.513 377.131,261.153 377.762,264.793 377.776,264.868 378.513,268.433 379.392,272.073 380.399,275.713 381.532,279.353 382.608,282.494 \n",
       "  382.792,282.993 384.196,286.633 385.726,290.273 387.381,293.913 387.44,294.039 389.207,297.553 391.159,301.193 392.272,303.191 393.269,304.833 395.543,308.473 \n",
       "  397.104,310.886 397.973,312.113 400.59,315.753 401.935,317.584 403.392,319.393 406.374,323.033 406.767,323.513 409.61,326.673 411.599,328.86 413.054,330.313 \n",
       "  416.431,333.681 416.732,333.953 420.721,337.593 421.263,338.091 425.031,341.233 426.095,342.13 429.689,344.873 430.926,345.832 434.752,348.513 435.758,349.232 \n",
       "  440.284,352.153 440.59,352.356 445.422,355.242 446.448,355.793 450.254,357.897 453.347,359.433 455.085,360.323 459.917,362.544 461.203,363.073 464.749,364.583 \n",
       "  469.581,366.418 470.457,366.713 474.413,368.096 479.245,369.591 482.057,370.353 484.076,370.922 488.908,372.103 493.74,373.118 498.572,373.977 498.685,373.993 \n",
       "  \n",
       "  \"/>\n",
       "<polyline clip-path=\"url(#clip7702)\" style=\"stroke:#000000; stroke-width:1; stroke-opacity:1; fill:none\" points=\"\n",
       "  459.917,257.819 455.085,258.794 450.254,259.363 445.422,259.539 440.59,259.324 435.758,258.703 430.926,257.638 430.544,257.513 426.095,256.18 421.263,254.164 \n",
       "  420.738,253.873 416.431,251.631 414.4,250.233 411.599,248.384 409.521,246.593 406.767,244.236 405.597,242.953 402.393,239.313 401.935,238.782 399.816,235.673 \n",
       "  397.659,232.032 397.104,231.001 395.949,228.392 394.625,224.752 393.663,221.112 393.065,217.472 392.828,213.832 392.95,210.192 393.443,206.552 394.379,202.912 \n",
       "  396.072,199.272 397.104,198.174 398.41,195.632 398.41,191.992 397.104,189.45 396.072,188.352 394.379,184.712 393.443,181.072 392.95,177.432 392.828,173.792 \n",
       "  393.065,170.152 393.663,166.512 394.625,162.872 395.949,159.232 397.104,156.623 397.659,155.592 399.816,151.952 401.935,148.842 402.393,148.312 405.597,144.672 \n",
       "  406.767,143.389 409.521,141.032 411.599,139.241 414.4,137.392 416.431,135.993 420.738,133.752 421.263,133.46 426.095,131.445 430.544,130.112 430.926,129.986 \n",
       "  435.758,128.921 440.59,128.301 445.422,128.086 450.254,128.262 455.085,128.831 459.917,129.806 461.034,130.112 464.749,131.173 469.581,132.989 471.265,133.752 \n",
       "  474.413,135.279 478.103,137.392 479.245,138.105 483.415,141.032 484.076,141.547 487.784,144.672 488.908,145.74 491.48,148.312 493.74,150.897 494.635,151.952 \n",
       "  497.373,155.592 498.572,157.434 499.74,159.232 501.793,162.872 503.404,166.266 503.523,166.512 505.051,170.152 506.309,173.792 507.322,177.432 508.109,181.072 \n",
       "  508.235,181.858 508.72,184.712 509.127,188.352 509.329,191.992 509.329,195.632 509.127,199.272 508.72,202.912 508.235,205.767 508.109,206.552 507.322,210.192 \n",
       "  506.309,213.832 505.051,217.472 503.523,221.112 503.404,221.358 501.793,224.752 499.74,228.392 498.572,230.19 497.373,232.032 494.635,235.673 493.74,236.727 \n",
       "  491.48,239.313 488.908,241.885 487.784,242.953 484.076,246.078 483.415,246.593 479.245,249.519 478.103,250.233 474.413,252.346 471.265,253.873 469.581,254.635 \n",
       "  464.749,256.451 461.034,257.513 459.917,257.819 \n",
       "  \"/>\n",
       "<polyline clip-path=\"url(#clip7702)\" style=\"stroke:#000000; stroke-width:1; stroke-opacity:1; fill:none\" points=\"\n",
       "  435.758,226.675 430.926,227.786 426.095,228.127 421.263,227.743 416.431,226.557 412.607,224.752 411.599,224.337 407.166,221.112 406.767,220.835 403.793,217.472 \n",
       "  401.935,214.949 401.359,213.832 399.82,210.192 398.958,206.552 398.755,202.912 399.243,199.272 401,195.632 401,191.992 399.243,188.352 398.755,184.712 \n",
       "  398.958,181.072 399.82,177.432 401.359,173.792 401.935,172.676 403.793,170.152 406.767,166.789 407.166,166.512 411.599,163.287 412.607,162.872 416.431,161.068 \n",
       "  421.263,159.881 426.095,159.497 430.926,159.839 435.758,160.95 440.459,162.872 440.59,162.933 445.422,165.891 446.246,166.512 450.192,170.152 450.254,170.223 \n",
       "  453.181,173.792 455.085,176.966 455.367,177.432 457.092,181.072 458.287,184.712 459.039,188.352 459.401,191.992 459.401,195.632 459.039,199.272 458.287,202.912 \n",
       "  457.092,206.552 455.367,210.192 455.085,210.658 453.181,213.832 450.254,217.401 450.192,217.472 446.246,221.112 445.422,221.733 440.59,224.692 440.459,224.752 \n",
       "  435.758,226.675 \n",
       "  \"/>\n",
       "<polyline clip-path=\"url(#clip7702)\" style=\"stroke:#000000; stroke-width:1; stroke-opacity:1; fill:none\" points=\"\n",
       "  421.263,214.618 416.431,214.696 413.456,213.832 411.599,213.423 406.767,210.336 406.648,210.192 403.83,206.552 402.28,202.912 401.963,199.272 402.522,195.632 \n",
       "  402.522,191.992 401.963,188.352 402.28,184.712 403.83,181.072 406.648,177.432 406.767,177.289 411.599,174.201 413.456,173.792 416.431,172.929 421.263,173.006 \n",
       "  424.201,173.792 426.095,174.36 430.926,177.239 431.172,177.432 434.693,181.072 435.758,182.836 436.894,184.712 438.267,188.352 438.895,191.992 438.895,195.632 \n",
       "  438.267,199.272 436.894,202.912 435.758,204.789 434.693,206.552 431.172,210.192 430.926,210.386 426.095,213.265 424.201,213.832 421.263,214.618 \n",
       "  \"/>\n",
       "<polyline clip-path=\"url(#clip7702)\" style=\"stroke:#000000; stroke-width:1; stroke-opacity:1; fill:none\" points=\"\n",
       "  416.431,207.774 411.599,207.437 410.15,206.552 406.767,204.78 405.428,202.912 403.728,199.272 403.44,195.632 403.44,191.992 403.728,188.352 405.428,184.712 \n",
       "  406.767,182.845 410.15,181.072 411.599,180.188 416.431,179.85 420.161,181.072 421.263,181.525 425.147,184.712 426.095,186.214 427.416,188.352 428.452,191.992 \n",
       "  428.452,195.632 427.416,199.272 426.095,201.41 425.147,202.912 421.263,206.099 420.161,206.552 416.431,207.774 \n",
       "  \"/>\n",
       "<polyline clip-path=\"url(#clip7702)\" style=\"stroke:#000000; stroke-width:1; stroke-opacity:1; fill:none\" points=\"\n",
       "  411.599,203.693 410.236,202.912 406.767,201.3 405.493,199.272 404.358,195.632 404.358,191.992 405.493,188.352 406.767,186.325 410.236,184.712 411.599,183.931 \n",
       "  416.424,184.712 416.431,184.713 420.796,188.352 421.263,189.556 422.341,191.992 422.341,195.632 421.263,198.068 420.796,199.272 416.431,202.911 416.424,202.912 \n",
       "  411.599,203.693 \n",
       "  \"/>\n",
       "<polyline clip-path=\"url(#clip7702)\" style=\"stroke:#000000; stroke-width:1; stroke-opacity:1; fill:none\" points=\"\n",
       "  411.599,201.281 407.858,199.272 406.767,198.74 405.277,195.632 405.277,191.992 406.767,188.884 407.858,188.352 411.599,186.343 416.1,188.352 416.431,188.68 \n",
       "  418.701,191.992 418.701,195.632 416.431,198.944 416.1,199.272 411.599,201.281 \n",
       "  \"/>\n",
       "<polyline clip-path=\"url(#clip7702)\" style=\"stroke:#000000; stroke-width:1; stroke-opacity:1; fill:none\" points=\"\n",
       "  411.599,196.767 409.655,195.632 409.655,191.992 411.599,190.858 412.99,191.992 412.99,195.632 411.599,196.767 \n",
       "  \"/>\n",
       "<polyline clip-path=\"url(#clip7702)\" style=\"stroke:#000000; stroke-width:1; stroke-opacity:1; fill:none\" points=\"\n",
       "  411.599,197.991 407.558,195.632 407.558,191.992 411.599,189.634 414.491,191.992 414.491,195.632 411.599,197.991 \n",
       "  \"/>\n",
       "<polyline clip-path=\"url(#clip7702)\" style=\"stroke:#000000; stroke-width:1; stroke-opacity:1; fill:none\" points=\"\n",
       "  411.599,199.215 406.767,196.826 406.195,195.632 406.195,191.992 406.767,190.799 411.599,188.409 415.993,191.992 415.993,195.632 411.599,199.215 \n",
       "  \"/>\n",
       "<g clip-path=\"url(#clip7703)\">\n",
       "<image width=\"18\" height=\"364\" xlink:href=\"data:;base64,\n",
       "iVBORw0KGgoAAAANSUhEUgAAABIAAAFsCAYAAADBkelSAAAAeUlEQVR4nO3MMREAAAgEoNf+nbWE\n",
       "5wQBqCSTA32RiEQikUgkEolEIpFIJBKJRCKRSCQSiUQikUgkEolEIpFIJBKJRCKRSCQSiUQikUgk\n",
       "EolEIpFIJBKJRCKRSCQSiUQikUgkEolEIpFIJBKJRCKRSCQSiUQikUj0Hy1syQPXSM6yOQAAAABJ\n",
       "RU5ErkJggg==\n",
       "\" transform=\"translate(532, 12)\"/>\n",
       "</g>\n",
       "<g clip-path=\"url(#clip7700)\">\n",
       "<text style=\"fill:#000000; fill-opacity:1; font-family:Arial,Helvetica Neue,Helvetica,sans-serif; font-size:12; text-anchor:start;\" transform=\"rotate(0, 559.315, 365.565)\" x=\"559.315\" y=\"365.565\">-</text>\n",
       "</g>\n",
       "<g clip-path=\"url(#clip7700)\">\n",
       "<text style=\"fill:#000000; fill-opacity:1; font-family:Arial,Helvetica Neue,Helvetica,sans-serif; font-size:12; text-anchor:start;\" transform=\"rotate(0, 566.236, 365.565)\" x=\"566.236\" y=\"365.565\">5.0</text>\n",
       "</g>\n",
       "<g clip-path=\"url(#clip7700)\">\n",
       "<text style=\"fill:#000000; fill-opacity:1; font-family:Arial,Helvetica Neue,Helvetica,sans-serif; font-size:12; text-anchor:start;\" transform=\"rotate(0, 559.315, 281.395)\" x=\"559.315\" y=\"281.395\">-</text>\n",
       "</g>\n",
       "<g clip-path=\"url(#clip7700)\">\n",
       "<text style=\"fill:#000000; fill-opacity:1; font-family:Arial,Helvetica Neue,Helvetica,sans-serif; font-size:12; text-anchor:start;\" transform=\"rotate(0, 566.236, 281.395)\" x=\"566.236\" y=\"281.395\">2.5</text>\n",
       "</g>\n",
       "<g clip-path=\"url(#clip7700)\">\n",
       "<text style=\"fill:#000000; fill-opacity:1; font-family:Arial,Helvetica Neue,Helvetica,sans-serif; font-size:12; text-anchor:start;\" transform=\"rotate(0, 559.315, 197.225)\" x=\"559.315\" y=\"197.225\">0</text>\n",
       "</g>\n",
       "<g clip-path=\"url(#clip7700)\">\n",
       "<text style=\"fill:#000000; fill-opacity:1; font-family:Arial,Helvetica Neue,Helvetica,sans-serif; font-size:12; text-anchor:start;\" transform=\"rotate(0, 559.315, 113.055)\" x=\"559.315\" y=\"113.055\">2.5</text>\n",
       "</g>\n",
       "<g clip-path=\"url(#clip7700)\">\n",
       "<text style=\"fill:#000000; fill-opacity:1; font-family:Arial,Helvetica Neue,Helvetica,sans-serif; font-size:12; text-anchor:start;\" transform=\"rotate(0, 559.315, 28.8849)\" x=\"559.315\" y=\"28.8849\">5.0</text>\n",
       "</g>\n",
       "<polyline clip-path=\"url(#clip7700)\" style=\"stroke:#000000; stroke-width:1; stroke-opacity:1; fill:none\" points=\"\n",
       "  550.315,375.813 550.315,362.152 556.315,362.152 550.315,362.152 550.315,277.982 556.315,277.982 550.315,277.982 550.315,193.812 556.315,193.812 550.315,193.812 \n",
       "  550.315,109.642 556.315,109.642 550.315,109.642 550.315,25.4721 556.315,25.4721 550.315,25.4721 550.315,11.811 \n",
       "  \"/>\n",
       "</svg>\n"
      ]
     },
     "execution_count": 50,
     "metadata": {
      "comm_id": "0290a2c6-cf13-4576-8f50-cf24cc1564fa",
      "reactive": true
     },
     "output_type": "execute_result"
    }
   ],
   "source": [
    "@manipulate for mi = linspace(.5,1,100), mE = linspace(.1,1.5,100),  ϕ=linspace(-π/10,π/10,99)\n",
    "    let sx = linspace(-4,4,100), sy = linspace(-3,3,100)\n",
    "        cal = [my_log(x+1im*y,mi^2,1,mE^2,ϕ) for y in sy, x in sx]\n",
    "        heatmap(sx,sy,imag.(cal))\n",
    "        contour!(sx,sy,real.(cal), l=(:black, 1), c=ColorGradient([:black,:black]), levels=23)\n",
    "    end\n",
    "end"
   ]
  },
  {
   "cell_type": "code",
   "execution_count": null,
   "metadata": {},
   "outputs": [],
   "source": []
  }
 ],
 "metadata": {
  "kernelspec": {
   "display_name": "Julia 0.6.3",
   "language": "julia",
   "name": "julia-0.6"
  },
  "language_info": {
   "file_extension": ".jl",
   "mimetype": "application/julia",
   "name": "julia",
   "version": "0.6.3"
  },
  "widgets": {
   "state": {
    "14c3a665-cc4a-4c84-b445-fe0608aee63b": {
     "views": [
      {
       "cell_index": 4
      }
     ]
    },
    "3c017181-5b17-485b-8a38-22551fbce987": {
     "views": [
      {
       "cell_index": 3
      }
     ]
    },
    "5095f7c2-ea1f-483f-a6a7-2c73a5f7b09b": {
     "views": [
      {
       "cell_index": 5
      }
     ]
    },
    "5617ce3c-be84-48ad-94d6-fffe77469109": {
     "views": [
      {
       "cell_index": 5
      }
     ]
    },
    "616fad54-6295-4b0e-a481-5b90cb5a3b10": {
     "views": [
      {
       "cell_index": 4
      }
     ]
    },
    "7ea8b184-bac0-4a0d-ba71-0d26ddd5b34b": {
     "views": [
      {
       "cell_index": 5
      }
     ]
    },
    "a4c94a9a-f79e-4697-a746-d5babbee2d90": {
     "views": [
      {
       "cell_index": 3
      }
     ]
    },
    "b334dae4-4418-4482-a44a-abdea3fdcea1": {
     "views": [
      {
       "cell_index": 5
      }
     ]
    },
    "c75691f0-1fff-4ce6-98df-f8fdca9ee755": {
     "views": [
      {
       "cell_index": 4
      }
     ]
    },
    "cac3df13-9039-4cb5-9949-518944d1feed": {
     "views": [
      {
       "cell_index": 4
      }
     ]
    },
    "cbd262f7-0162-462f-b7d1-5593a02f933c": {
     "views": [
      {
       "cell_index": 4
      }
     ]
    },
    "e2283487-0ff5-4ada-bcf7-e79f4a670929": {
     "views": [
      {
       "cell_index": 5
      }
     ]
    },
    "f65220bf-7c74-4366-b713-70b842235364": {
     "views": [
      {
       "cell_index": 4
      }
     ]
    },
    "f65e6891-d798-4c69-b1ae-682970d00549": {
     "views": [
      {
       "cell_index": 4
      }
     ]
    }
   },
   "version": "1.2.0"
  }
 },
 "nbformat": 4,
 "nbformat_minor": 2
}
