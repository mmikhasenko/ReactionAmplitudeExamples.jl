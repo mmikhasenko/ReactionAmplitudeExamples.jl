{
 "cells": [
  {
   "cell_type": "markdown",
   "metadata": {},
   "source": [
    "# Shower profile for the electromagnetic calorimeter\n",
    "The notebook contrains a skatch of the shower profile analysis"
   ]
  },
  {
   "cell_type": "markdown",
   "metadata": {},
   "source": [
    "The energy deposition is measured using a cumulative distribution\n",
    "![here is the Figure](ecal_shower.png)"
   ]
  },
  {
   "cell_type": "code",
   "execution_count": 6,
   "metadata": {
    "collapsed": false
   },
   "outputs": [
    {
     "data": {
      "text/plain": [
       "cdf (generic function with 1 method)"
      ]
     },
     "execution_count": 6,
     "metadata": {},
     "output_type": "execute_result"
    }
   ],
   "source": [
    "function cdf(x,y,args...)\n",
    "    a = args[1]\n",
    "    b = args[2]\n",
    "    1/4+a*(atan(x/b)+atan(y/b)+atan(x*y/(b*sqrt(b^2+x^2+y^2))))/(2π)\n",
    "end"
   ]
  },
  {
   "cell_type": "code",
   "execution_count": 3,
   "metadata": {
    "collapsed": true
   },
   "outputs": [],
   "source": [
    "using Plots"
   ]
  },
  {
   "cell_type": "code",
   "execution_count": 17,
   "metadata": {
    "collapsed": false
   },
   "outputs": [
    {
     "data": {
      "image/svg+xml": [
       "<?xml version=\"1.0\" encoding=\"utf-8\"?>\n",
       "<svg xmlns=\"http://www.w3.org/2000/svg\" xmlns:xlink=\"http://www.w3.org/1999/xlink\" width=\"600\" height=\"400\" viewBox=\"0 0 600 400\">\n",
       "<defs>\n",
       "  <clipPath id=\"clip00\">\n",
       "    <rect x=\"0\" y=\"0\" width=\"600\" height=\"400\"/>\n",
       "  </clipPath>\n",
       "</defs>\n",
       "<polygon clip-path=\"url(#clip4900)\" points=\"\n",
       "0,400 600,400 600,0 0,0 \n",
       "  \" fill=\"#ffffff\" fill-opacity=\"1\"/>\n",
       "<defs>\n",
       "  <clipPath id=\"clip01\">\n",
       "    <rect x=\"120\" y=\"0\" width=\"421\" height=\"400\"/>\n",
       "  </clipPath>\n",
       "</defs>\n",
       "<polygon clip-path=\"url(#clip4900)\" points=\"\n",
       "39.1436,375.813 520.315,375.813 520.315,11.811 39.1436,11.811 \n",
       "  \" fill=\"#ffffff\" fill-opacity=\"1\"/>\n",
       "<defs>\n",
       "  <clipPath id=\"clip02\">\n",
       "    <rect x=\"39\" y=\"11\" width=\"482\" height=\"365\"/>\n",
       "  </clipPath>\n",
       "</defs>\n",
       "<polyline clip-path=\"url(#clip4902)\" style=\"stroke:#000000; stroke-width:0.5; stroke-opacity:0.1; fill:none\" points=\"\n",
       "  41.5494,375.813 41.5494,11.811 \n",
       "  \"/>\n",
       "<polyline clip-path=\"url(#clip4902)\" style=\"stroke:#000000; stroke-width:0.5; stroke-opacity:0.1; fill:none\" points=\"\n",
       "  160.639,375.813 160.639,11.811 \n",
       "  \"/>\n",
       "<polyline clip-path=\"url(#clip4902)\" style=\"stroke:#000000; stroke-width:0.5; stroke-opacity:0.1; fill:none\" points=\"\n",
       "  279.729,375.813 279.729,11.811 \n",
       "  \"/>\n",
       "<polyline clip-path=\"url(#clip4902)\" style=\"stroke:#000000; stroke-width:0.5; stroke-opacity:0.1; fill:none\" points=\"\n",
       "  398.819,375.813 398.819,11.811 \n",
       "  \"/>\n",
       "<polyline clip-path=\"url(#clip4902)\" style=\"stroke:#000000; stroke-width:0.5; stroke-opacity:0.1; fill:none\" points=\"\n",
       "  517.909,375.813 517.909,11.811 \n",
       "  \"/>\n",
       "<polyline clip-path=\"url(#clip4902)\" style=\"stroke:#000000; stroke-width:0.5; stroke-opacity:0.1; fill:none\" points=\"\n",
       "  39.1436,373.993 520.315,373.993 \n",
       "  \"/>\n",
       "<polyline clip-path=\"url(#clip4902)\" style=\"stroke:#000000; stroke-width:0.5; stroke-opacity:0.1; fill:none\" points=\"\n",
       "  39.1436,283.903 520.315,283.903 \n",
       "  \"/>\n",
       "<polyline clip-path=\"url(#clip4902)\" style=\"stroke:#000000; stroke-width:0.5; stroke-opacity:0.1; fill:none\" points=\"\n",
       "  39.1436,193.812 520.315,193.812 \n",
       "  \"/>\n",
       "<polyline clip-path=\"url(#clip4902)\" style=\"stroke:#000000; stroke-width:0.5; stroke-opacity:0.1; fill:none\" points=\"\n",
       "  39.1436,103.722 520.315,103.722 \n",
       "  \"/>\n",
       "<polyline clip-path=\"url(#clip4902)\" style=\"stroke:#000000; stroke-width:0.5; stroke-opacity:0.1; fill:none\" points=\"\n",
       "  39.1436,13.631 520.315,13.631 \n",
       "  \"/>\n",
       "<polyline clip-path=\"url(#clip4900)\" style=\"stroke:#000000; stroke-width:1; stroke-opacity:1; fill:none\" points=\"\n",
       "  39.1436,375.813 520.315,375.813 \n",
       "  \"/>\n",
       "<polyline clip-path=\"url(#clip4900)\" style=\"stroke:#000000; stroke-width:1; stroke-opacity:1; fill:none\" points=\"\n",
       "  39.1436,375.813 39.1436,11.811 \n",
       "  \"/>\n",
       "<polyline clip-path=\"url(#clip4900)\" style=\"stroke:#000000; stroke-width:1; stroke-opacity:1; fill:none\" points=\"\n",
       "  41.5494,375.813 41.5494,370.353 \n",
       "  \"/>\n",
       "<polyline clip-path=\"url(#clip4900)\" style=\"stroke:#000000; stroke-width:1; stroke-opacity:1; fill:none\" points=\"\n",
       "  160.639,375.813 160.639,370.353 \n",
       "  \"/>\n",
       "<polyline clip-path=\"url(#clip4900)\" style=\"stroke:#000000; stroke-width:1; stroke-opacity:1; fill:none\" points=\"\n",
       "  279.729,375.813 279.729,370.353 \n",
       "  \"/>\n",
       "<polyline clip-path=\"url(#clip4900)\" style=\"stroke:#000000; stroke-width:1; stroke-opacity:1; fill:none\" points=\"\n",
       "  398.819,375.813 398.819,370.353 \n",
       "  \"/>\n",
       "<polyline clip-path=\"url(#clip4900)\" style=\"stroke:#000000; stroke-width:1; stroke-opacity:1; fill:none\" points=\"\n",
       "  517.909,375.813 517.909,370.353 \n",
       "  \"/>\n",
       "<polyline clip-path=\"url(#clip4900)\" style=\"stroke:#000000; stroke-width:1; stroke-opacity:1; fill:none\" points=\"\n",
       "  39.1436,373.993 46.3612,373.993 \n",
       "  \"/>\n",
       "<polyline clip-path=\"url(#clip4900)\" style=\"stroke:#000000; stroke-width:1; stroke-opacity:1; fill:none\" points=\"\n",
       "  39.1436,283.903 46.3612,283.903 \n",
       "  \"/>\n",
       "<polyline clip-path=\"url(#clip4900)\" style=\"stroke:#000000; stroke-width:1; stroke-opacity:1; fill:none\" points=\"\n",
       "  39.1436,193.812 46.3612,193.812 \n",
       "  \"/>\n",
       "<polyline clip-path=\"url(#clip4900)\" style=\"stroke:#000000; stroke-width:1; stroke-opacity:1; fill:none\" points=\"\n",
       "  39.1436,103.722 46.3612,103.722 \n",
       "  \"/>\n",
       "<polyline clip-path=\"url(#clip4900)\" style=\"stroke:#000000; stroke-width:1; stroke-opacity:1; fill:none\" points=\"\n",
       "  39.1436,13.631 46.3612,13.631 \n",
       "  \"/>\n",
       "<g clip-path=\"url(#clip4900)\">\n",
       "<text style=\"fill:#000000; fill-opacity:1; font-family:Arial,Helvetica Neue,Helvetica,sans-serif; font-size:12; text-anchor:middle;\" transform=\"rotate(0, 41.5494, 389.613)\" x=\"41.5494\" y=\"389.613\">-1.0</text>\n",
       "</g>\n",
       "<g clip-path=\"url(#clip4900)\">\n",
       "<text style=\"fill:#000000; fill-opacity:1; font-family:Arial,Helvetica Neue,Helvetica,sans-serif; font-size:12; text-anchor:middle;\" transform=\"rotate(0, 160.639, 389.613)\" x=\"160.639\" y=\"389.613\">-0.5</text>\n",
       "</g>\n",
       "<g clip-path=\"url(#clip4900)\">\n",
       "<text style=\"fill:#000000; fill-opacity:1; font-family:Arial,Helvetica Neue,Helvetica,sans-serif; font-size:12; text-anchor:middle;\" transform=\"rotate(0, 279.729, 389.613)\" x=\"279.729\" y=\"389.613\">0.0</text>\n",
       "</g>\n",
       "<g clip-path=\"url(#clip4900)\">\n",
       "<text style=\"fill:#000000; fill-opacity:1; font-family:Arial,Helvetica Neue,Helvetica,sans-serif; font-size:12; text-anchor:middle;\" transform=\"rotate(0, 398.819, 389.613)\" x=\"398.819\" y=\"389.613\">0.5</text>\n",
       "</g>\n",
       "<g clip-path=\"url(#clip4900)\">\n",
       "<text style=\"fill:#000000; fill-opacity:1; font-family:Arial,Helvetica Neue,Helvetica,sans-serif; font-size:12; text-anchor:middle;\" transform=\"rotate(0, 517.909, 389.613)\" x=\"517.909\" y=\"389.613\">1.0</text>\n",
       "</g>\n",
       "<g clip-path=\"url(#clip4900)\">\n",
       "<text style=\"fill:#000000; fill-opacity:1; font-family:Arial,Helvetica Neue,Helvetica,sans-serif; font-size:12; text-anchor:end;\" transform=\"rotate(0, 33.1436, 378.493)\" x=\"33.1436\" y=\"378.493\">-1.0</text>\n",
       "</g>\n",
       "<g clip-path=\"url(#clip4900)\">\n",
       "<text style=\"fill:#000000; fill-opacity:1; font-family:Arial,Helvetica Neue,Helvetica,sans-serif; font-size:12; text-anchor:end;\" transform=\"rotate(0, 33.1436, 288.403)\" x=\"33.1436\" y=\"288.403\">-0.5</text>\n",
       "</g>\n",
       "<g clip-path=\"url(#clip4900)\">\n",
       "<text style=\"fill:#000000; fill-opacity:1; font-family:Arial,Helvetica Neue,Helvetica,sans-serif; font-size:12; text-anchor:end;\" transform=\"rotate(0, 33.1436, 198.312)\" x=\"33.1436\" y=\"198.312\">0.0</text>\n",
       "</g>\n",
       "<g clip-path=\"url(#clip4900)\">\n",
       "<text style=\"fill:#000000; fill-opacity:1; font-family:Arial,Helvetica Neue,Helvetica,sans-serif; font-size:12; text-anchor:end;\" transform=\"rotate(0, 33.1436, 108.222)\" x=\"33.1436\" y=\"108.222\">0.5</text>\n",
       "</g>\n",
       "<g clip-path=\"url(#clip4900)\">\n",
       "<text style=\"fill:#000000; fill-opacity:1; font-family:Arial,Helvetica Neue,Helvetica,sans-serif; font-size:12; text-anchor:end;\" transform=\"rotate(0, 33.1436, 18.131)\" x=\"33.1436\" y=\"18.131\">1.0</text>\n",
       "</g>\n",
       "<g clip-path=\"url(#clip4902)\">\n",
       "<image width=\"481\" height=\"364\" xlink:href=\"data:;base64,\n",
       "iVBORw0KGgoAAAANSUhEUgAAAeEAAAFsCAYAAAD7ZAEIAAAgAElEQVR4nO2d3XYjOdJdk5Squ2c8\n",
       "9oXf/zX92e6SSF9ovNYI2Ow8CiCJVPXed8ICAsjkD5RxeAKX15f/ed86Ln0TQv36tkvXFI6jfn0w\n",
       "6HedGGvbLm08HAdzXmgd2drasZftpRz/imNfdvtcL33by/Yatv34y7+3bdte7/24H9Dvxx3amjl/\n",
       "g/X/Duv6/drfn99f+rY/rv1r8kczxT/78Nt/e+0/Tv96vXVt//3HO7T9bP7+s+vzP37/P33bH/+7\n",
       "n/Mffds//9t/ffr7H//6r67P7//6X13bb//qY71C2/Wf//fT35d/9td4+UfXtF3+8Vvf+MfvXdP9\n",
       "9z+gren3G4z7Dcb9gH6v/TraNuzz0r8/N2i7X4N+0AfHUdsF3pDX17/+e9u2DT7n1NZ+Zzxqa8fi\n",
       "9xSNS79Du7ZsHO9N1K/57oXve5oz3U/afrQCEREReQJuwiIiIotwExYREVkECATbtm0gE8c68cjY\n",
       "WZxhDY+org3GDV1mO5iCrYDWUVtbHCm8tedg4vsYb1AYP7m5Qzcxe/Xa1fLrSy9wcXEYi/rh4P14\n",
       "6Vrv/e8MtkuwEBxHz2LZRd3xNQneCLgOeu/BnM39uMB1t30ehef135o+9NsbWP+970cfp3a5PgmL\n",
       "iIgswk1YRERkEW7CIiIii3igCZ+Ysg66QCcmLQeEiUSd4pWmutZMhZN0oaRftoZ5ivDYyCRautb6\n",
       "NdX9+qkkmZDKoFmwyRMkmmpKUTvuNVDWGjnWwe+qdk7SjfF7qqr/bqD3wvsT4pPOegdRtdeAQZ8F\n",
       "UNuFa2+nTPpsW10n9klYRERkEW7CIiIii3hKOrrLiJzFLRTSpmGwFFmY7j6zeaqnmnp+hsXn/hd/\n",
       "jURaR5t6my023MvvtGJafPaNnWorKqZ4YwtRMV1M1hpKh8a2paYN0qNdn0f9UttSly7O0thsK9pP\n",
       "Nd9hrWRb4rT7/rXfoc8ltSMFKWqfhEVERBbhJiwiIrIIN2EREZFFDGrC30vh7Pk+689XmumzZ7hK\n",
       "tHHEY58/cioT5U1m/xUm+wcKW2l5y2RtsUWp2FbVesP4sR0proWa2G2orXh/Uq2U5kR7ZXB8H2jV\n",
       "OC5cW/cbnbhsJVmgSE/e19Fn6sQ+CYuIiCzCTVhERGQRbsIiIiKLeD2vYrhtVe9t+TS/ePCIJ7iq\n",
       "WU03XTZ/zfb67sdPxuUrydaf+5yDN0Iqy8XrKDJS6fDrXeKxeLLedILPydBRhvN8wpE39sxHGRb1\n",
       "9rREJU4JOnR7H+9wTXhsYaL/Qj/0Ksc6Me0L+oRFREROgZuwiIjIIhadopSlgvjn78nYkXKRQc84\n",
       "2LGpfj7VJF1HNkO97dgZZ1JNlB8rEDzKmGbv7blrS21LQaj4LVXM9ccXHqaQm7bYjlRO52axOLVN\n",
       "adO2DZ67aBw+n8HaKJ3bvF8oJYsSUHyyUtMH0ukzLUppGjs5MWnbtCiJiIicBjdhERGRRbgJi4iI\n",
       "LOJ1qlb6kLKJqMjzbVdnNnoRM1+RuiZZVy47Z8epb/bM3wEQWfzuNxb4wqXlKGnO6lGGWce5Fh+I\n",
       "jyUSk1gDdp5o/aQ/4gXs90uPLcQjBMMyp+11om4M0fFlovKWrWYLsQ62KFEsuk62KH1u80lYRERk\n",
       "EW7CIiIii3ATFhERWcQin/BkIoFzZqnJzPc2pLQWRdvcO1wjV3H3/Y/1WOmogTlRmwuOB4zbkldl\n",
       "stDdyo8D8fMjFf96DY/bMh03eZ+R1psckcf9Qh8vxU+0XfTspjoxlaTcP5aPdeJA8w/b+JsRvntj\n",
       "n3Cr2aZlPaHbVJ/wfonKj7Gf//ZJWEREZBFuwiIiIos4IB29n5ZNf1J+PGcxFlXL2Y1M2doIRkpU\n",
       "7q9tJPV8dNnKbBWHvyJZ/NgNUzsFiuOHacjqDYqPnkrKVk4uK1m1QKVlMZt0K6UvozTzFqbA49Rz\n",
       "vWxl/96gNC2tP5qx3ytQOcruI1uZLl/u89EvtAo2Y30SFhERWYSbsIiIyCLchEVERBbxQBM+i1a6\n",
       "gkDTRhtQ6iHKBPHMoZQWh6zZluZqnnMLWbbXNFIhcYXmXCUtW5nZovZL6n1tIUUdeubxgLGWPE8T\n",
       "Zi12ZtnKsC0pSRkfW0g6dFq2sh0baqV07F/yeQ0do6TZ8tfxtelDWjLFyu5jO9YnYRERkUW4CYuI\n",
       "iCzCTVhERGQRJy9bWS1XCB6u0aWUGCmVWYm0PRA5qGMQP5yU1a/AO5waA4luHZm/eKb+m5ajxPKZ\n",
       "gbeXS0Nm7x8kkE/j4w2TsbOt58GCo+MOPxrDCT5renzcYVY2MdKO46MMs7a+BGOi4W5f0H+PLb+a\n",
       "6MSRl3hjzZaPKWz6DPx2grVjNWEREZFT4CYsIiKyCExH5walqpWpnHOcmOD9Sgo2MQzNXFnGWKxa\n",
       "7pDTzEeXrTzWRBRXTTx0FVn8vBJk1S6UTpCUrQw/JwdbiPIUbzI2TA0XrxNPDUpLWUZtlN+dfYpS\n",
       "pU9Ou7S43CV+t0CKurU/YglMKltJcgM955qOFhEROQVuwiIiIotwExYREVnE61yV8iSM+G2mzjky\n",
       "ONFs6/Gzspgj1NY/t2zlwSpuKvtlQ4HUGlQ7Qg1/swCxYjdP1QuXlpo8uuxjYCtK7U7RsYLbtnUa\n",
       "M2mIeJRhTSdGuw2u67yacEtc7hLsQlG/uAQmWWNp8OfXzidhERGRRbgJi4iILOJJFbP2k5/h4UKT\n",
       "qdmKMMUQ25GONSkdLy7MM+/k1qNq/FmR8vgjHSPTGKWL03V0sdKOWcWgJDOMqlBKkrYeSBdTv6yi\n",
       "Vd0C1ae7KSXePyvFKeTEojSUjj4nfHIc3EccfWn+Sq1N8Jng0l2f/vRJWEREZBFuwiIiIotwExYR\n",
       "EVnEFzThX9DKhJynsGQtVFVnzcpFxg6TskUpm7NtnV0Wk09DqsH352DbBlqNWutFelIOTRCMxT6k\n",
       "u/bdUs020oSHSmW2FiLSbOkknlQnLlqU0rKS9/fdPpeuz+Hmvgfk3y77fUL9F36k0Grwia7775HR\n",
       "OixbKSIichLchEVERBbhJiwiIrKIWBPO1c2jNdWE2Xpb4HNGX1q6jmPLVvLa9qPnr2+yhoFYkSRT\n",
       "16+RYPBsH3L3iqclMFMdN1kDSqXBsYUD8dE7XPT7ohZ7K+qzMCeXo0xLYJJ2fAv6kI5LmmeiHff6\n",
       "Lx7Lh99xZ/0NUFVL3rbsu5zuD9z/UDtu761PwiIiIotwExYREVnE63mcR/WFJGUlOXpYanI/O/EF\n",
       "8NgOmHR31IMSmCuopdPTFDWXt5x37SPJrHJ8bNw/5QjfPuGcbTxOY6e2paJFiRhIR/cWpRELUZBW\n",
       "vkHK95qmthOLEvUJbUvlspWQos6iT/4GKn4S6f6wxgFNydhMfuS09X5a3ydhERGRRbgJi4iILMJN\n",
       "WEREZBEPLEpHC8XhT8XJzjBVr65eZzou/Un8Pnn0WnlILBMYnjtX109TnXh/ZFY684EWWySVFau/\n",
       "bRgqd4llK4Nh4f2JqkOOiO0zy1amdifSext70/06Ykcii9Wt6RPGuoH+eE1e83l2swfRHuilyaSp\n",
       "jtu04fdU+o0ZjMXf7KTf7fu/p/BJWEREZBFuwiIiIotwExYREVnEF44yJE5jMt4nXup+x1iLDfy/\n",
       "j0kEtv1R2/ZI703X0cavaTljXt9j/dAzfcKxvBmMzeXT7HcGrT7F5SiDIxDTfjSO7K1LNOF5Pl7S\n",
       "ku+kGV5Ic27vEd0g8PGC/kv3sZ3yTuNoyoHHs/a7MK0HEOm/2wZ6bHgBGCsZS1+WoZ8bf8SkJiwi\n",
       "InIK3IRFREQWMZSOzpPRU+s+LmDe+vlEo5lWqXkmH1zrRAUithUF/fJxaeM+I8n0eoI9TD0HJx9x\n",
       "mjwsWxm08ek//TC8ADr5CE9DatrIZkRp5iQWjMXUc1i2MjkhKT9FqU9RJ/Y4uv84LKyKiQEvL5//\n",
       "xD50ChGlc+k5sW0bSD1jCrnpR2tAqTE5xaqP55OwiIjIItyERUREFuEmLCIisohX/ll4vUzXXGrK\n",
       "WV7EjI6emjtD1q9IGJ516FIo7Ml67JMtSuzNijpWKynO1XrJbROWngyPDOzf7+FRidiWHGWIixho\n",
       "I5240Wyhzx30Xy4FuW8/Qv2XxoE+eL/0Ou7l0uro0IfeB1S2kn4v0D5mwfLJRYPlOcsv3kvQ59Fv\n",
       "Y+D17MpW0kWRjhvov9u2dc+m9JsCvmlhv8/xfBIWERFZhJuwiIjIItyERUREFjFYtvK7kx5H1fSI\n",
       "tdioG/eMjuuaWc7x6LKSoRYL18l+1v3SePkVpebJfUbkza6s5FD8xCdcL1EZacdpLNBsuVrhTJ9w\n",
       "sWwl6b+gE5O225eo3ECTpG8IKlsJ3aKylTCO9NnQ8so+4eC7K/UEQ9ulbYOLusc68b6PF18T0nrT\n",
       "+JatFBEROQduwiIiIos4IB09swRjZtHAgyoSYltL1ykNNtBvfxTBP/OneJ/7pSutlpV8tIqExN6E\n",
       "p9aEM1bb2C4ETWF5yOiO4YlJYVtXVpImyFLUmUUptVj1TegcSUpZBjamj35hirq1QF2hXOQts76g\n",
       "ben2OR5+DtMKiTC2DUjfD0HG9KMJbUuQCg5K4vIHJUwht22wAVzQLpRZiLr3dpzGjm/kpz99EhYR\n",
       "EVmEm7CIiMgi3IRFREQW8UATrpdbrJl+8vhnha8oLQm6Hy+9O/E6opEjFqVa2cpMS84MT/mc1Iv6\n",
       "1SxEBPYL5M3Y7pSMHbEokd0mOsowsyjhhSbablB68mNYsR+tIShHuW3bdiftsu1DpXQpVrkCI9iR\n",
       "6PcU177UJI1l7bvVbEmHTi1EQb8RuxBZoDohnb59yRaVasJalERERE6Bm7CIiMgicotSbOc558lK\n",
       "OfPsVCl8ylHxZ/5hurWtPpQfnLUiXbzfNlZdChoDZs/Zp7tr1qO0rTruYVubokabUVhajsai/ait\n",
       "mBValOK2JtVMpxelqWfq1/ZJxTs6LSqohnW5QJo5rMbXpZm3DdO5XbwkZf2g352eE9t+RWtQPDZM\n",
       "R9PrazpaRETkxLgJi4iILMJNWEREZBFPOkVpruGm69VKEAMnGrE+O7HsZjn+CPMsSqxv7p+kklt3\n",
       "0rqGwRri+NGM/RxhWcZyWUxcA43LtOPEQoTXFNiRPtpaP0ymJXOJSghPbpXEQhTbkcBq1JSkvL8P\n",
       "WJSKn3MsNbn12m5yQhvpv6jPogWneMoR6saBn2rjUp/dFzze69DDVdaER8pWqgmLiIicAjdhERGR\n",
       "RbgJi4iILOIpmnBVEV5C4I3F0nLTfdRBDUOKH05ZPcqQS2DWFM65ZSVnlsDMtN0xT/B+v/jYQixb\n",
       "WfQJh/ovHd/XjqU+F4oPbVheMTnesOr/3bZtoyMJ26MGSX98p08PxKfvDejVxY8iPfhdRKPTX6gc\n",
       "JX6PkHaclZrstGPUjes+3t6DnXmyMX6g2aKWjy9cTSf2SVhERGQRbsIiIiKLeP2KeadvimsdBktZ\n",
       "UQKzSmpHSnptD1LN+yf2MEkJTBqVjquleJPSk4+izy1bWSuL+dFWO0UpLTV5S+KnFqWkLGa1HGXa\n",
       "L049k22Jyk/2TVtrGXoJ09FgNbqA1ahLfablKNMMZvc+hs8hlaikdPGVTg76nH7GcZSmvdI1VS1K\n",
       "WWo4PYUoik+fCVzH/thqOcrH/T7/6ZOwiIjIItyERUREFuEmLCIisognla08mtpZdLkaftntM6St\n",
       "B3ryTH32cbxarEyzTe1IqRVrP36sOYcWosQ1Frfth48tSrf4+MGkD7Xt25E+FtKUeEQbU2pb6pvI\n",
       "9dNIntuFykpewzayLbX2I9T9ethCRD0bq2Cq/wZ2pG3buvKQFzrvkPRZ6JceZdj9niW0HlVtRanW\n",
       "i+WBDy5bmdibfBIWERFZhJuwiIjIItyERUREFrFIE55YzhHGBrbbL5L4bKmUZbaQzKM7cn/2tVHU\n",
       "oujYs7R8ZtGbnKyV2lD/RWv7PJ04vWqSNxPtGGOFOi71uzU6H44LylF+tCVlK1OfMOiPoO1iKctW\n",
       "xiWfMOrEoP+ijvi5H/l/U1jvbUTtl1T/pfsDxxu23mF63cBf3B7h+NEIFw9jW42WteRUn03izztW\n",
       "EPvFWm9YltSjDEVERM6Bm7CIiMgiHqSjZ5eyrEUfS1tPJMoMz7UoReMwNZxOuV/2MbVFJbalEYtS\n",
       "1QIVp57LKXDoE9qR8ECg5sWjyo0UP7cotfHJmpKmqPfbRixKWMryHS6+CXfHLDM0QlnGPrcNXaAN\n",
       "rUfUGKSayRq0Xem64T6i7ap5TeLUM6Wt921p2wbp4fLpSNzv0r7oaTo61CTLpzTF6e7P+CQsIiKy\n",
       "CDdhERGRRbgJi4iILOJJFqWq3WbWfKNU17t/HN5H9ED8S/WMUHvt55xcArP3QEGXtA3sGIkmPLst\n",
       "KVvZNz2wI+2XlWw14kdtrDn3/1/fAgtRblHatxrd3yFW2HaBNrIatRLq5a0fhla7QP9NiT6/24bl\n",
       "J9vymZdrbzOiEpuk7ZJO3OqxeNxhWi6yOjbUf2MrU1JWcuB4Q9Z7a/HVhEVERE6Mm7CIiMgi3IRF\n",
       "REQWcaKjDGeWstzX27aN0/WJ5sl95pXd5FFVrTdbBY3LymnyOtq2VHdNi0F2mjBpzqTLpTOSH7e7\n",
       "JioNCeMw1n6/9KhBLFFJem/nE65pvdvGOu6tabu+9/omjdtCnZj6dd7Y/ZPv/g29AgEo8JOOS55g\n",
       "Kp/5eewdj12k6w6PFWz64bGC6JkO/L8fjftjR3y8iU48pP/C0IlHGSKWrRQRETkHbsIiIiKLeJ1f\n",
       "bjEoZRmngYkTlLIMykB+dKOTlWgsTXFvuoxcY5Iu7klPVqqWleQ0874dKY0/0oYnH7V/Y7o7sxBx\n",
       "urtJF8M4TndDajg4RYnsSCNtbQqZ7Uh96vb23tuFrpSOfqPUZGvlIwmlh0Wb/o53nwE4qQhflBdY\n",
       "K5WH7CxKmTWoblEqpnwftGXp7dAGVG0bSRc/2Y5E/XwSFhERWYSbsIiIyCLchEVERBaxyKK0Qted\n",
       "Wcpyrh2JrUBtv9Bcg16sallJCJWUqMR4k0tItkcxoj5LWm/WhmO7spI9My1KqOvC++c90H+3rddx\n",
       "02MLW+vRRxtpuy+7fa5vYFt6oTb4TNCRfu0xqViOMtOJ+ePU/DbjDnUxSetF/Tdowz6gqaYlJDuL\n",
       "0n6fh7GqpSZn6r8b/O4CJVsqD5zOudtQ1n8Jn4RFREQW4SYsIiKyCDdhERGRRQxqwkdru9X4oRZb\n",
       "LGXJJR5pxol+a9DvUr810/qQ04KO1Cvw8U70HGP84nGED9eB0nd7TaTZ9rD+u19WkrXerI3Gvjc6\n",
       "Zfv3trEm/A7e2EQnvoOv9/bax7q89V9Dd9B/6XXq38fQ4w46MRu1+7U1bVShcnsBfzEcu4je4Vbv\n",
       "DTVhLlG5r13mRxkOaLYHa8Ld92qk6z5oXKAJt+88n4RFREQW4SYsIiKyiAfp6Nlp5iS1GpZ9TOI/\n",
       "u4wlLWHbvlDKcj8vPnaKUrFs5dSTlUZSz1TK8tb8TdYjGNfmF7dtu22Qbi1alDDLCW3vQT8eV0s9\n",
       "Uz9KM2OKGlLP72A/emnsR7eX/uvl8hNSt3hyEOWG+xsCK+vH4dsT1nGD90vbRMuiKSltTSnq9sCh\n",
       "KwRLbUVBOppjTU4XR+novunwdDHKdxNLWYYp6jad7pOwiIjIItyERUREFuEmLCIisojXExwM+EVm\n",
       "rvj7lLLM7U5pKcv9caj/plajpl9qRyLRLbMokf5Luu688pZxicpUJ25elFz/LVqUQq0X26D85HtT\n",
       "fvIK5SgvpBNTOcqU5jovcN0XuD8b6L9kNWrbaK1UYhMfb/ZPGtyg2ui2YblO0I4T9xF9jUzWhLOj\n",
       "BoE4/m7DF0pZhuuo9Hk8wae/fBIWERFZhJuwiIjIIr5QMatY6Qn7YdmiKHw9GT2vilZu56F+57hn\n",
       "vW0MUs8Yq2ZRGks971uUbpgS3x/3sYowHd1ZlGgcpYa7Jm67tX3CNDPkMN/AavTWWJLavz/W0Le9\n",
       "oR2p/+p4b1K3V6okhanVgXR0c52Uer689m20tjutt2mjSl5sscpOgeri0WMRppChG31e236Ypg1f\n",
       "Exy735ZmbtMU8kyLUpzKTuIX+/kkLCIisgg3YRERkUW4CYuIiCzila0pabnIozn2FKXDmVnKEk/j\n",
       "mFnKsl6iMrEQ4bihk5XaspUjWi+0BfYmHIdt/WuXlLIk3fgttCOxJnxt/s7031doewNNuNVZUStN\n",
       "bYFwTXe49ntzTVewXV3eezvP/aVva/VfaqNrSnVi6tdqxxfSYlMdPdF7U1031aapW/sbmqKW/O/R\n",
       "+/3S3xSMaNMHxvJJWEREZBFuwiIiIotwExYREVnEF3zCZ6bVBEZKSM5ZweNVpD7htgfpsxNLWWKo\n",
       "TLNNSlmy17f/HzDxBFMba8JhGx5vuK8nx/5f0naDYwpJ/31LPcHQ72ejAf8ErfcnlKN8uYL+C5rn\n",
       "9efnfvxbBCLTf19A772/v336+/bar//6luq/+/1I6yX/b+4dbt7HqAn3TaQd49hAE0Yduqo5b/Bt\n",
       "Q98ZsaYarqPSZ0Us6OeTsIiIyCLchEVERBbxIB09s0Ql9QtjYVnGfYsPZwUGCl7uu4ViOK1MBGUr\n",
       "w3uGFoEk1oBFqes30Y60bXCiUVgCE1PPUN6SU9ntnJlFiUtNdk1divoNrUf9uJ/Q7yekqH826dyf\n",
       "1z51+yeknl9g0iulVvuldZAdr7UZbdu23SD1fAOr0bVJqVPq+RrakbjMZi0dvcVp6/bLZaDUZ5L2\n",
       "jcfV09GldW3bFtmRsK2Ysg7HptUuY3nTdLSIiMg5cBMWERFZhJuwiIjIImKL0kkKQYbMXu08K1N+\n",
       "/GBTzi7Wx+eVrZxZypLHgY5Lxw/idQYWpYn677Zt23vTj44QZItS34j2o2YZP0f0X2j7s7EovbZn\n",
       "J24P7EipZthAPW6h/kt2pBfQhF8aDZh0XdKEyWKFtqW2rCRqvaH+S/exHZve6zB+f6zgRH1527Zq\n",
       "WUn8Tiprztm6hnTork+2JyR6sk/CIiIii3ATFhERWYSbsIiIyCIOKFuZ6LEDPuRAUx1ThPdHg8SH\n",
       "egNHCsq8bVSSct8f/Sg+L3jfx4u6B74k+6UsUdcNvcOk2V6bNtZ1ey3wtvXeWNKO30E7fu/KVoLW\n",
       "O9EnnOq/f8K5iD+g32ujs75cwBOc6nfAvVnvDXTv2+tb1/aOa4XymegB/vw6vVz3+2zbA0040HZ5\n",
       "HOmPNb9vqiXn3t4mfqi7Jpr/0NjZpSwra9i2ut93SIf+jE/CIiIii3ATFhERWcQX0tFpOnQFSVnM\n",
       "ZFw6NrUshevAZbQWH7jXYV6c7EFVi1LdyjRwihLZipp0X5uefhSLbUuUtqZ09O0v/942ti1RippK\n",
       "UraWJLIo/QltP8DO8wrpuNdLU+Kxv2y0IxH0frw110Rp5vdbn2Z+BQvRGyzuBfq9NOlhPN0pbKNU\n",
       "cNuP0pwYK0zT9mUrw3HVFDWqeXMtSlGpTKCaQo7tThgrSG0Xx6Vz+iQsIiKyCDdhERGRRbgJi4iI\n",
       "LOL1OQUpE812wLYUrJfLJla1Y9BdUZ5N7Ug0Y3s8Y6rV0XVSx30tii8KREm6H41eSmU37xAr1okb\n",
       "+9ENxrFFqW97B9vSO/W7f+73Butn/ZfKVvZtPxsxDTXh9/4+vsIL/AJ6bCuzpu/+Vuvdtge2q2bO\n",
       "N9B/f9z6+/oK+i+1vYDVqLUktRrxtuU6LpbnbC1KZD0a0HHbtjH9F7p1/arjmLl2pEzbpW+bbNyA\n",
       "dtwOG9KEP//pk7CIiMgi3IRFREQW4SYsIiKyiMGylSfxDneS7YjO/QyNPKDTbKHLgHe4vc7MS/yg\n",
       "DeZsNZP4CEQ8ynBfJ0ZPcKgJoyf4Qtrxe/M3eIIhPh1b+BPeo63kSfrvC7yUV+h3hXtWdcCDfI2a\n",
       "8FujCf8gTRiOI3wFfRY1YejXltmkPqz/ZprwtT3KkPqgTtw14fu99/GGWnIfPjvKcEA/jXXcZF0D\n",
       "/aJrCsbFY8Ov/6rm7JOwiIjIItyERUREFvEgHX10Sna2HalWtrJuWwrtQmFmOLvK9P5Qr/0ZOC2T\n",
       "2paSspVZ6vmCZTep1GSzfkoJhinq90t/ss8Vyk+26eg3sDa9wJxvcJ0/IUX90lw7OHIelJrs2y6Q\n",
       "om7/505Tz2+QA8drurbpaEgzX6BsJaaj91PP29ann6lPNfW8bX05VE5Hp3akrqm3KCUp60exwrFR\n",
       "fOwY9iusYWTs7LKSXbzqSUuPhjb4JCwiIrIIN2EREZFFuAmLiIgsYtCiROzblp5uWdq2ybal51uW\n",
       "7mgDgn6xbalpI/kX7xkqiTT483RYojI8dhFtS5/HktZ7xVKWWXlLtih91o7x2EKI/5PWBhafVgOm\n",
       "9ZNmDktF7s2cN9K9QWDGYxev/dgfjT77g45TTLVeeL+8gGbbjiV9dkQnbq881X851v5neLom3DUM\n",
       "2J2oX3HsiI6blK1kOxWR3LMsEnfbvyafhEVERBbhJiwiIrKI19yN9J1sS/W1ntW2xCuYaVsqprG3\n",
       "LbItsU0K0syQ+qQb1J62RHanG+RpL/FpS71tqU01XyH+9Q52J7i3V1jvtbEtRenFB630krQFrOh0\n",
       "pLfeQbT9vPeNf0Ja+UfzOr3Cv/ivkAZ+DdLMaRtaj+A+oq0rGEuf1WrqmfqV08xbZjVKq15h/PIp\n",
       "R9BnIN3drpdT21H4cgo5T3fvx/dJWEREZBFuwiIiIotwExYREVnEARYlotUHT3DS0rYN2JaO1scz\n",
       "ptqWsPQkzhq2Ndofar1JuUuItfUacGtZ2rZtu2FZzH3r0baxdtyOfQP9l34/gLHwNWkawPlF/zfj\n",
       "KwL3uy1J+Y76bz/uT/hX/Qec0vSjaXpFi1J2MlSqCbfhuA9pvT2JJoxachgr6Zdqsakm2WvCA9Yj\n",
       "7FlbW1WLPUv8mXP6JCwiIrIIN2EREZFFuAmLiIgs4vVBvcK+7Vt5h0P/bHidrU6Z+YYfzEm9Au/w\n",
       "mIt6fx3sj6aORe8w+EPp/t/pSMKgH2mgd4c7kQ8AABLySURBVNB/b6FmyzpxW4qTYpHWG7Yldne6\n",
       "jTAnled8b+JROcpW133U9grX3vqCqQ9rvX38F5jzJfD7ov5L3t7YO7w/jr292Zx92UqKVffnJj5k\n",
       "ItaEq8cbZssol7cc2YWqY6tHNvokLCIisgg3YRERkUU8sCg9P828xLaErLAt1dIYD3Ln0G3ffsQl\n",
       "Kil8alFq28LcKkbaT45xSpYuAEpZhmnl9+40sDAdjfGB+2+f/6TlUznK237qedv6E5KoD56YBC8T\n",
       "pZDbdDT2gXtBaWAae8X0dtsntSNBfOy3X2IwTUdHZSVH4k+0C8Xp4ij+SInK2pwj6+jHpY21bj4J\n",
       "i4iILMJNWEREZBFuwiIiIovIy1Z+qyMPBww9gW0pP+4w1SDAXtM6fEJ9Nrct7d+z2O4EQuW91b+g\n",
       "hCRfFMXatzdR2Up+eamcY68T09rae9ZqxI/GpW/HXkX/AX36YLc7HM8Ixw++N/3eQIx9hfc/W426\n",
       "pu2lOYqRy1H2bbkmvN+Gx0amFiJ8OdvfAcA4aIuPJIwsShmpdpz0GTnyMOpTXOtX+mXrWG938klY\n",
       "RERkEW7CIiIii3ATFhERWcQXjjLUO/zXq5h9f6reYQpFAkx7vORul3+HynzCl1YDhqPvWCeGbrj+\n",
       "z2PbY/q2jTW+O+i/N3w5wSc884yz4N7SUZV3+MjeoO0dJnhtNOFXOMuQ9d9UJ26P/cu0ZOpHTwdZ\n",
       "WclwXLFf7gmmfvvfZ7knOGtMfMhhKPS7p2OjcbH3dqLfN1ht9WOfRfdJWEREZBluwiIiIov4Qjoa\n",
       "KNuW0uf7NEU9M10c2JawDGSaOq/ZlpKTlh5Fp/RNZoGCa8KF9Gnle/f/XbXc5bal5S27SJBSvlHq\n",
       "MzyBCYxMdfA91EoE+322bdtukNZ/xxR1Y1GC+9qmrLdt216oLUhbk10oT0dnVqN2ZXk5yuzzWrUQ\n",
       "ldPKA+noM5SoTOOl6XTuFqSQs1DZWNPRIiIivyZuwiIiIotwExYREVnE6/Qj+IKyj8fbnVKOXUde\n",
       "3pJH7/YY0omTPpl+HY2Ny1FisP1+cOF30pLpKMDwpwHtf6zvA2+VRO8lOxjpv7dLbzV6QZ34penT\n",
       "j3sDK9kL/K/+Ap/zVjtGXRe13lT/3e9Hny+2HtGRh6ATV8tKFrXdERtQpMVO1HUf9gvuWUrZ7jQQ\n",
       "bOZOpCYsIiJyYtyERUREFuEmLCIisogxn/AS9j26rGVOLCEZlIF8PGf9eMN6rCRUdk318pa9RnkB\n",
       "/ynOieL3/lGJpPXif53oJ6Z++7HIS0za7kuiCVMf0H+pbOUL3O+XVhPeQEuGtitpwtDWaqo0DnVd\n",
       "uP/YFmjMabnI/PjB9rslHZeto9ecs890UgKTGoe03rTfaTXhWrTZv1Zq4/kkLCIisgg3YRERkUU8\n",
       "SEcfbFuKSlt+Zc6EkXRxYOiJ07kzy1uCLadoW0pKW6axtg3KW+I4uo+Qtg5eJrr9qR2JU9TBWLw/\n",
       "dE1BOn2jdDSVA+0/slfoR7al2/3z2HcozclpZkhRg5TQpp8xHU3jwrKVSVr5EqaxMZ1LL1OXjq6V\n",
       "u/zK2CxW1ta2jtipwqHQp/49Xi3FyaSp/toM8Tqajj4Ji4iILMJNWEREZBFuwiIiIot4kkWpepRh\n",
       "LX6uu9biz15/vbxlWFYy0HZjxTzWiVvRlsYlRyA+Wt3nsWyTykLlOvHnwTgObhD1I9tVa2ViTbhv\n",
       "Q80W2m6NBkx92tKW27Zt13uvHV+hvGWnCaP+m9mWLqG9qbW58VGGoSbcD80sSkV9mUhjpcpl0ivW\n",
       "f8tlH+d+H3djDy5HmWjtI/F8EhYREVmEm7CIiMgi3IRFREQW8QVNeKKPNw5VnTP15870Jte9w/Xy\n",
       "liNlMfcZc1a3+mY2kHy2d/AOb522SGUxYcqZOjGOA30f9N8L+HhbzZnLVmY68Q21431NmNouqOPu\n",
       "e4fpWL60lCVpwugBbtbGWu+8NlrDiCc404lr43jsgCaMH55kzrRPMX74lVf1K4/9Amj/fvskLCIi\n",
       "sgg3YRERkUUMWpTmpYs5dTtzzpRi2co0UVssb5mXtszuRWuRSe0H1VOU0leIUquUmuxS1JAyPTpF\n",
       "TXIGpZ6vafytfU0oNd9f5w1S1FTKsrV/3eDMJ0xHYwoZ0sXNa4B9wjY6RYnS4llZybRsZZCOhg9K\n",
       "PidRK4uJaU5c/36wemo76zmzBOZI/Pqcs+/PZ3wSFhERWYSbsIiIyCLchEVERBbxWi+ZOJvna71z\n",
       "y1vO1onbUenrlFqUPo/lcpQDdqfoKEOYE2/Pvk6c2Zi2bUwnbq8p+x/2Ft7bVmNmaxPp0Jlt6d7Z\n",
       "eUBfRmsT9dvXdmPrUaAvf/Tbj1fVej/mDDThEc02aQvLXeKcoV5d6fNwzokmqHjf6b5aBkpIFofO\n",
       "LGXpk7CIiMgi3IRFREQWccApSmeorJUbYvqWpLLWM9L1+3OOSQn7qeZ7WB0oqpgVn74E/YIUdWRj\n",
       "2rY4Rc0L2U8dIngBNLi5Z5SGB4sSp3PJ3tTaxijND9W3ghOTPsZ+vj9JyprGjfSrppn/f2spPkQi\n",
       "PSMaW0wp52urp9PTOft08eT4wdCpFblG0t1Bq0/CIiIii3ATFhERWYSbsIiIyCIul8sfkbI117Y0\n",
       "udBYFG4kr5+MnV2crauRGMXKtZDqNWWaW19abl4sjIdaGv2PmdpV9semNhr6X5d1yn0LUbrWZB1V\n",
       "G1C6jjGtN7yPwfssXUfy3si15NpncyQ+Rg9OPpptUXp+/Nq4PJ6asIiIyC+Jm7CIiMgi3IRFREQW\n",
       "EWvCOLicK5/ts03005F1tLrNsfHjPlN14pG1JtrugFfzcM051FQv7ZzpuKL2Gh+bV9WOR2IFmnOs\n",
       "v9dfk6omnOu4E9/HRW03jZ999uf+juRonRjHBjo3z5m37seat4f5JCwiIrIIN2EREZFFLEpHc7Rp\n",
       "Y6eno/fHzf6Z/PEp6qpFKe3X2nlGrBe1dHecEozXVksX8/qTdGtqbZpn50mtXlFqdbZt7OD3WRQ/\n",
       "/EzU43O0LNb+2JH1J/HTlnqskXErUs/7Y30SFhERWYSbsIiIyCLchEVERBYxpAljwFPoxKlWeuyc\n",
       "c3XiAX0WdbJ21Ij+m/Qb0WKDfkPH1aXaaNGuEluUJmqq5fXX7Fp5/Jm/A+j7jZV93P/eOLps5cj3\n",
       "SN3ulMbP+s2ccyzefvyq5pz3UhMWERE5LW7CIiIii3ATFhERWcTlcvkdNOGZuq468X6kJP6IJlyL\n",
       "N1fLmaf7pS1H68RVf26+thH9OjmKcYGndvZrEs1JTaEm3MUnavosxg9+v/F4ziD+Ek24Nu5r65jZ\n",
       "67mas0/CIiIii3ATFhERWcRT0tF99JH4B6e2o/BHp1LSnjNT1LPtAUenqINx01Pg++niqenWU6fT\n",
       "qamYTh9Kux/83ghaeF3ZOqrpbu5V/MzF6fqUZ19TFn/ud286aj+WT8IiIiKLcBMWERFZhJuwiIjI\n",
       "Ih5owth13qTTNed5ukF9aef4yX25Hw47WIuK+5GOWxw3VScOX8uytjtbK03sPPV7Njc+RV/xmuxH\n",
       "O/zYv/CzWdUk55esrcYP50y+ug7XtOfN6ZOwiIjIItyERUREFuEmLCIisogvaMI4fN5CpurEx2oQ\n",
       "z5jz+TpxXYviXs/VidlKPFcn7rWo2fEDTXVA84w02wEdOotPVDX59G6M6KeBPhiWmqxrzlm/JN5Q\n",
       "rPg6i/GnRjvr3vQR8T/xSVhERGQRbsIiIiKLGExHY8iJkU6aoo5Dnfln8s9NUc+3QQRzhinNegqw\n",
       "nkbl6Pvxx0pZBuuaalGiLiMpfAy4P26qxWduuji6zqnpbh55jvj1sf2wmUlr09EiIiK/JG7CIiIi\n",
       "i3ATFhERWcSpNWGOfgaduGpjmjvnXJ14QIst68Rp67Hrz45K7MdWrU352AH98eiyjJFFKYsfX+fB\n",
       "c/LI5PcgM3Xi2RaldtRcO9LQHDDyufPV1zHzu9cnYRERkUW4CYuIiCzigHQ0TnNw9OemP+JYf+cU\n",
       "ddTl2DRe3o9S1MnYkfXvv1+q1qB4HQMnGkVp6/g1n/fa5WnsLP7Mym+5fWq/01Q7z2nip+HOkLae\n",
       "F8snYRERkUW4CYuIiCzCTVhERGQRl8vlN9CEj9VwZ8c/a67/e+nEE/XfdFzR2vTR68maNvSrWps+\n",
       "Wop2lYE5y3Ye1I6TsbO10gWabddp5DXP+tX6pL8DODh+zMxvpW+2nzRNPgmLiIgswk1YRERkEW7C\n",
       "IiIii3igCWPXY1cyMf6KMmZDsYpewZE5fzWdeMVRiXV/cRZvyLMbaZcTPcfYNNsTTL1map7H/s6g\n",
       "7mH+bppt8prMnrPWK2Oyz7kZ7ZOwiIjIItyERUREFvGFdDQOn7eSg+Of18b0IN6TU9R5pGPTW3NT\n",
       "1JPXMTFWtSwmjyquo2w9GllHZoGaGr8cayuni+d+ngbil09DOvqa5o2ryyVjM8wa6ZOwiIjIItyE\n",
       "RUREFuEmLCIisoiTa8LHzvmtdOLJP/NPxp1HAwr6HW5NSeNN1OmHSlRSr6pmOzHWiAUKu820r9XW\n",
       "MVdfHoj/YPScPl/5iK2wRc1aw9xYasIiIiInxk1YRERkEW7CIiIiixjUhDHk3HBPjn9enXjE9/Yr\n",
       "6sTBuCGduDr2+fryTO14SB/vfsYwV9PO3o+pPntw/LLnde76p86ZL2TauKxcwjn2nOp3o0/CIiIi\n",
       "i3ATFhERWcQB6Wic5lvHN0X99XEjiezqnNG4iffnLNaRuWnrBen6sgWqPudUWSUuu1mMPzDu6HR9\n",
       "NdjYt+Bz95Oh2YL3hk/CIiIii3ATFhERWYSbsIiIyCKepAl3037r+HM14o+Ih8bKfuc/cQ19vPNY\n",
       "m47VxMZ0v/XXnh2xOBD/4Ndpvi1qf9zQa951W6Evz41V/n6cqkNnseZ+69Wi+SQsIiKyCDdhERGR\n",
       "RbgJi4iILOJy2X70mvDhZcBwKd86/q+pE4exiuPOoxOHYydq6/X3yzn81nXteIEPOex2/GtS/QwM\n",
       "vOa/oObcR5r83Vu8Z1V8EhYREVmEm7CIiMgiOB39oOfzMUX9n9Hm0nk75sUaGHd8inokVlLCcCR+\n",
       "O+ocqefq2DG7U23s4Rax8JrO8j5+fro7i3eW+zOT6ufVJ2EREZFFuAmLiIgswk1YRERkEbkm/GD0\n",
       "81En/s9oh8ZaohNnsQ7Xuo7WVE+hHZ/3/szVk1fYco4uuzkw58RYazTno1fx3H3NJ2EREZFFuAmL\n",
       "iIgswk1YRERkEWOa8IOIz0ed+D+jPT3WRN0m5/IXfz1rHQfrd5N9tmu045mxAv/pAm8yjzrL57D6\n",
       "ORlYx8RYI+/2aUx/T33GJ2EREZFFuAmLiIgsYn46+sEsz+V7p6c/ZvhO1zDT3rTChvL8dZRjxeG/\n",
       "URp1+tharBW2qGzUWVLb1O0s75d58eeuYj+aT8IiIiKLcBMWERFZhJuwiIjIIp6jCfe12RZwDr2h\n",
       "Hv27rX/ma36GEpjHr2NqrINtY0tKPD49VhZvvi3quFjzv0eebwV6tmY7n89z+iQsIiKyCDdhERGR\n",
       "RTwpHd1NGzUdz3dL8bbRv9P651ojzlu955xpSIx3uN1pXqyvzvJdY32n1PbjaCf9Xiq+34++Gp+E\n",
       "RUREFuEmLCIisgg3YRERkUUs0oQJdeLjZjyvphTFf3oJzHq8X9LuVO52FgvUd4pVj59VB37G989M\n",
       "S9Wx8b8y61GhfBIWERFZhJuwiIjIItyERUREFnG5bK+gCS8RY4G/i078/Dm/vcf4NDrxfvzZymid\n",
       "J+ugT/B8H13UMJnx7xI/P5H2vNdQi37sfD4Ji4iILMJNWEREZBEP0tHY9diVxJwhRW16ujLD0+Of\n",
       "+OSmuTOe1W4zEOuXKKn5q8WfN+d5Utvr5/RJWEREZBFuwiIiIotwExYREVnEFzRhHD5vJUNUj2g7\n",
       "cA2/wJzqxIX4B8cbm/Ekeu/M+E8u1bhGS3bOL486ze9B9vFJWEREZBFuwiIiIotwExYREVnEZQNN\n",
       "+Dy6U5UzeIlXTfrdj0rkGZ4e/xuVxZy7iu+kGw/McRKf6vPLbmar+DXnJCb+XqAYyidhERGRRbgJ\n",
       "i4iILALT0Q86jk1zRsZ+x16d9G8x5y+Zop66hPXrP/dn+qTxT/Kan8cqRZxhHWdYwyM+r80nYRER\n",
       "kUW4CYuIiCzCTVhERGQRsSb8YPDTRx7O30YnbvnuJTB51qfHP3VZzFr87/U5P8c9mzv02Tap4+fM\n",
       "Ocs6WuatyydhERGRRbgJi4iILMJNWEREZBFDmvCDgE8feThLdOKWX1FfoxlPrOnNnFPt+KnRnh9/\n",
       "4pzf6r1yllKcKevX5pOwiIjIItyERUREFjE9Hf1gkqePPJRTpKe37Vul1IZm/HtcZzfn9CU8+5qe\n",
       "kcY+5zUdz/cuuzl3xrO8JimWrRQRETkFbsIiIiKLcBMWERFZxFM0YZh02ejD+FvrxMRz1/Fr6sZh\n",
       "/G9mYanO+b0sUGeZs2XyGr75e+8MmrNPwiIiIotwExYREVnE/wM9VcUzeFcHNgAAAABJRU5ErkJg\n",
       "gg==\n",
       "\" transform=\"translate(39, 12)\"/>\n",
       "</g>\n",
       "<defs>\n",
       "  <clipPath id=\"clip03\">\n",
       "    <rect x=\"532\" y=\"11\" width=\"19\" height=\"365\"/>\n",
       "  </clipPath>\n",
       "</defs>\n",
       "<g clip-path=\"url(#clip4903)\">\n",
       "<image width=\"18\" height=\"364\" xlink:href=\"data:;base64,\n",
       "iVBORw0KGgoAAAANSUhEUgAAABIAAAFsCAYAAADBkelSAAACHUlEQVR4nO2c223EMAwEqUD9V5Eu\n",
       "4yOvBPpjEAwIqoCF9kU5vljnyd8KYP0QIBERN+thgAoC4qhVzqVmcw0Te7BGHLWgkk0BgdQo1yZr\n",
       "lH8Q0Ca7Wxy1Ux8GKBICOhAQaT+lESQ2aD9Gbe1vgU4mAiSkRgEpk824NjnZRvsh1yj7la6N1Qi0\n",
       "35ZsnWtC+yORF1pxo3zUMNcYjZTUVqMeCMFBqUFAUGeN1HRA5Ds2CKjyIEBK+xlqt8qnEUSNAiLf\n",
       "+Y+lFslgTdaImkc3itmUkJpxZm+ym3XLppHwOKI0Eh5HXPt1gw2035Zs0P6x7QeT7aO2rrVAtooY\n",
       "2++z33aukf8PKSutUKNN9j8C5WrUraXWL18gZ2s09mlk8DzaZPdAQvtDRk1oP/TjupMaZT+Uo8Gl\n",
       "NdpPAQmpYa7pks2VFhtsOo249iMwS+3NMs5sBEbZ/qXWA/ke2AfPbIya8WEUAtJVZO3vF2g/g6Oc\n",
       "2XM1AqnZkg0eRxAQtSOlRmt/s4TUVqMXQAyOcmbr5pFu1N6CPqoRJntwaXU5MrZfl+zB1MCfM6Dv\n",
       "sn3n2s7sF0A6apTYGDWhRkmVVpjswa5R1Ar6etmo0cGo2a4JoXYE2n909nPJttkPltZ2/xGYbOge\n",
       "LZ/9Oo2WWr/A0kI34GA7Iv/KnksNm0eDNeKo6dq/rvVAVEWoHQmHf+kumcaoBfQmArwngnON0sjX\n",
       "fs7+udQgoC/rNOfnsknqIwAAAABJRU5ErkJggg==\n",
       "\" transform=\"translate(532, 12)\"/>\n",
       "</g>\n",
       "<g clip-path=\"url(#clip4900)\">\n",
       "<text style=\"fill:#000000; fill-opacity:1; font-family:Arial,Helvetica Neue,Helvetica,sans-serif; font-size:12; text-anchor:start;\" transform=\"rotate(0, 559.315, 345.316)\" x=\"559.315\" y=\"345.316\">0.1</text>\n",
       "</g>\n",
       "<g clip-path=\"url(#clip4900)\">\n",
       "<text style=\"fill:#000000; fill-opacity:1; font-family:Arial,Helvetica Neue,Helvetica,sans-serif; font-size:12; text-anchor:start;\" transform=\"rotate(0, 559.315, 303.684)\" x=\"559.315\" y=\"303.684\">0.2</text>\n",
       "</g>\n",
       "<g clip-path=\"url(#clip4900)\">\n",
       "<text style=\"fill:#000000; fill-opacity:1; font-family:Arial,Helvetica Neue,Helvetica,sans-serif; font-size:12; text-anchor:start;\" transform=\"rotate(0, 559.315, 262.053)\" x=\"559.315\" y=\"262.053\">0.3</text>\n",
       "</g>\n",
       "<g clip-path=\"url(#clip4900)\">\n",
       "<text style=\"fill:#000000; fill-opacity:1; font-family:Arial,Helvetica Neue,Helvetica,sans-serif; font-size:12; text-anchor:start;\" transform=\"rotate(0, 559.315, 220.421)\" x=\"559.315\" y=\"220.421\">0.4</text>\n",
       "</g>\n",
       "<g clip-path=\"url(#clip4900)\">\n",
       "<text style=\"fill:#000000; fill-opacity:1; font-family:Arial,Helvetica Neue,Helvetica,sans-serif; font-size:12; text-anchor:start;\" transform=\"rotate(0, 559.315, 178.789)\" x=\"559.315\" y=\"178.789\">0.5</text>\n",
       "</g>\n",
       "<g clip-path=\"url(#clip4900)\">\n",
       "<text style=\"fill:#000000; fill-opacity:1; font-family:Arial,Helvetica Neue,Helvetica,sans-serif; font-size:12; text-anchor:start;\" transform=\"rotate(0, 559.315, 137.157)\" x=\"559.315\" y=\"137.157\">0.6</text>\n",
       "</g>\n",
       "<g clip-path=\"url(#clip4900)\">\n",
       "<text style=\"fill:#000000; fill-opacity:1; font-family:Arial,Helvetica Neue,Helvetica,sans-serif; font-size:12; text-anchor:start;\" transform=\"rotate(0, 559.315, 95.5247)\" x=\"559.315\" y=\"95.5247\">0.7</text>\n",
       "</g>\n",
       "<g clip-path=\"url(#clip4900)\">\n",
       "<text style=\"fill:#000000; fill-opacity:1; font-family:Arial,Helvetica Neue,Helvetica,sans-serif; font-size:12; text-anchor:start;\" transform=\"rotate(0, 559.315, 53.8927)\" x=\"559.315\" y=\"53.8927\">0.8</text>\n",
       "</g>\n",
       "<polyline clip-path=\"url(#clip4900)\" style=\"stroke:#000000; stroke-width:1; stroke-opacity:1; fill:none\" points=\"\n",
       "  550.315,375.813 550.315,341.904 556.315,341.904 550.315,341.904 550.315,300.272 556.315,300.272 550.315,300.272 550.315,258.64 556.315,258.64 550.315,258.64 \n",
       "  550.315,217.008 556.315,217.008 550.315,217.008 550.315,175.376 556.315,175.376 550.315,175.376 550.315,133.744 556.315,133.744 550.315,133.744 550.315,92.1119 \n",
       "  556.315,92.1119 550.315,92.1119 550.315,50.4799 556.315,50.4799 550.315,50.4799 550.315,11.811 \n",
       "  \"/>\n",
       "</svg>\n"
      ]
     },
     "execution_count": 17,
     "metadata": {},
     "output_type": "execute_result"
    }
   ],
   "source": [
    "let xv = linspace(-1,1,100), yv = linspace(-1,1,100)\n",
    "    heatmap(xv, yv, [cdf(x,y,1,0.2) for y in yv, x in yv])\n",
    "end"
   ]
  },
  {
   "cell_type": "code",
   "execution_count": 26,
   "metadata": {
    "collapsed": false
   },
   "outputs": [
    {
     "data": {
      "text/plain": [
       "en_dep (generic function with 3 methods)"
      ]
     },
     "execution_count": 26,
     "metadata": {},
     "output_type": "execute_result"
    }
   ],
   "source": [
    "function en_dep(cdf, dist_in_cell_units...)\n",
    "    v = [dist_in_cell_units[1], dist_in_cell_units[2]]\n",
    "    vuu = v+[ 1, 1]/2\n",
    "    vdd = v+[-1,-1]/2\n",
    "    vud = v+[ 1,-1]/2\n",
    "    vdu = v+[-1,-1]/2    \n",
    "    cdf(vuu...) - cdf(vud...) - cdf(vdu...) + cdf(vdd...)\n",
    "end"
   ]
  },
  {
   "cell_type": "code",
   "execution_count": 55,
   "metadata": {
    "collapsed": false
   },
   "outputs": [
    {
     "data": {
      "text/plain": [
       "sigmaE (generic function with 1 method)"
      ]
     },
     "execution_count": 55,
     "metadata": {},
     "output_type": "execute_result"
    }
   ],
   "source": [
    "function sigmaE(E) # make sure that E is in GeV\n",
    "    c = 0.02 # constant_term\n",
    "    s = 0.06 # stochastic term\n",
    "    E*sqrt(c^2+(s/sqrt(E)))\n",
    "end"
   ]
  },
  {
   "cell_type": "code",
   "execution_count": 67,
   "metadata": {
    "collapsed": false
   },
   "outputs": [
    {
     "data": {
      "text/plain": [
       "0.0160975867866385"
      ]
     },
     "execution_count": 67,
     "metadata": {},
     "output_type": "execute_result"
    }
   ],
   "source": [
    "let d = 0.2\n",
    "    x_cell, y_cell = 1.1, 0.3\n",
    "    x_cent, y_cent = 0.3, 0.7\n",
    "    en_dep((x,y)->cdf(x,y,1,0.2), (x_cell-x_cent)/d, (y_cell-y_cent)/d)\n",
    "end"
   ]
  },
  {
   "cell_type": "markdown",
   "metadata": {},
   "source": [
    "### Here is the functions to analysy a single shower\n",
    "For the example, I make up some measurements in the format `(x,y,E)`"
   ]
  },
  {
   "cell_type": "code",
   "execution_count": 28,
   "metadata": {
    "collapsed": false
   },
   "outputs": [
    {
     "data": {
      "text/plain": [
       "2-element Array{Tuple{Float64,Float64,Float64},1}:\n",
       " (2.3, 0.1, 0.3) \n",
       " (6.3, -0.1, 0.6)"
      ]
     },
     "execution_count": 28,
     "metadata": {},
     "output_type": "execute_result"
    }
   ],
   "source": [
    "measuments = [(2.3,0.1,0.3), (6.3,-0.1,0.6)]"
   ]
  },
  {
   "cell_type": "code",
   "execution_count": 68,
   "metadata": {
    "collapsed": false
   },
   "outputs": [
    {
     "data": {
      "text/plain": [
       "build_chi2 (generic function with 2 methods)"
      ]
     },
     "execution_count": 68,
     "metadata": {},
     "output_type": "execute_result"
    }
   ],
   "source": [
    "# the main function\n",
    "function build_chi2(measurements, d=1.0)\n",
    "    E_tot = sum(map(x->x[1],measuments))\n",
    "    # get center of gravity\n",
    "    x_cent = sum(map(x->x[1]*x[2],measuments))\n",
    "    y_cent = sum(map(x->x[1]*x[3],measuments))\n",
    "    function χ2(pars...)\n",
    "        mycdf(x,y) = cdf(x,y,pars...)\n",
    "        sum((E - E_tot*en_dep(mycdf, (x-x_cent)/d, (y-y_cent)/d))^2/sigmaE(E)^2 for (E,x,y) in measurements)\n",
    "    end\n",
    "    return χ2\n",
    "end"
   ]
  },
  {
   "cell_type": "code",
   "execution_count": 69,
   "metadata": {
    "collapsed": false
   },
   "outputs": [
    {
     "data": {
      "text/plain": [
       "χ2 (generic function with 1 method)"
      ]
     },
     "execution_count": 69,
     "metadata": {},
     "output_type": "execute_result"
    }
   ],
   "source": [
    "χ2 = build_chi2(measuments)"
   ]
  },
  {
   "cell_type": "code",
   "execution_count": 70,
   "metadata": {
    "collapsed": false
   },
   "outputs": [
    {
     "data": {
      "text/plain": [
       "65.44971619260618"
      ]
     },
     "execution_count": 70,
     "metadata": {},
     "output_type": "execute_result"
    }
   ],
   "source": [
    "χ2(1,0.2) # it works!!"
   ]
  },
  {
   "cell_type": "markdown",
   "metadata": {},
   "source": [
    "For several showers use sum of the individual $\\chi_2$"
   ]
  },
  {
   "cell_type": "markdown",
   "metadata": {},
   "source": [
    "### The next step is to minimize\n",
    "have a look at `NLopt.jl` package and `ForwardDiff.jl` packages"
   ]
  },
  {
   "cell_type": "code",
   "execution_count": null,
   "metadata": {
    "collapsed": true
   },
   "outputs": [],
   "source": []
  }
 ],
 "metadata": {
  "kernelspec": {
   "display_name": "Julia 0.6.1",
   "language": "julia",
   "name": "julia-0.6"
  },
  "language_info": {
   "file_extension": ".jl",
   "mimetype": "application/julia",
   "name": "julia",
   "version": "0.6.1"
  }
 },
 "nbformat": 4,
 "nbformat_minor": 0
}
